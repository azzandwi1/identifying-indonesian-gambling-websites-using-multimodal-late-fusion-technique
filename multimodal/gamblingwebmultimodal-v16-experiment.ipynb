{
 "cells": [
  {
   "cell_type": "code",
   "execution_count": 1,
   "id": "5442f52a",
   "metadata": {
    "execution": {
     "iopub.execute_input": "2025-07-09T00:22:45.127063Z",
     "iopub.status.busy": "2025-07-09T00:22:45.126785Z",
     "iopub.status.idle": "2025-07-09T03:10:17.452104Z",
     "shell.execute_reply": "2025-07-09T03:10:17.451213Z"
    },
    "papermill": {
     "duration": 10052.331474,
     "end_time": "2025-07-09T03:10:17.453587",
     "exception": false,
     "start_time": "2025-07-09T00:22:45.122113",
     "status": "completed"
    },
    "tags": []
   },
   "outputs": [
    {
     "name": "stdout",
     "output_type": "stream",
     "text": [
      "Missing values in Train:\n",
      " File Name         0\n",
      "Extracted Text    0\n",
      "Class             0\n",
      "dtype: int64\n",
      "Duplikasi di train: 8\n",
      "Duplikasi di test : 0\n",
      "Setelah dihapus:\n",
      "Train: 3335 baris\n",
      "Test : 700 baris\n",
      "Distribusi label di Train set:\n",
      "Class\n",
      "non-judi    1740\n",
      "judi        1595\n",
      "Name: count, dtype: int64 \n",
      "\n",
      "Distribusi label di Test set:\n",
      "Class\n",
      "judi        350\n",
      "non-judi    350\n",
      "Name: count, dtype: int64\n",
      "Distribusi label setelah undersampling:\n",
      "Class\n",
      "judi        1595\n",
      "non-judi    1595\n",
      "Name: count, dtype: int64\n",
      "Jumlah data train: 2552\n",
      "Jumlah data valid: 638\n",
      "Jumlah data test: 700\n",
      "Distribusi label di Train set:\n",
      "label\n",
      "1    1276\n",
      "0    1276\n",
      "Name: count, dtype: int64 \n",
      "\n",
      "Distribusi label di Validation set:\n",
      "label\n",
      "0    319\n",
      "1    319\n",
      "Name: count, dtype: int64 \n",
      "\n",
      "Distribusi label di Test set:\n",
      "label\n",
      "1    350\n",
      "0    350\n",
      "Name: count, dtype: int64\n"
     ]
    },
    {
     "data": {
      "application/vnd.jupyter.widget-view+json": {
       "model_id": "b55f219b7ca74680a62da38c0eacfc40",
       "version_major": 2,
       "version_minor": 0
      },
      "text/plain": [
       "tokenizer_config.json:   0%|          | 0.00/2.00 [00:00<?, ?B/s]"
      ]
     },
     "metadata": {},
     "output_type": "display_data"
    },
    {
     "data": {
      "application/vnd.jupyter.widget-view+json": {
       "model_id": "1ac80c78f2054a3d8d8670e0014d09c1",
       "version_major": 2,
       "version_minor": 0
      },
      "text/plain": [
       "config.json: 0.00B [00:00, ?B/s]"
      ]
     },
     "metadata": {},
     "output_type": "display_data"
    },
    {
     "data": {
      "application/vnd.jupyter.widget-view+json": {
       "model_id": "450518c76a074a47b763dd08e0914ba6",
       "version_major": 2,
       "version_minor": 0
      },
      "text/plain": [
       "vocab.txt: 0.00B [00:00, ?B/s]"
      ]
     },
     "metadata": {},
     "output_type": "display_data"
    },
    {
     "data": {
      "application/vnd.jupyter.widget-view+json": {
       "model_id": "8332a9bfd053492aab7cc9bf65a607f5",
       "version_major": 2,
       "version_minor": 0
      },
      "text/plain": [
       "special_tokens_map.json:   0%|          | 0.00/112 [00:00<?, ?B/s]"
      ]
     },
     "metadata": {},
     "output_type": "display_data"
    },
    {
     "name": "stderr",
     "output_type": "stream",
     "text": [
      "Downloading: \"https://download.pytorch.org/models/efficientnet_b3_rwightman-b3899882.pth\" to /root/.cache/torch/hub/checkpoints/efficientnet_b3_rwightman-b3899882.pth\n",
      "100%|██████████| 47.2M/47.2M [00:00<00:00, 90.4MB/s]\n",
      "2025-07-09 00:23:06.983683: E external/local_xla/xla/stream_executor/cuda/cuda_fft.cc:477] Unable to register cuFFT factory: Attempting to register factory for plugin cuFFT when one has already been registered\n",
      "WARNING: All log messages before absl::InitializeLog() is called are written to STDERR\n",
      "E0000 00:00:1752020587.173986      19 cuda_dnn.cc:8310] Unable to register cuDNN factory: Attempting to register factory for plugin cuDNN when one has already been registered\n",
      "E0000 00:00:1752020587.227865      19 cuda_blas.cc:1418] Unable to register cuBLAS factory: Attempting to register factory for plugin cuBLAS when one has already been registered\n"
     ]
    },
    {
     "data": {
      "application/vnd.jupyter.widget-view+json": {
       "model_id": "83f833ee39a945c4bce2850832d52f62",
       "version_major": 2,
       "version_minor": 0
      },
      "text/plain": [
       "pytorch_model.bin:   0%|          | 0.00/498M [00:00<?, ?B/s]"
      ]
     },
     "metadata": {},
     "output_type": "display_data"
    },
    {
     "name": "stderr",
     "output_type": "stream",
     "text": [
      "Some weights of BertForSequenceClassification were not initialized from the model checkpoint at indobenchmark/indobert-base-p1 and are newly initialized: ['classifier.bias', 'classifier.weight']\n",
      "You should probably TRAIN this model on a down-stream task to be able to use it for predictions and inference.\n"
     ]
    },
    {
     "data": {
      "application/vnd.jupyter.widget-view+json": {
       "model_id": "4b814b97805a422da902aa4da9c04f4e",
       "version_major": 2,
       "version_minor": 0
      },
      "text/plain": [
       "model.safetensors:   0%|          | 0.00/498M [00:00<?, ?B/s]"
      ]
     },
     "metadata": {},
     "output_type": "display_data"
    },
    {
     "name": "stdout",
     "output_type": "stream",
     "text": [
      "\n",
      "===== IMAGE MODEL EVALUATION =====\n"
     ]
    },
    {
     "name": "stderr",
     "output_type": "stream",
     "text": [
      "Evaluating Image Model: 100%|██████████| 44/44 [00:33<00:00,  1.32it/s]\n"
     ]
    },
    {
     "name": "stdout",
     "output_type": "stream",
     "text": [
      "\n",
      "Test Set Metrics:\n",
      "  Accuracy: 0.9729\n",
      "  Precision: 0.9688\n",
      "  Recall: 0.9771\n",
      "  F1 Score: 0.9730\n",
      "\n",
      "===== TEXT MODEL EVALUATION =====\n"
     ]
    },
    {
     "name": "stderr",
     "output_type": "stream",
     "text": [
      "Evaluating Text Model: 100%|██████████| 44/44 [00:25<00:00,  1.70it/s]\n"
     ]
    },
    {
     "name": "stdout",
     "output_type": "stream",
     "text": [
      "\n",
      "Test Set Metrics:\n",
      "  Accuracy: 0.9857\n",
      "  Precision: 0.9885\n",
      "  Recall: 0.9829\n",
      "  F1 Score: 0.9857\n",
      "🚀 Starting experiments with CONSISTENT approach (same as gamblingmultimodal-16.py)\n",
      "✅ Using same model loading, seed management, and DataLoader approach\n"
     ]
    },
    {
     "name": "stderr",
     "output_type": "stream",
     "text": [
      "Some weights of BertForSequenceClassification were not initialized from the model checkpoint at indobenchmark/indobert-base-p1 and are newly initialized: ['classifier.bias', 'classifier.weight']\n",
      "You should probably TRAIN this model on a down-stream task to be able to use it for predictions and inference.\n"
     ]
    },
    {
     "name": "stdout",
     "output_type": "stream",
     "text": [
      "\n",
      "==================================================\n",
      "RUNNING EXP1_4NEURONS\n",
      "==================================================\n"
     ]
    },
    {
     "name": "stderr",
     "output_type": "stream",
     "text": [
      "[Epoch 1] Training: 100%|██████████| 160/160 [02:24<00:00,  1.11it/s]\n",
      "                                                                     \r"
     ]
    },
    {
     "name": "stdout",
     "output_type": "stream",
     "text": [
      "Epoch 1/15 | Train Loss: 1.2077 | Val Loss: 1.1111 | ✅ Best model saved!\n"
     ]
    },
    {
     "name": "stderr",
     "output_type": "stream",
     "text": [
      "[Epoch 2] Training: 100%|██████████| 160/160 [01:53<00:00,  1.41it/s]\n",
      "                                                                     \r"
     ]
    },
    {
     "name": "stdout",
     "output_type": "stream",
     "text": [
      "Epoch 2/15 | Train Loss: 1.0756 | Val Loss: 1.0552 | ✅ Best model saved!\n"
     ]
    },
    {
     "name": "stderr",
     "output_type": "stream",
     "text": [
      "[Epoch 3] Training: 100%|██████████| 160/160 [01:53<00:00,  1.41it/s]\n",
      "                                                                     \r"
     ]
    },
    {
     "name": "stdout",
     "output_type": "stream",
     "text": [
      "Epoch 3/15 | Train Loss: 0.9632 | Val Loss: 0.8556 | ✅ Best model saved!\n"
     ]
    },
    {
     "name": "stderr",
     "output_type": "stream",
     "text": [
      "[Epoch 4] Training: 100%|██████████| 160/160 [01:53<00:00,  1.41it/s]\n",
      "                                                                     \r"
     ]
    },
    {
     "name": "stdout",
     "output_type": "stream",
     "text": [
      "Epoch 4/15 | Train Loss: 0.8238 | Val Loss: 0.8326 | ✅ Best model saved!\n"
     ]
    },
    {
     "name": "stderr",
     "output_type": "stream",
     "text": [
      "[Epoch 5] Training: 100%|██████████| 160/160 [01:53<00:00,  1.41it/s]\n",
      "                                                                     \r"
     ]
    },
    {
     "name": "stdout",
     "output_type": "stream",
     "text": [
      "Epoch 5/15 | Train Loss: 0.7503 | Val Loss: 0.7046 | ✅ Best model saved!\n"
     ]
    },
    {
     "name": "stderr",
     "output_type": "stream",
     "text": [
      "[Epoch 6] Training: 100%|██████████| 160/160 [01:53<00:00,  1.41it/s]\n",
      "                                                                     \r"
     ]
    },
    {
     "name": "stdout",
     "output_type": "stream",
     "text": [
      "Epoch 6/15 | Train Loss: 0.6295 | Val Loss: 0.5715 | ✅ Best model saved!\n"
     ]
    },
    {
     "name": "stderr",
     "output_type": "stream",
     "text": [
      "[Epoch 7] Training: 100%|██████████| 160/160 [01:54<00:00,  1.40it/s]\n",
      "                                                                     \r"
     ]
    },
    {
     "name": "stdout",
     "output_type": "stream",
     "text": [
      "Epoch 7/15 | Train Loss: 0.5501 | Val Loss: 0.5154 | ✅ Best model saved!\n"
     ]
    },
    {
     "name": "stderr",
     "output_type": "stream",
     "text": [
      "[Epoch 8] Training: 100%|██████████| 160/160 [01:54<00:00,  1.40it/s]\n",
      "                                                                     \r"
     ]
    },
    {
     "name": "stdout",
     "output_type": "stream",
     "text": [
      "Epoch 8/15 | Train Loss: 0.4577 | Val Loss: 0.4446 | ✅ Best model saved!\n"
     ]
    },
    {
     "name": "stderr",
     "output_type": "stream",
     "text": [
      "[Epoch 9] Training: 100%|██████████| 160/160 [01:54<00:00,  1.40it/s]\n",
      "                                                                     \r"
     ]
    },
    {
     "name": "stdout",
     "output_type": "stream",
     "text": [
      "Epoch 9/15 | Train Loss: 0.3883 | Val Loss: 0.3770 | ✅ Best model saved!\n"
     ]
    },
    {
     "name": "stderr",
     "output_type": "stream",
     "text": [
      "[Epoch 10] Training: 100%|██████████| 160/160 [01:54<00:00,  1.40it/s]\n",
      "                                                                      \r"
     ]
    },
    {
     "name": "stdout",
     "output_type": "stream",
     "text": [
      "Epoch 10/15 | Train Loss: 0.3158 | Val Loss: 0.3130 | ✅ Best model saved!\n"
     ]
    },
    {
     "name": "stderr",
     "output_type": "stream",
     "text": [
      "[Epoch 11] Training: 100%|██████████| 160/160 [01:54<00:00,  1.40it/s]\n",
      "                                                                      \r"
     ]
    },
    {
     "name": "stdout",
     "output_type": "stream",
     "text": [
      "Epoch 11/15 | Train Loss: 0.2680 | Val Loss: 0.2637 | ✅ Best model saved!\n"
     ]
    },
    {
     "name": "stderr",
     "output_type": "stream",
     "text": [
      "[Epoch 12] Training: 100%|██████████| 160/160 [01:53<00:00,  1.41it/s]\n",
      "                                                                      \r"
     ]
    },
    {
     "name": "stdout",
     "output_type": "stream",
     "text": [
      "Epoch 12/15 | Train Loss: 0.2288 | Val Loss: 0.2187 | ✅ Best model saved!\n"
     ]
    },
    {
     "name": "stderr",
     "output_type": "stream",
     "text": [
      "[Epoch 13] Training: 100%|██████████| 160/160 [01:54<00:00,  1.40it/s]\n",
      "                                                                      \r"
     ]
    },
    {
     "name": "stdout",
     "output_type": "stream",
     "text": [
      "Epoch 13/15 | Train Loss: 0.1885 | Val Loss: 0.1855 | ✅ Best model saved!\n"
     ]
    },
    {
     "name": "stderr",
     "output_type": "stream",
     "text": [
      "[Epoch 14] Training: 100%|██████████| 160/160 [01:54<00:00,  1.40it/s]\n",
      "                                                                      \r"
     ]
    },
    {
     "name": "stdout",
     "output_type": "stream",
     "text": [
      "Epoch 14/15 | Train Loss: 0.1621 | Val Loss: 0.1581 | ✅ Best model saved!\n"
     ]
    },
    {
     "name": "stderr",
     "output_type": "stream",
     "text": [
      "[Epoch 15] Training: 100%|██████████| 160/160 [01:53<00:00,  1.41it/s]\n",
      "                                                                      \r"
     ]
    },
    {
     "name": "stdout",
     "output_type": "stream",
     "text": [
      "Epoch 15/15 | Train Loss: 0.1496 | Val Loss: 0.1403 | ✅ Best model saved!\n",
      "\n",
      "✅ Loaded best model with validation loss: 0.1403\n",
      "🔍 Best Validation Loss: 0.1403\n"
     ]
    },
    {
     "name": "stderr",
     "output_type": "stream",
     "text": [
      "Some weights of BertForSequenceClassification were not initialized from the model checkpoint at indobenchmark/indobert-base-p1 and are newly initialized: ['classifier.bias', 'classifier.weight']\n",
      "You should probably TRAIN this model on a down-stream task to be able to use it for predictions and inference.\n",
      "Evaluating MLP Fusion Model: 100%|██████████| 44/44 [00:28<00:00,  1.56it/s]\n"
     ]
    },
    {
     "name": "stdout",
     "output_type": "stream",
     "text": [
      "\n",
      "Total inference time: 28.20 seconds\n",
      "Average time per sample: 40.28 ms\n",
      "\n",
      "Exp1_4neurons Test Results:\n",
      "  Accuracy: 0.9786\n",
      "  Precision: 0.9614\n",
      "  Recall: 0.9971\n",
      "  F1 Score: 0.9790\n",
      "  AUC: 0.9994\n"
     ]
    },
    {
     "name": "stderr",
     "output_type": "stream",
     "text": [
      "Some weights of BertForSequenceClassification were not initialized from the model checkpoint at indobenchmark/indobert-base-p1 and are newly initialized: ['classifier.bias', 'classifier.weight']\n",
      "You should probably TRAIN this model on a down-stream task to be able to use it for predictions and inference.\n"
     ]
    },
    {
     "name": "stdout",
     "output_type": "stream",
     "text": [
      "\n",
      "==================================================\n",
      "RUNNING EXP2_8NEURONS\n",
      "==================================================\n"
     ]
    },
    {
     "name": "stderr",
     "output_type": "stream",
     "text": [
      "[Epoch 1] Training: 100%|██████████| 160/160 [01:54<00:00,  1.39it/s]\n",
      "                                                                     \r"
     ]
    },
    {
     "name": "stdout",
     "output_type": "stream",
     "text": [
      "Epoch 1/15 | Train Loss: 0.0842 | Val Loss: 0.0568 | ✅ Best model saved!\n"
     ]
    },
    {
     "name": "stderr",
     "output_type": "stream",
     "text": [
      "[Epoch 2] Training: 100%|██████████| 160/160 [01:54<00:00,  1.40it/s]\n",
      "                                                                     \r"
     ]
    },
    {
     "name": "stdout",
     "output_type": "stream",
     "text": [
      "Epoch 2/15 | Train Loss: 0.0743 | Val Loss: 0.0541 | ✅ Best model saved!\n"
     ]
    },
    {
     "name": "stderr",
     "output_type": "stream",
     "text": [
      "[Epoch 3] Training: 100%|██████████| 160/160 [01:54<00:00,  1.39it/s]\n",
      "                                                                     \r"
     ]
    },
    {
     "name": "stdout",
     "output_type": "stream",
     "text": [
      "Epoch 3/15 | Train Loss: 0.0723 | Val Loss: 0.0518 | ✅ Best model saved!\n"
     ]
    },
    {
     "name": "stderr",
     "output_type": "stream",
     "text": [
      "[Epoch 4] Training: 100%|██████████| 160/160 [01:54<00:00,  1.40it/s]\n",
      "                                                                     \r"
     ]
    },
    {
     "name": "stdout",
     "output_type": "stream",
     "text": [
      "Epoch 4/15 | Train Loss: 0.0688 | Val Loss: 0.0507 | ✅ Best model saved!\n"
     ]
    },
    {
     "name": "stderr",
     "output_type": "stream",
     "text": [
      "[Epoch 5] Training: 100%|██████████| 160/160 [01:54<00:00,  1.39it/s]\n",
      "                                                                     \r"
     ]
    },
    {
     "name": "stdout",
     "output_type": "stream",
     "text": [
      "Epoch 5/15 | Train Loss: 0.0682 | Val Loss: 0.0499 | ✅ Best model saved!\n"
     ]
    },
    {
     "name": "stderr",
     "output_type": "stream",
     "text": [
      "[Epoch 6] Training: 100%|██████████| 160/160 [01:54<00:00,  1.40it/s]\n",
      "                                                                     \r"
     ]
    },
    {
     "name": "stdout",
     "output_type": "stream",
     "text": [
      "Epoch 6/15 | Train Loss: 0.0606 | Val Loss: 0.0486 | ✅ Best model saved!\n"
     ]
    },
    {
     "name": "stderr",
     "output_type": "stream",
     "text": [
      "[Epoch 7] Training: 100%|██████████| 160/160 [01:54<00:00,  1.40it/s]\n",
      "                                                                     \r"
     ]
    },
    {
     "name": "stdout",
     "output_type": "stream",
     "text": [
      "Epoch 7/15 | Train Loss: 0.0502 | Val Loss: 0.0479 | ✅ Best model saved!\n"
     ]
    },
    {
     "name": "stderr",
     "output_type": "stream",
     "text": [
      "[Epoch 8] Training: 100%|██████████| 160/160 [01:54<00:00,  1.40it/s]\n",
      "                                                                     \r"
     ]
    },
    {
     "name": "stdout",
     "output_type": "stream",
     "text": [
      "Epoch 8/15 | Train Loss: 0.0477 | Val Loss: 0.0469 | ✅ Best model saved!\n"
     ]
    },
    {
     "name": "stderr",
     "output_type": "stream",
     "text": [
      "[Epoch 9] Training: 100%|██████████| 160/160 [01:54<00:00,  1.40it/s]\n",
      "                                                                     \r"
     ]
    },
    {
     "name": "stdout",
     "output_type": "stream",
     "text": [
      "Epoch 9/15 | Train Loss: 0.0418 | Val Loss: 0.0432 | ✅ Best model saved!\n"
     ]
    },
    {
     "name": "stderr",
     "output_type": "stream",
     "text": [
      "[Epoch 10] Training: 100%|██████████| 160/160 [01:54<00:00,  1.40it/s]\n",
      "                                                                      \r"
     ]
    },
    {
     "name": "stdout",
     "output_type": "stream",
     "text": [
      "Epoch 10/15 | Train Loss: 0.0333 | Val Loss: 0.0439 | Patience: 1/3\n"
     ]
    },
    {
     "name": "stderr",
     "output_type": "stream",
     "text": [
      "[Epoch 11] Training: 100%|██████████| 160/160 [01:54<00:00,  1.40it/s]\n",
      "                                                                      \r"
     ]
    },
    {
     "name": "stdout",
     "output_type": "stream",
     "text": [
      "Epoch 11/15 | Train Loss: 0.0392 | Val Loss: 0.0449 | Patience: 2/3\n"
     ]
    },
    {
     "name": "stderr",
     "output_type": "stream",
     "text": [
      "[Epoch 12] Training: 100%|██████████| 160/160 [01:54<00:00,  1.40it/s]\n",
      "                                                                      \r"
     ]
    },
    {
     "name": "stdout",
     "output_type": "stream",
     "text": [
      "Epoch 12/15 | Train Loss: 0.0358 | Val Loss: 0.0428 | ✅ Best model saved!\n"
     ]
    },
    {
     "name": "stderr",
     "output_type": "stream",
     "text": [
      "[Epoch 13] Training: 100%|██████████| 160/160 [01:54<00:00,  1.40it/s]\n",
      "                                                                      \r"
     ]
    },
    {
     "name": "stdout",
     "output_type": "stream",
     "text": [
      "Epoch 13/15 | Train Loss: 0.0331 | Val Loss: 0.0414 | ✅ Best model saved!\n"
     ]
    },
    {
     "name": "stderr",
     "output_type": "stream",
     "text": [
      "[Epoch 14] Training: 100%|██████████| 160/160 [01:54<00:00,  1.40it/s]\n",
      "                                                                      \r"
     ]
    },
    {
     "name": "stdout",
     "output_type": "stream",
     "text": [
      "Epoch 14/15 | Train Loss: 0.0251 | Val Loss: 0.0461 | Patience: 1/3\n"
     ]
    },
    {
     "name": "stderr",
     "output_type": "stream",
     "text": [
      "[Epoch 15] Training: 100%|██████████| 160/160 [01:54<00:00,  1.40it/s]\n",
      "                                                                      \r"
     ]
    },
    {
     "name": "stdout",
     "output_type": "stream",
     "text": [
      "Epoch 15/15 | Train Loss: 0.0258 | Val Loss: 0.0436 | Patience: 2/3\n",
      "\n",
      "✅ Loaded best model with validation loss: 0.0414\n",
      "🔍 Best Validation Loss: 0.0414\n"
     ]
    },
    {
     "name": "stderr",
     "output_type": "stream",
     "text": [
      "Some weights of BertForSequenceClassification were not initialized from the model checkpoint at indobenchmark/indobert-base-p1 and are newly initialized: ['classifier.bias', 'classifier.weight']\n",
      "You should probably TRAIN this model on a down-stream task to be able to use it for predictions and inference.\n",
      "Evaluating MLP Fusion Model: 100%|██████████| 44/44 [00:27<00:00,  1.57it/s]\n"
     ]
    },
    {
     "name": "stdout",
     "output_type": "stream",
     "text": [
      "\n",
      "Total inference time: 27.98 seconds\n",
      "Average time per sample: 39.98 ms\n",
      "\n",
      "Exp2_8neurons Test Results:\n",
      "  Accuracy: 0.9957\n",
      "  Precision: 1.0000\n",
      "  Recall: 0.9914\n",
      "  F1 Score: 0.9957\n",
      "  AUC: 0.9990\n"
     ]
    },
    {
     "name": "stderr",
     "output_type": "stream",
     "text": [
      "Some weights of BertForSequenceClassification were not initialized from the model checkpoint at indobenchmark/indobert-base-p1 and are newly initialized: ['classifier.bias', 'classifier.weight']\n",
      "You should probably TRAIN this model on a down-stream task to be able to use it for predictions and inference.\n"
     ]
    },
    {
     "name": "stdout",
     "output_type": "stream",
     "text": [
      "\n",
      "==================================================\n",
      "RUNNING EXP3_16NEURONS\n",
      "==================================================\n"
     ]
    },
    {
     "name": "stderr",
     "output_type": "stream",
     "text": [
      "[Epoch 1] Training: 100%|██████████| 160/160 [01:54<00:00,  1.39it/s]\n",
      "                                                                     \r"
     ]
    },
    {
     "name": "stdout",
     "output_type": "stream",
     "text": [
      "Epoch 1/15 | Train Loss: 1.1418 | Val Loss: 0.7574 | ✅ Best model saved!\n"
     ]
    },
    {
     "name": "stderr",
     "output_type": "stream",
     "text": [
      "[Epoch 2] Training: 100%|██████████| 160/160 [01:54<00:00,  1.39it/s]\n",
      "                                                                     \r"
     ]
    },
    {
     "name": "stdout",
     "output_type": "stream",
     "text": [
      "Epoch 2/15 | Train Loss: 0.7004 | Val Loss: 0.3525 | ✅ Best model saved!\n"
     ]
    },
    {
     "name": "stderr",
     "output_type": "stream",
     "text": [
      "[Epoch 3] Training: 100%|██████████| 160/160 [01:54<00:00,  1.40it/s]\n",
      "                                                                     \r"
     ]
    },
    {
     "name": "stdout",
     "output_type": "stream",
     "text": [
      "Epoch 3/15 | Train Loss: 0.3685 | Val Loss: 0.1347 | ✅ Best model saved!\n"
     ]
    },
    {
     "name": "stderr",
     "output_type": "stream",
     "text": [
      "[Epoch 4] Training: 100%|██████████| 160/160 [01:55<00:00,  1.39it/s]\n",
      "                                                                     \r"
     ]
    },
    {
     "name": "stdout",
     "output_type": "stream",
     "text": [
      "Epoch 4/15 | Train Loss: 0.2182 | Val Loss: 0.0579 | ✅ Best model saved!\n"
     ]
    },
    {
     "name": "stderr",
     "output_type": "stream",
     "text": [
      "[Epoch 5] Training: 100%|██████████| 160/160 [01:54<00:00,  1.40it/s]\n",
      "                                                                     \r"
     ]
    },
    {
     "name": "stdout",
     "output_type": "stream",
     "text": [
      "Epoch 5/15 | Train Loss: 0.1166 | Val Loss: 0.0423 | ✅ Best model saved!\n"
     ]
    },
    {
     "name": "stderr",
     "output_type": "stream",
     "text": [
      "[Epoch 6] Training: 100%|██████████| 160/160 [01:54<00:00,  1.40it/s]\n",
      "                                                                     \r"
     ]
    },
    {
     "name": "stdout",
     "output_type": "stream",
     "text": [
      "Epoch 6/15 | Train Loss: 0.0842 | Val Loss: 0.0369 | ✅ Best model saved!\n"
     ]
    },
    {
     "name": "stderr",
     "output_type": "stream",
     "text": [
      "[Epoch 7] Training: 100%|██████████| 160/160 [01:54<00:00,  1.39it/s]\n",
      "                                                                     \r"
     ]
    },
    {
     "name": "stdout",
     "output_type": "stream",
     "text": [
      "Epoch 7/15 | Train Loss: 0.0500 | Val Loss: 0.0356 | ✅ Best model saved!\n"
     ]
    },
    {
     "name": "stderr",
     "output_type": "stream",
     "text": [
      "[Epoch 8] Training: 100%|██████████| 160/160 [01:55<00:00,  1.39it/s]\n",
      "                                                                     \r"
     ]
    },
    {
     "name": "stdout",
     "output_type": "stream",
     "text": [
      "Epoch 8/15 | Train Loss: 0.0457 | Val Loss: 0.0373 | Patience: 1/3\n"
     ]
    },
    {
     "name": "stderr",
     "output_type": "stream",
     "text": [
      "[Epoch 9] Training: 100%|██████████| 160/160 [01:54<00:00,  1.39it/s]\n",
      "                                                                     \r"
     ]
    },
    {
     "name": "stdout",
     "output_type": "stream",
     "text": [
      "Epoch 9/15 | Train Loss: 0.0399 | Val Loss: 0.0354 | ✅ Best model saved!\n"
     ]
    },
    {
     "name": "stderr",
     "output_type": "stream",
     "text": [
      "[Epoch 10] Training: 100%|██████████| 160/160 [01:54<00:00,  1.40it/s]\n",
      "                                                                      \r"
     ]
    },
    {
     "name": "stdout",
     "output_type": "stream",
     "text": [
      "Epoch 10/15 | Train Loss: 0.0288 | Val Loss: 0.0351 | ✅ Best model saved!\n"
     ]
    },
    {
     "name": "stderr",
     "output_type": "stream",
     "text": [
      "[Epoch 11] Training: 100%|██████████| 160/160 [01:54<00:00,  1.39it/s]\n",
      "                                                                      \r"
     ]
    },
    {
     "name": "stdout",
     "output_type": "stream",
     "text": [
      "Epoch 11/15 | Train Loss: 0.0242 | Val Loss: 0.0361 | Patience: 1/3\n"
     ]
    },
    {
     "name": "stderr",
     "output_type": "stream",
     "text": [
      "[Epoch 12] Training: 100%|██████████| 160/160 [01:55<00:00,  1.39it/s]\n",
      "                                                                      \r"
     ]
    },
    {
     "name": "stdout",
     "output_type": "stream",
     "text": [
      "Epoch 12/15 | Train Loss: 0.0199 | Val Loss: 0.0356 | Patience: 2/3\n"
     ]
    },
    {
     "name": "stderr",
     "output_type": "stream",
     "text": [
      "[Epoch 13] Training: 100%|██████████| 160/160 [01:55<00:00,  1.39it/s]\n",
      "                                                                      \r"
     ]
    },
    {
     "name": "stdout",
     "output_type": "stream",
     "text": [
      "Epoch 13/15 | Train Loss: 0.0150 | Val Loss: 0.0354 | Patience: 3/3\n",
      "\n",
      "🛑 Early stopping at epoch 13. No improvement for 3 epochs.\n",
      "\n",
      "✅ Loaded best model with validation loss: 0.0351\n",
      "🔍 Best Validation Loss: 0.0351\n"
     ]
    },
    {
     "name": "stderr",
     "output_type": "stream",
     "text": [
      "Some weights of BertForSequenceClassification were not initialized from the model checkpoint at indobenchmark/indobert-base-p1 and are newly initialized: ['classifier.bias', 'classifier.weight']\n",
      "You should probably TRAIN this model on a down-stream task to be able to use it for predictions and inference.\n",
      "Evaluating MLP Fusion Model: 100%|██████████| 44/44 [00:28<00:00,  1.55it/s]\n"
     ]
    },
    {
     "name": "stdout",
     "output_type": "stream",
     "text": [
      "\n",
      "Total inference time: 28.34 seconds\n",
      "Average time per sample: 40.49 ms\n",
      "\n",
      "Exp3_16neurons Test Results:\n",
      "  Accuracy: 0.9971\n",
      "  Precision: 0.9971\n",
      "  Recall: 0.9971\n",
      "  F1 Score: 0.9971\n",
      "  AUC: 0.9999\n"
     ]
    },
    {
     "name": "stderr",
     "output_type": "stream",
     "text": [
      "Some weights of BertForSequenceClassification were not initialized from the model checkpoint at indobenchmark/indobert-base-p1 and are newly initialized: ['classifier.bias', 'classifier.weight']\n",
      "You should probably TRAIN this model on a down-stream task to be able to use it for predictions and inference.\n"
     ]
    },
    {
     "name": "stdout",
     "output_type": "stream",
     "text": [
      "\n",
      "==================================================\n",
      "RUNNING EXP4_32NEURONS\n",
      "==================================================\n"
     ]
    },
    {
     "name": "stderr",
     "output_type": "stream",
     "text": [
      "[Epoch 1] Training: 100%|██████████| 160/160 [01:54<00:00,  1.39it/s]\n",
      "                                                                     \r"
     ]
    },
    {
     "name": "stdout",
     "output_type": "stream",
     "text": [
      "Epoch 1/15 | Train Loss: 0.3574 | Val Loss: 0.1268 | ✅ Best model saved!\n"
     ]
    },
    {
     "name": "stderr",
     "output_type": "stream",
     "text": [
      "[Epoch 2] Training: 100%|██████████| 160/160 [01:55<00:00,  1.39it/s]\n",
      "                                                                     \r"
     ]
    },
    {
     "name": "stdout",
     "output_type": "stream",
     "text": [
      "Epoch 2/15 | Train Loss: 0.1798 | Val Loss: 0.0677 | ✅ Best model saved!\n"
     ]
    },
    {
     "name": "stderr",
     "output_type": "stream",
     "text": [
      "[Epoch 3] Training: 100%|██████████| 160/160 [01:54<00:00,  1.39it/s]\n",
      "                                                                     \r"
     ]
    },
    {
     "name": "stdout",
     "output_type": "stream",
     "text": [
      "Epoch 3/15 | Train Loss: 0.0859 | Val Loss: 0.0516 | ✅ Best model saved!\n"
     ]
    },
    {
     "name": "stderr",
     "output_type": "stream",
     "text": [
      "[Epoch 4] Training: 100%|██████████| 160/160 [01:54<00:00,  1.40it/s]\n",
      "                                                                     \r"
     ]
    },
    {
     "name": "stdout",
     "output_type": "stream",
     "text": [
      "Epoch 4/15 | Train Loss: 0.0544 | Val Loss: 0.0422 | ✅ Best model saved!\n"
     ]
    },
    {
     "name": "stderr",
     "output_type": "stream",
     "text": [
      "[Epoch 5] Training: 100%|██████████| 160/160 [01:54<00:00,  1.39it/s]\n",
      "                                                                     \r"
     ]
    },
    {
     "name": "stdout",
     "output_type": "stream",
     "text": [
      "Epoch 5/15 | Train Loss: 0.0334 | Val Loss: 0.0379 | ✅ Best model saved!\n"
     ]
    },
    {
     "name": "stderr",
     "output_type": "stream",
     "text": [
      "[Epoch 6] Training: 100%|██████████| 160/160 [01:54<00:00,  1.39it/s]\n",
      "                                                                     \r"
     ]
    },
    {
     "name": "stdout",
     "output_type": "stream",
     "text": [
      "Epoch 6/15 | Train Loss: 0.0271 | Val Loss: 0.0364 | ✅ Best model saved!\n"
     ]
    },
    {
     "name": "stderr",
     "output_type": "stream",
     "text": [
      "[Epoch 7] Training: 100%|██████████| 160/160 [01:55<00:00,  1.39it/s]\n",
      "                                                                     \r"
     ]
    },
    {
     "name": "stdout",
     "output_type": "stream",
     "text": [
      "Epoch 7/15 | Train Loss: 0.0197 | Val Loss: 0.0356 | ✅ Best model saved!\n"
     ]
    },
    {
     "name": "stderr",
     "output_type": "stream",
     "text": [
      "[Epoch 8] Training: 100%|██████████| 160/160 [01:54<00:00,  1.40it/s]\n",
      "                                                                     \r"
     ]
    },
    {
     "name": "stdout",
     "output_type": "stream",
     "text": [
      "Epoch 8/15 | Train Loss: 0.0171 | Val Loss: 0.0342 | ✅ Best model saved!\n"
     ]
    },
    {
     "name": "stderr",
     "output_type": "stream",
     "text": [
      "[Epoch 9] Training: 100%|██████████| 160/160 [01:54<00:00,  1.39it/s]\n",
      "                                                                     \r"
     ]
    },
    {
     "name": "stdout",
     "output_type": "stream",
     "text": [
      "Epoch 9/15 | Train Loss: 0.0130 | Val Loss: 0.0349 | Patience: 1/3\n"
     ]
    },
    {
     "name": "stderr",
     "output_type": "stream",
     "text": [
      "[Epoch 10] Training: 100%|██████████| 160/160 [01:54<00:00,  1.40it/s]\n",
      "                                                                      \r"
     ]
    },
    {
     "name": "stdout",
     "output_type": "stream",
     "text": [
      "Epoch 10/15 | Train Loss: 0.0135 | Val Loss: 0.0343 | Patience: 2/3\n"
     ]
    },
    {
     "name": "stderr",
     "output_type": "stream",
     "text": [
      "[Epoch 11] Training: 100%|██████████| 160/160 [01:55<00:00,  1.39it/s]\n",
      "                                                                      \r"
     ]
    },
    {
     "name": "stdout",
     "output_type": "stream",
     "text": [
      "Epoch 11/15 | Train Loss: 0.0119 | Val Loss: 0.0359 | Patience: 3/3\n",
      "\n",
      "🛑 Early stopping at epoch 11. No improvement for 3 epochs.\n",
      "\n",
      "✅ Loaded best model with validation loss: 0.0342\n",
      "🔍 Best Validation Loss: 0.0342\n"
     ]
    },
    {
     "name": "stderr",
     "output_type": "stream",
     "text": [
      "Some weights of BertForSequenceClassification were not initialized from the model checkpoint at indobenchmark/indobert-base-p1 and are newly initialized: ['classifier.bias', 'classifier.weight']\n",
      "You should probably TRAIN this model on a down-stream task to be able to use it for predictions and inference.\n",
      "Evaluating MLP Fusion Model: 100%|██████████| 44/44 [00:28<00:00,  1.57it/s]\n"
     ]
    },
    {
     "name": "stdout",
     "output_type": "stream",
     "text": [
      "\n",
      "Total inference time: 28.05 seconds\n",
      "Average time per sample: 40.07 ms\n",
      "\n",
      "Exp4_32neurons Test Results:\n",
      "  Accuracy: 0.9943\n",
      "  Precision: 0.9915\n",
      "  Recall: 0.9971\n",
      "  F1 Score: 0.9943\n",
      "  AUC: 0.9999\n"
     ]
    },
    {
     "name": "stderr",
     "output_type": "stream",
     "text": [
      "Some weights of BertForSequenceClassification were not initialized from the model checkpoint at indobenchmark/indobert-base-p1 and are newly initialized: ['classifier.bias', 'classifier.weight']\n",
      "You should probably TRAIN this model on a down-stream task to be able to use it for predictions and inference.\n"
     ]
    },
    {
     "name": "stdout",
     "output_type": "stream",
     "text": [
      "\n",
      "==================================================\n",
      "RUNNING EXP5_64NEURONS\n",
      "==================================================\n"
     ]
    },
    {
     "name": "stderr",
     "output_type": "stream",
     "text": [
      "[Epoch 1] Training: 100%|██████████| 160/160 [01:54<00:00,  1.40it/s]\n",
      "                                                                     \r"
     ]
    },
    {
     "name": "stdout",
     "output_type": "stream",
     "text": [
      "Epoch 1/15 | Train Loss: 0.8609 | Val Loss: 0.3780 | ✅ Best model saved!\n"
     ]
    },
    {
     "name": "stderr",
     "output_type": "stream",
     "text": [
      "[Epoch 2] Training: 100%|██████████| 160/160 [01:54<00:00,  1.40it/s]\n",
      "                                                                     \r"
     ]
    },
    {
     "name": "stdout",
     "output_type": "stream",
     "text": [
      "Epoch 2/15 | Train Loss: 0.2759 | Val Loss: 0.1132 | ✅ Best model saved!\n"
     ]
    },
    {
     "name": "stderr",
     "output_type": "stream",
     "text": [
      "[Epoch 3] Training: 100%|██████████| 160/160 [01:54<00:00,  1.39it/s]\n",
      "                                                                     \r"
     ]
    },
    {
     "name": "stdout",
     "output_type": "stream",
     "text": [
      "Epoch 3/15 | Train Loss: 0.0755 | Val Loss: 0.0485 | ✅ Best model saved!\n"
     ]
    },
    {
     "name": "stderr",
     "output_type": "stream",
     "text": [
      "[Epoch 4] Training: 100%|██████████| 160/160 [01:55<00:00,  1.39it/s]\n",
      "                                                                     \r"
     ]
    },
    {
     "name": "stdout",
     "output_type": "stream",
     "text": [
      "Epoch 4/15 | Train Loss: 0.0291 | Val Loss: 0.0384 | ✅ Best model saved!\n"
     ]
    },
    {
     "name": "stderr",
     "output_type": "stream",
     "text": [
      "[Epoch 5] Training: 100%|██████████| 160/160 [01:55<00:00,  1.38it/s]\n",
      "                                                                     \r"
     ]
    },
    {
     "name": "stdout",
     "output_type": "stream",
     "text": [
      "Epoch 5/15 | Train Loss: 0.0192 | Val Loss: 0.0329 | ✅ Best model saved!\n"
     ]
    },
    {
     "name": "stderr",
     "output_type": "stream",
     "text": [
      "[Epoch 6] Training: 100%|██████████| 160/160 [01:54<00:00,  1.39it/s]\n",
      "                                                                     \r"
     ]
    },
    {
     "name": "stdout",
     "output_type": "stream",
     "text": [
      "Epoch 6/15 | Train Loss: 0.0130 | Val Loss: 0.0306 | ✅ Best model saved!\n"
     ]
    },
    {
     "name": "stderr",
     "output_type": "stream",
     "text": [
      "[Epoch 7] Training: 100%|██████████| 160/160 [01:54<00:00,  1.39it/s]\n",
      "                                                                     \r"
     ]
    },
    {
     "name": "stdout",
     "output_type": "stream",
     "text": [
      "Epoch 7/15 | Train Loss: 0.0106 | Val Loss: 0.0295 | ✅ Best model saved!\n"
     ]
    },
    {
     "name": "stderr",
     "output_type": "stream",
     "text": [
      "[Epoch 8] Training: 100%|██████████| 160/160 [01:54<00:00,  1.39it/s]\n",
      "                                                                     \r"
     ]
    },
    {
     "name": "stdout",
     "output_type": "stream",
     "text": [
      "Epoch 8/15 | Train Loss: 0.0082 | Val Loss: 0.0289 | ✅ Best model saved!\n"
     ]
    },
    {
     "name": "stderr",
     "output_type": "stream",
     "text": [
      "[Epoch 9] Training: 100%|██████████| 160/160 [01:55<00:00,  1.38it/s]\n",
      "                                                                     \r"
     ]
    },
    {
     "name": "stdout",
     "output_type": "stream",
     "text": [
      "Epoch 9/15 | Train Loss: 0.0056 | Val Loss: 0.0286 | ✅ Best model saved!\n"
     ]
    },
    {
     "name": "stderr",
     "output_type": "stream",
     "text": [
      "[Epoch 10] Training: 100%|██████████| 160/160 [01:56<00:00,  1.38it/s]\n",
      "                                                                      \r"
     ]
    },
    {
     "name": "stdout",
     "output_type": "stream",
     "text": [
      "Epoch 10/15 | Train Loss: 0.0051 | Val Loss: 0.0288 | Patience: 1/3\n"
     ]
    },
    {
     "name": "stderr",
     "output_type": "stream",
     "text": [
      "[Epoch 11] Training: 100%|██████████| 160/160 [01:56<00:00,  1.38it/s]\n",
      "                                                                      \r"
     ]
    },
    {
     "name": "stdout",
     "output_type": "stream",
     "text": [
      "Epoch 11/15 | Train Loss: 0.0045 | Val Loss: 0.0287 | Patience: 2/3\n"
     ]
    },
    {
     "name": "stderr",
     "output_type": "stream",
     "text": [
      "[Epoch 12] Training: 100%|██████████| 160/160 [01:54<00:00,  1.39it/s]\n",
      "                                                                      \r"
     ]
    },
    {
     "name": "stdout",
     "output_type": "stream",
     "text": [
      "Epoch 12/15 | Train Loss: 0.0040 | Val Loss: 0.0279 | ✅ Best model saved!\n"
     ]
    },
    {
     "name": "stderr",
     "output_type": "stream",
     "text": [
      "[Epoch 13] Training: 100%|██████████| 160/160 [01:54<00:00,  1.39it/s]\n",
      "                                                                      \r"
     ]
    },
    {
     "name": "stdout",
     "output_type": "stream",
     "text": [
      "Epoch 13/15 | Train Loss: 0.0039 | Val Loss: 0.0286 | Patience: 1/3\n"
     ]
    },
    {
     "name": "stderr",
     "output_type": "stream",
     "text": [
      "[Epoch 14] Training: 100%|██████████| 160/160 [01:54<00:00,  1.40it/s]\n",
      "                                                                      \r"
     ]
    },
    {
     "name": "stdout",
     "output_type": "stream",
     "text": [
      "Epoch 14/15 | Train Loss: 0.0034 | Val Loss: 0.0293 | Patience: 2/3\n"
     ]
    },
    {
     "name": "stderr",
     "output_type": "stream",
     "text": [
      "[Epoch 15] Training: 100%|██████████| 160/160 [01:54<00:00,  1.39it/s]\n",
      "                                                                      \r"
     ]
    },
    {
     "name": "stdout",
     "output_type": "stream",
     "text": [
      "Epoch 15/15 | Train Loss: 0.0038 | Val Loss: 0.0285 | Patience: 3/3\n",
      "\n",
      "🛑 Early stopping at epoch 15. No improvement for 3 epochs.\n",
      "\n",
      "✅ Loaded best model with validation loss: 0.0279\n",
      "🔍 Best Validation Loss: 0.0279\n"
     ]
    },
    {
     "name": "stderr",
     "output_type": "stream",
     "text": [
      "Some weights of BertForSequenceClassification were not initialized from the model checkpoint at indobenchmark/indobert-base-p1 and are newly initialized: ['classifier.bias', 'classifier.weight']\n",
      "You should probably TRAIN this model on a down-stream task to be able to use it for predictions and inference.\n",
      "Evaluating MLP Fusion Model: 100%|██████████| 44/44 [00:28<00:00,  1.57it/s]\n"
     ]
    },
    {
     "name": "stdout",
     "output_type": "stream",
     "text": [
      "\n",
      "Total inference time: 28.07 seconds\n",
      "Average time per sample: 40.09 ms\n",
      "\n",
      "Exp5_64neurons Test Results:\n",
      "  Accuracy: 0.9914\n",
      "  Precision: 1.0000\n",
      "  Recall: 0.9829\n",
      "  F1 Score: 0.9914\n",
      "  AUC: 1.0000\n",
      "\n",
      "======================================================================\n",
      "COMPARISON OF ALL EXPERIMENTS\n",
      "======================================================================\n",
      "    Experiment  Accuracy  Precision  Recall  F1 Score    AUC\n",
      " Exp1_4neurons    0.9786     0.9614  0.9971    0.9790 0.9994\n",
      " Exp2_8neurons    0.9957     1.0000  0.9914    0.9957 0.9990\n",
      "Exp3_16neurons    0.9971     0.9971  0.9971    0.9971 0.9999\n",
      "Exp4_32neurons    0.9943     0.9915  0.9971    0.9943 0.9999\n",
      "Exp5_64neurons    0.9914     1.0000  0.9829    0.9914 1.0000\n",
      "\n",
      "======================================================================\n",
      "BEST PERFORMANCE PER METRIC\n",
      "======================================================================\n",
      "Accuracy    : Exp3_16neurons  (0.9971)\n",
      "Precision   : Exp2_8neurons   (1.0000)\n",
      "Recall      : Exp1_4neurons   (0.9971)\n",
      "F1 Score    : Exp3_16neurons  (0.9971)\n",
      "AUC         : Exp5_64neurons  (1.0000)\n",
      "\n",
      "Results exported to: mlp_fusion_experiments_consistent.csv\n",
      "\n",
      "======================================================================\n",
      "EXPERIMENT SUMMARY\n",
      "======================================================================\n",
      "Total experiments run: 5\n",
      "Neuron configurations tested: ['4neurons', '8neurons', '16neurons', '32neurons', '64neurons']\n",
      "Best overall experiment: Exp3_16neurons (F1: 0.9971)\n",
      "\n",
      "All models saved with prefix: 'best_mlp_fusion_model_'\n",
      "State dicts saved with prefix: 'best_mlp_fusion_model_*_state_dict.pt'\n",
      "\n",
      "✅ This version is COMPLETELY CONSISTENT with gamblingmultimodal-16.py approach!\n",
      "✅ Exp3_16neurons should produce IDENTICAL results to gamblingmultimodal-16.py\n"
     ]
    }
   ],
   "source": [
    "import os\n",
    "import numpy as np\n",
    "import pandas as pd\n",
    "import random\n",
    "import copy\n",
    "\n",
    "from sklearn.model_selection import train_test_split\n",
    "from sklearn.utils import shuffle\n",
    "\n",
    "import torch\n",
    "import torch.nn as nn\n",
    "from torch.utils.data import Dataset, DataLoader\n",
    "import torch.optim as optim\n",
    "\n",
    "from PIL import Image\n",
    "import torchvision.models as models\n",
    "import torchvision.transforms as transforms\n",
    "from torchvision.transforms import functional as F\n",
    "\n",
    "import re\n",
    "from collections import Counter\n",
    "from transformers import (\n",
    "    AutoConfig,\n",
    "    AutoTokenizer, \n",
    "    AutoModel,\n",
    "    AutoModelForSequenceClassification\n",
    ")\n",
    "\n",
    "from tqdm import tqdm\n",
    "from sklearn.metrics import (\n",
    "    accuracy_score, precision_score, recall_score, f1_score, \n",
    "    classification_report, roc_auc_score, confusion_matrix\n",
    ")\n",
    "import matplotlib.pyplot as plt\n",
    "import seaborn as sns\n",
    "import warnings\n",
    "warnings.filterwarnings(\"ignore\")\n",
    "\n",
    "# %%\n",
    "device = torch.device(\"cuda\" if torch.cuda.is_available() else \"cpu\")\n",
    "\n",
    "# %%\n",
    "seed = 0\n",
    "def seed_everything(seed):\n",
    "    os.environ[\"PYTHONHASHSEED\"] = str(seed)\n",
    "    random.seed(seed)\n",
    "    np.random.seed(seed)\n",
    "    torch.manual_seed(seed)\n",
    "    torch.cuda.manual_seed(seed)\n",
    "    torch.cuda.manual_seed_all(seed)\n",
    "    torch.backends.cudnn.deterministic = True\n",
    "    torch.backends.cudnn.benchmark = False\n",
    "\n",
    "seed_everything(seed)\n",
    "\n",
    "# %%\n",
    "# Generator untuk DataLoader\n",
    "g = torch.Generator()\n",
    "g.manual_seed(seed)\n",
    "\n",
    "def seed_worker(worker_id):\n",
    "    \"\"\"Fungsi untuk memastikan setiap worker memiliki seed yang sama\"\"\"\n",
    "    worker_seed = torch.initial_seed() % 2**32\n",
    "    np.random.seed(worker_seed)\n",
    "    random.seed(worker_seed)\n",
    "\n",
    "# %%\n",
    "judi_images_path = \"/kaggle/input/gamblingdet-id/situsjudiid-full/judi\"\n",
    "nonjudi_images_path = \"/kaggle/input/gamblingdet-id/situsjudiid-full/non-judi\"\n",
    "\n",
    "train_csv_path = '/kaggle/input/train-test/train_data.csv'\n",
    "test_csv_path = '/kaggle/input/train-test/test_data.csv'\n",
    "\n",
    "# %%\n",
    "# Load data\n",
    "train_df = pd.read_csv(train_csv_path)\n",
    "test_df = pd.read_csv(test_csv_path)\n",
    "train_df\n",
    "\n",
    "# %%\n",
    "# Drop missing values\n",
    "print('Missing values in Train:\\n', train_df.isna().sum())\n",
    "train_df = train_df.dropna()\n",
    "\n",
    "# %%\n",
    "# Add function to get full image path based on class\n",
    "def get_image_path(filename, class_label):\n",
    "    if class_label == 'judi':\n",
    "        return os.path.join(judi_images_path, filename)\n",
    "    else:  # non-judi\n",
    "        return os.path.join(nonjudi_images_path, filename)\n",
    "\n",
    "# %%\n",
    "import re\n",
    "\n",
    "def clean_texts(texts):\n",
    "    cleaned_texts = []\n",
    "\n",
    "    # Kata 1–2 huruf yang penting dan tidak boleh dihapus\n",
    "    exceptions = {\"di\", \"ke\", \"ya\", \"jl\"}\n",
    "\n",
    "    for text in texts:\n",
    "        # ----- BASIC CLEANING -----\n",
    "        text = re.sub(r\"http\\S+\", \"\", text)                    # Hapus URL\n",
    "        text = re.sub(r\"\\n\", \" \", text)                        # Ganti newline dengan spasi\n",
    "        text = re.sub(r\"[^a-zA-Z]\", \" \", text)             # Sisakan huruf, angka, apostrof\n",
    "        text = re.sub(r\"\\s{2,}\", \" \", text).strip().lower()    # Hapus spasi ganda & ke lowercase\n",
    "\n",
    "        # ----- FILTERING -----\n",
    "        words = text.split()\n",
    "        filtered_words = [\n",
    "            w for w in words\n",
    "            if (len(w) > 2 or w in exceptions)\n",
    "            and not re.fullmatch(r\"[aeiou]{3,}\", w)            # Hindari vokal berulang (\"aaa\")\n",
    "            and not re.fullmatch(r\"[bcdfghjklmnpqrstvwxyz]{3,}\", w)  # Hindari konsonan berulang (\"kkk\")\n",
    "            and len(w) <= 20                                   # Batasi kata terlalu panjang\n",
    "        ]\n",
    "\n",
    "        cleaned_texts.append(\" \".join(filtered_words))\n",
    "\n",
    "    return cleaned_texts\n",
    "\n",
    "# %%\n",
    "# Bersihkan teks\n",
    "train_df['cleaned_text'] = clean_texts(train_df['Extracted Text'])\n",
    "test_df['cleaned_text'] = clean_texts(test_df['Extracted Text'])\n",
    "\n",
    "# %%\n",
    "# Drop rows with less than 5 words\n",
    "train_df = train_df[train_df['cleaned_text'].apply(lambda x: len(str(x).split()) >= 5)]\n",
    "test_df = test_df[test_df['cleaned_text'].apply(lambda x: len(str(x).split()) >= 5)]\n",
    "train_df\n",
    "\n",
    "# %%\n",
    "# Cek jumlah duplikasi sebelum dihapus\n",
    "print(\"Duplikasi di train:\", train_df.duplicated(subset='cleaned_text').sum())\n",
    "print(\"Duplikasi di test :\", test_df.duplicated(subset='cleaned_text').sum())\n",
    "\n",
    "# Hapus duplikasi berdasarkan cleaned_text\n",
    "train_df = train_df.drop_duplicates(subset='cleaned_text').reset_index(drop=True)\n",
    "test_df = test_df.drop_duplicates(subset='cleaned_text').reset_index(drop=True)\n",
    "\n",
    "# Cek ulang setelah pembersihan\n",
    "print(\"Setelah dihapus:\")\n",
    "print(\"Train:\", len(train_df), \"baris\")\n",
    "print(\"Test :\", len(test_df), \"baris\")\n",
    "\n",
    "# %%\n",
    "# Print jumlah per kelas\n",
    "print(\"Distribusi label di Train set:\")\n",
    "print(train_df['Class'].value_counts(), '\\n')\n",
    "\n",
    "print(\"Distribusi label di Test set:\")\n",
    "print(test_df['Class'].value_counts())\n",
    "\n",
    "# %%\n",
    "from sklearn.utils import resample\n",
    "\n",
    "# Pisahkan data berdasarkan kelas\n",
    "train_judi = train_df[train_df['Class'] == 'judi']\n",
    "train_nonjudi = train_df[train_df['Class'] == 'non-judi']\n",
    "\n",
    "# Undersampling kelas mayoritas (non-judi) agar jumlahnya sama dengan kelas judi\n",
    "train_nonjudi_undersampled = resample(train_nonjudi,\n",
    "                                      replace=False,      # tanpa duplikasi\n",
    "                                      n_samples=len(train_judi),  # samakan jumlahnya dengan kelas minoritas\n",
    "                                      random_state=seed)    # untuk replikasi hasil\n",
    "\n",
    "# Gabungkan kembali data yang sudah diundersample\n",
    "train_df_balanced = pd.concat([train_judi, train_nonjudi_undersampled])\n",
    "\n",
    "# Cek distribusi baru\n",
    "print(\"Distribusi label setelah undersampling:\")\n",
    "print(train_df_balanced['Class'].value_counts())\n",
    "\n",
    "# %%\n",
    "label_map = {\n",
    "    \"non-judi\": 0,\n",
    "    \"judi\": 1\n",
    "}\n",
    "\n",
    "train_df_balanced['label'] = train_df_balanced['Class'].map(label_map)\n",
    "test_df['label'] = test_df['Class'].map(label_map)\n",
    "\n",
    "train_df_balanced['image'] = train_df_balanced['File Name']\n",
    "test_df['image'] = test_df['File Name']\n",
    "\n",
    "# %%\n",
    "traindf, validdf = train_test_split(\n",
    "    train_df_balanced, test_size=0.2, stratify=train_df_balanced['label'], random_state=seed\n",
    ")\n",
    "\n",
    "print(f\"Jumlah data train: {len(traindf)}\")\n",
    "print(f\"Jumlah data valid: {len(validdf)}\")\n",
    "print(f\"Jumlah data test: {len(test_df)}\")\n",
    "\n",
    "# %%\n",
    "# Print jumlah per kelas\n",
    "print(\"Distribusi label di Train set:\")\n",
    "print(traindf['label'].value_counts(), '\\n')\n",
    "\n",
    "print(\"Distribusi label di Validation set:\")\n",
    "print(validdf['label'].value_counts(), '\\n')\n",
    "\n",
    "print(\"Distribusi label di Test set:\")\n",
    "print(test_df['label'].value_counts())\n",
    "\n",
    "# %%\n",
    "class ResizePadToSquare:\n",
    "    def __init__(self, target_size=300):\n",
    "        self.target_size = target_size\n",
    "\n",
    "    def __call__(self, img):\n",
    "        img = img.convert(\"RGB\")\n",
    "        # Resize dengan thumbnail: jaga rasio, resize sisi terpanjang ke target\n",
    "        img.thumbnail((self.target_size, self.target_size), Image.BILINEAR)\n",
    "        # Padding agar menjadi square\n",
    "        delta_w = self.target_size - img.size[0]\n",
    "        delta_h = self.target_size - img.size[1]\n",
    "        padding = (delta_w // 2, delta_h // 2, delta_w - delta_w // 2, delta_h - delta_h // 2)\n",
    "        img = F.pad(img, padding, fill=0, padding_mode='constant')\n",
    "        return img\n",
    "\n",
    "# %%\n",
    "transform_train = transforms.Compose([\n",
    "    ResizePadToSquare(300),\n",
    "    transforms.RandomHorizontalFlip(),\n",
    "    transforms.ColorJitter(brightness=0.2, contrast=0.2, saturation=0.2, hue=0.1),\n",
    "    transforms.ToTensor(),\n",
    "    transforms.Normalize(mean=[0.485, 0.456, 0.406],\n",
    "                         std=[0.229, 0.224, 0.225]),\n",
    "])\n",
    "\n",
    "transform_test = transforms.Compose([\n",
    "    ResizePadToSquare(300),\n",
    "    transforms.ToTensor(),\n",
    "    transforms.Normalize(mean=[0.485, 0.456, 0.406],\n",
    "                         std=[0.229, 0.224, 0.225]),\n",
    "])\n",
    "\n",
    "# %%\n",
    "tokenizer = AutoTokenizer.from_pretrained('indobenchmark/indobert-base-p1')\n",
    "max_length= 128\n",
    "\n",
    "# %%\n",
    "class CustomCombinedDataset(Dataset):\n",
    "    def __init__(self, dataframe, images_path_judi, images_path_non_judi, tokenizer, max_length, transforms=None):\n",
    "        self.dataframe = dataframe.reset_index(drop=True)  # Reset index to avoid KeyError\n",
    "        self.images_path_judi = images_path_judi\n",
    "        self.images_path_non_judi = images_path_non_judi\n",
    "        self.tokenizer = tokenizer\n",
    "        self.max_length = max_length\n",
    "        self.transforms = transforms\n",
    "    \n",
    "    def __len__(self):\n",
    "        return len(self.dataframe)\n",
    "    \n",
    "    def __getitem__(self, index):\n",
    "        row = self.dataframe.iloc[index]\n",
    "        img_name = row['image']\n",
    "        label = row['label']\n",
    "        text = str(row['cleaned_text'])\n",
    "        \n",
    "        # Tentukan path berdasarkan label\n",
    "        if label == 1:  # judi\n",
    "            img_path = os.path.join(self.images_path_judi, img_name)\n",
    "        else:  # non-judi (label == 0)\n",
    "            img_path = os.path.join(self.images_path_non_judi, img_name)\n",
    "        \n",
    "        image = Image.open(img_path)\n",
    "        \n",
    "        encoding = self.tokenizer.encode_plus(\n",
    "            text,\n",
    "            add_special_tokens=True,\n",
    "            max_length=self.max_length,\n",
    "            truncation=True,\n",
    "            return_tensors='pt',\n",
    "            padding='max_length'\n",
    "        )\n",
    "        \n",
    "        input_ids = encoding['input_ids'].flatten()\n",
    "        attention_mask = encoding['attention_mask'].flatten()\n",
    "        \n",
    "        if self.transforms is not None:\n",
    "            image = self.transforms(image)\n",
    "        \n",
    "        return {\n",
    "            'image': image,\n",
    "            'input_ids': input_ids,\n",
    "            'attention_mask': attention_mask,\n",
    "            'label': torch.tensor(label, dtype=torch.long),\n",
    "            'filename': img_name\n",
    "        }\n",
    "\n",
    "# %%\n",
    "# Update inisialisasi dataset dengan kedua path\n",
    "combined_train_dataset = CustomCombinedDataset(traindf, judi_images_path, nonjudi_images_path, tokenizer, max_length, transforms=transform_train)\n",
    "combined_valid_dataset = CustomCombinedDataset(validdf, judi_images_path, nonjudi_images_path, tokenizer, max_length, transforms=transform_test)\n",
    "combined_test_dataset = CustomCombinedDataset(test_df, judi_images_path, nonjudi_images_path, tokenizer, max_length, transforms=transform_test)\n",
    "\n",
    "# %%\n",
    "batch_size = 16\n",
    "combined_train_loader = DataLoader(combined_train_dataset, batch_size=batch_size, shuffle=True, num_workers=0, worker_init_fn=seed_worker, generator=g)\n",
    "combined_valid_loader = DataLoader(combined_valid_dataset, batch_size=batch_size, shuffle=True, num_workers=0, worker_init_fn=seed_worker, generator=g)\n",
    "combined_test_loader = DataLoader(combined_test_dataset, batch_size=batch_size, shuffle=False, num_workers=0, worker_init_fn=seed_worker, generator=g)\n",
    "\n",
    "# %%\n",
    "image_model_path = \"/kaggle/input/gamblingwebi-v16/best_image_model_Adam_lr0.0001_bs16_state_dict.pt\"\n",
    "text_model_path = \"/kaggle/input/gamblingwebt-v16/best_text_model_bs32_lr3e-05_ep3_state_dict.pt\"\n",
    "\n",
    "# %%\n",
    "# Inisialisasi ulang model - SAMA DENGAN gamblingmultimodal-16.py\n",
    "image_model = models.efficientnet_b3(weights=models.EfficientNet_B3_Weights.DEFAULT)\n",
    "num_features = image_model.classifier[1].in_features\n",
    "image_model.classifier = nn.Sequential(\n",
    "    nn.Dropout(p=0.3),\n",
    "    nn.Linear(num_features, 1)\n",
    ")\n",
    "\n",
    "# Load state dict\n",
    "image_model.load_state_dict(torch.load(image_model_path, map_location=device))\n",
    "image_model.to(device)\n",
    "image_model.eval()\n",
    "\n",
    "# Inisialisasi ulang model\n",
    "text_model = AutoModelForSequenceClassification.from_pretrained(\n",
    "    'indobenchmark/indobert-base-p1',\n",
    "    num_labels=1\n",
    ")\n",
    "\n",
    "# Load state dict\n",
    "text_model.load_state_dict(torch.load(text_model_path, map_location=device))\n",
    "text_model.to(device)\n",
    "text_model.eval()\n",
    "\n",
    "# %%\n",
    "# Define function to evaluate image model\n",
    "def evaluate_image_model(model, data_loader):\n",
    "    all_preds, all_labels = [], []\n",
    "    \n",
    "    with torch.no_grad():\n",
    "        for batch in tqdm(data_loader, desc=\"Evaluating Image Model\"):\n",
    "            images = batch['image'].to(device)\n",
    "            labels = batch['label'].to(device)\n",
    "            outputs = model(images).squeeze(1)\n",
    "            preds = (torch.sigmoid(outputs) > 0.5).cpu().numpy()\n",
    "            all_preds.extend(preds)\n",
    "            all_labels.extend(labels.cpu().numpy())\n",
    "    \n",
    "    metrics = {\n",
    "        'Accuracy': accuracy_score(all_labels, all_preds),\n",
    "        'Precision': precision_score(all_labels, all_preds),\n",
    "        'Recall': recall_score(all_labels, all_preds),\n",
    "        'F1 Score': f1_score(all_labels, all_preds),\n",
    "        'ConfusionMatrix': confusion_matrix(all_labels, all_preds)\n",
    "    }\n",
    "    return metrics\n",
    "\n",
    "# %%\n",
    "print(\"\\n===== IMAGE MODEL EVALUATION =====\")\n",
    "image_metrics = evaluate_image_model(image_model, combined_test_loader)\n",
    "print(\"\\nTest Set Metrics:\")\n",
    "for metric_name, value in image_metrics.items():\n",
    "    if metric_name != 'ConfusionMatrix':\n",
    "        print(f\"  {metric_name}: {value:.4f}\")\n",
    "\n",
    "# %%\n",
    "def evaluate_text_model(model, data_loader):\n",
    "    all_preds, all_labels = [], []\n",
    "    \n",
    "    with torch.no_grad():\n",
    "        for batch in tqdm(data_loader, desc=\"Evaluating Text Model\"):\n",
    "            input_ids = batch['input_ids'].to(device)\n",
    "            attention_mask = batch['attention_mask'].to(device)\n",
    "            labels = batch['label'].to(device)\n",
    "            outputs = model(input_ids=input_ids, attention_mask=attention_mask).logits.squeeze(1)\n",
    "            preds = (torch.sigmoid(outputs) > 0.5).cpu().numpy()\n",
    "            all_preds.extend(preds)\n",
    "            all_labels.extend(labels.cpu().numpy())\n",
    "    \n",
    "    return {\n",
    "        'Accuracy': accuracy_score(all_labels, all_preds),\n",
    "        'Precision': precision_score(all_labels, all_preds),\n",
    "        'Recall': recall_score(all_labels, all_preds),\n",
    "        'F1 Score': f1_score(all_labels, all_preds),\n",
    "        'ConfusionMatrix': confusion_matrix(all_labels, all_preds)\n",
    "    }\n",
    "\n",
    "# %%\n",
    "print(\"\\n===== TEXT MODEL EVALUATION =====\")\n",
    "text_metrics = evaluate_text_model(text_model, combined_test_loader)\n",
    "print(\"\\nTest Set Metrics:\")\n",
    "for metric_name, value in text_metrics.items():\n",
    "    if metric_name != 'ConfusionMatrix':\n",
    "        print(f\"  {metric_name}: {value:.4f}\")\n",
    "\n",
    "# %%\n",
    "class MLPFusionModel(nn.Module):\n",
    "    def __init__(self, image_model, text_model, hidden_dim=16, dropout_rate=0.2):\n",
    "        super(MLPFusionModel, self).__init__()\n",
    "        self.image_model = image_model\n",
    "        self.text_model = text_model\n",
    "        \n",
    "        # Freeze the pre-trained models\n",
    "        for param in self.image_model.parameters():\n",
    "            param.requires_grad = False\n",
    "        for param in self.text_model.parameters():\n",
    "            param.requires_grad = False\n",
    "            \n",
    "        # MLP fusion layers\n",
    "        # Input dimension: 2 (image logit + text logit)\n",
    "        self.fusion_mlp = nn.Sequential(\n",
    "            nn.Linear(2, hidden_dim),\n",
    "            nn.ReLU(),\n",
    "            nn.Dropout(dropout_rate),\n",
    "            nn.Linear(hidden_dim, 1) \n",
    "        )\n",
    "        \n",
    "        # Initialize MLP weights\n",
    "        self._initialize_weights()\n",
    "        \n",
    "    def _initialize_weights(self):\n",
    "        \"\"\"Initialize MLP weights using Xavier initialization\"\"\"\n",
    "        for module in self.fusion_mlp:\n",
    "            if isinstance(module, nn.Linear):\n",
    "                nn.init.xavier_uniform_(module.weight)\n",
    "                nn.init.zeros_(module.bias)\n",
    "    \n",
    "    def forward(self, images, input_ids, attention_mask):\n",
    "        # Get predictions from individual models (no gradients needed)\n",
    "        with torch.no_grad():\n",
    "            image_logits = self.image_model(images).squeeze(1)\n",
    "            text_logits = self.text_model(input_ids=input_ids, attention_mask=attention_mask).logits.squeeze(1)\n",
    "        \n",
    "        # Concatenate logits as input to MLP\n",
    "        # Shape: (batch_size, 2)\n",
    "        combined_features = torch.stack([image_logits, text_logits], dim=1)\n",
    "        \n",
    "        # Pass through MLP for fusion\n",
    "        fused_logits = self.fusion_mlp(combined_features).squeeze(1)\n",
    "        \n",
    "        return fused_logits, image_logits, text_logits\n",
    "\n",
    "# %%\n",
    "def train_mlp_fusion_model(fusion_model, train_loader, valid_loader, criterion, optimizer, device, fusion_epochs=10, patience=5, exp_name=\"\"):\n",
    "    best_loss = float('inf')\n",
    "    best_model_state = None\n",
    "    train_losses, val_losses = [], []\n",
    "    train_accuracies, val_accuracies = [], []\n",
    "    \n",
    "    patience_counter = 0\n",
    "    early_stopped = False\n",
    "    \n",
    "    # Gunakan nama file yang spesifik untuk setiap eksperimen\n",
    "    model_save_path = f'best_mlp_fusion_model_{exp_name}_state_dict.pt' if exp_name else 'best_mlp_fusion_model_state_dict.pt'\n",
    "\n",
    "    for epoch in range(fusion_epochs):\n",
    "        # === TRAINING ===\n",
    "        fusion_model.train()\n",
    "        total_train_loss = 0.0\n",
    "        correct_train = 0\n",
    "        total_train = 0\n",
    "\n",
    "        for batch in tqdm(train_loader, desc=f\"[Epoch {epoch+1}] Training\"):\n",
    "            images = batch['image'].to(device)\n",
    "            input_ids = batch['input_ids'].to(device)\n",
    "            attention_mask = batch['attention_mask'].to(device)\n",
    "            labels = batch['label'].float().to(device)\n",
    "\n",
    "            optimizer.zero_grad()\n",
    "            fused_logits, _, _ = fusion_model(images, input_ids, attention_mask)\n",
    "            loss = criterion(fused_logits, labels)\n",
    "            loss.backward()\n",
    "            torch.nn.utils.clip_grad_norm_(fusion_model.fusion_mlp.parameters(), max_norm=1.0)\n",
    "            optimizer.step()\n",
    "\n",
    "            total_train_loss += loss.item()\n",
    "\n",
    "            preds = (torch.sigmoid(fused_logits) > 0.5).long()\n",
    "            correct_train += (preds.squeeze() == labels.long()).sum().item()\n",
    "            total_train += labels.size(0)\n",
    "\n",
    "        avg_train_loss = total_train_loss / len(train_loader)\n",
    "        train_accuracy = correct_train / total_train\n",
    "        train_losses.append(avg_train_loss)\n",
    "        train_accuracies.append(train_accuracy)\n",
    "\n",
    "        # === VALIDATION ===\n",
    "        fusion_model.eval()\n",
    "        total_val_loss = 0.0\n",
    "        correct_val = 0\n",
    "        total_val = 0\n",
    "\n",
    "        with torch.no_grad():\n",
    "            for batch in tqdm(valid_loader, desc=f\"[Epoch {epoch+1}] Validation\", leave=False):\n",
    "                images = batch['image'].to(device)\n",
    "                input_ids = batch['input_ids'].to(device)\n",
    "                attention_mask = batch['attention_mask'].to(device)\n",
    "                labels = batch['label'].float().to(device)\n",
    "\n",
    "                fused_logits, _, _ = fusion_model(images, input_ids, attention_mask)\n",
    "                loss = criterion(fused_logits, labels)\n",
    "                total_val_loss += loss.item()\n",
    "\n",
    "                preds = (torch.sigmoid(fused_logits) > 0.5).long()\n",
    "                correct_val += (preds.squeeze() == labels.long()).sum().item()\n",
    "                total_val += labels.size(0)\n",
    "\n",
    "        avg_val_loss = total_val_loss / len(valid_loader)\n",
    "        val_accuracy = correct_val / total_val\n",
    "        val_losses.append(avg_val_loss)\n",
    "        val_accuracies.append(val_accuracy)\n",
    "\n",
    "        # === Early Stopping ===\n",
    "        if avg_val_loss < best_loss:\n",
    "            best_loss = avg_val_loss\n",
    "            best_model_state = fusion_model.state_dict()  # tidak perlu .copy()\n",
    "            torch.save(best_model_state, model_save_path)\n",
    "            patience_counter = 0\n",
    "            print(f\"Epoch {epoch+1}/{fusion_epochs} | Train Loss: {avg_train_loss:.4f} | Val Loss: {avg_val_loss:.4f} | ✅ Best model saved!\")\n",
    "        else:\n",
    "            patience_counter += 1\n",
    "            print(f\"Epoch {epoch+1}/{fusion_epochs} | Train Loss: {avg_train_loss:.4f} | Val Loss: {avg_val_loss:.4f} | Patience: {patience_counter}/{patience}\")\n",
    "            if patience_counter >= patience:\n",
    "                print(f\"\\n🛑 Early stopping at epoch {epoch+1}. No improvement for {patience} epochs.\")\n",
    "                early_stopped = True\n",
    "                break\n",
    "\n",
    "    if best_model_state is not None:\n",
    "        fusion_model.load_state_dict(best_model_state)\n",
    "        print(f\"\\n✅ Loaded best model with validation loss: {best_loss:.4f}\")\n",
    "\n",
    "    print(f\"🔍 Best Validation Loss: {best_loss:.4f}\")\n",
    "    return train_losses, val_losses, train_accuracies, val_accuracies, model_save_path\n",
    "\n",
    "# %%\n",
    "import time\n",
    "\n",
    "def evaluate_mlp_fusion_model(fusion_model, data_loader):\n",
    "    fusion_model.eval()\n",
    "    all_preds = []\n",
    "    all_labels = []\n",
    "    all_probs = []\n",
    "    start_time = time.time()  # Mulai pencatatan waktu\n",
    "    \n",
    "    with torch.no_grad():\n",
    "        for batch in tqdm(data_loader, desc=\"Evaluating MLP Fusion Model\"):\n",
    "            images = batch['image'].to(device)\n",
    "            input_ids = batch['input_ids'].to(device)\n",
    "            attention_mask = batch['attention_mask'].to(device)\n",
    "            labels = batch['label'].to(device)\n",
    "            \n",
    "            fused_logits, _, _ = fusion_model(images, input_ids, attention_mask)\n",
    "            fused_probs = torch.sigmoid(fused_logits).cpu().numpy()\n",
    "            fused_preds = (fused_probs > 0.5).astype(int)\n",
    "            \n",
    "            all_preds.extend(fused_preds)\n",
    "            all_labels.extend(labels.cpu().numpy())\n",
    "            all_probs.extend(fused_probs)\n",
    "    \n",
    "    end_time = time.time()\n",
    "    total_time = end_time - start_time\n",
    "    avg_time_per_sample = total_time / len(data_loader.dataset)\n",
    "    \n",
    "    print(f\"\\nTotal inference time: {total_time:.2f} seconds\")\n",
    "    print(f\"Average time per sample: {avg_time_per_sample * 1000:.2f} ms\")\n",
    "    \n",
    "    return {\n",
    "        'Accuracy': accuracy_score(all_labels, all_preds),\n",
    "        'Precision': precision_score(all_labels, all_preds),\n",
    "        'Recall': recall_score(all_labels, all_preds),\n",
    "        'F1 Score': f1_score(all_labels, all_preds),\n",
    "        'AUC': roc_auc_score(all_labels, all_probs),  # Use probabilities for AUC\n",
    "        'ConfusionMatrix': confusion_matrix(all_labels, all_preds),\n",
    "        'InferenceTime': total_time,\n",
    "        'TimePerSample': avg_time_per_sample\n",
    "    }\n",
    "\n",
    "def run_experiments_consistent():\n",
    "    \"\"\"\n",
    "    Run experiments with EXACTLY the same approach as gamblingmultimodal-16.py\n",
    "    \"\"\"\n",
    "    experiments = [\n",
    "        (\"Exp1_4neurons\", 4, 0.1),\n",
    "        (\"Exp2_8neurons\", 8, 0.15),\n",
    "        (\"Exp3_16neurons\", 16, 0.2), # baseline model\n",
    "        (\"Exp4_32neurons\", 32, 0.25),\n",
    "        (\"Exp5_64neurons\", 64, 0.3)\n",
    "    ]\n",
    "\n",
    "    results = {}\n",
    "\n",
    "    for exp_name, hidden_dim, dropout_rate in experiments:\n",
    "        # === RESET SEED DAN MODEL DI SETIAP EKSPERIMEN ===\n",
    "        seed_everything(seed)\n",
    "\n",
    "        # Inisialisasi ulang image_model\n",
    "        image_model = models.efficientnet_b3(weights=models.EfficientNet_B3_Weights.DEFAULT)\n",
    "        num_features = image_model.classifier[1].in_features\n",
    "        image_model.classifier = nn.Sequential(\n",
    "            nn.Dropout(p=0.3),\n",
    "            nn.Linear(num_features, 1)\n",
    "        )\n",
    "        image_model.load_state_dict(torch.load(image_model_path, map_location=device))\n",
    "        image_model.to(device)\n",
    "        image_model.eval()\n",
    "\n",
    "        # Inisialisasi ulang text_model\n",
    "        text_model = AutoModelForSequenceClassification.from_pretrained(\n",
    "            'indobenchmark/indobert-base-p1',\n",
    "            num_labels=1\n",
    "        )\n",
    "        text_model.load_state_dict(torch.load(text_model_path, map_location=device))\n",
    "        text_model.to(device)\n",
    "        text_model.eval()\n",
    "\n",
    "        print(f\"\\n{'='*50}\")\n",
    "        print(f\"RUNNING {exp_name.upper()}\")\n",
    "        print(f\"{'='*50}\")\n",
    "        \n",
    "        # 🔁 Buat fusion model baru dengan parameter yang sama seperti gamblingmultimodal-16.py\n",
    "        fusion_model = MLPFusionModel(image_model, text_model, hidden_dim=hidden_dim, dropout_rate=dropout_rate)\n",
    "        fusion_model.to(device)\n",
    "\n",
    "        # 🔧 Setup optimizer dan loss - SAMA DENGAN gamblingmultimodal-16.py\n",
    "        optimizer = optim.Adam(fusion_model.fusion_mlp.parameters(), lr=0.0001, weight_decay=1e-4)\n",
    "        criterion = nn.BCEWithLogitsLoss()\n",
    "\n",
    "        # 🔁 Train model\n",
    "        train_losses, val_losses, train_accuracies, val_accuracies, model_save_path = train_mlp_fusion_model(\n",
    "            fusion_model=fusion_model,\n",
    "            train_loader=combined_train_loader,\n",
    "            valid_loader=combined_valid_loader,\n",
    "            criterion=criterion,\n",
    "            optimizer=optimizer,\n",
    "            device=device,\n",
    "            fusion_epochs=15,\n",
    "            patience=3,\n",
    "            exp_name=exp_name\n",
    "        )\n",
    "\n",
    "        # ✅ Load model terbaik dan evaluasi - SAMA DENGAN gamblingmultimodal-16.py\n",
    "        # Inisialisasi ulang image_model dan text_model untuk evaluasi\n",
    "        image_model = models.efficientnet_b3(weights=models.EfficientNet_B3_Weights.DEFAULT)\n",
    "        num_features = image_model.classifier[1].in_features\n",
    "        image_model.classifier = nn.Sequential(\n",
    "            nn.Dropout(p=0.3),\n",
    "            nn.Linear(num_features, 1)\n",
    "        )\n",
    "        image_model.load_state_dict(torch.load(image_model_path, map_location=device))\n",
    "        image_model.to(device)\n",
    "        image_model.eval()\n",
    "\n",
    "        text_model = AutoModelForSequenceClassification.from_pretrained(\n",
    "            'indobenchmark/indobert-base-p1',\n",
    "            num_labels=1\n",
    "        )\n",
    "        text_model.load_state_dict(torch.load(text_model_path, map_location=device))\n",
    "        text_model.to(device)\n",
    "        text_model.eval()\n",
    "\n",
    "        fusion_model = MLPFusionModel(image_model, text_model, hidden_dim=hidden_dim, dropout_rate=dropout_rate)\n",
    "        fusion_model.load_state_dict(torch.load(model_save_path, map_location=device))\n",
    "        fusion_model.to(device)\n",
    "\n",
    "        test_metrics = evaluate_mlp_fusion_model(fusion_model, combined_test_loader)\n",
    "\n",
    "        results[exp_name] = {\n",
    "            'test_metrics': test_metrics,\n",
    "            'train_losses': train_losses,\n",
    "            'val_losses': val_losses,\n",
    "            'train_accuracies': train_accuracies,\n",
    "            'val_accuracies': val_accuracies,\n",
    "            'hidden_dim': hidden_dim\n",
    "        }\n",
    "\n",
    "        # Save model dengan nama yang spesifik untuk setiap eksperimen\n",
    "        torch.save(fusion_model, f'best_mlp_fusion_model_{exp_name}.pt')\n",
    "\n",
    "        print(f\"\\n{exp_name} Test Results:\")\n",
    "        for metric_name, value in test_metrics.items():\n",
    "            if metric_name not in ['ConfusionMatrix', 'InferenceTime', 'TimePerSample']:\n",
    "                print(f\"  {metric_name}: {value:.4f}\")\n",
    "\n",
    "    return results\n",
    "\n",
    "# %%\n",
    "# MAIN EXECUTION\n",
    "if __name__ == \"__main__\":\n",
    "    print(\"🚀 Starting experiments with CONSISTENT approach (same as gamblingmultimodal-16.py)\")\n",
    "    print(\"✅ Using same model loading, seed management, and DataLoader approach\")\n",
    "    \n",
    "    # Jalankan semua eksperimen dengan pendekatan yang KONSISTEN dengan gamblingmultimodal-16.py\n",
    "    results = run_experiments_consistent()\n",
    "    \n",
    "    # Create comparison DataFrame\n",
    "    metrics_to_compare = ['Accuracy', 'Precision', 'Recall', 'F1 Score', 'AUC']\n",
    "    comparison_data = []\n",
    "    \n",
    "    for exp_name, exp_results in results.items():\n",
    "        row = [exp_name]\n",
    "        for metric in metrics_to_compare:\n",
    "            row.append(exp_results['test_metrics'][metric])\n",
    "        comparison_data.append(row)\n",
    "    \n",
    "    # Create DataFrame\n",
    "    columns = ['Experiment'] + metrics_to_compare\n",
    "    comparison_df = pd.DataFrame(comparison_data, columns=columns)\n",
    "    \n",
    "    print(\"\\n\" + \"=\"*70)\n",
    "    print(\"COMPARISON OF ALL EXPERIMENTS\")\n",
    "    print(\"=\"*70)\n",
    "    print(comparison_df.round(4).to_string(index=False))\n",
    "    \n",
    "    # Find best experiment for each metric\n",
    "    print(\"\\n\" + \"=\"*70)\n",
    "    print(\"BEST PERFORMANCE PER METRIC\")\n",
    "    print(\"=\"*70)\n",
    "    for metric in metrics_to_compare:\n",
    "        best_idx = comparison_df[metric].idxmax()\n",
    "        best_exp = comparison_df.iloc[best_idx]['Experiment']\n",
    "        best_score = comparison_df.iloc[best_idx][metric]\n",
    "        print(f\"{metric:12}: {best_exp:15} ({best_score:.4f})\")\n",
    "    \n",
    "    # Export results to CSV\n",
    "    comparison_df.to_csv('mlp_fusion_experiments_consistent.csv', index=False)\n",
    "    print(f\"\\nResults exported to: mlp_fusion_experiments_consistent.csv\")\n",
    "    \n",
    "    # Print summary\n",
    "    print(f\"\\n{'='*70}\")\n",
    "    print(\"EXPERIMENT SUMMARY\")\n",
    "    print(f\"{'='*70}\")\n",
    "    print(f\"Total experiments run: {len(results)}\")\n",
    "    print(f\"Neuron configurations tested: {[exp.split('_')[1] for exp in results.keys()]}\")\n",
    "    \n",
    "    # Find best overall experiment\n",
    "    best_overall = comparison_df.loc[comparison_df['F1 Score'].idxmax()]\n",
    "    print(f\"Best overall experiment: {best_overall['Experiment']} (F1: {best_overall['F1 Score']:.4f})\")\n",
    "    \n",
    "    print(f\"\\nAll models saved with prefix: 'best_mlp_fusion_model_'\")\n",
    "    print(f\"State dicts saved with prefix: 'best_mlp_fusion_model_*_state_dict.pt'\")\n",
    "    print(f\"\\n✅ This version is COMPLETELY CONSISTENT with gamblingmultimodal-16.py approach!\")\n",
    "    print(f\"✅ Exp3_16neurons should produce IDENTICAL results to gamblingmultimodal-16.py\") "
   ]
  }
 ],
 "metadata": {
  "kaggle": {
   "accelerator": "gpu",
   "dataSources": [
    {
     "datasetId": 7713869,
     "sourceId": 12288720,
     "sourceType": "datasetVersion"
    },
    {
     "datasetId": 7745791,
     "sourceId": 12290132,
     "sourceType": "datasetVersion"
    },
    {
     "sourceId": 246880563,
     "sourceType": "kernelVersion"
    },
    {
     "sourceId": 247475219,
     "sourceType": "kernelVersion"
    },
    {
     "sourceId": 247476411,
     "sourceType": "kernelVersion"
    },
    {
     "sourceId": 248832145,
     "sourceType": "kernelVersion"
    }
   ],
   "dockerImageVersionId": 31041,
   "isGpuEnabled": true,
   "isInternetEnabled": true,
   "language": "python",
   "sourceType": "notebook"
  },
  "kernelspec": {
   "display_name": "Python 3",
   "language": "python",
   "name": "python3"
  },
  "language_info": {
   "codemirror_mode": {
    "name": "ipython",
    "version": 3
   },
   "file_extension": ".py",
   "mimetype": "text/x-python",
   "name": "python",
   "nbconvert_exporter": "python",
   "pygments_lexer": "ipython3",
   "version": "3.11.11"
  },
  "papermill": {
   "default_parameters": {},
   "duration": 10060.294059,
   "end_time": "2025-07-09T03:10:21.164368",
   "environment_variables": {},
   "exception": null,
   "input_path": "__notebook__.ipynb",
   "output_path": "__notebook__.ipynb",
   "parameters": {},
   "start_time": "2025-07-09T00:22:40.870309",
   "version": "2.6.0"
  },
  "widgets": {
   "application/vnd.jupyter.widget-state+json": {
    "state": {
     "045cca72f3244aabaa6b8f26e22cce76": {
      "model_module": "@jupyter-widgets/base",
      "model_module_version": "2.0.0",
      "model_name": "LayoutModel",
      "state": {
       "_model_module": "@jupyter-widgets/base",
       "_model_module_version": "2.0.0",
       "_model_name": "LayoutModel",
       "_view_count": null,
       "_view_module": "@jupyter-widgets/base",
       "_view_module_version": "2.0.0",
       "_view_name": "LayoutView",
       "align_content": null,
       "align_items": null,
       "align_self": null,
       "border_bottom": null,
       "border_left": null,
       "border_right": null,
       "border_top": null,
       "bottom": null,
       "display": null,
       "flex": null,
       "flex_flow": null,
       "grid_area": null,
       "grid_auto_columns": null,
       "grid_auto_flow": null,
       "grid_auto_rows": null,
       "grid_column": null,
       "grid_gap": null,
       "grid_row": null,
       "grid_template_areas": null,
       "grid_template_columns": null,
       "grid_template_rows": null,
       "height": null,
       "justify_content": null,
       "justify_items": null,
       "left": null,
       "margin": null,
       "max_height": null,
       "max_width": null,
       "min_height": null,
       "min_width": null,
       "object_fit": null,
       "object_position": null,
       "order": null,
       "overflow": null,
       "padding": null,
       "right": null,
       "top": null,
       "visibility": null,
       "width": null
      }
     },
     "0516aafd1a8f4490a9942cd446373afc": {
      "model_module": "@jupyter-widgets/controls",
      "model_module_version": "2.0.0",
      "model_name": "HTMLModel",
      "state": {
       "_dom_classes": [],
       "_model_module": "@jupyter-widgets/controls",
       "_model_module_version": "2.0.0",
       "_model_name": "HTMLModel",
       "_view_count": null,
       "_view_module": "@jupyter-widgets/controls",
       "_view_module_version": "2.0.0",
       "_view_name": "HTMLView",
       "description": "",
       "description_allow_html": false,
       "layout": "IPY_MODEL_c438300e347347089cea729edfe7e6e7",
       "placeholder": "​",
       "style": "IPY_MODEL_6ff4ac5a8d354698b4506c2c167fd38e",
       "tabbable": null,
       "tooltip": null,
       "value": " 229k/? [00:00&lt;00:00, 13.0MB/s]"
      }
     },
     "0558ed79a2ab4dce87d05d70b6db1d28": {
      "model_module": "@jupyter-widgets/controls",
      "model_module_version": "2.0.0",
      "model_name": "FloatProgressModel",
      "state": {
       "_dom_classes": [],
       "_model_module": "@jupyter-widgets/controls",
       "_model_module_version": "2.0.0",
       "_model_name": "FloatProgressModel",
       "_view_count": null,
       "_view_module": "@jupyter-widgets/controls",
       "_view_module_version": "2.0.0",
       "_view_name": "ProgressView",
       "bar_style": "success",
       "description": "",
       "description_allow_html": false,
       "layout": "IPY_MODEL_5943da2edd624643be74ce4938a50240",
       "max": 1.0,
       "min": 0.0,
       "orientation": "horizontal",
       "style": "IPY_MODEL_110857df5f3a45a192e84865fc10fa16",
       "tabbable": null,
       "tooltip": null,
       "value": 1.0
      }
     },
     "07124d01c6ee4b799e2f03359d0beaf4": {
      "model_module": "@jupyter-widgets/base",
      "model_module_version": "2.0.0",
      "model_name": "LayoutModel",
      "state": {
       "_model_module": "@jupyter-widgets/base",
       "_model_module_version": "2.0.0",
       "_model_name": "LayoutModel",
       "_view_count": null,
       "_view_module": "@jupyter-widgets/base",
       "_view_module_version": "2.0.0",
       "_view_name": "LayoutView",
       "align_content": null,
       "align_items": null,
       "align_self": null,
       "border_bottom": null,
       "border_left": null,
       "border_right": null,
       "border_top": null,
       "bottom": null,
       "display": null,
       "flex": null,
       "flex_flow": null,
       "grid_area": null,
       "grid_auto_columns": null,
       "grid_auto_flow": null,
       "grid_auto_rows": null,
       "grid_column": null,
       "grid_gap": null,
       "grid_row": null,
       "grid_template_areas": null,
       "grid_template_columns": null,
       "grid_template_rows": null,
       "height": null,
       "justify_content": null,
       "justify_items": null,
       "left": null,
       "margin": null,
       "max_height": null,
       "max_width": null,
       "min_height": null,
       "min_width": null,
       "object_fit": null,
       "object_position": null,
       "order": null,
       "overflow": null,
       "padding": null,
       "right": null,
       "top": null,
       "visibility": null,
       "width": null
      }
     },
     "08add77d28ff4ac0a7fe64f7f55bb886": {
      "model_module": "@jupyter-widgets/controls",
      "model_module_version": "2.0.0",
      "model_name": "HTMLModel",
      "state": {
       "_dom_classes": [],
       "_model_module": "@jupyter-widgets/controls",
       "_model_module_version": "2.0.0",
       "_model_name": "HTMLModel",
       "_view_count": null,
       "_view_module": "@jupyter-widgets/controls",
       "_view_module_version": "2.0.0",
       "_view_name": "HTMLView",
       "description": "",
       "description_allow_html": false,
       "layout": "IPY_MODEL_1d88b762396a411f9c30702453b2f128",
       "placeholder": "​",
       "style": "IPY_MODEL_1223be2581e149f4a3d95e7e7a993115",
       "tabbable": null,
       "tooltip": null,
       "value": " 2.00/2.00 [00:00&lt;00:00, 221B/s]"
      }
     },
     "110857df5f3a45a192e84865fc10fa16": {
      "model_module": "@jupyter-widgets/controls",
      "model_module_version": "2.0.0",
      "model_name": "ProgressStyleModel",
      "state": {
       "_model_module": "@jupyter-widgets/controls",
       "_model_module_version": "2.0.0",
       "_model_name": "ProgressStyleModel",
       "_view_count": null,
       "_view_module": "@jupyter-widgets/base",
       "_view_module_version": "2.0.0",
       "_view_name": "StyleView",
       "bar_color": null,
       "description_width": ""
      }
     },
     "1223be2581e149f4a3d95e7e7a993115": {
      "model_module": "@jupyter-widgets/controls",
      "model_module_version": "2.0.0",
      "model_name": "HTMLStyleModel",
      "state": {
       "_model_module": "@jupyter-widgets/controls",
       "_model_module_version": "2.0.0",
       "_model_name": "HTMLStyleModel",
       "_view_count": null,
       "_view_module": "@jupyter-widgets/base",
       "_view_module_version": "2.0.0",
       "_view_name": "StyleView",
       "background": null,
       "description_width": "",
       "font_size": null,
       "text_color": null
      }
     },
     "133caf5d2f154d729bcfba565d06265f": {
      "model_module": "@jupyter-widgets/base",
      "model_module_version": "2.0.0",
      "model_name": "LayoutModel",
      "state": {
       "_model_module": "@jupyter-widgets/base",
       "_model_module_version": "2.0.0",
       "_model_name": "LayoutModel",
       "_view_count": null,
       "_view_module": "@jupyter-widgets/base",
       "_view_module_version": "2.0.0",
       "_view_name": "LayoutView",
       "align_content": null,
       "align_items": null,
       "align_self": null,
       "border_bottom": null,
       "border_left": null,
       "border_right": null,
       "border_top": null,
       "bottom": null,
       "display": null,
       "flex": null,
       "flex_flow": null,
       "grid_area": null,
       "grid_auto_columns": null,
       "grid_auto_flow": null,
       "grid_auto_rows": null,
       "grid_column": null,
       "grid_gap": null,
       "grid_row": null,
       "grid_template_areas": null,
       "grid_template_columns": null,
       "grid_template_rows": null,
       "height": null,
       "justify_content": null,
       "justify_items": null,
       "left": null,
       "margin": null,
       "max_height": null,
       "max_width": null,
       "min_height": null,
       "min_width": null,
       "object_fit": null,
       "object_position": null,
       "order": null,
       "overflow": null,
       "padding": null,
       "right": null,
       "top": null,
       "visibility": null,
       "width": null
      }
     },
     "163f0ef4ff3a4f1e888af98f3bec6ee4": {
      "model_module": "@jupyter-widgets/controls",
      "model_module_version": "2.0.0",
      "model_name": "FloatProgressModel",
      "state": {
       "_dom_classes": [],
       "_model_module": "@jupyter-widgets/controls",
       "_model_module_version": "2.0.0",
       "_model_name": "FloatProgressModel",
       "_view_count": null,
       "_view_module": "@jupyter-widgets/controls",
       "_view_module_version": "2.0.0",
       "_view_name": "ProgressView",
       "bar_style": "success",
       "description": "",
       "description_allow_html": false,
       "layout": "IPY_MODEL_c03c1ae543e0406ea30f6d551ec47471",
       "max": 497787752.0,
       "min": 0.0,
       "orientation": "horizontal",
       "style": "IPY_MODEL_8ad29b70c28444e3bcbb1f2ca3dfad50",
       "tabbable": null,
       "tooltip": null,
       "value": 497787752.0
      }
     },
     "1ac80c78f2054a3d8d8670e0014d09c1": {
      "model_module": "@jupyter-widgets/controls",
      "model_module_version": "2.0.0",
      "model_name": "HBoxModel",
      "state": {
       "_dom_classes": [],
       "_model_module": "@jupyter-widgets/controls",
       "_model_module_version": "2.0.0",
       "_model_name": "HBoxModel",
       "_view_count": null,
       "_view_module": "@jupyter-widgets/controls",
       "_view_module_version": "2.0.0",
       "_view_name": "HBoxView",
       "box_style": "",
       "children": [
        "IPY_MODEL_316102b31a9141e28ccba37d4037f91a",
        "IPY_MODEL_c347f6f6ee3a44198e93280378872e39",
        "IPY_MODEL_6c1871a2685242358013a53b747c0490"
       ],
       "layout": "IPY_MODEL_a261b26f31654c50834ff0d43accb36d",
       "tabbable": null,
       "tooltip": null
      }
     },
     "1d88b762396a411f9c30702453b2f128": {
      "model_module": "@jupyter-widgets/base",
      "model_module_version": "2.0.0",
      "model_name": "LayoutModel",
      "state": {
       "_model_module": "@jupyter-widgets/base",
       "_model_module_version": "2.0.0",
       "_model_name": "LayoutModel",
       "_view_count": null,
       "_view_module": "@jupyter-widgets/base",
       "_view_module_version": "2.0.0",
       "_view_name": "LayoutView",
       "align_content": null,
       "align_items": null,
       "align_self": null,
       "border_bottom": null,
       "border_left": null,
       "border_right": null,
       "border_top": null,
       "bottom": null,
       "display": null,
       "flex": null,
       "flex_flow": null,
       "grid_area": null,
       "grid_auto_columns": null,
       "grid_auto_flow": null,
       "grid_auto_rows": null,
       "grid_column": null,
       "grid_gap": null,
       "grid_row": null,
       "grid_template_areas": null,
       "grid_template_columns": null,
       "grid_template_rows": null,
       "height": null,
       "justify_content": null,
       "justify_items": null,
       "left": null,
       "margin": null,
       "max_height": null,
       "max_width": null,
       "min_height": null,
       "min_width": null,
       "object_fit": null,
       "object_position": null,
       "order": null,
       "overflow": null,
       "padding": null,
       "right": null,
       "top": null,
       "visibility": null,
       "width": null
      }
     },
     "1f980680110e4ee19cbc3de9f2b915a6": {
      "model_module": "@jupyter-widgets/base",
      "model_module_version": "2.0.0",
      "model_name": "LayoutModel",
      "state": {
       "_model_module": "@jupyter-widgets/base",
       "_model_module_version": "2.0.0",
       "_model_name": "LayoutModel",
       "_view_count": null,
       "_view_module": "@jupyter-widgets/base",
       "_view_module_version": "2.0.0",
       "_view_name": "LayoutView",
       "align_content": null,
       "align_items": null,
       "align_self": null,
       "border_bottom": null,
       "border_left": null,
       "border_right": null,
       "border_top": null,
       "bottom": null,
       "display": null,
       "flex": null,
       "flex_flow": null,
       "grid_area": null,
       "grid_auto_columns": null,
       "grid_auto_flow": null,
       "grid_auto_rows": null,
       "grid_column": null,
       "grid_gap": null,
       "grid_row": null,
       "grid_template_areas": null,
       "grid_template_columns": null,
       "grid_template_rows": null,
       "height": null,
       "justify_content": null,
       "justify_items": null,
       "left": null,
       "margin": null,
       "max_height": null,
       "max_width": null,
       "min_height": null,
       "min_width": null,
       "object_fit": null,
       "object_position": null,
       "order": null,
       "overflow": null,
       "padding": null,
       "right": null,
       "top": null,
       "visibility": null,
       "width": null
      }
     },
     "1fd4972b8d98423d893d1db41d2347b2": {
      "model_module": "@jupyter-widgets/controls",
      "model_module_version": "2.0.0",
      "model_name": "HTMLStyleModel",
      "state": {
       "_model_module": "@jupyter-widgets/controls",
       "_model_module_version": "2.0.0",
       "_model_name": "HTMLStyleModel",
       "_view_count": null,
       "_view_module": "@jupyter-widgets/base",
       "_view_module_version": "2.0.0",
       "_view_name": "StyleView",
       "background": null,
       "description_width": "",
       "font_size": null,
       "text_color": null
      }
     },
     "20487f1976674c97a9392582d5205e6f": {
      "model_module": "@jupyter-widgets/controls",
      "model_module_version": "2.0.0",
      "model_name": "ProgressStyleModel",
      "state": {
       "_model_module": "@jupyter-widgets/controls",
       "_model_module_version": "2.0.0",
       "_model_name": "ProgressStyleModel",
       "_view_count": null,
       "_view_module": "@jupyter-widgets/base",
       "_view_module_version": "2.0.0",
       "_view_name": "StyleView",
       "bar_color": null,
       "description_width": ""
      }
     },
     "24232e8af1db4d789906278fc82e5811": {
      "model_module": "@jupyter-widgets/controls",
      "model_module_version": "2.0.0",
      "model_name": "HTMLStyleModel",
      "state": {
       "_model_module": "@jupyter-widgets/controls",
       "_model_module_version": "2.0.0",
       "_model_name": "HTMLStyleModel",
       "_view_count": null,
       "_view_module": "@jupyter-widgets/base",
       "_view_module_version": "2.0.0",
       "_view_name": "StyleView",
       "background": null,
       "description_width": "",
       "font_size": null,
       "text_color": null
      }
     },
     "253b170ab42a491495488b3f9bdd1138": {
      "model_module": "@jupyter-widgets/controls",
      "model_module_version": "2.0.0",
      "model_name": "FloatProgressModel",
      "state": {
       "_dom_classes": [],
       "_model_module": "@jupyter-widgets/controls",
       "_model_module_version": "2.0.0",
       "_model_name": "FloatProgressModel",
       "_view_count": null,
       "_view_module": "@jupyter-widgets/controls",
       "_view_module_version": "2.0.0",
       "_view_name": "ProgressView",
       "bar_style": "success",
       "description": "",
       "description_allow_html": false,
       "layout": "IPY_MODEL_1f980680110e4ee19cbc3de9f2b915a6",
       "max": 112.0,
       "min": 0.0,
       "orientation": "horizontal",
       "style": "IPY_MODEL_20487f1976674c97a9392582d5205e6f",
       "tabbable": null,
       "tooltip": null,
       "value": 112.0
      }
     },
     "2c00dadea068462cbfc253c199012528": {
      "model_module": "@jupyter-widgets/controls",
      "model_module_version": "2.0.0",
      "model_name": "ProgressStyleModel",
      "state": {
       "_model_module": "@jupyter-widgets/controls",
       "_model_module_version": "2.0.0",
       "_model_name": "ProgressStyleModel",
       "_view_count": null,
       "_view_module": "@jupyter-widgets/base",
       "_view_module_version": "2.0.0",
       "_view_name": "StyleView",
       "bar_color": null,
       "description_width": ""
      }
     },
     "316102b31a9141e28ccba37d4037f91a": {
      "model_module": "@jupyter-widgets/controls",
      "model_module_version": "2.0.0",
      "model_name": "HTMLModel",
      "state": {
       "_dom_classes": [],
       "_model_module": "@jupyter-widgets/controls",
       "_model_module_version": "2.0.0",
       "_model_name": "HTMLModel",
       "_view_count": null,
       "_view_module": "@jupyter-widgets/controls",
       "_view_module_version": "2.0.0",
       "_view_name": "HTMLView",
       "description": "",
       "description_allow_html": false,
       "layout": "IPY_MODEL_b0999ca9b0514e959ad7a15d05547f69",
       "placeholder": "​",
       "style": "IPY_MODEL_ea95bea597394c3d844c2940b1f3bec2",
       "tabbable": null,
       "tooltip": null,
       "value": "config.json: "
      }
     },
     "38c914e644b74ab892ec6addab3bd87a": {
      "model_module": "@jupyter-widgets/base",
      "model_module_version": "2.0.0",
      "model_name": "LayoutModel",
      "state": {
       "_model_module": "@jupyter-widgets/base",
       "_model_module_version": "2.0.0",
       "_model_name": "LayoutModel",
       "_view_count": null,
       "_view_module": "@jupyter-widgets/base",
       "_view_module_version": "2.0.0",
       "_view_name": "LayoutView",
       "align_content": null,
       "align_items": null,
       "align_self": null,
       "border_bottom": null,
       "border_left": null,
       "border_right": null,
       "border_top": null,
       "bottom": null,
       "display": null,
       "flex": null,
       "flex_flow": null,
       "grid_area": null,
       "grid_auto_columns": null,
       "grid_auto_flow": null,
       "grid_auto_rows": null,
       "grid_column": null,
       "grid_gap": null,
       "grid_row": null,
       "grid_template_areas": null,
       "grid_template_columns": null,
       "grid_template_rows": null,
       "height": null,
       "justify_content": null,
       "justify_items": null,
       "left": null,
       "margin": null,
       "max_height": null,
       "max_width": null,
       "min_height": null,
       "min_width": null,
       "object_fit": null,
       "object_position": null,
       "order": null,
       "overflow": null,
       "padding": null,
       "right": null,
       "top": null,
       "visibility": null,
       "width": null
      }
     },
     "38fdc837b904474894298372953deab5": {
      "model_module": "@jupyter-widgets/controls",
      "model_module_version": "2.0.0",
      "model_name": "HTMLStyleModel",
      "state": {
       "_model_module": "@jupyter-widgets/controls",
       "_model_module_version": "2.0.0",
       "_model_name": "HTMLStyleModel",
       "_view_count": null,
       "_view_module": "@jupyter-widgets/base",
       "_view_module_version": "2.0.0",
       "_view_name": "StyleView",
       "background": null,
       "description_width": "",
       "font_size": null,
       "text_color": null
      }
     },
     "42ea1ab43f164d3c8309dbe96f1f8558": {
      "model_module": "@jupyter-widgets/controls",
      "model_module_version": "2.0.0",
      "model_name": "HTMLModel",
      "state": {
       "_dom_classes": [],
       "_model_module": "@jupyter-widgets/controls",
       "_model_module_version": "2.0.0",
       "_model_name": "HTMLModel",
       "_view_count": null,
       "_view_module": "@jupyter-widgets/controls",
       "_view_module_version": "2.0.0",
       "_view_name": "HTMLView",
       "description": "",
       "description_allow_html": false,
       "layout": "IPY_MODEL_07124d01c6ee4b799e2f03359d0beaf4",
       "placeholder": "​",
       "style": "IPY_MODEL_4363ba286ed640e499b8cf03200afb49",
       "tabbable": null,
       "tooltip": null,
       "value": " 498M/498M [00:01&lt;00:00, 259MB/s]"
      }
     },
     "4363ba286ed640e499b8cf03200afb49": {
      "model_module": "@jupyter-widgets/controls",
      "model_module_version": "2.0.0",
      "model_name": "HTMLStyleModel",
      "state": {
       "_model_module": "@jupyter-widgets/controls",
       "_model_module_version": "2.0.0",
       "_model_name": "HTMLStyleModel",
       "_view_count": null,
       "_view_module": "@jupyter-widgets/base",
       "_view_module_version": "2.0.0",
       "_view_name": "StyleView",
       "background": null,
       "description_width": "",
       "font_size": null,
       "text_color": null
      }
     },
     "450518c76a074a47b763dd08e0914ba6": {
      "model_module": "@jupyter-widgets/controls",
      "model_module_version": "2.0.0",
      "model_name": "HBoxModel",
      "state": {
       "_dom_classes": [],
       "_model_module": "@jupyter-widgets/controls",
       "_model_module_version": "2.0.0",
       "_model_name": "HBoxModel",
       "_view_count": null,
       "_view_module": "@jupyter-widgets/controls",
       "_view_module_version": "2.0.0",
       "_view_name": "HBoxView",
       "box_style": "",
       "children": [
        "IPY_MODEL_6ba12ba856d64fd5af7bdd957985a4a5",
        "IPY_MODEL_0558ed79a2ab4dce87d05d70b6db1d28",
        "IPY_MODEL_0516aafd1a8f4490a9942cd446373afc"
       ],
       "layout": "IPY_MODEL_fa7a802e81404c2592876e77011702f8",
       "tabbable": null,
       "tooltip": null
      }
     },
     "4a872cdd18bc4fa5a3297a2c934f5347": {
      "model_module": "@jupyter-widgets/base",
      "model_module_version": "2.0.0",
      "model_name": "LayoutModel",
      "state": {
       "_model_module": "@jupyter-widgets/base",
       "_model_module_version": "2.0.0",
       "_model_name": "LayoutModel",
       "_view_count": null,
       "_view_module": "@jupyter-widgets/base",
       "_view_module_version": "2.0.0",
       "_view_name": "LayoutView",
       "align_content": null,
       "align_items": null,
       "align_self": null,
       "border_bottom": null,
       "border_left": null,
       "border_right": null,
       "border_top": null,
       "bottom": null,
       "display": null,
       "flex": null,
       "flex_flow": null,
       "grid_area": null,
       "grid_auto_columns": null,
       "grid_auto_flow": null,
       "grid_auto_rows": null,
       "grid_column": null,
       "grid_gap": null,
       "grid_row": null,
       "grid_template_areas": null,
       "grid_template_columns": null,
       "grid_template_rows": null,
       "height": null,
       "justify_content": null,
       "justify_items": null,
       "left": null,
       "margin": null,
       "max_height": null,
       "max_width": null,
       "min_height": null,
       "min_width": null,
       "object_fit": null,
       "object_position": null,
       "order": null,
       "overflow": null,
       "padding": null,
       "right": null,
       "top": null,
       "visibility": null,
       "width": null
      }
     },
     "4b814b97805a422da902aa4da9c04f4e": {
      "model_module": "@jupyter-widgets/controls",
      "model_module_version": "2.0.0",
      "model_name": "HBoxModel",
      "state": {
       "_dom_classes": [],
       "_model_module": "@jupyter-widgets/controls",
       "_model_module_version": "2.0.0",
       "_model_name": "HBoxModel",
       "_view_count": null,
       "_view_module": "@jupyter-widgets/controls",
       "_view_module_version": "2.0.0",
       "_view_name": "HBoxView",
       "box_style": "",
       "children": [
        "IPY_MODEL_edaeb9aa1bf84135ad39094307c5bc4e",
        "IPY_MODEL_163f0ef4ff3a4f1e888af98f3bec6ee4",
        "IPY_MODEL_42ea1ab43f164d3c8309dbe96f1f8558"
       ],
       "layout": "IPY_MODEL_c47e6e172f45415eab794c8c93576eb3",
       "tabbable": null,
       "tooltip": null
      }
     },
     "4d250543a71644eaa0e750c9f3d851a8": {
      "model_module": "@jupyter-widgets/controls",
      "model_module_version": "2.0.0",
      "model_name": "FloatProgressModel",
      "state": {
       "_dom_classes": [],
       "_model_module": "@jupyter-widgets/controls",
       "_model_module_version": "2.0.0",
       "_model_name": "FloatProgressModel",
       "_view_count": null,
       "_view_module": "@jupyter-widgets/controls",
       "_view_module_version": "2.0.0",
       "_view_name": "ProgressView",
       "bar_style": "success",
       "description": "",
       "description_allow_html": false,
       "layout": "IPY_MODEL_4a872cdd18bc4fa5a3297a2c934f5347",
       "max": 2.0,
       "min": 0.0,
       "orientation": "horizontal",
       "style": "IPY_MODEL_2c00dadea068462cbfc253c199012528",
       "tabbable": null,
       "tooltip": null,
       "value": 2.0
      }
     },
     "524a8394fead4f469a10bea4593ddc24": {
      "model_module": "@jupyter-widgets/controls",
      "model_module_version": "2.0.0",
      "model_name": "HTMLStyleModel",
      "state": {
       "_model_module": "@jupyter-widgets/controls",
       "_model_module_version": "2.0.0",
       "_model_name": "HTMLStyleModel",
       "_view_count": null,
       "_view_module": "@jupyter-widgets/base",
       "_view_module_version": "2.0.0",
       "_view_name": "StyleView",
       "background": null,
       "description_width": "",
       "font_size": null,
       "text_color": null
      }
     },
     "5943da2edd624643be74ce4938a50240": {
      "model_module": "@jupyter-widgets/base",
      "model_module_version": "2.0.0",
      "model_name": "LayoutModel",
      "state": {
       "_model_module": "@jupyter-widgets/base",
       "_model_module_version": "2.0.0",
       "_model_name": "LayoutModel",
       "_view_count": null,
       "_view_module": "@jupyter-widgets/base",
       "_view_module_version": "2.0.0",
       "_view_name": "LayoutView",
       "align_content": null,
       "align_items": null,
       "align_self": null,
       "border_bottom": null,
       "border_left": null,
       "border_right": null,
       "border_top": null,
       "bottom": null,
       "display": null,
       "flex": null,
       "flex_flow": null,
       "grid_area": null,
       "grid_auto_columns": null,
       "grid_auto_flow": null,
       "grid_auto_rows": null,
       "grid_column": null,
       "grid_gap": null,
       "grid_row": null,
       "grid_template_areas": null,
       "grid_template_columns": null,
       "grid_template_rows": null,
       "height": null,
       "justify_content": null,
       "justify_items": null,
       "left": null,
       "margin": null,
       "max_height": null,
       "max_width": null,
       "min_height": null,
       "min_width": null,
       "object_fit": null,
       "object_position": null,
       "order": null,
       "overflow": null,
       "padding": null,
       "right": null,
       "top": null,
       "visibility": null,
       "width": "20px"
      }
     },
     "59cffbbface547789f3182cc28ef41d8": {
      "model_module": "@jupyter-widgets/controls",
      "model_module_version": "2.0.0",
      "model_name": "HTMLStyleModel",
      "state": {
       "_model_module": "@jupyter-widgets/controls",
       "_model_module_version": "2.0.0",
       "_model_name": "HTMLStyleModel",
       "_view_count": null,
       "_view_module": "@jupyter-widgets/base",
       "_view_module_version": "2.0.0",
       "_view_name": "StyleView",
       "background": null,
       "description_width": "",
       "font_size": null,
       "text_color": null
      }
     },
     "6ba12ba856d64fd5af7bdd957985a4a5": {
      "model_module": "@jupyter-widgets/controls",
      "model_module_version": "2.0.0",
      "model_name": "HTMLModel",
      "state": {
       "_dom_classes": [],
       "_model_module": "@jupyter-widgets/controls",
       "_model_module_version": "2.0.0",
       "_model_name": "HTMLModel",
       "_view_count": null,
       "_view_module": "@jupyter-widgets/controls",
       "_view_module_version": "2.0.0",
       "_view_name": "HTMLView",
       "description": "",
       "description_allow_html": false,
       "layout": "IPY_MODEL_d95a5ca5a51f474bbc5eaf88123bf436",
       "placeholder": "​",
       "style": "IPY_MODEL_38fdc837b904474894298372953deab5",
       "tabbable": null,
       "tooltip": null,
       "value": "vocab.txt: "
      }
     },
     "6c1871a2685242358013a53b747c0490": {
      "model_module": "@jupyter-widgets/controls",
      "model_module_version": "2.0.0",
      "model_name": "HTMLModel",
      "state": {
       "_dom_classes": [],
       "_model_module": "@jupyter-widgets/controls",
       "_model_module_version": "2.0.0",
       "_model_name": "HTMLModel",
       "_view_count": null,
       "_view_module": "@jupyter-widgets/controls",
       "_view_module_version": "2.0.0",
       "_view_name": "HTMLView",
       "description": "",
       "description_allow_html": false,
       "layout": "IPY_MODEL_38c914e644b74ab892ec6addab3bd87a",
       "placeholder": "​",
       "style": "IPY_MODEL_1fd4972b8d98423d893d1db41d2347b2",
       "tabbable": null,
       "tooltip": null,
       "value": " 1.53k/? [00:00&lt;00:00, 180kB/s]"
      }
     },
     "6e291431ba7b4481a3387642e561ad80": {
      "model_module": "@jupyter-widgets/base",
      "model_module_version": "2.0.0",
      "model_name": "LayoutModel",
      "state": {
       "_model_module": "@jupyter-widgets/base",
       "_model_module_version": "2.0.0",
       "_model_name": "LayoutModel",
       "_view_count": null,
       "_view_module": "@jupyter-widgets/base",
       "_view_module_version": "2.0.0",
       "_view_name": "LayoutView",
       "align_content": null,
       "align_items": null,
       "align_self": null,
       "border_bottom": null,
       "border_left": null,
       "border_right": null,
       "border_top": null,
       "bottom": null,
       "display": null,
       "flex": null,
       "flex_flow": null,
       "grid_area": null,
       "grid_auto_columns": null,
       "grid_auto_flow": null,
       "grid_auto_rows": null,
       "grid_column": null,
       "grid_gap": null,
       "grid_row": null,
       "grid_template_areas": null,
       "grid_template_columns": null,
       "grid_template_rows": null,
       "height": null,
       "justify_content": null,
       "justify_items": null,
       "left": null,
       "margin": null,
       "max_height": null,
       "max_width": null,
       "min_height": null,
       "min_width": null,
       "object_fit": null,
       "object_position": null,
       "order": null,
       "overflow": null,
       "padding": null,
       "right": null,
       "top": null,
       "visibility": null,
       "width": null
      }
     },
     "6ff4ac5a8d354698b4506c2c167fd38e": {
      "model_module": "@jupyter-widgets/controls",
      "model_module_version": "2.0.0",
      "model_name": "HTMLStyleModel",
      "state": {
       "_model_module": "@jupyter-widgets/controls",
       "_model_module_version": "2.0.0",
       "_model_name": "HTMLStyleModel",
       "_view_count": null,
       "_view_module": "@jupyter-widgets/base",
       "_view_module_version": "2.0.0",
       "_view_name": "StyleView",
       "background": null,
       "description_width": "",
       "font_size": null,
       "text_color": null
      }
     },
     "7cdc8d20ab2c4c5bbbd9a9e5d875f2b6": {
      "model_module": "@jupyter-widgets/base",
      "model_module_version": "2.0.0",
      "model_name": "LayoutModel",
      "state": {
       "_model_module": "@jupyter-widgets/base",
       "_model_module_version": "2.0.0",
       "_model_name": "LayoutModel",
       "_view_count": null,
       "_view_module": "@jupyter-widgets/base",
       "_view_module_version": "2.0.0",
       "_view_name": "LayoutView",
       "align_content": null,
       "align_items": null,
       "align_self": null,
       "border_bottom": null,
       "border_left": null,
       "border_right": null,
       "border_top": null,
       "bottom": null,
       "display": null,
       "flex": null,
       "flex_flow": null,
       "grid_area": null,
       "grid_auto_columns": null,
       "grid_auto_flow": null,
       "grid_auto_rows": null,
       "grid_column": null,
       "grid_gap": null,
       "grid_row": null,
       "grid_template_areas": null,
       "grid_template_columns": null,
       "grid_template_rows": null,
       "height": null,
       "justify_content": null,
       "justify_items": null,
       "left": null,
       "margin": null,
       "max_height": null,
       "max_width": null,
       "min_height": null,
       "min_width": null,
       "object_fit": null,
       "object_position": null,
       "order": null,
       "overflow": null,
       "padding": null,
       "right": null,
       "top": null,
       "visibility": null,
       "width": null
      }
     },
     "80d2070978f54de997cda84f6230ef65": {
      "model_module": "@jupyter-widgets/controls",
      "model_module_version": "2.0.0",
      "model_name": "HTMLModel",
      "state": {
       "_dom_classes": [],
       "_model_module": "@jupyter-widgets/controls",
       "_model_module_version": "2.0.0",
       "_model_name": "HTMLModel",
       "_view_count": null,
       "_view_module": "@jupyter-widgets/controls",
       "_view_module_version": "2.0.0",
       "_view_name": "HTMLView",
       "description": "",
       "description_allow_html": false,
       "layout": "IPY_MODEL_aaab3df558384e4a8b9d872f20a44879",
       "placeholder": "​",
       "style": "IPY_MODEL_24232e8af1db4d789906278fc82e5811",
       "tabbable": null,
       "tooltip": null,
       "value": " 112/112 [00:00&lt;00:00, 15.1kB/s]"
      }
     },
     "8332a9bfd053492aab7cc9bf65a607f5": {
      "model_module": "@jupyter-widgets/controls",
      "model_module_version": "2.0.0",
      "model_name": "HBoxModel",
      "state": {
       "_dom_classes": [],
       "_model_module": "@jupyter-widgets/controls",
       "_model_module_version": "2.0.0",
       "_model_name": "HBoxModel",
       "_view_count": null,
       "_view_module": "@jupyter-widgets/controls",
       "_view_module_version": "2.0.0",
       "_view_name": "HBoxView",
       "box_style": "",
       "children": [
        "IPY_MODEL_af5c711691674a14bdd97513335d5ad4",
        "IPY_MODEL_253b170ab42a491495488b3f9bdd1138",
        "IPY_MODEL_80d2070978f54de997cda84f6230ef65"
       ],
       "layout": "IPY_MODEL_985dad7757e2498cb336c0e738b2417c",
       "tabbable": null,
       "tooltip": null
      }
     },
     "83f833ee39a945c4bce2850832d52f62": {
      "model_module": "@jupyter-widgets/controls",
      "model_module_version": "2.0.0",
      "model_name": "HBoxModel",
      "state": {
       "_dom_classes": [],
       "_model_module": "@jupyter-widgets/controls",
       "_model_module_version": "2.0.0",
       "_model_name": "HBoxModel",
       "_view_count": null,
       "_view_module": "@jupyter-widgets/controls",
       "_view_module_version": "2.0.0",
       "_view_name": "HBoxView",
       "box_style": "",
       "children": [
        "IPY_MODEL_f6ce462b932c44ef9d56fa65361e2161",
        "IPY_MODEL_bd9ae935f925454fb48eabcfabdd3623",
        "IPY_MODEL_8fbdbd5b54ec4919b06266152968e6c3"
       ],
       "layout": "IPY_MODEL_8afd46db62864703b3e502774b5a58f1",
       "tabbable": null,
       "tooltip": null
      }
     },
     "8ad29b70c28444e3bcbb1f2ca3dfad50": {
      "model_module": "@jupyter-widgets/controls",
      "model_module_version": "2.0.0",
      "model_name": "ProgressStyleModel",
      "state": {
       "_model_module": "@jupyter-widgets/controls",
       "_model_module_version": "2.0.0",
       "_model_name": "ProgressStyleModel",
       "_view_count": null,
       "_view_module": "@jupyter-widgets/base",
       "_view_module_version": "2.0.0",
       "_view_name": "StyleView",
       "bar_color": null,
       "description_width": ""
      }
     },
     "8afd46db62864703b3e502774b5a58f1": {
      "model_module": "@jupyter-widgets/base",
      "model_module_version": "2.0.0",
      "model_name": "LayoutModel",
      "state": {
       "_model_module": "@jupyter-widgets/base",
       "_model_module_version": "2.0.0",
       "_model_name": "LayoutModel",
       "_view_count": null,
       "_view_module": "@jupyter-widgets/base",
       "_view_module_version": "2.0.0",
       "_view_name": "LayoutView",
       "align_content": null,
       "align_items": null,
       "align_self": null,
       "border_bottom": null,
       "border_left": null,
       "border_right": null,
       "border_top": null,
       "bottom": null,
       "display": null,
       "flex": null,
       "flex_flow": null,
       "grid_area": null,
       "grid_auto_columns": null,
       "grid_auto_flow": null,
       "grid_auto_rows": null,
       "grid_column": null,
       "grid_gap": null,
       "grid_row": null,
       "grid_template_areas": null,
       "grid_template_columns": null,
       "grid_template_rows": null,
       "height": null,
       "justify_content": null,
       "justify_items": null,
       "left": null,
       "margin": null,
       "max_height": null,
       "max_width": null,
       "min_height": null,
       "min_width": null,
       "object_fit": null,
       "object_position": null,
       "order": null,
       "overflow": null,
       "padding": null,
       "right": null,
       "top": null,
       "visibility": null,
       "width": null
      }
     },
     "8ea37e5e29da4b99b23983d0ff3f2bd1": {
      "model_module": "@jupyter-widgets/controls",
      "model_module_version": "2.0.0",
      "model_name": "HTMLStyleModel",
      "state": {
       "_model_module": "@jupyter-widgets/controls",
       "_model_module_version": "2.0.0",
       "_model_name": "HTMLStyleModel",
       "_view_count": null,
       "_view_module": "@jupyter-widgets/base",
       "_view_module_version": "2.0.0",
       "_view_name": "StyleView",
       "background": null,
       "description_width": "",
       "font_size": null,
       "text_color": null
      }
     },
     "8fbdbd5b54ec4919b06266152968e6c3": {
      "model_module": "@jupyter-widgets/controls",
      "model_module_version": "2.0.0",
      "model_name": "HTMLModel",
      "state": {
       "_dom_classes": [],
       "_model_module": "@jupyter-widgets/controls",
       "_model_module_version": "2.0.0",
       "_model_name": "HTMLModel",
       "_view_count": null,
       "_view_module": "@jupyter-widgets/controls",
       "_view_module_version": "2.0.0",
       "_view_name": "HTMLView",
       "description": "",
       "description_allow_html": false,
       "layout": "IPY_MODEL_6e291431ba7b4481a3387642e561ad80",
       "placeholder": "​",
       "style": "IPY_MODEL_59cffbbface547789f3182cc28ef41d8",
       "tabbable": null,
       "tooltip": null,
       "value": " 498M/498M [00:01&lt;00:00, 282MB/s]"
      }
     },
     "9036326e63854781a8d6da4fcfc6738e": {
      "model_module": "@jupyter-widgets/controls",
      "model_module_version": "2.0.0",
      "model_name": "ProgressStyleModel",
      "state": {
       "_model_module": "@jupyter-widgets/controls",
       "_model_module_version": "2.0.0",
       "_model_name": "ProgressStyleModel",
       "_view_count": null,
       "_view_module": "@jupyter-widgets/base",
       "_view_module_version": "2.0.0",
       "_view_name": "StyleView",
       "bar_color": null,
       "description_width": ""
      }
     },
     "9633876e0e4d45d5bc17f84066751e97": {
      "model_module": "@jupyter-widgets/controls",
      "model_module_version": "2.0.0",
      "model_name": "HTMLModel",
      "state": {
       "_dom_classes": [],
       "_model_module": "@jupyter-widgets/controls",
       "_model_module_version": "2.0.0",
       "_model_name": "HTMLModel",
       "_view_count": null,
       "_view_module": "@jupyter-widgets/controls",
       "_view_module_version": "2.0.0",
       "_view_name": "HTMLView",
       "description": "",
       "description_allow_html": false,
       "layout": "IPY_MODEL_f8cd0554c9eb4ac28a4dd57e0fefe3fb",
       "placeholder": "​",
       "style": "IPY_MODEL_524a8394fead4f469a10bea4593ddc24",
       "tabbable": null,
       "tooltip": null,
       "value": "tokenizer_config.json: 100%"
      }
     },
     "985dad7757e2498cb336c0e738b2417c": {
      "model_module": "@jupyter-widgets/base",
      "model_module_version": "2.0.0",
      "model_name": "LayoutModel",
      "state": {
       "_model_module": "@jupyter-widgets/base",
       "_model_module_version": "2.0.0",
       "_model_name": "LayoutModel",
       "_view_count": null,
       "_view_module": "@jupyter-widgets/base",
       "_view_module_version": "2.0.0",
       "_view_name": "LayoutView",
       "align_content": null,
       "align_items": null,
       "align_self": null,
       "border_bottom": null,
       "border_left": null,
       "border_right": null,
       "border_top": null,
       "bottom": null,
       "display": null,
       "flex": null,
       "flex_flow": null,
       "grid_area": null,
       "grid_auto_columns": null,
       "grid_auto_flow": null,
       "grid_auto_rows": null,
       "grid_column": null,
       "grid_gap": null,
       "grid_row": null,
       "grid_template_areas": null,
       "grid_template_columns": null,
       "grid_template_rows": null,
       "height": null,
       "justify_content": null,
       "justify_items": null,
       "left": null,
       "margin": null,
       "max_height": null,
       "max_width": null,
       "min_height": null,
       "min_width": null,
       "object_fit": null,
       "object_position": null,
       "order": null,
       "overflow": null,
       "padding": null,
       "right": null,
       "top": null,
       "visibility": null,
       "width": null
      }
     },
     "a261b26f31654c50834ff0d43accb36d": {
      "model_module": "@jupyter-widgets/base",
      "model_module_version": "2.0.0",
      "model_name": "LayoutModel",
      "state": {
       "_model_module": "@jupyter-widgets/base",
       "_model_module_version": "2.0.0",
       "_model_name": "LayoutModel",
       "_view_count": null,
       "_view_module": "@jupyter-widgets/base",
       "_view_module_version": "2.0.0",
       "_view_name": "LayoutView",
       "align_content": null,
       "align_items": null,
       "align_self": null,
       "border_bottom": null,
       "border_left": null,
       "border_right": null,
       "border_top": null,
       "bottom": null,
       "display": null,
       "flex": null,
       "flex_flow": null,
       "grid_area": null,
       "grid_auto_columns": null,
       "grid_auto_flow": null,
       "grid_auto_rows": null,
       "grid_column": null,
       "grid_gap": null,
       "grid_row": null,
       "grid_template_areas": null,
       "grid_template_columns": null,
       "grid_template_rows": null,
       "height": null,
       "justify_content": null,
       "justify_items": null,
       "left": null,
       "margin": null,
       "max_height": null,
       "max_width": null,
       "min_height": null,
       "min_width": null,
       "object_fit": null,
       "object_position": null,
       "order": null,
       "overflow": null,
       "padding": null,
       "right": null,
       "top": null,
       "visibility": null,
       "width": null
      }
     },
     "aaab3df558384e4a8b9d872f20a44879": {
      "model_module": "@jupyter-widgets/base",
      "model_module_version": "2.0.0",
      "model_name": "LayoutModel",
      "state": {
       "_model_module": "@jupyter-widgets/base",
       "_model_module_version": "2.0.0",
       "_model_name": "LayoutModel",
       "_view_count": null,
       "_view_module": "@jupyter-widgets/base",
       "_view_module_version": "2.0.0",
       "_view_name": "LayoutView",
       "align_content": null,
       "align_items": null,
       "align_self": null,
       "border_bottom": null,
       "border_left": null,
       "border_right": null,
       "border_top": null,
       "bottom": null,
       "display": null,
       "flex": null,
       "flex_flow": null,
       "grid_area": null,
       "grid_auto_columns": null,
       "grid_auto_flow": null,
       "grid_auto_rows": null,
       "grid_column": null,
       "grid_gap": null,
       "grid_row": null,
       "grid_template_areas": null,
       "grid_template_columns": null,
       "grid_template_rows": null,
       "height": null,
       "justify_content": null,
       "justify_items": null,
       "left": null,
       "margin": null,
       "max_height": null,
       "max_width": null,
       "min_height": null,
       "min_width": null,
       "object_fit": null,
       "object_position": null,
       "order": null,
       "overflow": null,
       "padding": null,
       "right": null,
       "top": null,
       "visibility": null,
       "width": null
      }
     },
     "af5c711691674a14bdd97513335d5ad4": {
      "model_module": "@jupyter-widgets/controls",
      "model_module_version": "2.0.0",
      "model_name": "HTMLModel",
      "state": {
       "_dom_classes": [],
       "_model_module": "@jupyter-widgets/controls",
       "_model_module_version": "2.0.0",
       "_model_name": "HTMLModel",
       "_view_count": null,
       "_view_module": "@jupyter-widgets/controls",
       "_view_module_version": "2.0.0",
       "_view_name": "HTMLView",
       "description": "",
       "description_allow_html": false,
       "layout": "IPY_MODEL_7cdc8d20ab2c4c5bbbd9a9e5d875f2b6",
       "placeholder": "​",
       "style": "IPY_MODEL_d7dfa8ed96e840e2801262b1712b249e",
       "tabbable": null,
       "tooltip": null,
       "value": "special_tokens_map.json: 100%"
      }
     },
     "b0999ca9b0514e959ad7a15d05547f69": {
      "model_module": "@jupyter-widgets/base",
      "model_module_version": "2.0.0",
      "model_name": "LayoutModel",
      "state": {
       "_model_module": "@jupyter-widgets/base",
       "_model_module_version": "2.0.0",
       "_model_name": "LayoutModel",
       "_view_count": null,
       "_view_module": "@jupyter-widgets/base",
       "_view_module_version": "2.0.0",
       "_view_name": "LayoutView",
       "align_content": null,
       "align_items": null,
       "align_self": null,
       "border_bottom": null,
       "border_left": null,
       "border_right": null,
       "border_top": null,
       "bottom": null,
       "display": null,
       "flex": null,
       "flex_flow": null,
       "grid_area": null,
       "grid_auto_columns": null,
       "grid_auto_flow": null,
       "grid_auto_rows": null,
       "grid_column": null,
       "grid_gap": null,
       "grid_row": null,
       "grid_template_areas": null,
       "grid_template_columns": null,
       "grid_template_rows": null,
       "height": null,
       "justify_content": null,
       "justify_items": null,
       "left": null,
       "margin": null,
       "max_height": null,
       "max_width": null,
       "min_height": null,
       "min_width": null,
       "object_fit": null,
       "object_position": null,
       "order": null,
       "overflow": null,
       "padding": null,
       "right": null,
       "top": null,
       "visibility": null,
       "width": null
      }
     },
     "b2b2b9d7c8af4108b03d7298dbfbba60": {
      "model_module": "@jupyter-widgets/base",
      "model_module_version": "2.0.0",
      "model_name": "LayoutModel",
      "state": {
       "_model_module": "@jupyter-widgets/base",
       "_model_module_version": "2.0.0",
       "_model_name": "LayoutModel",
       "_view_count": null,
       "_view_module": "@jupyter-widgets/base",
       "_view_module_version": "2.0.0",
       "_view_name": "LayoutView",
       "align_content": null,
       "align_items": null,
       "align_self": null,
       "border_bottom": null,
       "border_left": null,
       "border_right": null,
       "border_top": null,
       "bottom": null,
       "display": null,
       "flex": null,
       "flex_flow": null,
       "grid_area": null,
       "grid_auto_columns": null,
       "grid_auto_flow": null,
       "grid_auto_rows": null,
       "grid_column": null,
       "grid_gap": null,
       "grid_row": null,
       "grid_template_areas": null,
       "grid_template_columns": null,
       "grid_template_rows": null,
       "height": null,
       "justify_content": null,
       "justify_items": null,
       "left": null,
       "margin": null,
       "max_height": null,
       "max_width": null,
       "min_height": null,
       "min_width": null,
       "object_fit": null,
       "object_position": null,
       "order": null,
       "overflow": null,
       "padding": null,
       "right": null,
       "top": null,
       "visibility": null,
       "width": "20px"
      }
     },
     "b55f219b7ca74680a62da38c0eacfc40": {
      "model_module": "@jupyter-widgets/controls",
      "model_module_version": "2.0.0",
      "model_name": "HBoxModel",
      "state": {
       "_dom_classes": [],
       "_model_module": "@jupyter-widgets/controls",
       "_model_module_version": "2.0.0",
       "_model_name": "HBoxModel",
       "_view_count": null,
       "_view_module": "@jupyter-widgets/controls",
       "_view_module_version": "2.0.0",
       "_view_name": "HBoxView",
       "box_style": "",
       "children": [
        "IPY_MODEL_9633876e0e4d45d5bc17f84066751e97",
        "IPY_MODEL_4d250543a71644eaa0e750c9f3d851a8",
        "IPY_MODEL_08add77d28ff4ac0a7fe64f7f55bb886"
       ],
       "layout": "IPY_MODEL_f759bcc3e93b4ad4ad84863a1774dc34",
       "tabbable": null,
       "tooltip": null
      }
     },
     "bd9ae935f925454fb48eabcfabdd3623": {
      "model_module": "@jupyter-widgets/controls",
      "model_module_version": "2.0.0",
      "model_name": "FloatProgressModel",
      "state": {
       "_dom_classes": [],
       "_model_module": "@jupyter-widgets/controls",
       "_model_module_version": "2.0.0",
       "_model_name": "FloatProgressModel",
       "_view_count": null,
       "_view_module": "@jupyter-widgets/controls",
       "_view_module_version": "2.0.0",
       "_view_name": "ProgressView",
       "bar_style": "success",
       "description": "",
       "description_allow_html": false,
       "layout": "IPY_MODEL_c9d7e9866f004e799c4991f8aaf4b584",
       "max": 497810400.0,
       "min": 0.0,
       "orientation": "horizontal",
       "style": "IPY_MODEL_9036326e63854781a8d6da4fcfc6738e",
       "tabbable": null,
       "tooltip": null,
       "value": 497810400.0
      }
     },
     "c03c1ae543e0406ea30f6d551ec47471": {
      "model_module": "@jupyter-widgets/base",
      "model_module_version": "2.0.0",
      "model_name": "LayoutModel",
      "state": {
       "_model_module": "@jupyter-widgets/base",
       "_model_module_version": "2.0.0",
       "_model_name": "LayoutModel",
       "_view_count": null,
       "_view_module": "@jupyter-widgets/base",
       "_view_module_version": "2.0.0",
       "_view_name": "LayoutView",
       "align_content": null,
       "align_items": null,
       "align_self": null,
       "border_bottom": null,
       "border_left": null,
       "border_right": null,
       "border_top": null,
       "bottom": null,
       "display": null,
       "flex": null,
       "flex_flow": null,
       "grid_area": null,
       "grid_auto_columns": null,
       "grid_auto_flow": null,
       "grid_auto_rows": null,
       "grid_column": null,
       "grid_gap": null,
       "grid_row": null,
       "grid_template_areas": null,
       "grid_template_columns": null,
       "grid_template_rows": null,
       "height": null,
       "justify_content": null,
       "justify_items": null,
       "left": null,
       "margin": null,
       "max_height": null,
       "max_width": null,
       "min_height": null,
       "min_width": null,
       "object_fit": null,
       "object_position": null,
       "order": null,
       "overflow": null,
       "padding": null,
       "right": null,
       "top": null,
       "visibility": null,
       "width": null
      }
     },
     "c347f6f6ee3a44198e93280378872e39": {
      "model_module": "@jupyter-widgets/controls",
      "model_module_version": "2.0.0",
      "model_name": "FloatProgressModel",
      "state": {
       "_dom_classes": [],
       "_model_module": "@jupyter-widgets/controls",
       "_model_module_version": "2.0.0",
       "_model_name": "FloatProgressModel",
       "_view_count": null,
       "_view_module": "@jupyter-widgets/controls",
       "_view_module_version": "2.0.0",
       "_view_name": "ProgressView",
       "bar_style": "success",
       "description": "",
       "description_allow_html": false,
       "layout": "IPY_MODEL_b2b2b9d7c8af4108b03d7298dbfbba60",
       "max": 1.0,
       "min": 0.0,
       "orientation": "horizontal",
       "style": "IPY_MODEL_ceb02faec74d4179a24b4f2500e044a3",
       "tabbable": null,
       "tooltip": null,
       "value": 1.0
      }
     },
     "c438300e347347089cea729edfe7e6e7": {
      "model_module": "@jupyter-widgets/base",
      "model_module_version": "2.0.0",
      "model_name": "LayoutModel",
      "state": {
       "_model_module": "@jupyter-widgets/base",
       "_model_module_version": "2.0.0",
       "_model_name": "LayoutModel",
       "_view_count": null,
       "_view_module": "@jupyter-widgets/base",
       "_view_module_version": "2.0.0",
       "_view_name": "LayoutView",
       "align_content": null,
       "align_items": null,
       "align_self": null,
       "border_bottom": null,
       "border_left": null,
       "border_right": null,
       "border_top": null,
       "bottom": null,
       "display": null,
       "flex": null,
       "flex_flow": null,
       "grid_area": null,
       "grid_auto_columns": null,
       "grid_auto_flow": null,
       "grid_auto_rows": null,
       "grid_column": null,
       "grid_gap": null,
       "grid_row": null,
       "grid_template_areas": null,
       "grid_template_columns": null,
       "grid_template_rows": null,
       "height": null,
       "justify_content": null,
       "justify_items": null,
       "left": null,
       "margin": null,
       "max_height": null,
       "max_width": null,
       "min_height": null,
       "min_width": null,
       "object_fit": null,
       "object_position": null,
       "order": null,
       "overflow": null,
       "padding": null,
       "right": null,
       "top": null,
       "visibility": null,
       "width": null
      }
     },
     "c47e6e172f45415eab794c8c93576eb3": {
      "model_module": "@jupyter-widgets/base",
      "model_module_version": "2.0.0",
      "model_name": "LayoutModel",
      "state": {
       "_model_module": "@jupyter-widgets/base",
       "_model_module_version": "2.0.0",
       "_model_name": "LayoutModel",
       "_view_count": null,
       "_view_module": "@jupyter-widgets/base",
       "_view_module_version": "2.0.0",
       "_view_name": "LayoutView",
       "align_content": null,
       "align_items": null,
       "align_self": null,
       "border_bottom": null,
       "border_left": null,
       "border_right": null,
       "border_top": null,
       "bottom": null,
       "display": null,
       "flex": null,
       "flex_flow": null,
       "grid_area": null,
       "grid_auto_columns": null,
       "grid_auto_flow": null,
       "grid_auto_rows": null,
       "grid_column": null,
       "grid_gap": null,
       "grid_row": null,
       "grid_template_areas": null,
       "grid_template_columns": null,
       "grid_template_rows": null,
       "height": null,
       "justify_content": null,
       "justify_items": null,
       "left": null,
       "margin": null,
       "max_height": null,
       "max_width": null,
       "min_height": null,
       "min_width": null,
       "object_fit": null,
       "object_position": null,
       "order": null,
       "overflow": null,
       "padding": null,
       "right": null,
       "top": null,
       "visibility": null,
       "width": null
      }
     },
     "c9d7e9866f004e799c4991f8aaf4b584": {
      "model_module": "@jupyter-widgets/base",
      "model_module_version": "2.0.0",
      "model_name": "LayoutModel",
      "state": {
       "_model_module": "@jupyter-widgets/base",
       "_model_module_version": "2.0.0",
       "_model_name": "LayoutModel",
       "_view_count": null,
       "_view_module": "@jupyter-widgets/base",
       "_view_module_version": "2.0.0",
       "_view_name": "LayoutView",
       "align_content": null,
       "align_items": null,
       "align_self": null,
       "border_bottom": null,
       "border_left": null,
       "border_right": null,
       "border_top": null,
       "bottom": null,
       "display": null,
       "flex": null,
       "flex_flow": null,
       "grid_area": null,
       "grid_auto_columns": null,
       "grid_auto_flow": null,
       "grid_auto_rows": null,
       "grid_column": null,
       "grid_gap": null,
       "grid_row": null,
       "grid_template_areas": null,
       "grid_template_columns": null,
       "grid_template_rows": null,
       "height": null,
       "justify_content": null,
       "justify_items": null,
       "left": null,
       "margin": null,
       "max_height": null,
       "max_width": null,
       "min_height": null,
       "min_width": null,
       "object_fit": null,
       "object_position": null,
       "order": null,
       "overflow": null,
       "padding": null,
       "right": null,
       "top": null,
       "visibility": null,
       "width": null
      }
     },
     "ceb02faec74d4179a24b4f2500e044a3": {
      "model_module": "@jupyter-widgets/controls",
      "model_module_version": "2.0.0",
      "model_name": "ProgressStyleModel",
      "state": {
       "_model_module": "@jupyter-widgets/controls",
       "_model_module_version": "2.0.0",
       "_model_name": "ProgressStyleModel",
       "_view_count": null,
       "_view_module": "@jupyter-widgets/base",
       "_view_module_version": "2.0.0",
       "_view_name": "StyleView",
       "bar_color": null,
       "description_width": ""
      }
     },
     "d7dfa8ed96e840e2801262b1712b249e": {
      "model_module": "@jupyter-widgets/controls",
      "model_module_version": "2.0.0",
      "model_name": "HTMLStyleModel",
      "state": {
       "_model_module": "@jupyter-widgets/controls",
       "_model_module_version": "2.0.0",
       "_model_name": "HTMLStyleModel",
       "_view_count": null,
       "_view_module": "@jupyter-widgets/base",
       "_view_module_version": "2.0.0",
       "_view_name": "StyleView",
       "background": null,
       "description_width": "",
       "font_size": null,
       "text_color": null
      }
     },
     "d95a5ca5a51f474bbc5eaf88123bf436": {
      "model_module": "@jupyter-widgets/base",
      "model_module_version": "2.0.0",
      "model_name": "LayoutModel",
      "state": {
       "_model_module": "@jupyter-widgets/base",
       "_model_module_version": "2.0.0",
       "_model_name": "LayoutModel",
       "_view_count": null,
       "_view_module": "@jupyter-widgets/base",
       "_view_module_version": "2.0.0",
       "_view_name": "LayoutView",
       "align_content": null,
       "align_items": null,
       "align_self": null,
       "border_bottom": null,
       "border_left": null,
       "border_right": null,
       "border_top": null,
       "bottom": null,
       "display": null,
       "flex": null,
       "flex_flow": null,
       "grid_area": null,
       "grid_auto_columns": null,
       "grid_auto_flow": null,
       "grid_auto_rows": null,
       "grid_column": null,
       "grid_gap": null,
       "grid_row": null,
       "grid_template_areas": null,
       "grid_template_columns": null,
       "grid_template_rows": null,
       "height": null,
       "justify_content": null,
       "justify_items": null,
       "left": null,
       "margin": null,
       "max_height": null,
       "max_width": null,
       "min_height": null,
       "min_width": null,
       "object_fit": null,
       "object_position": null,
       "order": null,
       "overflow": null,
       "padding": null,
       "right": null,
       "top": null,
       "visibility": null,
       "width": null
      }
     },
     "dd951012555844b08fe5d81711d23173": {
      "model_module": "@jupyter-widgets/controls",
      "model_module_version": "2.0.0",
      "model_name": "HTMLStyleModel",
      "state": {
       "_model_module": "@jupyter-widgets/controls",
       "_model_module_version": "2.0.0",
       "_model_name": "HTMLStyleModel",
       "_view_count": null,
       "_view_module": "@jupyter-widgets/base",
       "_view_module_version": "2.0.0",
       "_view_name": "StyleView",
       "background": null,
       "description_width": "",
       "font_size": null,
       "text_color": null
      }
     },
     "ea95bea597394c3d844c2940b1f3bec2": {
      "model_module": "@jupyter-widgets/controls",
      "model_module_version": "2.0.0",
      "model_name": "HTMLStyleModel",
      "state": {
       "_model_module": "@jupyter-widgets/controls",
       "_model_module_version": "2.0.0",
       "_model_name": "HTMLStyleModel",
       "_view_count": null,
       "_view_module": "@jupyter-widgets/base",
       "_view_module_version": "2.0.0",
       "_view_name": "StyleView",
       "background": null,
       "description_width": "",
       "font_size": null,
       "text_color": null
      }
     },
     "edaeb9aa1bf84135ad39094307c5bc4e": {
      "model_module": "@jupyter-widgets/controls",
      "model_module_version": "2.0.0",
      "model_name": "HTMLModel",
      "state": {
       "_dom_classes": [],
       "_model_module": "@jupyter-widgets/controls",
       "_model_module_version": "2.0.0",
       "_model_name": "HTMLModel",
       "_view_count": null,
       "_view_module": "@jupyter-widgets/controls",
       "_view_module_version": "2.0.0",
       "_view_name": "HTMLView",
       "description": "",
       "description_allow_html": false,
       "layout": "IPY_MODEL_045cca72f3244aabaa6b8f26e22cce76",
       "placeholder": "​",
       "style": "IPY_MODEL_8ea37e5e29da4b99b23983d0ff3f2bd1",
       "tabbable": null,
       "tooltip": null,
       "value": "model.safetensors: 100%"
      }
     },
     "f6ce462b932c44ef9d56fa65361e2161": {
      "model_module": "@jupyter-widgets/controls",
      "model_module_version": "2.0.0",
      "model_name": "HTMLModel",
      "state": {
       "_dom_classes": [],
       "_model_module": "@jupyter-widgets/controls",
       "_model_module_version": "2.0.0",
       "_model_name": "HTMLModel",
       "_view_count": null,
       "_view_module": "@jupyter-widgets/controls",
       "_view_module_version": "2.0.0",
       "_view_name": "HTMLView",
       "description": "",
       "description_allow_html": false,
       "layout": "IPY_MODEL_133caf5d2f154d729bcfba565d06265f",
       "placeholder": "​",
       "style": "IPY_MODEL_dd951012555844b08fe5d81711d23173",
       "tabbable": null,
       "tooltip": null,
       "value": "pytorch_model.bin: 100%"
      }
     },
     "f759bcc3e93b4ad4ad84863a1774dc34": {
      "model_module": "@jupyter-widgets/base",
      "model_module_version": "2.0.0",
      "model_name": "LayoutModel",
      "state": {
       "_model_module": "@jupyter-widgets/base",
       "_model_module_version": "2.0.0",
       "_model_name": "LayoutModel",
       "_view_count": null,
       "_view_module": "@jupyter-widgets/base",
       "_view_module_version": "2.0.0",
       "_view_name": "LayoutView",
       "align_content": null,
       "align_items": null,
       "align_self": null,
       "border_bottom": null,
       "border_left": null,
       "border_right": null,
       "border_top": null,
       "bottom": null,
       "display": null,
       "flex": null,
       "flex_flow": null,
       "grid_area": null,
       "grid_auto_columns": null,
       "grid_auto_flow": null,
       "grid_auto_rows": null,
       "grid_column": null,
       "grid_gap": null,
       "grid_row": null,
       "grid_template_areas": null,
       "grid_template_columns": null,
       "grid_template_rows": null,
       "height": null,
       "justify_content": null,
       "justify_items": null,
       "left": null,
       "margin": null,
       "max_height": null,
       "max_width": null,
       "min_height": null,
       "min_width": null,
       "object_fit": null,
       "object_position": null,
       "order": null,
       "overflow": null,
       "padding": null,
       "right": null,
       "top": null,
       "visibility": null,
       "width": null
      }
     },
     "f8cd0554c9eb4ac28a4dd57e0fefe3fb": {
      "model_module": "@jupyter-widgets/base",
      "model_module_version": "2.0.0",
      "model_name": "LayoutModel",
      "state": {
       "_model_module": "@jupyter-widgets/base",
       "_model_module_version": "2.0.0",
       "_model_name": "LayoutModel",
       "_view_count": null,
       "_view_module": "@jupyter-widgets/base",
       "_view_module_version": "2.0.0",
       "_view_name": "LayoutView",
       "align_content": null,
       "align_items": null,
       "align_self": null,
       "border_bottom": null,
       "border_left": null,
       "border_right": null,
       "border_top": null,
       "bottom": null,
       "display": null,
       "flex": null,
       "flex_flow": null,
       "grid_area": null,
       "grid_auto_columns": null,
       "grid_auto_flow": null,
       "grid_auto_rows": null,
       "grid_column": null,
       "grid_gap": null,
       "grid_row": null,
       "grid_template_areas": null,
       "grid_template_columns": null,
       "grid_template_rows": null,
       "height": null,
       "justify_content": null,
       "justify_items": null,
       "left": null,
       "margin": null,
       "max_height": null,
       "max_width": null,
       "min_height": null,
       "min_width": null,
       "object_fit": null,
       "object_position": null,
       "order": null,
       "overflow": null,
       "padding": null,
       "right": null,
       "top": null,
       "visibility": null,
       "width": null
      }
     },
     "fa7a802e81404c2592876e77011702f8": {
      "model_module": "@jupyter-widgets/base",
      "model_module_version": "2.0.0",
      "model_name": "LayoutModel",
      "state": {
       "_model_module": "@jupyter-widgets/base",
       "_model_module_version": "2.0.0",
       "_model_name": "LayoutModel",
       "_view_count": null,
       "_view_module": "@jupyter-widgets/base",
       "_view_module_version": "2.0.0",
       "_view_name": "LayoutView",
       "align_content": null,
       "align_items": null,
       "align_self": null,
       "border_bottom": null,
       "border_left": null,
       "border_right": null,
       "border_top": null,
       "bottom": null,
       "display": null,
       "flex": null,
       "flex_flow": null,
       "grid_area": null,
       "grid_auto_columns": null,
       "grid_auto_flow": null,
       "grid_auto_rows": null,
       "grid_column": null,
       "grid_gap": null,
       "grid_row": null,
       "grid_template_areas": null,
       "grid_template_columns": null,
       "grid_template_rows": null,
       "height": null,
       "justify_content": null,
       "justify_items": null,
       "left": null,
       "margin": null,
       "max_height": null,
       "max_width": null,
       "min_height": null,
       "min_width": null,
       "object_fit": null,
       "object_position": null,
       "order": null,
       "overflow": null,
       "padding": null,
       "right": null,
       "top": null,
       "visibility": null,
       "width": null
      }
     }
    },
    "version_major": 2,
    "version_minor": 0
   }
  }
 },
 "nbformat": 4,
 "nbformat_minor": 5
}
