{
 "cells": [
  {
   "cell_type": "code",
   "execution_count": 1,
   "id": "b22ac2d3",
   "metadata": {
    "_cell_guid": "b1076dfc-b9ad-4769-8c92-a6c4dae69d19",
    "_uuid": "8f2839f25d086af736a60e9eeb907d3b93b6e0e5",
    "execution": {
     "iopub.execute_input": "2025-06-26T10:49:17.504466Z",
     "iopub.status.busy": "2025-06-26T10:49:17.504014Z",
     "iopub.status.idle": "2025-06-26T10:49:19.513023Z",
     "shell.execute_reply": "2025-06-26T10:49:19.512003Z"
    },
    "papermill": {
     "duration": 2.018136,
     "end_time": "2025-06-26T10:49:19.514843",
     "exception": false,
     "start_time": "2025-06-26T10:49:17.496707",
     "status": "completed"
    },
    "tags": []
   },
   "outputs": [
    {
     "data": {
      "text/html": [
       "<div>\n",
       "<style scoped>\n",
       "    .dataframe tbody tr th:only-of-type {\n",
       "        vertical-align: middle;\n",
       "    }\n",
       "\n",
       "    .dataframe tbody tr th {\n",
       "        vertical-align: top;\n",
       "    }\n",
       "\n",
       "    .dataframe thead th {\n",
       "        text-align: right;\n",
       "    }\n",
       "</style>\n",
       "<table border=\"1\" class=\"dataframe\">\n",
       "  <thead>\n",
       "    <tr style=\"text-align: right;\">\n",
       "      <th></th>\n",
       "      <th>File Name</th>\n",
       "      <th>Extracted Text</th>\n",
       "      <th>Class</th>\n",
       "    </tr>\n",
       "  </thead>\n",
       "  <tbody>\n",
       "    <tr>\n",
       "      <th>0</th>\n",
       "      <td>ahoyamigo.com_home.png</td>\n",
       "      <td>KASKUSTOTO LOGIN KASKUSTOTO oiocom KASKUSTOTO ...</td>\n",
       "      <td>judi</td>\n",
       "    </tr>\n",
       "    <tr>\n",
       "      <th>1</th>\n",
       "      <td>asgard789.bet.png</td>\n",
       "      <td>SUCKBET kunusn   Tusluju Unajv ]acipısı aüns I...</td>\n",
       "      <td>judi</td>\n",
       "    </tr>\n",
       "    <tr>\n",
       "      <th>2</th>\n",
       "      <td>bola442.monster.png</td>\n",
       "      <td>AsF User Name Password Code 6636 LOGIN Lela442...</td>\n",
       "      <td>judi</td>\n",
       "    </tr>\n",
       "    <tr>\n",
       "      <th>3</th>\n",
       "      <td>maniac-ihokibet.com_page1.png</td>\n",
       "      <td>Download APK Live Chat Hubungı Kamı Lupa Kata ...</td>\n",
       "      <td>judi</td>\n",
       "    </tr>\n",
       "    <tr>\n",
       "      <th>4</th>\n",
       "      <td>ketohour.com_page4.png</td>\n",
       "      <td>ketohour Beranda 7 @ Q Subscribe Beranda Situs...</td>\n",
       "      <td>judi</td>\n",
       "    </tr>\n",
       "    <tr>\n",
       "      <th>...</th>\n",
       "      <td>...</td>\n",
       "      <td>...</td>\n",
       "      <td>...</td>\n",
       "    </tr>\n",
       "    <tr>\n",
       "      <th>4040</th>\n",
       "      <td>bankmandiri.co.id_home.png</td>\n",
       "      <td>Ketik untuk mencari Log In mandırı Perseoranga...</td>\n",
       "      <td>non-judi</td>\n",
       "    </tr>\n",
       "    <tr>\n",
       "      <th>4041</th>\n",
       "      <td>bengkaliskab.go.id_page3.png</td>\n",
       "      <td>JL Ahmad Yani, Bengkalis Kota Selamat datang d...</td>\n",
       "      <td>non-judi</td>\n",
       "    </tr>\n",
       "    <tr>\n",
       "      <th>4042</th>\n",
       "      <td>bsmentertainment.com_page9.png</td>\n",
       "      <td>021-22792541 CallWva 08111306600 (Jakarta) | C...</td>\n",
       "      <td>non-judi</td>\n",
       "    </tr>\n",
       "    <tr>\n",
       "      <th>4043</th>\n",
       "      <td>coinmarketcap.com_page5.png</td>\n",
       "      <td>CoinMarketCap Cryptocurrencies DexScan Exchang...</td>\n",
       "      <td>non-judi</td>\n",
       "    </tr>\n",
       "    <tr>\n",
       "      <th>4044</th>\n",
       "      <td>fibermedia.co.id_home.png</td>\n",
       "      <td>Telephone 021-7599-7997 Email : sales@fibermed...</td>\n",
       "      <td>non-judi</td>\n",
       "    </tr>\n",
       "  </tbody>\n",
       "</table>\n",
       "<p>4045 rows × 3 columns</p>\n",
       "</div>"
      ],
      "text/plain": [
       "                           File Name  \\\n",
       "0             ahoyamigo.com_home.png   \n",
       "1                  asgard789.bet.png   \n",
       "2                bola442.monster.png   \n",
       "3      maniac-ihokibet.com_page1.png   \n",
       "4             ketohour.com_page4.png   \n",
       "...                              ...   \n",
       "4040      bankmandiri.co.id_home.png   \n",
       "4041    bengkaliskab.go.id_page3.png   \n",
       "4042  bsmentertainment.com_page9.png   \n",
       "4043     coinmarketcap.com_page5.png   \n",
       "4044       fibermedia.co.id_home.png   \n",
       "\n",
       "                                         Extracted Text     Class  \n",
       "0     KASKUSTOTO LOGIN KASKUSTOTO oiocom KASKUSTOTO ...      judi  \n",
       "1     SUCKBET kunusn   Tusluju Unajv ]acipısı aüns I...      judi  \n",
       "2     AsF User Name Password Code 6636 LOGIN Lela442...      judi  \n",
       "3     Download APK Live Chat Hubungı Kamı Lupa Kata ...      judi  \n",
       "4     ketohour Beranda 7 @ Q Subscribe Beranda Situs...      judi  \n",
       "...                                                 ...       ...  \n",
       "4040  Ketik untuk mencari Log In mandırı Perseoranga...  non-judi  \n",
       "4041  JL Ahmad Yani, Bengkalis Kota Selamat datang d...  non-judi  \n",
       "4042  021-22792541 CallWva 08111306600 (Jakarta) | C...  non-judi  \n",
       "4043  CoinMarketCap Cryptocurrencies DexScan Exchang...  non-judi  \n",
       "4044  Telephone 021-7599-7997 Email : sales@fibermed...  non-judi  \n",
       "\n",
       "[4045 rows x 3 columns]"
      ]
     },
     "execution_count": 1,
     "metadata": {},
     "output_type": "execute_result"
    }
   ],
   "source": [
    "import pandas as pd\n",
    "import numpy as np\n",
    "import re\n",
    "from collections import Counter\n",
    "\n",
    "# Anggap dataset Anda sudah dimuat sebagai DataFrame\n",
    "df = pd.read_csv('/kaggle/input/easy-ocr/text_ocr_easyocr.csv')  # Uncomment dan sesuaikan ini\n",
    "df"
   ]
  },
  {
   "cell_type": "code",
   "execution_count": 2,
   "id": "b24f2f53",
   "metadata": {
    "execution": {
     "iopub.execute_input": "2025-06-26T10:49:19.524655Z",
     "iopub.status.busy": "2025-06-26T10:49:19.524345Z",
     "iopub.status.idle": "2025-06-26T10:49:19.533898Z",
     "shell.execute_reply": "2025-06-26T10:49:19.533041Z"
    },
    "papermill": {
     "duration": 0.016311,
     "end_time": "2025-06-26T10:49:19.535603",
     "exception": false,
     "start_time": "2025-06-26T10:49:19.519292",
     "status": "completed"
    },
    "tags": []
   },
   "outputs": [],
   "source": [
    "import re\n",
    "import pandas as pd\n",
    "from collections import Counter\n",
    "\n",
    "def clean_texts(texts):\n",
    "    cleaned_texts = []\n",
    "    all_words = []\n",
    "\n",
    "    # Kata 1–2 huruf penting dalam bahasa Indonesia\n",
    "    exceptions = {\"di\", \"ke\", \"ya\", \"jl\"}\n",
    "\n",
    "    # Tahap pertama: cleaning & kumpulkan semua kata\n",
    "    for text in texts:\n",
    "        if pd.isna(text):\n",
    "            text = \"\"  # Ganti NaN dengan string kosong\n",
    "\n",
    "        # ----- BASIC CLEANING -----\n",
    "        text = re.sub(r\"http\\S+\", \"\", text)  # Hapus URL\n",
    "        text = re.sub(r\"\\n\", \" \", text)  # Ganti newline dengan spasi\n",
    "        text = re.sub(r\"[^a-zA-Z']\", \" \", text)  # Hanya huruf dan apostrof\n",
    "        text = re.sub(r\"\\s{2,}\", \" \", text).strip().lower()  # Spasi & lowercase\n",
    "\n",
    "        # ----- TOKEN FILTERING: simpan >2 huruf atau exceptions -----\n",
    "        words = text.split()\n",
    "        filtered_words = [w for w in words if len(w) > 2 or w in exceptions]\n",
    "        text = ' '.join(filtered_words)\n",
    "\n",
    "        # ----- REMOVE UNWANTED PATTERNS -----\n",
    "        text = re.sub(r'\\b[aeiou]+\\b', '', text)  # Hapus kata semua vokal\n",
    "        text = re.sub(r'\\b[^aeiou\\s]+\\b', '', text)  # Hapus kata semua konsonan\n",
    "        text = re.sub(r'\\b\\w{20,}\\b', '', text)  # Hapus kata sangat panjang\n",
    "        text = re.sub(r'\\s+', ' ', text).strip()  # Spasi ekstra\n",
    "\n",
    "        cleaned_texts.append(text)\n",
    "        all_words.extend(text.split())\n",
    "\n",
    "    # Hitung frekuensi dan temukan kata yang hanya muncul 3x\n",
    "    word_counts = Counter(all_words)\n",
    "    rare_words = {word for word, count in word_counts.items() if count == 1}\n",
    "\n",
    "    # Tahap kedua: hapus kata-kata yang jarang muncul\n",
    "    final_texts = []\n",
    "    for text in cleaned_texts:\n",
    "        words = text.split()\n",
    "        cleaned_words = [word for word in words if word not in rare_words]\n",
    "        final_texts.append(\" \".join(cleaned_words))\n",
    "\n",
    "    return final_texts"
   ]
  },
  {
   "cell_type": "code",
   "execution_count": 3,
   "id": "744e77ac",
   "metadata": {
    "execution": {
     "iopub.execute_input": "2025-06-26T10:49:19.545237Z",
     "iopub.status.busy": "2025-06-26T10:49:19.544573Z",
     "iopub.status.idle": "2025-06-26T10:49:20.202874Z",
     "shell.execute_reply": "2025-06-26T10:49:20.202062Z"
    },
    "papermill": {
     "duration": 0.665027,
     "end_time": "2025-06-26T10:49:20.204723",
     "exception": false,
     "start_time": "2025-06-26T10:49:19.539696",
     "status": "completed"
    },
    "tags": []
   },
   "outputs": [
    {
     "data": {
      "text/html": [
       "<div>\n",
       "<style scoped>\n",
       "    .dataframe tbody tr th:only-of-type {\n",
       "        vertical-align: middle;\n",
       "    }\n",
       "\n",
       "    .dataframe tbody tr th {\n",
       "        vertical-align: top;\n",
       "    }\n",
       "\n",
       "    .dataframe thead th {\n",
       "        text-align: right;\n",
       "    }\n",
       "</style>\n",
       "<table border=\"1\" class=\"dataframe\">\n",
       "  <thead>\n",
       "    <tr style=\"text-align: right;\">\n",
       "      <th></th>\n",
       "      <th>File Name</th>\n",
       "      <th>Extracted Text</th>\n",
       "      <th>Class</th>\n",
       "      <th>cleaned_text</th>\n",
       "    </tr>\n",
       "  </thead>\n",
       "  <tbody>\n",
       "    <tr>\n",
       "      <th>0</th>\n",
       "      <td>ahoyamigo.com_home.png</td>\n",
       "      <td>KASKUSTOTO LOGIN KASKUSTOTO oiocom KASKUSTOTO ...</td>\n",
       "      <td>judi</td>\n",
       "      <td>kaskustoto login kaskustoto kaskustoto situs s...</td>\n",
       "    </tr>\n",
       "    <tr>\n",
       "      <th>1</th>\n",
       "      <td>asgard789.bet.png</td>\n",
       "      <td>SUCKBET kunusn   Tusluju Unajv ]acipısı aüns I...</td>\n",
       "      <td>judi</td>\n",
       "      <td></td>\n",
       "    </tr>\n",
       "    <tr>\n",
       "      <th>2</th>\n",
       "      <td>bola442.monster.png</td>\n",
       "      <td>AsF User Name Password Code 6636 LOGIN Lela442...</td>\n",
       "      <td>judi</td>\n",
       "      <td>asf user name password code login lela live ch...</td>\n",
       "    </tr>\n",
       "    <tr>\n",
       "      <th>3</th>\n",
       "      <td>maniac-ihokibet.com_page1.png</td>\n",
       "      <td>Download APK Live Chat Hubungı Kamı Lupa Kata ...</td>\n",
       "      <td>judi</td>\n",
       "      <td>download apk live chat hubung kam lupa kata sa...</td>\n",
       "    </tr>\n",
       "    <tr>\n",
       "      <th>4</th>\n",
       "      <td>ketohour.com_page4.png</td>\n",
       "      <td>ketohour Beranda 7 @ Q Subscribe Beranda Situs...</td>\n",
       "      <td>judi</td>\n",
       "      <td>ketohour beranda subscribe beranda situs togel...</td>\n",
       "    </tr>\n",
       "    <tr>\n",
       "      <th>...</th>\n",
       "      <td>...</td>\n",
       "      <td>...</td>\n",
       "      <td>...</td>\n",
       "      <td>...</td>\n",
       "    </tr>\n",
       "    <tr>\n",
       "      <th>4040</th>\n",
       "      <td>bankmandiri.co.id_home.png</td>\n",
       "      <td>Ketik untuk mencari Log In mandırı Perseoranga...</td>\n",
       "      <td>non-judi</td>\n",
       "      <td>ketik untuk mencari log mand perseorangan bisn...</td>\n",
       "    </tr>\n",
       "    <tr>\n",
       "      <th>4041</th>\n",
       "      <td>bengkaliskab.go.id_page3.png</td>\n",
       "      <td>JL Ahmad Yani, Bengkalis Kota Selamat datang d...</td>\n",
       "      <td>non-judi</td>\n",
       "      <td>ahmad yani bengkalis kota selamat datang di po...</td>\n",
       "    </tr>\n",
       "    <tr>\n",
       "      <th>4042</th>\n",
       "      <td>bsmentertainment.com_page9.png</td>\n",
       "      <td>021-22792541 CallWva 08111306600 (Jakarta) | C...</td>\n",
       "      <td>non-judi</td>\n",
       "      <td>callwva jakarta call wva bandurg office hours ...</td>\n",
       "    </tr>\n",
       "    <tr>\n",
       "      <th>4043</th>\n",
       "      <td>coinmarketcap.com_page5.png</td>\n",
       "      <td>CoinMarketCap Cryptocurrencies DexScan Exchang...</td>\n",
       "      <td>non-judi</td>\n",
       "      <td>coinmarketcap cryptocurrencies dexscan exchang...</td>\n",
       "    </tr>\n",
       "    <tr>\n",
       "      <th>4044</th>\n",
       "      <td>fibermedia.co.id_home.png</td>\n",
       "      <td>Telephone 021-7599-7997 Email : sales@fibermed...</td>\n",
       "      <td>non-judi</td>\n",
       "      <td>telephone email sales fibermedia coid opening ...</td>\n",
       "    </tr>\n",
       "  </tbody>\n",
       "</table>\n",
       "<p>4045 rows × 4 columns</p>\n",
       "</div>"
      ],
      "text/plain": [
       "                           File Name  \\\n",
       "0             ahoyamigo.com_home.png   \n",
       "1                  asgard789.bet.png   \n",
       "2                bola442.monster.png   \n",
       "3      maniac-ihokibet.com_page1.png   \n",
       "4             ketohour.com_page4.png   \n",
       "...                              ...   \n",
       "4040      bankmandiri.co.id_home.png   \n",
       "4041    bengkaliskab.go.id_page3.png   \n",
       "4042  bsmentertainment.com_page9.png   \n",
       "4043     coinmarketcap.com_page5.png   \n",
       "4044       fibermedia.co.id_home.png   \n",
       "\n",
       "                                         Extracted Text     Class  \\\n",
       "0     KASKUSTOTO LOGIN KASKUSTOTO oiocom KASKUSTOTO ...      judi   \n",
       "1     SUCKBET kunusn   Tusluju Unajv ]acipısı aüns I...      judi   \n",
       "2     AsF User Name Password Code 6636 LOGIN Lela442...      judi   \n",
       "3     Download APK Live Chat Hubungı Kamı Lupa Kata ...      judi   \n",
       "4     ketohour Beranda 7 @ Q Subscribe Beranda Situs...      judi   \n",
       "...                                                 ...       ...   \n",
       "4040  Ketik untuk mencari Log In mandırı Perseoranga...  non-judi   \n",
       "4041  JL Ahmad Yani, Bengkalis Kota Selamat datang d...  non-judi   \n",
       "4042  021-22792541 CallWva 08111306600 (Jakarta) | C...  non-judi   \n",
       "4043  CoinMarketCap Cryptocurrencies DexScan Exchang...  non-judi   \n",
       "4044  Telephone 021-7599-7997 Email : sales@fibermed...  non-judi   \n",
       "\n",
       "                                           cleaned_text  \n",
       "0     kaskustoto login kaskustoto kaskustoto situs s...  \n",
       "1                                                        \n",
       "2     asf user name password code login lela live ch...  \n",
       "3     download apk live chat hubung kam lupa kata sa...  \n",
       "4     ketohour beranda subscribe beranda situs togel...  \n",
       "...                                                 ...  \n",
       "4040  ketik untuk mencari log mand perseorangan bisn...  \n",
       "4041  ahmad yani bengkalis kota selamat datang di po...  \n",
       "4042  callwva jakarta call wva bandurg office hours ...  \n",
       "4043  coinmarketcap cryptocurrencies dexscan exchang...  \n",
       "4044  telephone email sales fibermedia coid opening ...  \n",
       "\n",
       "[4045 rows x 4 columns]"
      ]
     },
     "execution_count": 3,
     "metadata": {},
     "output_type": "execute_result"
    }
   ],
   "source": [
    "df['cleaned_text'] = clean_texts(df['Extracted Text'])\n",
    "df"
   ]
  },
  {
   "cell_type": "code",
   "execution_count": 4,
   "id": "ce480d13",
   "metadata": {
    "execution": {
     "iopub.execute_input": "2025-06-26T10:49:20.218212Z",
     "iopub.status.busy": "2025-06-26T10:49:20.217394Z",
     "iopub.status.idle": "2025-06-26T10:49:20.225267Z",
     "shell.execute_reply": "2025-06-26T10:49:20.224535Z"
    },
    "papermill": {
     "duration": 0.0152,
     "end_time": "2025-06-26T10:49:20.227265",
     "exception": false,
     "start_time": "2025-06-26T10:49:20.212065",
     "status": "completed"
    },
    "tags": []
   },
   "outputs": [
    {
     "data": {
      "text/plain": [
       "0"
      ]
     },
     "execution_count": 4,
     "metadata": {},
     "output_type": "execute_result"
    }
   ],
   "source": [
    "df['Extracted Text'].isna().sum()"
   ]
  },
  {
   "cell_type": "code",
   "execution_count": 5,
   "id": "b9330beb",
   "metadata": {
    "execution": {
     "iopub.execute_input": "2025-06-26T10:49:20.237644Z",
     "iopub.status.busy": "2025-06-26T10:49:20.237322Z",
     "iopub.status.idle": "2025-06-26T10:49:20.244544Z",
     "shell.execute_reply": "2025-06-26T10:49:20.243631Z"
    },
    "papermill": {
     "duration": 0.013954,
     "end_time": "2025-06-26T10:49:20.245924",
     "exception": false,
     "start_time": "2025-06-26T10:49:20.231970",
     "status": "completed"
    },
    "tags": []
   },
   "outputs": [
    {
     "data": {
      "text/plain": [
       "0"
      ]
     },
     "execution_count": 5,
     "metadata": {},
     "output_type": "execute_result"
    }
   ],
   "source": [
    "df['cleaned_text'].isna().sum()"
   ]
  },
  {
   "cell_type": "code",
   "execution_count": 6,
   "id": "5ba9c9c0",
   "metadata": {
    "execution": {
     "iopub.execute_input": "2025-06-26T10:49:20.255682Z",
     "iopub.status.busy": "2025-06-26T10:49:20.255422Z",
     "iopub.status.idle": "2025-06-26T10:49:20.265362Z",
     "shell.execute_reply": "2025-06-26T10:49:20.264360Z"
    },
    "papermill": {
     "duration": 0.016588,
     "end_time": "2025-06-26T10:49:20.266909",
     "exception": false,
     "start_time": "2025-06-26T10:49:20.250321",
     "status": "completed"
    },
    "tags": []
   },
   "outputs": [
    {
     "name": "stdout",
     "output_type": "stream",
     "text": [
      "Jumlah duplikat cleaned_text: 14\n",
      "Proporsi terhadap total: 0.35%\n"
     ]
    }
   ],
   "source": [
    "# Cek duplikasi berdasarkan isi cleaned_text\n",
    "duplicate_count = df.duplicated(subset=['cleaned_text']).sum()\n",
    "print(f\"Jumlah duplikat cleaned_text: {duplicate_count}\")\n",
    "print(f\"Proporsi terhadap total: {duplicate_count / len(df):.2%}\")"
   ]
  },
  {
   "cell_type": "code",
   "execution_count": 7,
   "id": "931fc522",
   "metadata": {
    "execution": {
     "iopub.execute_input": "2025-06-26T10:49:20.276833Z",
     "iopub.status.busy": "2025-06-26T10:49:20.276557Z",
     "iopub.status.idle": "2025-06-26T10:49:20.285879Z",
     "shell.execute_reply": "2025-06-26T10:49:20.284854Z"
    },
    "papermill": {
     "duration": 0.016037,
     "end_time": "2025-06-26T10:49:20.287349",
     "exception": false,
     "start_time": "2025-06-26T10:49:20.271312",
     "status": "completed"
    },
    "tags": []
   },
   "outputs": [
    {
     "name": "stdout",
     "output_type": "stream",
     "text": [
      "\n",
      "Top 5 cleaned_text paling sering muncul:\n",
      "cleaned_text\n",
      "whatsapp telegram livechat login daftar tektok daftar slot gacor di bumiosio bonus berlimpah hingga untuk new member persyaratan menit daknioet bca ovo cdano bri manin jaeeot idr ptusos                                                                                                                           3\n",
      "bisnis kecantikan keuangan otomotif pendidikan properti perum perindo teknologi lainnya manfaatkan dana pengampunan pajak untuk investasi untung besar dadan suradan pratama                                                                                                                                        2\n",
      "whatszpp ielegram lirechat daftar login beranda slot online live casino sporisbook arcade togel online poker slius palng bacor setiap saat link bzi dana ovo gopay telkomsel progresssive jackpot livechat                                                                                                          2\n",
      "injourney login register bumn untuk surney indonesia iocoresia avkotonand cuaism injourney management development program apply about injourney get know injourney                                                                                                                                                  2\n",
      "superabbit apk english live football basketball tennis others more live finished usa national basketball association toronto raptors boston celtics usa national hockey league amalie arena tampa bay lightning vancouver canucks carolina hurricanes new jersey devils washington capitals vegas golden knights    2\n",
      "Name: count, dtype: int64\n"
     ]
    }
   ],
   "source": [
    "# Jika ingin melihat teks yang paling sering muncul (termasuk duplikat)\n",
    "print(\"\\nTop 5 cleaned_text paling sering muncul:\")\n",
    "print(df['cleaned_text'].value_counts().head())"
   ]
  },
  {
   "cell_type": "code",
   "execution_count": 8,
   "id": "4a45c14d",
   "metadata": {
    "execution": {
     "iopub.execute_input": "2025-06-26T10:49:20.297502Z",
     "iopub.status.busy": "2025-06-26T10:49:20.297184Z",
     "iopub.status.idle": "2025-06-26T10:49:20.846392Z",
     "shell.execute_reply": "2025-06-26T10:49:20.845461Z"
    },
    "papermill": {
     "duration": 0.556161,
     "end_time": "2025-06-26T10:49:20.847998",
     "exception": false,
     "start_time": "2025-06-26T10:49:20.291837",
     "status": "completed"
    },
    "tags": []
   },
   "outputs": [
    {
     "data": {
      "image/png": "[encoded data removed]",
      "text/plain": [
       "<Figure size 1000x600 with 1 Axes>"
      ]
     },
     "metadata": {},
     "output_type": "display_data"
    }
   ],
   "source": [
    "import matplotlib.pyplot as plt\n",
    "\n",
    "# Hitung jumlah kata per teks\n",
    "df['text_length'] = df['cleaned_text'].apply(lambda x: len(x.split()))\n",
    "\n",
    "# Pisahkan berdasarkan label\n",
    "judi_texts = df[df['Class'] == \"judi\"]['text_length']\n",
    "non_judi_texts = df[df['Class'] == \"non-judi\"]['text_length']\n",
    "\n",
    "# Plot histogram\n",
    "plt.figure(figsize=(10, 6))\n",
    "plt.hist(non_judi_texts, bins=30, alpha=0.6, label='Non-Judi', color='green', edgecolor='black')\n",
    "plt.hist(judi_texts, bins=30, alpha=0.6, label='Judi', color='red', edgecolor='black')\n",
    "plt.title('Word Count Distribution: Judi vs Non-Judi')\n",
    "plt.xlabel('Number of Words')\n",
    "plt.ylabel('Frequency')\n",
    "plt.legend()\n",
    "plt.grid(axis='y', linestyle='--', alpha=0.7)\n",
    "plt.show()\n"
   ]
  },
  {
   "cell_type": "code",
   "execution_count": 9,
   "id": "dac388a7",
   "metadata": {
    "execution": {
     "iopub.execute_input": "2025-06-26T10:49:20.860941Z",
     "iopub.status.busy": "2025-06-26T10:49:20.860578Z",
     "iopub.status.idle": "2025-06-26T10:49:20.885539Z",
     "shell.execute_reply": "2025-06-26T10:49:20.884388Z"
    },
    "papermill": {
     "duration": 0.033187,
     "end_time": "2025-06-26T10:49:20.887198",
     "exception": false,
     "start_time": "2025-06-26T10:49:20.854011",
     "status": "completed"
    },
    "tags": []
   },
   "outputs": [
    {
     "name": "stdout",
     "output_type": "stream",
     "text": [
      "Jumlah baris dengan jumlah kata di bawah 5: 16\n"
     ]
    }
   ],
   "source": [
    "# Hitung jumlah kata per teks (kalau belum ada)\n",
    "df['text_length'] = df['cleaned_text'].apply(lambda x: len(x.split()))\n",
    "\n",
    "# Filter baris yang memiliki jumlah kata di bawah 5\n",
    "count_below_5 = df[df['text_length'] < 5].shape[0]\n",
    "\n",
    "print(f\"Jumlah baris dengan jumlah kata di bawah 5: {count_below_5}\")"
   ]
  },
  {
   "cell_type": "code",
   "execution_count": 10,
   "id": "11bee714",
   "metadata": {
    "execution": {
     "iopub.execute_input": "2025-06-26T10:49:20.899952Z",
     "iopub.status.busy": "2025-06-26T10:49:20.899601Z",
     "iopub.status.idle": "2025-06-26T10:49:20.930698Z",
     "shell.execute_reply": "2025-06-26T10:49:20.929662Z"
    },
    "papermill": {
     "duration": 0.039544,
     "end_time": "2025-06-26T10:49:20.932516",
     "exception": false,
     "start_time": "2025-06-26T10:49:20.892972",
     "status": "completed"
    },
    "tags": []
   },
   "outputs": [
    {
     "name": "stdout",
     "output_type": "stream",
     "text": [
      "Total data judi: 1950\n",
      "Total data non-judi: 2095\n"
     ]
    }
   ],
   "source": [
    "# Fungsi untuk menghitung jumlah kata dalam teks\n",
    "def count_words(text):\n",
    "    if pd.isna(text):\n",
    "        return 0\n",
    "    return len(str(text).split())\n",
    "\n",
    "# Jika nama kolom berbeda, sesuaikan kode berikut\n",
    "df['word_count'] = df['cleaned_text'].apply(count_words)\n",
    "\n",
    "# Domain-domain yang HARUS masuk ke test set\n",
    "forced_test_domains = [\n",
    "    \"game-developer-online.com.png\",\n",
    "    \"gacorgunung303.college.png\", \n",
    "    \"pointblank.id.png\",\n",
    "    \"ahadubirr.com_page1.png\",\n",
    "    \"https___id.wikipedia.org_wiki_Kasino_daring_page5.png\",\n",
    "    \"lankfordhotel.com_home.png\",\n",
    "    \"agycasino88.com_page5.png\"\n",
    "]\n",
    "\n",
    "# Pisahkan data berdasarkan kelas\n",
    "judi_data = df[df['Class'] == \"judi\"].copy()\n",
    "non_judi_data = df[df['Class'] == \"non-judi\"].copy()\n",
    "\n",
    "print(f\"Total data judi: {len(judi_data)}\")\n",
    "print(f\"Total data non-judi: {len(non_judi_data)}\")"
   ]
  },
  {
   "cell_type": "code",
   "execution_count": 11,
   "id": "bc8094be",
   "metadata": {
    "execution": {
     "iopub.execute_input": "2025-06-26T10:49:20.945167Z",
     "iopub.status.busy": "2025-06-26T10:49:20.944817Z",
     "iopub.status.idle": "2025-06-26T10:49:20.966123Z",
     "shell.execute_reply": "2025-06-26T10:49:20.965062Z"
    },
    "papermill": {
     "duration": 0.029741,
     "end_time": "2025-06-26T10:49:20.967889",
     "exception": false,
     "start_time": "2025-06-26T10:49:20.938148",
     "status": "completed"
    },
    "tags": []
   },
   "outputs": [
    {
     "name": "stdout",
     "output_type": "stream",
     "text": [
      "\n",
      "Data dengan domain yang dipaksa masuk test: 7\n",
      "Domain yang ditemukan:\n",
      "  - game-developer-online.com.png: 1 baris\n",
      "  - gacorgunung303.college.png: 1 baris\n",
      "  - pointblank.id.png: 1 baris\n",
      "  - ahadubirr.com_page1.png: 1 baris\n",
      "  - https___id.wikipedia.org_wiki_Kasino_daring_page5.png: 1 baris\n",
      "  - lankfordhotel.com_home.png: 1 baris\n",
      "  - agycasino88.com_page5.png: 1 baris\n",
      "\n",
      "Forced test data:\n",
      "  - Judi: 5 baris\n",
      "  - Non-judi: 2 baris\n"
     ]
    }
   ],
   "source": [
    "# LANGKAH 1: Identifikasi data dengan domain yang harus masuk test\n",
    "forced_test_mask = df['File Name'].isin(forced_test_domains)\n",
    "forced_test_data = df[forced_test_mask].copy()\n",
    "\n",
    "print(f\"\\nData dengan domain yang dipaksa masuk test: {len(forced_test_data)}\")\n",
    "print(\"Domain yang ditemukan:\")\n",
    "for domain in forced_test_domains:\n",
    "    count = len(df[df['File Name'] == domain])\n",
    "    if count > 0:\n",
    "        print(f\"  - {domain}: {count} baris\")\n",
    "    else:\n",
    "        print(f\"  - {domain}: TIDAK DITEMUKAN\")\n",
    "\n",
    "# Pisahkan forced test data berdasarkan kelas\n",
    "forced_judi_test = forced_test_data[forced_test_data['Class'] == \"judi\"]\n",
    "forced_non_judi_test = forced_test_data[forced_test_data['Class'] == \"non-judi\"]\n",
    "\n",
    "print(f\"\\nForced test data:\")\n",
    "print(f\"  - Judi: {len(forced_judi_test)} baris\")\n",
    "print(f\"  - Non-judi: {len(forced_non_judi_test)} baris\")"
   ]
  },
  {
   "cell_type": "code",
   "execution_count": 12,
   "id": "076263e8",
   "metadata": {
    "execution": {
     "iopub.execute_input": "2025-06-26T10:49:20.980474Z",
     "iopub.status.busy": "2025-06-26T10:49:20.980110Z",
     "iopub.status.idle": "2025-06-26T10:49:21.005007Z",
     "shell.execute_reply": "2025-06-26T10:49:21.003969Z"
    },
    "papermill": {
     "duration": 0.033167,
     "end_time": "2025-06-26T10:49:21.006791",
     "exception": false,
     "start_time": "2025-06-26T10:49:20.973624",
     "status": "completed"
    },
    "tags": []
   },
   "outputs": [
    {
     "name": "stdout",
     "output_type": "stream",
     "text": [
      "\n",
      "Data eligible untuk random test sampling (setelah dikurangi forced domains):\n",
      "  - Judi: 1924 baris\n",
      "  - Non-judi: 2085 baris\n"
     ]
    }
   ],
   "source": [
    "# LANGKAH 2: Filter data yang eligible untuk test set (KECUALI yang sudah dipaksa)\n",
    "remaining_judi = judi_data[~judi_data['File Name'].isin(forced_test_domains)]\n",
    "remaining_non_judi = non_judi_data[~non_judi_data['File Name'].isin(forced_test_domains)]\n",
    "\n",
    "judi_eligible = (\n",
    "    remaining_judi.dropna()\n",
    "    .query('word_count >= 5')\n",
    "    .drop_duplicates(subset='cleaned_text')\n",
    "    .copy()\n",
    ")\n",
    "\n",
    "non_judi_eligible = (\n",
    "    remaining_non_judi.dropna()\n",
    "    .query('word_count >= 5')\n",
    "    .drop_duplicates(subset='cleaned_text')\n",
    "    .copy()\n",
    ")\n",
    "\n",
    "print(f\"\\nData eligible untuk random test sampling (setelah dikurangi forced domains):\")\n",
    "print(f\"  - Judi: {len(judi_eligible)} baris\")\n",
    "print(f\"  - Non-judi: {len(non_judi_eligible)} baris\")"
   ]
  },
  {
   "cell_type": "code",
   "execution_count": 13,
   "id": "235718f3",
   "metadata": {
    "execution": {
     "iopub.execute_input": "2025-06-26T10:49:21.020572Z",
     "iopub.status.busy": "2025-06-26T10:49:21.020176Z",
     "iopub.status.idle": "2025-06-26T10:49:21.026465Z",
     "shell.execute_reply": "2025-06-26T10:49:21.025315Z"
    },
    "papermill": {
     "duration": 0.015254,
     "end_time": "2025-06-26T10:49:21.028021",
     "exception": false,
     "start_time": "2025-06-26T10:49:21.012767",
     "status": "completed"
    },
    "tags": []
   },
   "outputs": [
    {
     "name": "stdout",
     "output_type": "stream",
     "text": [
      "\n",
      "Tambahan yang dibutuhkan untuk mencapai target 350:\n",
      "  - Judi: 345 baris\n",
      "  - Non-judi: 348 baris\n"
     ]
    }
   ],
   "source": [
    "# LANGKAH 3: Hitung berapa banyak tambahan yang dibutuhkan untuk mencapai target 350 per kelas\n",
    "target_per_class = 350\n",
    "judi_needed = max(0, target_per_class - len(forced_judi_test))\n",
    "non_judi_needed = max(0, target_per_class - len(forced_non_judi_test))\n",
    "\n",
    "print(f\"\\nTambahan yang dibutuhkan untuk mencapai target 350:\")\n",
    "print(f\"  - Judi: {judi_needed} baris\")\n",
    "print(f\"  - Non-judi: {non_judi_needed} baris\")"
   ]
  },
  {
   "cell_type": "code",
   "execution_count": 14,
   "id": "e44ac085",
   "metadata": {
    "execution": {
     "iopub.execute_input": "2025-06-26T10:49:21.042118Z",
     "iopub.status.busy": "2025-06-26T10:49:21.040961Z",
     "iopub.status.idle": "2025-06-26T10:49:21.050745Z",
     "shell.execute_reply": "2025-06-26T10:49:21.049807Z"
    },
    "papermill": {
     "duration": 0.01856,
     "end_time": "2025-06-26T10:49:21.052426",
     "exception": false,
     "start_time": "2025-06-26T10:49:21.033866",
     "status": "completed"
    },
    "tags": []
   },
   "outputs": [],
   "source": [
    "# LANGKAH 4: Ambil sampel acak untuk melengkapi test set\n",
    "if len(judi_eligible) < judi_needed:\n",
    "    print(f\"PERINGATAN: Data judi eligible ({len(judi_eligible)}) kurang dari yang dibutuhkan ({judi_needed})!\")\n",
    "    judi_additional_count = len(judi_eligible)\n",
    "else:\n",
    "    judi_additional_count = judi_needed\n",
    "\n",
    "if len(non_judi_eligible) < non_judi_needed:\n",
    "    print(f\"PERINGATAN: Data non-judi eligible ({len(non_judi_eligible)}) kurang dari yang dibutuhkan ({non_judi_needed})!\")\n",
    "    non_judi_additional_count = len(non_judi_eligible)\n",
    "else:\n",
    "    non_judi_additional_count = non_judi_needed\n",
    "\n",
    "# Ambil sampel acak tambahan\n",
    "if judi_additional_count > 0:\n",
    "    judi_additional_test = judi_eligible.sample(judi_additional_count, random_state=42)\n",
    "else:\n",
    "    judi_additional_test = pd.DataFrame()\n",
    "\n",
    "if non_judi_additional_count > 0:\n",
    "    non_judi_additional_test = non_judi_eligible.sample(non_judi_additional_count, random_state=42)\n",
    "else:\n",
    "    non_judi_additional_test = pd.DataFrame()"
   ]
  },
  {
   "cell_type": "code",
   "execution_count": 15,
   "id": "1d1a2d3b",
   "metadata": {
    "execution": {
     "iopub.execute_input": "2025-06-26T10:49:21.065692Z",
     "iopub.status.busy": "2025-06-26T10:49:21.065319Z",
     "iopub.status.idle": "2025-06-26T10:49:21.079666Z",
     "shell.execute_reply": "2025-06-26T10:49:21.078576Z"
    },
    "papermill": {
     "duration": 0.022944,
     "end_time": "2025-06-26T10:49:21.081364",
     "exception": false,
     "start_time": "2025-06-26T10:49:21.058420",
     "status": "completed"
    },
    "tags": []
   },
   "outputs": [
    {
     "name": "stdout",
     "output_type": "stream",
     "text": [
      "\n",
      "==================================================\n",
      "STATISTIK HASIL PEMISAHAN DATA:\n",
      "==================================================\n",
      "Data train: 3345 baris\n",
      "  - Judi: 1600 baris\n",
      "  - Non-judi: 1745 baris\n",
      "Data test: 700 baris\n",
      "  - Judi: 350 baris (termasuk 5 forced)\n",
      "  - Non-judi: 350 baris (termasuk 2 forced)\n"
     ]
    }
   ],
   "source": [
    "# LANGKAH 5: Gabungkan forced test + additional test\n",
    "judi_test = pd.concat([forced_judi_test, judi_additional_test])\n",
    "non_judi_test = pd.concat([forced_non_judi_test, non_judi_additional_test])\n",
    "\n",
    "# Ambil ID dari data test\n",
    "judi_test_ids = set(judi_test.index)\n",
    "non_judi_test_ids = set(non_judi_test.index)\n",
    "\n",
    "# LANGKAH 6: Buat data train (semua data dikurangi data test)\n",
    "judi_train = judi_data[~judi_data.index.isin(judi_test_ids)]\n",
    "non_judi_train = non_judi_data[~non_judi_data.index.isin(non_judi_test_ids)]\n",
    "\n",
    "# Gabungkan data test dan train\n",
    "test_set = pd.concat([judi_test, non_judi_test])\n",
    "train_set = pd.concat([judi_train, non_judi_train])\n",
    "\n",
    "print(\"\\n\" + \"=\"*50)\n",
    "print(\"STATISTIK HASIL PEMISAHAN DATA:\")\n",
    "print(\"=\"*50)\n",
    "print(f\"Data train: {len(train_set)} baris\")\n",
    "print(f\"  - Judi: {len(judi_train)} baris\")\n",
    "print(f\"  - Non-judi: {len(non_judi_train)} baris\")\n",
    "print(f\"Data test: {len(test_set)} baris\")\n",
    "print(f\"  - Judi: {len(judi_test)} baris (termasuk {len(forced_judi_test)} forced)\")\n",
    "print(f\"  - Non-judi: {len(non_judi_test)} baris (termasuk {len(forced_non_judi_test)} forced)\")"
   ]
  },
  {
   "cell_type": "code",
   "execution_count": 16,
   "id": "755d9e18",
   "metadata": {
    "execution": {
     "iopub.execute_input": "2025-06-26T10:49:21.095018Z",
     "iopub.status.busy": "2025-06-26T10:49:21.094608Z",
     "iopub.status.idle": "2025-06-26T10:49:21.196569Z",
     "shell.execute_reply": "2025-06-26T10:49:21.195280Z"
    },
    "papermill": {
     "duration": 0.110986,
     "end_time": "2025-06-26T10:49:21.198358",
     "exception": false,
     "start_time": "2025-06-26T10:49:21.087372",
     "status": "completed"
    },
    "tags": []
   },
   "outputs": [
    {
     "name": "stdout",
     "output_type": "stream",
     "text": [
      "\n",
      "Verifikasi domain forced di test set:\n",
      "  ✓ game-developer-online.com.png: 1 baris di test set\n",
      "  ✓ gacorgunung303.college.png: 1 baris di test set\n",
      "  ✓ pointblank.id.png: 1 baris di test set\n",
      "  ✓ ahadubirr.com_page1.png: 1 baris di test set\n",
      "  ✓ https___id.wikipedia.org_wiki_Kasino_daring_page5.png: 1 baris di test set\n",
      "  ✓ lankfordhotel.com_home.png: 1 baris di test set\n",
      "  ✓ agycasino88.com_page5.png: 1 baris di test set\n",
      "\n",
      "File berhasil disimpan:\n",
      "  - train_data.csv: 3345 baris\n",
      "  - test_data.csv: 700 baris\n"
     ]
    }
   ],
   "source": [
    "# Verifikasi domain yang dipaksa ada di test set\n",
    "print(f\"\\nVerifikasi domain forced di test set:\")\n",
    "for domain in forced_test_domains:\n",
    "    count_in_test = len(test_set[test_set['File Name'] == domain])\n",
    "    if count_in_test > 0:\n",
    "        print(f\"  ✓ {domain}: {count_in_test} baris di test set\")\n",
    "    else:\n",
    "        print(f\"  ✗ {domain}: TIDAK ADA di test set\")\n",
    "\n",
    "# Pilih hanya kolom yang ingin disimpan\n",
    "selected_columns = ['File Name', 'Extracted Text', 'Class']\n",
    "\n",
    "# Simpan hasil pemisahan dengan kolom yang dipilih\n",
    "train_set[selected_columns].to_csv('train_data.csv', index=False)\n",
    "test_set[selected_columns].to_csv('test_data.csv', index=False)\n",
    "\n",
    "print(f\"\\nFile berhasil disimpan:\")\n",
    "print(f\"  - train_data.csv: {len(train_set)} baris\")\n",
    "print(f\"  - test_data.csv: {len(test_set)} baris\")"
   ]
  },
  {
   "cell_type": "code",
   "execution_count": 17,
   "id": "8447d818",
   "metadata": {
    "execution": {
     "iopub.execute_input": "2025-06-26T10:49:21.211725Z",
     "iopub.status.busy": "2025-06-26T10:49:21.211341Z",
     "iopub.status.idle": "2025-06-26T10:49:21.299897Z",
     "shell.execute_reply": "2025-06-26T10:49:21.298588Z"
    },
    "papermill": {
     "duration": 0.09783,
     "end_time": "2025-06-26T10:49:21.302202",
     "exception": false,
     "start_time": "2025-06-26T10:49:21.204372",
     "status": "completed"
    },
    "tags": []
   },
   "outputs": [],
   "source": [
    "# === Simpan ke CSV ===\n",
    "selected_columns = ['File Name', 'Extracted Text', 'Class']\n",
    "train_set[selected_columns].to_csv('train_data.csv', index=False)\n",
    "test_set[selected_columns].to_csv('test_data.csv', index=False)"
   ]
  }
 ],
 "metadata": {
  "kaggle": {
   "accelerator": "none",
   "dataSources": [
    {
     "sourceId": 247462423,
     "sourceType": "kernelVersion"
    }
   ],
   "isGpuEnabled": false,
   "isInternetEnabled": true,
   "language": "python",
   "sourceType": "notebook"
  },
  "kernelspec": {
   "display_name": "Python 3",
   "language": "python",
   "name": "python3"
  },
  "language_info": {
   "codemirror_mode": {
    "name": "ipython",
    "version": 3
   },
   "file_extension": ".py",
   "mimetype": "text/x-python",
   "name": "python",
   "nbconvert_exporter": "python",
   "pygments_lexer": "ipython3",
   "version": "3.11.11"
  },
  "papermill": {
   "default_parameters": {},
   "duration": 9.235667,
   "end_time": "2025-06-26T10:49:21.930044",
   "environment_variables": {},
   "exception": null,
   "input_path": "__notebook__.ipynb",
   "output_path": "__notebook__.ipynb",
   "parameters": {},
   "start_time": "2025-06-26T10:49:12.694377",
   "version": "2.6.0"
  }
 },
 "nbformat": 4,
 "nbformat_minor": 5
}
