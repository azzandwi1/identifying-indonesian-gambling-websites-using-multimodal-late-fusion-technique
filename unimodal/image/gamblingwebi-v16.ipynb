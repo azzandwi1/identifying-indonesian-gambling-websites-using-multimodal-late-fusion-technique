{
 "cells": [
  {
   "cell_type": "code",
   "execution_count": 1,
   "id": "92787fe5",
   "metadata": {
    "_cell_guid": "b1076dfc-b9ad-4769-8c92-a6c4dae69d19",
    "_uuid": "8f2839f25d086af736a60e9eeb907d3b93b6e0e5",
    "execution": {
     "iopub.execute_input": "2025-08-03T04:19:37.489884Z",
     "iopub.status.busy": "2025-08-03T04:19:37.489678Z",
     "iopub.status.idle": "2025-08-03T04:19:48.975093Z",
     "shell.execute_reply": "2025-08-03T04:19:48.974319Z"
    },
    "papermill": {
     "duration": 11.493007,
     "end_time": "2025-08-03T04:19:48.976624",
     "exception": false,
     "start_time": "2025-08-03T04:19:37.483617",
     "status": "completed"
    },
    "tags": []
   },
   "outputs": [],
   "source": [
    "import os\n",
    "import numpy as np\n",
    "import pandas as pd\n",
    "import random\n",
    "import copy\n",
    "\n",
    "from sklearn.model_selection import train_test_split\n",
    "from sklearn.utils import shuffle\n",
    "\n",
    "import torch\n",
    "import torch.nn as nn\n",
    "from torch.utils.data import Dataset, DataLoader\n",
    "import torch.optim as optim\n",
    "\n",
    "from PIL import Image\n",
    "import torchvision.models as models\n",
    "import torchvision.transforms as transforms\n",
    "\n",
    "from sklearn.metrics import accuracy_score, precision_score, recall_score, f1_score, classification_report\n",
    "from tqdm import tqdm\n",
    "import matplotlib.pyplot as plt\n",
    "import warnings\n",
    "warnings.filterwarnings(\"ignore\")"
   ]
  },
  {
   "cell_type": "code",
   "execution_count": 2,
   "id": "9c1a7d8f",
   "metadata": {
    "execution": {
     "iopub.execute_input": "2025-08-03T04:19:48.986692Z",
     "iopub.status.busy": "2025-08-03T04:19:48.986363Z",
     "iopub.status.idle": "2025-08-03T04:19:49.037812Z",
     "shell.execute_reply": "2025-08-03T04:19:49.037098Z"
    },
    "papermill": {
     "duration": 0.057563,
     "end_time": "2025-08-03T04:19:49.038995",
     "exception": false,
     "start_time": "2025-08-03T04:19:48.981432",
     "status": "completed"
    },
    "tags": []
   },
   "outputs": [],
   "source": [
    "device = torch.device(\"cuda\" if torch.cuda.is_available() else \"cpu\")"
   ]
  },
  {
   "cell_type": "code",
   "execution_count": 3,
   "id": "fa1f6e73",
   "metadata": {
    "execution": {
     "iopub.execute_input": "2025-08-03T04:19:49.048413Z",
     "iopub.status.busy": "2025-08-03T04:19:49.048170Z",
     "iopub.status.idle": "2025-08-03T04:19:49.065923Z",
     "shell.execute_reply": "2025-08-03T04:19:49.065222Z"
    },
    "papermill": {
     "duration": 0.02359,
     "end_time": "2025-08-03T04:19:49.067012",
     "exception": false,
     "start_time": "2025-08-03T04:19:49.043422",
     "status": "completed"
    },
    "tags": []
   },
   "outputs": [],
   "source": [
    "seed = 0\n",
    "def seed_everything(seed):\n",
    "    os.environ[\"PYTHONHASHSEED\"] = str(seed)\n",
    "    random.seed(seed)\n",
    "    np.random.seed(seed)\n",
    "    torch.manual_seed(seed)\n",
    "    torch.cuda.manual_seed(seed)\n",
    "    torch.cuda.manual_seed_all(seed)\n",
    "    torch.backends.cudnn.deterministic = True\n",
    "    torch.backends.cudnn.benchmark = False\n",
    "\n",
    "seed_everything(seed)"
   ]
  },
  {
   "cell_type": "code",
   "execution_count": 4,
   "id": "41717617",
   "metadata": {
    "execution": {
     "iopub.execute_input": "2025-08-03T04:19:49.076150Z",
     "iopub.status.busy": "2025-08-03T04:19:49.075953Z",
     "iopub.status.idle": "2025-08-03T04:19:49.079570Z",
     "shell.execute_reply": "2025-08-03T04:19:49.079021Z"
    },
    "papermill": {
     "duration": 0.009342,
     "end_time": "2025-08-03T04:19:49.080569",
     "exception": false,
     "start_time": "2025-08-03T04:19:49.071227",
     "status": "completed"
    },
    "tags": []
   },
   "outputs": [],
   "source": [
    "# Generator untuk DataLoader\n",
    "g = torch.Generator()\n",
    "g.manual_seed(seed)\n",
    "\n",
    "def seed_worker(worker_id):\n",
    "    \"\"\"Fungsi untuk memastikan setiap worker memiliki seed yang sama\"\"\"\n",
    "    worker_seed = torch.initial_seed() % 2**32\n",
    "    np.random.seed(worker_seed)\n",
    "    random.seed(worker_seed)"
   ]
  },
  {
   "cell_type": "code",
   "execution_count": 5,
   "id": "aef99880",
   "metadata": {
    "execution": {
     "iopub.execute_input": "2025-08-03T04:19:49.089733Z",
     "iopub.status.busy": "2025-08-03T04:19:49.089132Z",
     "iopub.status.idle": "2025-08-03T04:19:49.092418Z",
     "shell.execute_reply": "2025-08-03T04:19:49.091808Z"
    },
    "papermill": {
     "duration": 0.008815,
     "end_time": "2025-08-03T04:19:49.093450",
     "exception": false,
     "start_time": "2025-08-03T04:19:49.084635",
     "status": "completed"
    },
    "tags": []
   },
   "outputs": [],
   "source": [
    "images_path_judi = \"/kaggle/input/gamblingdet-id/situsjudiid-full/judi\"\n",
    "images_path_non_judi = \"/kaggle/input/gamblingdet-id/situsjudiid-full/non-judi\"\n",
    "\n",
    "train_csv_path = '/kaggle/input/train-test/train_data.csv'\n",
    "test_csv_path = '/kaggle/input/train-test/test_data.csv'"
   ]
  },
  {
   "cell_type": "code",
   "execution_count": 6,
   "id": "be03ab8b",
   "metadata": {
    "execution": {
     "iopub.execute_input": "2025-08-03T04:19:49.102118Z",
     "iopub.status.busy": "2025-08-03T04:19:49.101943Z",
     "iopub.status.idle": "2025-08-03T04:19:49.204186Z",
     "shell.execute_reply": "2025-08-03T04:19:49.203464Z"
    },
    "papermill": {
     "duration": 0.107829,
     "end_time": "2025-08-03T04:19:49.205326",
     "exception": false,
     "start_time": "2025-08-03T04:19:49.097497",
     "status": "completed"
    },
    "tags": []
   },
   "outputs": [
    {
     "data": {
      "text/html": [
       "<div>\n",
       "<style scoped>\n",
       "    .dataframe tbody tr th:only-of-type {\n",
       "        vertical-align: middle;\n",
       "    }\n",
       "\n",
       "    .dataframe tbody tr th {\n",
       "        vertical-align: top;\n",
       "    }\n",
       "\n",
       "    .dataframe thead th {\n",
       "        text-align: right;\n",
       "    }\n",
       "</style>\n",
       "<table border=\"1\" class=\"dataframe\">\n",
       "  <thead>\n",
       "    <tr style=\"text-align: right;\">\n",
       "      <th></th>\n",
       "      <th>File Name</th>\n",
       "      <th>Extracted Text</th>\n",
       "      <th>Class</th>\n",
       "    </tr>\n",
       "  </thead>\n",
       "  <tbody>\n",
       "    <tr>\n",
       "      <th>0</th>\n",
       "      <td>ahoyamigo.com_home.png</td>\n",
       "      <td>KASKUSTOTO LOGIN KASKUSTOTO oiocom KASKUSTOTO ...</td>\n",
       "      <td>judi</td>\n",
       "    </tr>\n",
       "    <tr>\n",
       "      <th>1</th>\n",
       "      <td>asgard789.bet.png</td>\n",
       "      <td>SUCKBET kunusn   Tusluju Unajv ]acipısı aüns I...</td>\n",
       "      <td>judi</td>\n",
       "    </tr>\n",
       "    <tr>\n",
       "      <th>2</th>\n",
       "      <td>bola442.monster.png</td>\n",
       "      <td>AsF User Name Password Code 6636 LOGIN Lela442...</td>\n",
       "      <td>judi</td>\n",
       "    </tr>\n",
       "    <tr>\n",
       "      <th>3</th>\n",
       "      <td>maniac-ihokibet.com_page1.png</td>\n",
       "      <td>Download APK Live Chat Hubungı Kamı Lupa Kata ...</td>\n",
       "      <td>judi</td>\n",
       "    </tr>\n",
       "    <tr>\n",
       "      <th>4</th>\n",
       "      <td>ketohour.com_page4.png</td>\n",
       "      <td>ketohour Beranda 7 @ Q Subscribe Beranda Situs...</td>\n",
       "      <td>judi</td>\n",
       "    </tr>\n",
       "    <tr>\n",
       "      <th>...</th>\n",
       "      <td>...</td>\n",
       "      <td>...</td>\n",
       "      <td>...</td>\n",
       "    </tr>\n",
       "    <tr>\n",
       "      <th>3340</th>\n",
       "      <td>bankmandiri.co.id_home.png</td>\n",
       "      <td>Ketik untuk mencari Log In mandırı Perseoranga...</td>\n",
       "      <td>non-judi</td>\n",
       "    </tr>\n",
       "    <tr>\n",
       "      <th>3341</th>\n",
       "      <td>bengkaliskab.go.id_page3.png</td>\n",
       "      <td>JL Ahmad Yani, Bengkalis Kota Selamat datang d...</td>\n",
       "      <td>non-judi</td>\n",
       "    </tr>\n",
       "    <tr>\n",
       "      <th>3342</th>\n",
       "      <td>bsmentertainment.com_page9.png</td>\n",
       "      <td>021-22792541 CallWva 08111306600 (Jakarta) | C...</td>\n",
       "      <td>non-judi</td>\n",
       "    </tr>\n",
       "    <tr>\n",
       "      <th>3343</th>\n",
       "      <td>coinmarketcap.com_page5.png</td>\n",
       "      <td>CoinMarketCap Cryptocurrencies DexScan Exchang...</td>\n",
       "      <td>non-judi</td>\n",
       "    </tr>\n",
       "    <tr>\n",
       "      <th>3344</th>\n",
       "      <td>fibermedia.co.id_home.png</td>\n",
       "      <td>Telephone 021-7599-7997 Email : sales@fibermed...</td>\n",
       "      <td>non-judi</td>\n",
       "    </tr>\n",
       "  </tbody>\n",
       "</table>\n",
       "<p>3345 rows × 3 columns</p>\n",
       "</div>"
      ],
      "text/plain": [
       "                           File Name  \\\n",
       "0             ahoyamigo.com_home.png   \n",
       "1                  asgard789.bet.png   \n",
       "2                bola442.monster.png   \n",
       "3      maniac-ihokibet.com_page1.png   \n",
       "4             ketohour.com_page4.png   \n",
       "...                              ...   \n",
       "3340      bankmandiri.co.id_home.png   \n",
       "3341    bengkaliskab.go.id_page3.png   \n",
       "3342  bsmentertainment.com_page9.png   \n",
       "3343     coinmarketcap.com_page5.png   \n",
       "3344       fibermedia.co.id_home.png   \n",
       "\n",
       "                                         Extracted Text     Class  \n",
       "0     KASKUSTOTO LOGIN KASKUSTOTO oiocom KASKUSTOTO ...      judi  \n",
       "1     SUCKBET kunusn   Tusluju Unajv ]acipısı aüns I...      judi  \n",
       "2     AsF User Name Password Code 6636 LOGIN Lela442...      judi  \n",
       "3     Download APK Live Chat Hubungı Kamı Lupa Kata ...      judi  \n",
       "4     ketohour Beranda 7 @ Q Subscribe Beranda Situs...      judi  \n",
       "...                                                 ...       ...  \n",
       "3340  Ketik untuk mencari Log In mandırı Perseoranga...  non-judi  \n",
       "3341  JL Ahmad Yani, Bengkalis Kota Selamat datang d...  non-judi  \n",
       "3342  021-22792541 CallWva 08111306600 (Jakarta) | C...  non-judi  \n",
       "3343  CoinMarketCap Cryptocurrencies DexScan Exchang...  non-judi  \n",
       "3344  Telephone 021-7599-7997 Email : sales@fibermed...  non-judi  \n",
       "\n",
       "[3345 rows x 3 columns]"
      ]
     },
     "execution_count": 6,
     "metadata": {},
     "output_type": "execute_result"
    }
   ],
   "source": [
    "# Load data\n",
    "train_df = pd.read_csv(train_csv_path)\n",
    "test_df = pd.read_csv(test_csv_path)\n",
    "train_df"
   ]
  },
  {
   "cell_type": "code",
   "execution_count": 7,
   "id": "cc6a07c4",
   "metadata": {
    "execution": {
     "iopub.execute_input": "2025-08-03T04:19:49.215065Z",
     "iopub.status.busy": "2025-08-03T04:19:49.214874Z",
     "iopub.status.idle": "2025-08-03T04:19:49.221209Z",
     "shell.execute_reply": "2025-08-03T04:19:49.220498Z"
    },
    "papermill": {
     "duration": 0.012447,
     "end_time": "2025-08-03T04:19:49.222402",
     "exception": false,
     "start_time": "2025-08-03T04:19:49.209955",
     "status": "completed"
    },
    "tags": []
   },
   "outputs": [
    {
     "name": "stdout",
     "output_type": "stream",
     "text": [
      "Missing values in Train:\n",
      " File Name         0\n",
      "Extracted Text    0\n",
      "Class             0\n",
      "dtype: int64\n"
     ]
    }
   ],
   "source": [
    "# Drop missing values\n",
    "print('Missing values in Train:\\n', train_df.isna().sum())\n",
    "train_df = train_df.dropna()"
   ]
  },
  {
   "cell_type": "code",
   "execution_count": 8,
   "id": "6f39fd67",
   "metadata": {
    "execution": {
     "iopub.execute_input": "2025-08-03T04:19:49.232098Z",
     "iopub.status.busy": "2025-08-03T04:19:49.231705Z",
     "iopub.status.idle": "2025-08-03T04:19:49.236843Z",
     "shell.execute_reply": "2025-08-03T04:19:49.236312Z"
    },
    "papermill": {
     "duration": 0.01093,
     "end_time": "2025-08-03T04:19:49.237795",
     "exception": false,
     "start_time": "2025-08-03T04:19:49.226865",
     "status": "completed"
    },
    "tags": []
   },
   "outputs": [],
   "source": [
    "import re\n",
    "\n",
    "def clean_texts(texts):\n",
    "    cleaned_texts = []\n",
    "\n",
    "    # Kata 1–2 huruf yang penting dan tidak boleh dihapus\n",
    "    exceptions = {\"di\", \"ke\", \"ya\", \"jl\"}\n",
    "\n",
    "    for text in texts:\n",
    "        # ----- BASIC CLEANING -----\n",
    "        text = re.sub(r\"http\\S+\", \"\", text)                    # Hapus URL\n",
    "        text = re.sub(r\"\\n\", \" \", text)                        # Ganti newline dengan spasi\n",
    "        text = re.sub(r\"[^a-zA-Z]\", \" \", text)             # Sisakan huruf, angka, apostrof\n",
    "        text = re.sub(r\"\\s{2,}\", \" \", text).strip().lower()    # Hapus spasi ganda & ke lowercase\n",
    "\n",
    "        # ----- FILTERING -----\n",
    "        words = text.split()\n",
    "        filtered_words = [\n",
    "            w for w in words\n",
    "            if (len(w) > 2 or w in exceptions)\n",
    "            and not re.fullmatch(r\"[aeiou]{3,}\", w)            # Hindari vokal berulang (\"aaa\")\n",
    "            and not re.fullmatch(r\"[bcdfghjklmnpqrstvwxyz]{3,}\", w)  # Hindari konsonan berulang (\"kkk\")\n",
    "            and len(w) <= 20                                   # Batasi kata terlalu panjang\n",
    "        ]\n",
    "\n",
    "        cleaned_texts.append(\" \".join(filtered_words))\n",
    "\n",
    "    return cleaned_texts"
   ]
  },
  {
   "cell_type": "code",
   "execution_count": 9,
   "id": "ca51e818",
   "metadata": {
    "execution": {
     "iopub.execute_input": "2025-08-03T04:19:49.247833Z",
     "iopub.status.busy": "2025-08-03T04:19:49.247662Z",
     "iopub.status.idle": "2025-08-03T04:19:49.760147Z",
     "shell.execute_reply": "2025-08-03T04:19:49.759581Z"
    },
    "papermill": {
     "duration": 0.519182,
     "end_time": "2025-08-03T04:19:49.761509",
     "exception": false,
     "start_time": "2025-08-03T04:19:49.242327",
     "status": "completed"
    },
    "tags": []
   },
   "outputs": [],
   "source": [
    "train_df['cleaned_text'] = clean_texts(train_df['Extracted Text'])\n",
    "test_df['cleaned_text'] = clean_texts(test_df['Extracted Text'])"
   ]
  },
  {
   "cell_type": "code",
   "execution_count": 10,
   "id": "6abcb69d",
   "metadata": {
    "execution": {
     "iopub.execute_input": "2025-08-03T04:19:49.771266Z",
     "iopub.status.busy": "2025-08-03T04:19:49.771070Z",
     "iopub.status.idle": "2025-08-03T04:19:49.795121Z",
     "shell.execute_reply": "2025-08-03T04:19:49.794569Z"
    },
    "papermill": {
     "duration": 0.030035,
     "end_time": "2025-08-03T04:19:49.796179",
     "exception": false,
     "start_time": "2025-08-03T04:19:49.766144",
     "status": "completed"
    },
    "tags": []
   },
   "outputs": [
    {
     "data": {
      "text/html": [
       "<div>\n",
       "<style scoped>\n",
       "    .dataframe tbody tr th:only-of-type {\n",
       "        vertical-align: middle;\n",
       "    }\n",
       "\n",
       "    .dataframe tbody tr th {\n",
       "        vertical-align: top;\n",
       "    }\n",
       "\n",
       "    .dataframe thead th {\n",
       "        text-align: right;\n",
       "    }\n",
       "</style>\n",
       "<table border=\"1\" class=\"dataframe\">\n",
       "  <thead>\n",
       "    <tr style=\"text-align: right;\">\n",
       "      <th></th>\n",
       "      <th>File Name</th>\n",
       "      <th>Extracted Text</th>\n",
       "      <th>Class</th>\n",
       "      <th>cleaned_text</th>\n",
       "    </tr>\n",
       "  </thead>\n",
       "  <tbody>\n",
       "    <tr>\n",
       "      <th>0</th>\n",
       "      <td>ahoyamigo.com_home.png</td>\n",
       "      <td>KASKUSTOTO LOGIN KASKUSTOTO oiocom KASKUSTOTO ...</td>\n",
       "      <td>judi</td>\n",
       "      <td>kaskustoto login kaskustoto oiocom kaskustoto ...</td>\n",
       "    </tr>\n",
       "    <tr>\n",
       "      <th>1</th>\n",
       "      <td>asgard789.bet.png</td>\n",
       "      <td>SUCKBET kunusn   Tusluju Unajv ]acipısı aüns I...</td>\n",
       "      <td>judi</td>\n",
       "      <td>suckbet kunusn tusluju unajv acip augn</td>\n",
       "    </tr>\n",
       "    <tr>\n",
       "      <th>2</th>\n",
       "      <td>bola442.monster.png</td>\n",
       "      <td>AsF User Name Password Code 6636 LOGIN Lela442...</td>\n",
       "      <td>judi</td>\n",
       "      <td>asf user name password code login lela live ch...</td>\n",
       "    </tr>\n",
       "    <tr>\n",
       "      <th>3</th>\n",
       "      <td>maniac-ihokibet.com_page1.png</td>\n",
       "      <td>Download APK Live Chat Hubungı Kamı Lupa Kata ...</td>\n",
       "      <td>judi</td>\n",
       "      <td>download apk live chat hubung kam lupa kata sa...</td>\n",
       "    </tr>\n",
       "    <tr>\n",
       "      <th>4</th>\n",
       "      <td>ketohour.com_page4.png</td>\n",
       "      <td>ketohour Beranda 7 @ Q Subscribe Beranda Situs...</td>\n",
       "      <td>judi</td>\n",
       "      <td>ketohour beranda subscribe beranda situs togel...</td>\n",
       "    </tr>\n",
       "    <tr>\n",
       "      <th>...</th>\n",
       "      <td>...</td>\n",
       "      <td>...</td>\n",
       "      <td>...</td>\n",
       "      <td>...</td>\n",
       "    </tr>\n",
       "    <tr>\n",
       "      <th>3340</th>\n",
       "      <td>bankmandiri.co.id_home.png</td>\n",
       "      <td>Ketik untuk mencari Log In mandırı Perseoranga...</td>\n",
       "      <td>non-judi</td>\n",
       "      <td>ketik untuk mencari log mand perseorangan bisn...</td>\n",
       "    </tr>\n",
       "    <tr>\n",
       "      <th>3341</th>\n",
       "      <td>bengkaliskab.go.id_page3.png</td>\n",
       "      <td>JL Ahmad Yani, Bengkalis Kota Selamat datang d...</td>\n",
       "      <td>non-judi</td>\n",
       "      <td>jl ahmad yani bengkalis kota selamat datang di...</td>\n",
       "    </tr>\n",
       "    <tr>\n",
       "      <th>3342</th>\n",
       "      <td>bsmentertainment.com_page9.png</td>\n",
       "      <td>021-22792541 CallWva 08111306600 (Jakarta) | C...</td>\n",
       "      <td>non-judi</td>\n",
       "      <td>callwva jakarta call wva bandurg office hours ...</td>\n",
       "    </tr>\n",
       "    <tr>\n",
       "      <th>3343</th>\n",
       "      <td>coinmarketcap.com_page5.png</td>\n",
       "      <td>CoinMarketCap Cryptocurrencies DexScan Exchang...</td>\n",
       "      <td>non-judi</td>\n",
       "      <td>coinmarketcap cryptocurrencies dexscan exchang...</td>\n",
       "    </tr>\n",
       "    <tr>\n",
       "      <th>3344</th>\n",
       "      <td>fibermedia.co.id_home.png</td>\n",
       "      <td>Telephone 021-7599-7997 Email : sales@fibermed...</td>\n",
       "      <td>non-judi</td>\n",
       "      <td>telephone email sales fibermedia coid opening ...</td>\n",
       "    </tr>\n",
       "  </tbody>\n",
       "</table>\n",
       "<p>3343 rows × 4 columns</p>\n",
       "</div>"
      ],
      "text/plain": [
       "                           File Name  \\\n",
       "0             ahoyamigo.com_home.png   \n",
       "1                  asgard789.bet.png   \n",
       "2                bola442.monster.png   \n",
       "3      maniac-ihokibet.com_page1.png   \n",
       "4             ketohour.com_page4.png   \n",
       "...                              ...   \n",
       "3340      bankmandiri.co.id_home.png   \n",
       "3341    bengkaliskab.go.id_page3.png   \n",
       "3342  bsmentertainment.com_page9.png   \n",
       "3343     coinmarketcap.com_page5.png   \n",
       "3344       fibermedia.co.id_home.png   \n",
       "\n",
       "                                         Extracted Text     Class  \\\n",
       "0     KASKUSTOTO LOGIN KASKUSTOTO oiocom KASKUSTOTO ...      judi   \n",
       "1     SUCKBET kunusn   Tusluju Unajv ]acipısı aüns I...      judi   \n",
       "2     AsF User Name Password Code 6636 LOGIN Lela442...      judi   \n",
       "3     Download APK Live Chat Hubungı Kamı Lupa Kata ...      judi   \n",
       "4     ketohour Beranda 7 @ Q Subscribe Beranda Situs...      judi   \n",
       "...                                                 ...       ...   \n",
       "3340  Ketik untuk mencari Log In mandırı Perseoranga...  non-judi   \n",
       "3341  JL Ahmad Yani, Bengkalis Kota Selamat datang d...  non-judi   \n",
       "3342  021-22792541 CallWva 08111306600 (Jakarta) | C...  non-judi   \n",
       "3343  CoinMarketCap Cryptocurrencies DexScan Exchang...  non-judi   \n",
       "3344  Telephone 021-7599-7997 Email : sales@fibermed...  non-judi   \n",
       "\n",
       "                                           cleaned_text  \n",
       "0     kaskustoto login kaskustoto oiocom kaskustoto ...  \n",
       "1                suckbet kunusn tusluju unajv acip augn  \n",
       "2     asf user name password code login lela live ch...  \n",
       "3     download apk live chat hubung kam lupa kata sa...  \n",
       "4     ketohour beranda subscribe beranda situs togel...  \n",
       "...                                                 ...  \n",
       "3340  ketik untuk mencari log mand perseorangan bisn...  \n",
       "3341  jl ahmad yani bengkalis kota selamat datang di...  \n",
       "3342  callwva jakarta call wva bandurg office hours ...  \n",
       "3343  coinmarketcap cryptocurrencies dexscan exchang...  \n",
       "3344  telephone email sales fibermedia coid opening ...  \n",
       "\n",
       "[3343 rows x 4 columns]"
      ]
     },
     "execution_count": 10,
     "metadata": {},
     "output_type": "execute_result"
    }
   ],
   "source": [
    "# Drop rows with less than 5 words\n",
    "train_df = train_df[train_df['cleaned_text'].apply(lambda x: len(str(x).split()) >= 5)]\n",
    "test_df = test_df[test_df['cleaned_text'].apply(lambda x: len(str(x).split()) >= 5)]\n",
    "train_df"
   ]
  },
  {
   "cell_type": "code",
   "execution_count": 11,
   "id": "81a0c439",
   "metadata": {
    "execution": {
     "iopub.execute_input": "2025-08-03T04:19:49.806458Z",
     "iopub.status.busy": "2025-08-03T04:19:49.805979Z",
     "iopub.status.idle": "2025-08-03T04:19:49.817012Z",
     "shell.execute_reply": "2025-08-03T04:19:49.816253Z"
    },
    "papermill": {
     "duration": 0.017399,
     "end_time": "2025-08-03T04:19:49.818346",
     "exception": false,
     "start_time": "2025-08-03T04:19:49.800947",
     "status": "completed"
    },
    "tags": []
   },
   "outputs": [
    {
     "name": "stdout",
     "output_type": "stream",
     "text": [
      "Duplikasi di train: 8\n",
      "Duplikasi di test : 0\n",
      "Setelah dihapus:\n",
      "Train: 3335 baris\n",
      "Test : 700 baris\n"
     ]
    }
   ],
   "source": [
    "# Cek jumlah duplikasi sebelum dihapus\n",
    "print(\"Duplikasi di train:\", train_df.duplicated(subset='cleaned_text').sum())\n",
    "print(\"Duplikasi di test :\", test_df.duplicated(subset='cleaned_text').sum())\n",
    "\n",
    "# Hapus duplikasi berdasarkan cleaned_text\n",
    "train_df = train_df.drop_duplicates(subset='cleaned_text').reset_index(drop=True)\n",
    "test_df = test_df.drop_duplicates(subset='cleaned_text').reset_index(drop=True)\n",
    "\n",
    "# Cek ulang setelah pembersihan\n",
    "print(\"Setelah dihapus:\")\n",
    "print(\"Train:\", len(train_df), \"baris\")\n",
    "print(\"Test :\", len(test_df), \"baris\")"
   ]
  },
  {
   "cell_type": "code",
   "execution_count": 12,
   "id": "b9f193a2",
   "metadata": {
    "execution": {
     "iopub.execute_input": "2025-08-03T04:19:49.828109Z",
     "iopub.status.busy": "2025-08-03T04:19:49.827903Z",
     "iopub.status.idle": "2025-08-03T04:19:49.833771Z",
     "shell.execute_reply": "2025-08-03T04:19:49.833133Z"
    },
    "papermill": {
     "duration": 0.011855,
     "end_time": "2025-08-03T04:19:49.834723",
     "exception": false,
     "start_time": "2025-08-03T04:19:49.822868",
     "status": "completed"
    },
    "tags": []
   },
   "outputs": [
    {
     "name": "stdout",
     "output_type": "stream",
     "text": [
      "Distribusi label di Train set:\n",
      "Class\n",
      "non-judi    1740\n",
      "judi        1595\n",
      "Name: count, dtype: int64 \n",
      "\n",
      "Distribusi label di Test set:\n",
      "Class\n",
      "judi        350\n",
      "non-judi    350\n",
      "Name: count, dtype: int64\n"
     ]
    }
   ],
   "source": [
    "# Print jumlah per kelas\n",
    "print(\"Distribusi label di Train set:\")\n",
    "print(train_df['Class'].value_counts(), '\\n')\n",
    "\n",
    "print(\"Distribusi label di Test set:\")\n",
    "print(test_df['Class'].value_counts())"
   ]
  },
  {
   "cell_type": "code",
   "execution_count": 13,
   "id": "2f484f47",
   "metadata": {
    "execution": {
     "iopub.execute_input": "2025-08-03T04:19:49.844615Z",
     "iopub.status.busy": "2025-08-03T04:19:49.844410Z",
     "iopub.status.idle": "2025-08-03T04:19:49.852712Z",
     "shell.execute_reply": "2025-08-03T04:19:49.852125Z"
    },
    "papermill": {
     "duration": 0.014411,
     "end_time": "2025-08-03T04:19:49.853642",
     "exception": false,
     "start_time": "2025-08-03T04:19:49.839231",
     "status": "completed"
    },
    "tags": []
   },
   "outputs": [
    {
     "name": "stdout",
     "output_type": "stream",
     "text": [
      "Distribusi label setelah undersampling:\n",
      "Class\n",
      "judi        1595\n",
      "non-judi    1595\n",
      "Name: count, dtype: int64\n"
     ]
    }
   ],
   "source": [
    "from sklearn.utils import resample\n",
    "\n",
    "# Pisahkan data berdasarkan kelas\n",
    "train_judi = train_df[train_df['Class'] == 'judi']\n",
    "train_nonjudi = train_df[train_df['Class'] == 'non-judi']\n",
    "\n",
    "# Undersampling kelas mayoritas (non-judi) agar jumlahnya sama dengan kelas judi\n",
    "train_nonjudi_undersampled = resample(train_nonjudi,\n",
    "                                      replace=False,      # tanpa duplikasi\n",
    "                                      n_samples=len(train_judi),  # samakan jumlahnya dengan kelas minoritas\n",
    "                                      random_state=seed)    # untuk replikasi hasil\n",
    "\n",
    "# Gabungkan kembali data yang sudah diundersample\n",
    "train_df_balanced = pd.concat([train_judi, train_nonjudi_undersampled])\n",
    "\n",
    "# Cek distribusi baru\n",
    "print(\"Distribusi label setelah undersampling:\")\n",
    "print(train_df_balanced['Class'].value_counts())"
   ]
  },
  {
   "cell_type": "code",
   "execution_count": 14,
   "id": "00a4f8e9",
   "metadata": {
    "execution": {
     "iopub.execute_input": "2025-08-03T04:19:49.863637Z",
     "iopub.status.busy": "2025-08-03T04:19:49.863462Z",
     "iopub.status.idle": "2025-08-03T04:19:49.871259Z",
     "shell.execute_reply": "2025-08-03T04:19:49.870760Z"
    },
    "papermill": {
     "duration": 0.013902,
     "end_time": "2025-08-03T04:19:49.872377",
     "exception": false,
     "start_time": "2025-08-03T04:19:49.858475",
     "status": "completed"
    },
    "tags": []
   },
   "outputs": [],
   "source": [
    "label_map = {\n",
    "    \"non-judi\": 0,\n",
    "    \"judi\": 1\n",
    "}\n",
    "\n",
    "train_df_balanced['label'] = train_df_balanced['Class'].map(label_map)\n",
    "test_df['label'] = test_df['Class'].map(label_map)\n",
    "\n",
    "train_df_balanced['image'] = train_df_balanced['File Name']\n",
    "test_df['image'] = test_df['File Name']"
   ]
  },
  {
   "cell_type": "code",
   "execution_count": 15,
   "id": "2e61436b",
   "metadata": {
    "execution": {
     "iopub.execute_input": "2025-08-03T04:19:49.882239Z",
     "iopub.status.busy": "2025-08-03T04:19:49.882032Z",
     "iopub.status.idle": "2025-08-03T04:19:49.890003Z",
     "shell.execute_reply": "2025-08-03T04:19:49.889343Z"
    },
    "papermill": {
     "duration": 0.014069,
     "end_time": "2025-08-03T04:19:49.891082",
     "exception": false,
     "start_time": "2025-08-03T04:19:49.877013",
     "status": "completed"
    },
    "tags": []
   },
   "outputs": [
    {
     "name": "stdout",
     "output_type": "stream",
     "text": [
      "Jumlah data train: 2552\n",
      "Jumlah data valid: 638\n",
      "Jumlah data test: 700\n"
     ]
    }
   ],
   "source": [
    "traindf, validdf = train_test_split(\n",
    "    train_df_balanced, test_size=0.2, stratify=train_df_balanced['label'], random_state=seed\n",
    ")\n",
    "\n",
    "print(f\"Jumlah data train: {len(traindf)}\")\n",
    "print(f\"Jumlah data valid: {len(validdf)}\")\n",
    "print(f\"Jumlah data test: {len(test_df)}\")"
   ]
  },
  {
   "cell_type": "code",
   "execution_count": 16,
   "id": "4abb2f1f",
   "metadata": {
    "execution": {
     "iopub.execute_input": "2025-08-03T04:19:49.901065Z",
     "iopub.status.busy": "2025-08-03T04:19:49.900873Z",
     "iopub.status.idle": "2025-08-03T04:19:49.909813Z",
     "shell.execute_reply": "2025-08-03T04:19:49.909106Z"
    },
    "papermill": {
     "duration": 0.015233,
     "end_time": "2025-08-03T04:19:49.910985",
     "exception": false,
     "start_time": "2025-08-03T04:19:49.895752",
     "status": "completed"
    },
    "tags": []
   },
   "outputs": [
    {
     "name": "stdout",
     "output_type": "stream",
     "text": [
      "Distribusi label di Train set:\n",
      "label\n",
      "1    1276\n",
      "0    1276\n",
      "Name: count, dtype: int64 \n",
      "\n",
      "Distribusi label di Validation set:\n",
      "label\n",
      "0    319\n",
      "1    319\n",
      "Name: count, dtype: int64 \n",
      "\n",
      "Distribusi label di Test set:\n",
      "label\n",
      "1    350\n",
      "0    350\n",
      "Name: count, dtype: int64\n"
     ]
    }
   ],
   "source": [
    "# Print jumlah per kelas\n",
    "print(\"Distribusi label di Train set:\")\n",
    "print(traindf['label'].value_counts(), '\\n')\n",
    "\n",
    "print(\"Distribusi label di Validation set:\")\n",
    "print(validdf['label'].value_counts(), '\\n')\n",
    "\n",
    "print(\"Distribusi label di Test set:\")\n",
    "print(test_df['label'].value_counts())"
   ]
  },
  {
   "cell_type": "code",
   "execution_count": 17,
   "id": "9a73ab2c",
   "metadata": {
    "execution": {
     "iopub.execute_input": "2025-08-03T04:19:49.921045Z",
     "iopub.status.busy": "2025-08-03T04:19:49.920853Z",
     "iopub.status.idle": "2025-08-03T04:19:49.925527Z",
     "shell.execute_reply": "2025-08-03T04:19:49.924840Z"
    },
    "papermill": {
     "duration": 0.010928,
     "end_time": "2025-08-03T04:19:49.926593",
     "exception": false,
     "start_time": "2025-08-03T04:19:49.915665",
     "status": "completed"
    },
    "tags": []
   },
   "outputs": [],
   "source": [
    "from torchvision import transforms\n",
    "from torchvision.transforms import functional as F\n",
    "from PIL import Image\n",
    "\n",
    "class ResizePadToSquare:\n",
    "    def __init__(self, target_size=300):\n",
    "        self.target_size = target_size\n",
    "\n",
    "    def __call__(self, img):\n",
    "        img = img.convert(\"RGB\")\n",
    "        # Resize dengan thumbnail: jaga rasio, resize sisi terpanjang ke target\n",
    "        img.thumbnail((self.target_size, self.target_size), Image.BILINEAR)\n",
    "        # Padding agar menjadi square\n",
    "        delta_w = self.target_size - img.size[0]\n",
    "        delta_h = self.target_size - img.size[1]\n",
    "        padding = (delta_w // 2, delta_h // 2, delta_w - delta_w // 2, delta_h - delta_h // 2)\n",
    "        img = F.pad(img, padding, fill=0, padding_mode='constant')\n",
    "        return img\n"
   ]
  },
  {
   "cell_type": "code",
   "execution_count": 18,
   "id": "defe7d25",
   "metadata": {
    "execution": {
     "iopub.execute_input": "2025-08-03T04:19:49.936804Z",
     "iopub.status.busy": "2025-08-03T04:19:49.936610Z",
     "iopub.status.idle": "2025-08-03T04:19:49.940908Z",
     "shell.execute_reply": "2025-08-03T04:19:49.940240Z"
    },
    "papermill": {
     "duration": 0.010798,
     "end_time": "2025-08-03T04:19:49.942076",
     "exception": false,
     "start_time": "2025-08-03T04:19:49.931278",
     "status": "completed"
    },
    "tags": []
   },
   "outputs": [],
   "source": [
    "transform_train = transforms.Compose([\n",
    "    ResizePadToSquare(300),\n",
    "    transforms.RandomHorizontalFlip(),\n",
    "    transforms.ColorJitter(brightness=0.2, contrast=0.2, saturation=0.2, hue=0.1),\n",
    "    transforms.ToTensor(),\n",
    "    transforms.Normalize(mean=[0.485, 0.456, 0.406],\n",
    "                         std=[0.229, 0.224, 0.225]),\n",
    "])\n",
    "\n",
    "transform_test = transforms.Compose([\n",
    "    ResizePadToSquare(300),\n",
    "    transforms.ToTensor(),\n",
    "    transforms.Normalize(mean=[0.485, 0.456, 0.406],\n",
    "                         std=[0.229, 0.224, 0.225]),\n",
    "])"
   ]
  },
  {
   "cell_type": "code",
   "execution_count": 19,
   "id": "89d90525",
   "metadata": {
    "execution": {
     "iopub.execute_input": "2025-08-03T04:19:49.951994Z",
     "iopub.status.busy": "2025-08-03T04:19:49.951801Z",
     "iopub.status.idle": "2025-08-03T04:19:50.165742Z",
     "shell.execute_reply": "2025-08-03T04:19:50.164996Z"
    },
    "papermill": {
     "duration": 0.22116,
     "end_time": "2025-08-03T04:19:50.167830",
     "exception": false,
     "start_time": "2025-08-03T04:19:49.946670",
     "status": "completed"
    },
    "tags": []
   },
   "outputs": [
    {
     "data": {
      "image/png": "[encoded data removed]",
      "text/plain": [
       "<Figure size 640x480 with 1 Axes>"
      ]
     },
     "metadata": {},
     "output_type": "display_data"
    }
   ],
   "source": [
    "# Ganti path ke gambar\n",
    "img_path = \"/kaggle/input/gamblingdet-id/situsjudiid-full/judi/016-good.pro.png\"\n",
    "img = Image.open(img_path)\n",
    "\n",
    "# Transform dan lihat hasil\n",
    "transformed_img = transform_test.transforms[0](img)  # ambil sebelum ToTensor\n",
    "plt.imshow(transformed_img)\n",
    "plt.title(\"Hasil Resize + Padding\")\n",
    "plt.axis('off')\n",
    "plt.show()"
   ]
  },
  {
   "cell_type": "code",
   "execution_count": 20,
   "id": "7bbc326f",
   "metadata": {
    "execution": {
     "iopub.execute_input": "2025-08-03T04:19:50.181261Z",
     "iopub.status.busy": "2025-08-03T04:19:50.181075Z",
     "iopub.status.idle": "2025-08-03T04:19:50.186382Z",
     "shell.execute_reply": "2025-08-03T04:19:50.185825Z"
    },
    "papermill": {
     "duration": 0.012886,
     "end_time": "2025-08-03T04:19:50.187432",
     "exception": false,
     "start_time": "2025-08-03T04:19:50.174546",
     "status": "completed"
    },
    "tags": []
   },
   "outputs": [],
   "source": [
    "class CustomDataset(Dataset):\n",
    "    def __init__(self, dataframe, images_path_judi, images_path_non_judi, transforms=None):\n",
    "        self.dataframe = dataframe.reset_index(drop=True)\n",
    "        self.images_path_judi = images_path_judi\n",
    "        self.images_path_non_judi = images_path_non_judi\n",
    "        self.transforms = transforms\n",
    "    \n",
    "    def __len__(self):\n",
    "        return len(self.dataframe)\n",
    "    \n",
    "    def __getitem__(self, index):\n",
    "        row = self.dataframe.iloc[index]\n",
    "        img_name = row['image']\n",
    "        label = row['label']\n",
    "        \n",
    "        # Tentukan path berdasarkan label\n",
    "        if label == 1:  # judi\n",
    "            img_path = os.path.join(self.images_path_judi, img_name)\n",
    "        else:  # non-judi (label == 0)\n",
    "            img_path = os.path.join(self.images_path_non_judi, img_name)\n",
    "        \n",
    "        image = Image.open(img_path)\n",
    "        \n",
    "        if self.transforms is not None:\n",
    "            image = self.transforms(image)\n",
    "        \n",
    "        return {\n",
    "            'image': image,\n",
    "            'label': torch.tensor(label, dtype=torch.long)\n",
    "        }"
   ]
  },
  {
   "cell_type": "code",
   "execution_count": 21,
   "id": "22864152",
   "metadata": {
    "execution": {
     "iopub.execute_input": "2025-08-03T04:19:50.200753Z",
     "iopub.status.busy": "2025-08-03T04:19:50.200114Z",
     "iopub.status.idle": "2025-08-03T04:19:50.205666Z",
     "shell.execute_reply": "2025-08-03T04:19:50.205132Z"
    },
    "papermill": {
     "duration": 0.013109,
     "end_time": "2025-08-03T04:19:50.206662",
     "exception": false,
     "start_time": "2025-08-03T04:19:50.193553",
     "status": "completed"
    },
    "tags": []
   },
   "outputs": [],
   "source": [
    "# 3. Update inisialisasi dataset\n",
    "train_dataset = CustomDataset(traindf, images_path_judi, images_path_non_judi, transforms=transform_train)\n",
    "validation_dataset = CustomDataset(validdf, images_path_judi, images_path_non_judi, transforms=transform_test)\n",
    "test_dataset = CustomDataset(test_df, images_path_judi, images_path_non_judi, transforms=transform_test)"
   ]
  },
  {
   "cell_type": "code",
   "execution_count": 22,
   "id": "e8a85a75",
   "metadata": {
    "execution": {
     "iopub.execute_input": "2025-08-03T04:19:50.220033Z",
     "iopub.status.busy": "2025-08-03T04:19:50.219833Z",
     "iopub.status.idle": "2025-08-03T04:19:50.234450Z",
     "shell.execute_reply": "2025-08-03T04:19:50.233980Z"
    },
    "papermill": {
     "duration": 0.022734,
     "end_time": "2025-08-03T04:19:50.235562",
     "exception": false,
     "start_time": "2025-08-03T04:19:50.212828",
     "status": "completed"
    },
    "tags": []
   },
   "outputs": [],
   "source": [
    "import time\n",
    "\n",
    "def run_experiment(optimizer_name, learning_rate, batch_size, device):\n",
    "    experiment_name = f\"{optimizer_name}_lr{learning_rate}_bs{batch_size}\"\n",
    "    print(f\"\\n===== STARTING EXPERIMENT: {experiment_name} =====\\n\")\n",
    "    \n",
    "    # Create data loaders\n",
    "    train_loader = DataLoader(train_dataset, batch_size=batch_size, shuffle=True, \n",
    "                              num_workers=4, worker_init_fn=seed_worker, generator=g)\n",
    "    valid_loader = DataLoader(validation_dataset, batch_size=batch_size, shuffle=False, \n",
    "                              num_workers=4, worker_init_fn=seed_worker, generator=g)\n",
    "    test_loader = DataLoader(test_dataset, batch_size=batch_size, shuffle=False, \n",
    "                             num_workers=4, worker_init_fn=seed_worker, generator=g)\n",
    "    \n",
    "    # Initialize model\n",
    "    image_model = models.efficientnet_b3(weights=models.EfficientNet_B3_Weights.DEFAULT)\n",
    "    num_features = image_model.classifier[1].in_features\n",
    "    image_model.classifier = nn.Sequential(\n",
    "        nn.Dropout(p=0.3),  # atau 0.5 tergantung eksperimen\n",
    "        nn.Linear(num_features, 1)\n",
    "    )\n",
    "\n",
    "    # image_model = models.efficientnet_b3(weights=models.EfficientNet_B3_Weights.DEFAULT)\n",
    "    # num_features = image_model.classifier[1].in_features\n",
    "    # image_model.classifier = nn.Linear(num_features, 1)\n",
    "    image_model.to(device)\n",
    "    \n",
    "    is_parallel = False\n",
    "    if torch.cuda.device_count() > 1:\n",
    "        print(f\"Using {torch.cuda.device_count()} GPUs!\")\n",
    "        image_model = nn.DataParallel(image_model)\n",
    "        is_parallel = True\n",
    "    \n",
    "    # Optimizer\n",
    "    if optimizer_name == 'Adam':\n",
    "        optimizer = optim.Adam(image_model.parameters(), lr=learning_rate)\n",
    "    elif optimizer_name == 'RMSprop':\n",
    "        optimizer = optim.RMSprop(image_model.parameters(), lr=learning_rate)\n",
    "    else:\n",
    "        raise ValueError(f\"Unsupported optimizer: {optimizer_name}\")\n",
    "    \n",
    "    criterion = nn.BCEWithLogitsLoss()\n",
    "\n",
    "    train_losses, train_accuracies = [], []\n",
    "    valid_losses, valid_accuracies = [], []\n",
    "    best_val_loss = float('inf')\n",
    "    best_model_path = f'best_image_model_{experiment_name}_state_dict.pt'\n",
    "    \n",
    "    num_epochs = 20\n",
    "    patience = 5\n",
    "    counter = 0\n",
    "\n",
    "    start_total_time = time.time()\n",
    "\n",
    "    for epoch in range(num_epochs):\n",
    "        start_epoch_time = time.time()\n",
    "        \n",
    "        # TRAIN\n",
    "        image_model.train()\n",
    "        total_loss, correct, total_samples = 0.0, 0, 0\n",
    "        for batch_data in tqdm(train_loader, desc=f\"Epoch {epoch+1} Training\"):\n",
    "            images = batch_data['image'].to(device)\n",
    "            labels = batch_data['label'].float().to(device)\n",
    "\n",
    "            optimizer.zero_grad()\n",
    "            outputs = image_model(images).squeeze(1)\n",
    "            loss = criterion(outputs, labels)\n",
    "            loss.backward()\n",
    "            optimizer.step()\n",
    "\n",
    "            total_loss += loss.item()\n",
    "            predicted = (torch.sigmoid(outputs) > 0.5).long()\n",
    "            correct += (predicted == labels).sum().item()\n",
    "            total_samples += labels.size(0)\n",
    "\n",
    "        epoch_loss = total_loss / len(train_loader)\n",
    "        epoch_accuracy = correct / total_samples\n",
    "        train_losses.append(epoch_loss)\n",
    "        train_accuracies.append(epoch_accuracy)\n",
    "\n",
    "        # VALIDATE\n",
    "        image_model.eval()\n",
    "        valid_loss, valid_correct, valid_total_samples = 0.0, 0, 0\n",
    "        with torch.no_grad():\n",
    "            for batch_data in tqdm(valid_loader, desc=f\"Epoch {epoch+1} Validation\"):\n",
    "                images = batch_data['image'].to(device)\n",
    "                labels = batch_data['label'].float().to(device)\n",
    "                outputs = image_model(images).squeeze(1)\n",
    "                loss = criterion(outputs, labels)\n",
    "                valid_loss += loss.item()\n",
    "                predicted = (torch.sigmoid(outputs) > 0.5).long()\n",
    "                valid_correct += (predicted == labels).sum().item()\n",
    "                valid_total_samples += labels.size(0)\n",
    "\n",
    "        valid_epoch_loss = valid_loss / len(valid_loader)\n",
    "        valid_epoch_accuracy = valid_correct / valid_total_samples\n",
    "        valid_losses.append(valid_epoch_loss)\n",
    "        valid_accuracies.append(valid_epoch_accuracy)\n",
    "\n",
    "        epoch_duration = time.time() - start_epoch_time\n",
    "        print(f'Epoch [{epoch+1}/{num_epochs}], Train Loss: {epoch_loss:.4f}, Train Acc: {epoch_accuracy:.4f}')\n",
    "        print(f'Epoch [{epoch+1}/{num_epochs}], Val Loss: {valid_epoch_loss:.4f}, Val Acc: {valid_epoch_accuracy:.4f}')\n",
    "        print(f\"Epoch {epoch+1} duration: {epoch_duration:.2f} seconds\")\n",
    "\n",
    "        # Save best model\n",
    "        if valid_epoch_loss < best_val_loss:\n",
    "            best_val_loss = valid_epoch_loss\n",
    "            counter = 0\n",
    "            torch.save(image_model.module.state_dict() if is_parallel else image_model.state_dict(), best_model_path)\n",
    "            print(f\"New best model saved at epoch {epoch+1}\")\n",
    "        else:\n",
    "            counter += 1\n",
    "            if counter >= patience:\n",
    "                print(f\"Early stopping at epoch {epoch+1}\")\n",
    "                break\n",
    "\n",
    "    total_training_time = time.time() - start_total_time\n",
    "    print(f\"Total training time: {total_training_time:.2f} seconds\")\n",
    "\n",
    "    # Load best model\n",
    "    best_model = models.efficientnet_b3(weights=models.EfficientNet_B3_Weights.DEFAULT)\n",
    "    num_features = best_model.classifier[1].in_features\n",
    "    best_model.classifier = nn.Sequential(\n",
    "        nn.Dropout(p=0.3),\n",
    "        nn.Linear(num_features, 1)\n",
    "    )\n",
    "    best_model.load_state_dict(torch.load(best_model_path))\n",
    "    best_model.to(device)\n",
    "\n",
    "    # TEST\n",
    "    test_start_time = time.time()\n",
    "    metrics = evaluate_image_model(best_model, test_loader, device)\n",
    "    test_duration = time.time() - test_start_time\n",
    "    print(f\"Test evaluation time: {test_duration:.2f} seconds\")\n",
    "    \n",
    "    return {\n",
    "        'experiment_name': experiment_name,\n",
    "        'metrics': metrics,\n",
    "        'model_path': best_model_path,\n",
    "        'train_losses': train_losses,\n",
    "        'train_accuracies': train_accuracies,\n",
    "        'valid_losses': valid_losses,\n",
    "        'valid_accuracies': valid_accuracies,\n",
    "        'best_val_loss': best_val_loss,\n",
    "        'best_epoch': np.argmin(valid_losses) + 1,\n",
    "        'stopped_early': counter >= patience,\n",
    "        'training_time_sec': total_training_time,\n",
    "        'test_time_sec': test_duration\n",
    "    }\n"
   ]
  },
  {
   "cell_type": "code",
   "execution_count": 23,
   "id": "3ea3aacd",
   "metadata": {
    "execution": {
     "iopub.execute_input": "2025-08-03T04:19:50.248502Z",
     "iopub.status.busy": "2025-08-03T04:19:50.248253Z",
     "iopub.status.idle": "2025-08-03T04:19:50.252999Z",
     "shell.execute_reply": "2025-08-03T04:19:50.252499Z"
    },
    "papermill": {
     "duration": 0.012385,
     "end_time": "2025-08-03T04:19:50.253979",
     "exception": false,
     "start_time": "2025-08-03T04:19:50.241594",
     "status": "completed"
    },
    "tags": []
   },
   "outputs": [],
   "source": [
    "def evaluate_image_model(model, data_loader, device): \n",
    "    model.eval()\n",
    "    model.to(device)\n",
    "    \n",
    "    all_preds = []\n",
    "    all_labels = []\n",
    "    \n",
    "    with torch.no_grad():\n",
    "        for batch_data in tqdm(data_loader, desc=\"Evaluating Image Model\"):\n",
    "            images = batch_data['image'].to(device)\n",
    "            labels = batch_data['label'].to(device)\n",
    "            \n",
    "            outputs = model(images).squeeze(1)\n",
    "            preds = (torch.sigmoid(outputs) > 0.5).cpu().numpy()\n",
    "            \n",
    "            all_preds.extend(preds)\n",
    "            all_labels.extend(labels.cpu().numpy())\n",
    "    \n",
    "    metrics = {\n",
    "        'Accuracy': accuracy_score(all_labels, all_preds),\n",
    "        'Precision': precision_score(all_labels, all_preds),\n",
    "        'Recall': recall_score(all_labels, all_preds),\n",
    "        'F1 Score': f1_score(all_labels, all_preds)\n",
    "    }\n",
    "    \n",
    "    return metrics"
   ]
  },
  {
   "cell_type": "code",
   "execution_count": 24,
   "id": "07ce3eaf",
   "metadata": {
    "execution": {
     "iopub.execute_input": "2025-08-03T04:19:50.266842Z",
     "iopub.status.busy": "2025-08-03T04:19:50.266654Z",
     "iopub.status.idle": "2025-08-03T04:19:50.270490Z",
     "shell.execute_reply": "2025-08-03T04:19:50.269972Z"
    },
    "papermill": {
     "duration": 0.011605,
     "end_time": "2025-08-03T04:19:50.271531",
     "exception": false,
     "start_time": "2025-08-03T04:19:50.259926",
     "status": "completed"
    },
    "tags": []
   },
   "outputs": [],
   "source": [
    "# Define experiments\n",
    "experiments = [\n",
    "    # Optimizers: Adam\n",
    "    {'optimizer': 'Adam', 'learning_rate': 0.001, 'batch_size': 16},\n",
    "    {'optimizer': 'Adam', 'learning_rate': 0.001, 'batch_size': 32},\n",
    "    {'optimizer': 'Adam', 'learning_rate': 0.0001, 'batch_size': 16},\n",
    "    {'optimizer': 'Adam', 'learning_rate': 0.0001, 'batch_size': 32},\n",
    "    \n",
    "    # Optimizers: RMSprop\n",
    "    {'optimizer': 'RMSprop', 'learning_rate': 0.001, 'batch_size': 16},\n",
    "    {'optimizer': 'RMSprop', 'learning_rate': 0.001, 'batch_size': 32},\n",
    "    {'optimizer': 'RMSprop', 'learning_rate': 0.0001, 'batch_size': 16},\n",
    "    {'optimizer': 'RMSprop', 'learning_rate': 0.0001, 'batch_size': 32},\n",
    "]"
   ]
  },
  {
   "cell_type": "code",
   "execution_count": 25,
   "id": "d37a0547",
   "metadata": {
    "execution": {
     "iopub.execute_input": "2025-08-03T04:19:50.284228Z",
     "iopub.status.busy": "2025-08-03T04:19:50.284030Z",
     "iopub.status.idle": "2025-08-03T05:41:35.153023Z",
     "shell.execute_reply": "2025-08-03T05:41:35.151997Z"
    },
    "papermill": {
     "duration": 4904.87664,
     "end_time": "2025-08-03T05:41:35.154157",
     "exception": false,
     "start_time": "2025-08-03T04:19:50.277517",
     "status": "completed"
    },
    "tags": []
   },
   "outputs": [
    {
     "name": "stdout",
     "output_type": "stream",
     "text": [
      "\n",
      "\n",
      "===== RUNNING EXPERIMENT 1/8 =====\n",
      "Optimizer: Adam, Batch Size: 16, Learning Rate: 0.001\n",
      "\n",
      "===== STARTING EXPERIMENT: Adam_lr0.001_bs16 =====\n",
      "\n"
     ]
    },
    {
     "name": "stderr",
     "output_type": "stream",
     "text": [
      "Downloading: \"https://download.pytorch.org/models/efficientnet_b3_rwightman-b3899882.pth\" to /root/.cache/torch/hub/checkpoints/efficientnet_b3_rwightman-b3899882.pth\n",
      "100%|██████████| 47.2M/47.2M [00:00<00:00, 88.7MB/s]\n",
      "Epoch 1 Training: 100%|██████████| 160/160 [00:48<00:00,  3.33it/s]\n",
      "Epoch 1 Validation: 100%|██████████| 40/40 [00:10<00:00,  3.99it/s]\n"
     ]
    },
    {
     "name": "stdout",
     "output_type": "stream",
     "text": [
      "Epoch [1/20], Train Loss: 0.3337, Train Acc: 0.8664\n",
      "Epoch [1/20], Val Loss: 0.1963, Val Acc: 0.9216\n",
      "Epoch 1 duration: 58.09 seconds\n",
      "New best model saved at epoch 1\n"
     ]
    },
    {
     "name": "stderr",
     "output_type": "stream",
     "text": [
      "Epoch 2 Training: 100%|██████████| 160/160 [00:45<00:00,  3.52it/s]\n",
      "Epoch 2 Validation: 100%|██████████| 40/40 [00:09<00:00,  4.29it/s]\n"
     ]
    },
    {
     "name": "stdout",
     "output_type": "stream",
     "text": [
      "Epoch [2/20], Train Loss: 0.2115, Train Acc: 0.9158\n",
      "Epoch [2/20], Val Loss: 0.1522, Val Acc: 0.9357\n",
      "Epoch 2 duration: 54.80 seconds\n",
      "New best model saved at epoch 2\n"
     ]
    },
    {
     "name": "stderr",
     "output_type": "stream",
     "text": [
      "Epoch 3 Training: 100%|██████████| 160/160 [00:45<00:00,  3.51it/s]\n",
      "Epoch 3 Validation: 100%|██████████| 40/40 [00:09<00:00,  4.40it/s]\n"
     ]
    },
    {
     "name": "stdout",
     "output_type": "stream",
     "text": [
      "Epoch [3/20], Train Loss: 0.1329, Train Acc: 0.9510\n",
      "Epoch [3/20], Val Loss: 0.1511, Val Acc: 0.9404\n",
      "Epoch 3 duration: 54.69 seconds\n",
      "New best model saved at epoch 3\n"
     ]
    },
    {
     "name": "stderr",
     "output_type": "stream",
     "text": [
      "Epoch 4 Training: 100%|██████████| 160/160 [00:45<00:00,  3.52it/s]\n",
      "Epoch 4 Validation: 100%|██████████| 40/40 [00:09<00:00,  4.35it/s]\n"
     ]
    },
    {
     "name": "stdout",
     "output_type": "stream",
     "text": [
      "Epoch [4/20], Train Loss: 0.1501, Train Acc: 0.9440\n",
      "Epoch [4/20], Val Loss: 0.1663, Val Acc: 0.9389\n",
      "Epoch 4 duration: 54.72 seconds\n"
     ]
    },
    {
     "name": "stderr",
     "output_type": "stream",
     "text": [
      "Epoch 5 Training: 100%|██████████| 160/160 [00:45<00:00,  3.54it/s]\n",
      "Epoch 5 Validation: 100%|██████████| 40/40 [00:09<00:00,  4.33it/s]\n"
     ]
    },
    {
     "name": "stdout",
     "output_type": "stream",
     "text": [
      "Epoch [5/20], Train Loss: 0.1088, Train Acc: 0.9581\n",
      "Epoch [5/20], Val Loss: 0.1771, Val Acc: 0.9467\n",
      "Epoch 5 duration: 54.50 seconds\n"
     ]
    },
    {
     "name": "stderr",
     "output_type": "stream",
     "text": [
      "Epoch 6 Training: 100%|██████████| 160/160 [00:45<00:00,  3.54it/s]\n",
      "Epoch 6 Validation: 100%|██████████| 40/40 [00:09<00:00,  4.38it/s]\n"
     ]
    },
    {
     "name": "stdout",
     "output_type": "stream",
     "text": [
      "Epoch [6/20], Train Loss: 0.0942, Train Acc: 0.9683\n",
      "Epoch [6/20], Val Loss: 0.1386, Val Acc: 0.9561\n",
      "Epoch 6 duration: 54.34 seconds\n",
      "New best model saved at epoch 6\n"
     ]
    },
    {
     "name": "stderr",
     "output_type": "stream",
     "text": [
      "Epoch 7 Training: 100%|██████████| 160/160 [00:45<00:00,  3.54it/s]\n",
      "Epoch 7 Validation: 100%|██████████| 40/40 [00:09<00:00,  4.37it/s]\n"
     ]
    },
    {
     "name": "stdout",
     "output_type": "stream",
     "text": [
      "Epoch [7/20], Train Loss: 0.0626, Train Acc: 0.9781\n",
      "Epoch [7/20], Val Loss: 0.2093, Val Acc: 0.9498\n",
      "Epoch 7 duration: 54.33 seconds\n"
     ]
    },
    {
     "name": "stderr",
     "output_type": "stream",
     "text": [
      "Epoch 8 Training: 100%|██████████| 160/160 [00:45<00:00,  3.55it/s]\n",
      "Epoch 8 Validation: 100%|██████████| 40/40 [00:09<00:00,  4.36it/s]\n"
     ]
    },
    {
     "name": "stdout",
     "output_type": "stream",
     "text": [
      "Epoch [8/20], Train Loss: 0.0630, Train Acc: 0.9749\n",
      "Epoch [8/20], Val Loss: 0.2018, Val Acc: 0.9389\n",
      "Epoch 8 duration: 54.23 seconds\n"
     ]
    },
    {
     "name": "stderr",
     "output_type": "stream",
     "text": [
      "Epoch 9 Training: 100%|██████████| 160/160 [00:45<00:00,  3.50it/s]\n",
      "Epoch 9 Validation: 100%|██████████| 40/40 [00:09<00:00,  4.23it/s]\n"
     ]
    },
    {
     "name": "stdout",
     "output_type": "stream",
     "text": [
      "Epoch [9/20], Train Loss: 0.0792, Train Acc: 0.9730\n",
      "Epoch [9/20], Val Loss: 0.1957, Val Acc: 0.9420\n",
      "Epoch 9 duration: 55.20 seconds\n"
     ]
    },
    {
     "name": "stderr",
     "output_type": "stream",
     "text": [
      "Epoch 10 Training: 100%|██████████| 160/160 [00:46<00:00,  3.47it/s]\n",
      "Epoch 10 Validation: 100%|██████████| 40/40 [00:09<00:00,  4.26it/s]\n"
     ]
    },
    {
     "name": "stdout",
     "output_type": "stream",
     "text": [
      "Epoch [10/20], Train Loss: 0.0614, Train Acc: 0.9796\n",
      "Epoch [10/20], Val Loss: 0.2333, Val Acc: 0.9326\n",
      "Epoch 10 duration: 55.52 seconds\n"
     ]
    },
    {
     "name": "stderr",
     "output_type": "stream",
     "text": [
      "Epoch 11 Training: 100%|██████████| 160/160 [00:45<00:00,  3.49it/s]\n",
      "Epoch 11 Validation: 100%|██████████| 40/40 [00:09<00:00,  4.27it/s]\n"
     ]
    },
    {
     "name": "stdout",
     "output_type": "stream",
     "text": [
      "Epoch [11/20], Train Loss: 0.0389, Train Acc: 0.9847\n",
      "Epoch [11/20], Val Loss: 0.1637, Val Acc: 0.9310\n",
      "Epoch 11 duration: 55.27 seconds\n",
      "Early stopping at epoch 11\n",
      "Total training time: 606.24 seconds\n"
     ]
    },
    {
     "name": "stderr",
     "output_type": "stream",
     "text": [
      "Evaluating Image Model: 100%|██████████| 44/44 [00:10<00:00,  4.06it/s]\n"
     ]
    },
    {
     "name": "stdout",
     "output_type": "stream",
     "text": [
      "Test evaluation time: 10.85 seconds\n",
      "\n",
      "----- Results for Experiment 1: Adam_lr0.001_bs16 -----\n",
      "Best epoch: 6 with validation loss: 0.1386\n",
      "Early stopping activated\n",
      "Test Metrics:\n",
      "  Accuracy: 0.9614\n",
      "  Precision: 0.9736\n",
      "  Recall: 0.9486\n",
      "  F1 Score: 0.9609\n",
      "\n",
      "\n",
      "===== RUNNING EXPERIMENT 2/8 =====\n",
      "Optimizer: Adam, Batch Size: 32, Learning Rate: 0.001\n",
      "\n",
      "===== STARTING EXPERIMENT: Adam_lr0.001_bs32 =====\n",
      "\n"
     ]
    },
    {
     "name": "stderr",
     "output_type": "stream",
     "text": [
      "Epoch 1 Training: 100%|██████████| 80/80 [00:44<00:00,  1.80it/s]\n",
      "Epoch 1 Validation: 100%|██████████| 20/20 [00:09<00:00,  2.18it/s]\n"
     ]
    },
    {
     "name": "stdout",
     "output_type": "stream",
     "text": [
      "Epoch [1/20], Train Loss: 0.2924, Train Acc: 0.8926\n",
      "Epoch [1/20], Val Loss: 0.1828, Val Acc: 0.9310\n",
      "Epoch 1 duration: 53.75 seconds\n",
      "New best model saved at epoch 1\n"
     ]
    },
    {
     "name": "stderr",
     "output_type": "stream",
     "text": [
      "Epoch 2 Training: 100%|██████████| 80/80 [00:44<00:00,  1.80it/s]\n",
      "Epoch 2 Validation: 100%|██████████| 20/20 [00:09<00:00,  2.20it/s]\n"
     ]
    },
    {
     "name": "stdout",
     "output_type": "stream",
     "text": [
      "Epoch [2/20], Train Loss: 0.1776, Train Acc: 0.9299\n",
      "Epoch [2/20], Val Loss: 0.1995, Val Acc: 0.9342\n",
      "Epoch 2 duration: 53.44 seconds\n"
     ]
    },
    {
     "name": "stderr",
     "output_type": "stream",
     "text": [
      "Epoch 3 Training: 100%|██████████| 80/80 [00:44<00:00,  1.81it/s]\n",
      "Epoch 3 Validation: 100%|██████████| 20/20 [00:09<00:00,  2.19it/s]\n"
     ]
    },
    {
     "name": "stdout",
     "output_type": "stream",
     "text": [
      "Epoch [3/20], Train Loss: 0.1278, Train Acc: 0.9526\n",
      "Epoch [3/20], Val Loss: 0.1904, Val Acc: 0.9342\n",
      "Epoch 3 duration: 53.46 seconds\n"
     ]
    },
    {
     "name": "stderr",
     "output_type": "stream",
     "text": [
      "Epoch 4 Training: 100%|██████████| 80/80 [00:44<00:00,  1.81it/s]\n",
      "Epoch 4 Validation: 100%|██████████| 20/20 [00:09<00:00,  2.20it/s]\n"
     ]
    },
    {
     "name": "stdout",
     "output_type": "stream",
     "text": [
      "Epoch [4/20], Train Loss: 0.0922, Train Acc: 0.9639\n",
      "Epoch [4/20], Val Loss: 0.1667, Val Acc: 0.9483\n",
      "Epoch 4 duration: 53.38 seconds\n",
      "New best model saved at epoch 4\n"
     ]
    },
    {
     "name": "stderr",
     "output_type": "stream",
     "text": [
      "Epoch 5 Training: 100%|██████████| 80/80 [00:44<00:00,  1.79it/s]\n",
      "Epoch 5 Validation: 100%|██████████| 20/20 [00:09<00:00,  2.17it/s]\n"
     ]
    },
    {
     "name": "stdout",
     "output_type": "stream",
     "text": [
      "Epoch [5/20], Train Loss: 0.0868, Train Acc: 0.9647\n",
      "Epoch [5/20], Val Loss: 0.1394, Val Acc: 0.9483\n",
      "Epoch 5 duration: 53.81 seconds\n",
      "New best model saved at epoch 5\n"
     ]
    },
    {
     "name": "stderr",
     "output_type": "stream",
     "text": [
      "Epoch 6 Training: 100%|██████████| 80/80 [00:44<00:00,  1.80it/s]\n",
      "Epoch 6 Validation: 100%|██████████| 20/20 [00:09<00:00,  2.19it/s]\n"
     ]
    },
    {
     "name": "stdout",
     "output_type": "stream",
     "text": [
      "Epoch [6/20], Train Loss: 0.0524, Train Acc: 0.9796\n",
      "Epoch [6/20], Val Loss: 0.1638, Val Acc: 0.9483\n",
      "Epoch 6 duration: 53.70 seconds\n"
     ]
    },
    {
     "name": "stderr",
     "output_type": "stream",
     "text": [
      "Epoch 7 Training: 100%|██████████| 80/80 [00:45<00:00,  1.78it/s]\n",
      "Epoch 7 Validation: 100%|██████████| 20/20 [00:09<00:00,  2.20it/s]\n"
     ]
    },
    {
     "name": "stdout",
     "output_type": "stream",
     "text": [
      "Epoch [7/20], Train Loss: 0.0515, Train Acc: 0.9847\n",
      "Epoch [7/20], Val Loss: 0.2004, Val Acc: 0.9498\n",
      "Epoch 7 duration: 54.15 seconds\n"
     ]
    },
    {
     "name": "stderr",
     "output_type": "stream",
     "text": [
      "Epoch 8 Training: 100%|██████████| 80/80 [00:45<00:00,  1.76it/s]\n",
      "Epoch 8 Validation: 100%|██████████| 20/20 [00:09<00:00,  2.19it/s]\n"
     ]
    },
    {
     "name": "stdout",
     "output_type": "stream",
     "text": [
      "Epoch [8/20], Train Loss: 0.0467, Train Acc: 0.9832\n",
      "Epoch [8/20], Val Loss: 0.2454, Val Acc: 0.9326\n",
      "Epoch 8 duration: 54.53 seconds\n"
     ]
    },
    {
     "name": "stderr",
     "output_type": "stream",
     "text": [
      "Epoch 9 Training: 100%|██████████| 80/80 [00:44<00:00,  1.80it/s]\n",
      "Epoch 9 Validation: 100%|██████████| 20/20 [00:09<00:00,  2.16it/s]\n"
     ]
    },
    {
     "name": "stdout",
     "output_type": "stream",
     "text": [
      "Epoch [9/20], Train Loss: 0.0320, Train Acc: 0.9886\n",
      "Epoch [9/20], Val Loss: 0.1822, Val Acc: 0.9592\n",
      "Epoch 9 duration: 53.74 seconds\n"
     ]
    },
    {
     "name": "stderr",
     "output_type": "stream",
     "text": [
      "Epoch 10 Training: 100%|██████████| 80/80 [00:44<00:00,  1.79it/s]\n",
      "Epoch 10 Validation: 100%|██████████| 20/20 [00:09<00:00,  2.21it/s]\n"
     ]
    },
    {
     "name": "stdout",
     "output_type": "stream",
     "text": [
      "Epoch [10/20], Train Loss: 0.0354, Train Acc: 0.9855\n",
      "Epoch [10/20], Val Loss: 0.3788, Val Acc: 0.9185\n",
      "Epoch 10 duration: 53.63 seconds\n",
      "Early stopping at epoch 10\n",
      "Total training time: 538.00 seconds\n"
     ]
    },
    {
     "name": "stderr",
     "output_type": "stream",
     "text": [
      "Evaluating Image Model: 100%|██████████| 22/22 [00:10<00:00,  2.17it/s]\n"
     ]
    },
    {
     "name": "stdout",
     "output_type": "stream",
     "text": [
      "Test evaluation time: 10.14 seconds\n",
      "\n",
      "----- Results for Experiment 2: Adam_lr0.001_bs32 -----\n",
      "Best epoch: 5 with validation loss: 0.1394\n",
      "Early stopping activated\n",
      "Test Metrics:\n",
      "  Accuracy: 0.9614\n",
      "  Precision: 0.9821\n",
      "  Recall: 0.9400\n",
      "  F1 Score: 0.9606\n",
      "\n",
      "\n",
      "===== RUNNING EXPERIMENT 3/8 =====\n",
      "Optimizer: Adam, Batch Size: 16, Learning Rate: 0.0001\n",
      "\n",
      "===== STARTING EXPERIMENT: Adam_lr0.0001_bs16 =====\n",
      "\n"
     ]
    },
    {
     "name": "stderr",
     "output_type": "stream",
     "text": [
      "Epoch 1 Training: 100%|██████████| 160/160 [00:44<00:00,  3.62it/s]\n",
      "Epoch 1 Validation: 100%|██████████| 40/40 [00:08<00:00,  4.46it/s]\n"
     ]
    },
    {
     "name": "stdout",
     "output_type": "stream",
     "text": [
      "Epoch [1/20], Train Loss: 0.3860, Train Acc: 0.8342\n",
      "Epoch [1/20], Val Loss: 0.2022, Val Acc: 0.9279\n",
      "Epoch 1 duration: 53.16 seconds\n",
      "New best model saved at epoch 1\n"
     ]
    },
    {
     "name": "stderr",
     "output_type": "stream",
     "text": [
      "Epoch 2 Training: 100%|██████████| 160/160 [00:44<00:00,  3.60it/s]\n",
      "Epoch 2 Validation: 100%|██████████| 40/40 [00:08<00:00,  4.49it/s]\n"
     ]
    },
    {
     "name": "stdout",
     "output_type": "stream",
     "text": [
      "Epoch [2/20], Train Loss: 0.1902, Train Acc: 0.9291\n",
      "Epoch [2/20], Val Loss: 0.1603, Val Acc: 0.9436\n",
      "Epoch 2 duration: 53.37 seconds\n",
      "New best model saved at epoch 2\n"
     ]
    },
    {
     "name": "stderr",
     "output_type": "stream",
     "text": [
      "Epoch 3 Training: 100%|██████████| 160/160 [00:44<00:00,  3.62it/s]\n",
      "Epoch 3 Validation: 100%|██████████| 40/40 [00:08<00:00,  4.47it/s]\n"
     ]
    },
    {
     "name": "stdout",
     "output_type": "stream",
     "text": [
      "Epoch [3/20], Train Loss: 0.1199, Train Acc: 0.9565\n",
      "Epoch [3/20], Val Loss: 0.1562, Val Acc: 0.9373\n",
      "Epoch 3 duration: 53.14 seconds\n",
      "New best model saved at epoch 3\n"
     ]
    },
    {
     "name": "stderr",
     "output_type": "stream",
     "text": [
      "Epoch 4 Training: 100%|██████████| 160/160 [00:44<00:00,  3.60it/s]\n",
      "Epoch 4 Validation: 100%|██████████| 40/40 [00:08<00:00,  4.46it/s]\n"
     ]
    },
    {
     "name": "stdout",
     "output_type": "stream",
     "text": [
      "Epoch [4/20], Train Loss: 0.0703, Train Acc: 0.9773\n",
      "Epoch [4/20], Val Loss: 0.1647, Val Acc: 0.9451\n",
      "Epoch 4 duration: 53.39 seconds\n"
     ]
    },
    {
     "name": "stderr",
     "output_type": "stream",
     "text": [
      "Epoch 5 Training: 100%|██████████| 160/160 [00:44<00:00,  3.60it/s]\n",
      "Epoch 5 Validation: 100%|██████████| 40/40 [00:08<00:00,  4.45it/s]\n"
     ]
    },
    {
     "name": "stdout",
     "output_type": "stream",
     "text": [
      "Epoch [5/20], Train Loss: 0.0575, Train Acc: 0.9835\n",
      "Epoch [5/20], Val Loss: 0.1692, Val Acc: 0.9451\n",
      "Epoch 5 duration: 53.45 seconds\n"
     ]
    },
    {
     "name": "stderr",
     "output_type": "stream",
     "text": [
      "Epoch 6 Training: 100%|██████████| 160/160 [00:44<00:00,  3.60it/s]\n",
      "Epoch 6 Validation: 100%|██████████| 40/40 [00:08<00:00,  4.48it/s]\n"
     ]
    },
    {
     "name": "stdout",
     "output_type": "stream",
     "text": [
      "Epoch [6/20], Train Loss: 0.0478, Train Acc: 0.9851\n",
      "Epoch [6/20], Val Loss: 0.1630, Val Acc: 0.9467\n",
      "Epoch 6 duration: 53.40 seconds\n"
     ]
    },
    {
     "name": "stderr",
     "output_type": "stream",
     "text": [
      "Epoch 7 Training: 100%|██████████| 160/160 [00:44<00:00,  3.61it/s]\n",
      "Epoch 7 Validation: 100%|██████████| 40/40 [00:08<00:00,  4.46it/s]\n"
     ]
    },
    {
     "name": "stdout",
     "output_type": "stream",
     "text": [
      "Epoch [7/20], Train Loss: 0.0533, Train Acc: 0.9824\n",
      "Epoch [7/20], Val Loss: 0.1998, Val Acc: 0.9310\n",
      "Epoch 7 duration: 53.35 seconds\n"
     ]
    },
    {
     "name": "stderr",
     "output_type": "stream",
     "text": [
      "Epoch 8 Training: 100%|██████████| 160/160 [00:44<00:00,  3.59it/s]\n",
      "Epoch 8 Validation: 100%|██████████| 40/40 [00:08<00:00,  4.51it/s]\n"
     ]
    },
    {
     "name": "stdout",
     "output_type": "stream",
     "text": [
      "Epoch [8/20], Train Loss: 0.0358, Train Acc: 0.9902\n",
      "Epoch [8/20], Val Loss: 0.1547, Val Acc: 0.9545\n",
      "Epoch 8 duration: 53.47 seconds\n",
      "New best model saved at epoch 8\n"
     ]
    },
    {
     "name": "stderr",
     "output_type": "stream",
     "text": [
      "Epoch 9 Training: 100%|██████████| 160/160 [00:44<00:00,  3.59it/s]\n",
      "Epoch 9 Validation: 100%|██████████| 40/40 [00:08<00:00,  4.45it/s]\n"
     ]
    },
    {
     "name": "stdout",
     "output_type": "stream",
     "text": [
      "Epoch [9/20], Train Loss: 0.0162, Train Acc: 0.9953\n",
      "Epoch [9/20], Val Loss: 0.1184, Val Acc: 0.9514\n",
      "Epoch 9 duration: 53.62 seconds\n",
      "New best model saved at epoch 9\n"
     ]
    },
    {
     "name": "stderr",
     "output_type": "stream",
     "text": [
      "Epoch 10 Training: 100%|██████████| 160/160 [00:44<00:00,  3.60it/s]\n",
      "Epoch 10 Validation: 100%|██████████| 40/40 [00:08<00:00,  4.44it/s]\n"
     ]
    },
    {
     "name": "stdout",
     "output_type": "stream",
     "text": [
      "Epoch [10/20], Train Loss: 0.0118, Train Acc: 0.9980\n",
      "Epoch [10/20], Val Loss: 0.1416, Val Acc: 0.9530\n",
      "Epoch 10 duration: 53.48 seconds\n"
     ]
    },
    {
     "name": "stderr",
     "output_type": "stream",
     "text": [
      "Epoch 11 Training: 100%|██████████| 160/160 [00:44<00:00,  3.61it/s]\n",
      "Epoch 11 Validation: 100%|██████████| 40/40 [00:09<00:00,  4.44it/s]\n"
     ]
    },
    {
     "name": "stdout",
     "output_type": "stream",
     "text": [
      "Epoch [11/20], Train Loss: 0.0148, Train Acc: 0.9980\n",
      "Epoch [11/20], Val Loss: 0.1533, Val Acc: 0.9420\n",
      "Epoch 11 duration: 53.39 seconds\n"
     ]
    },
    {
     "name": "stderr",
     "output_type": "stream",
     "text": [
      "Epoch 12 Training: 100%|██████████| 160/160 [00:44<00:00,  3.57it/s]\n",
      "Epoch 12 Validation: 100%|██████████| 40/40 [00:08<00:00,  4.45it/s]\n"
     ]
    },
    {
     "name": "stdout",
     "output_type": "stream",
     "text": [
      "Epoch [12/20], Train Loss: 0.0088, Train Acc: 0.9976\n",
      "Epoch [12/20], Val Loss: 0.1537, Val Acc: 0.9561\n",
      "Epoch 12 duration: 53.83 seconds\n"
     ]
    },
    {
     "name": "stderr",
     "output_type": "stream",
     "text": [
      "Epoch 13 Training: 100%|██████████| 160/160 [00:45<00:00,  3.55it/s]\n",
      "Epoch 13 Validation: 100%|██████████| 40/40 [00:09<00:00,  4.42it/s]\n"
     ]
    },
    {
     "name": "stdout",
     "output_type": "stream",
     "text": [
      "Epoch [13/20], Train Loss: 0.0119, Train Acc: 0.9953\n",
      "Epoch [13/20], Val Loss: 0.1692, Val Acc: 0.9467\n",
      "Epoch 13 duration: 54.08 seconds\n"
     ]
    },
    {
     "name": "stderr",
     "output_type": "stream",
     "text": [
      "Epoch 14 Training: 100%|██████████| 160/160 [00:44<00:00,  3.61it/s]\n",
      "Epoch 14 Validation: 100%|██████████| 40/40 [00:08<00:00,  4.46it/s]\n"
     ]
    },
    {
     "name": "stdout",
     "output_type": "stream",
     "text": [
      "Epoch [14/20], Train Loss: 0.0233, Train Acc: 0.9957\n",
      "Epoch [14/20], Val Loss: 0.1798, Val Acc: 0.9436\n",
      "Epoch 14 duration: 53.25 seconds\n",
      "Early stopping at epoch 14\n",
      "Total training time: 749.06 seconds\n"
     ]
    },
    {
     "name": "stderr",
     "output_type": "stream",
     "text": [
      "Evaluating Image Model: 100%|██████████| 44/44 [00:09<00:00,  4.47it/s]\n"
     ]
    },
    {
     "name": "stdout",
     "output_type": "stream",
     "text": [
      "Test evaluation time: 9.87 seconds\n",
      "\n",
      "----- Results for Experiment 3: Adam_lr0.0001_bs16 -----\n",
      "Best epoch: 9 with validation loss: 0.1184\n",
      "Early stopping activated\n",
      "Test Metrics:\n",
      "  Accuracy: 0.9729\n",
      "  Precision: 0.9688\n",
      "  Recall: 0.9771\n",
      "  F1 Score: 0.9730\n",
      "\n",
      "\n",
      "===== RUNNING EXPERIMENT 4/8 =====\n",
      "Optimizer: Adam, Batch Size: 32, Learning Rate: 0.0001\n",
      "\n",
      "===== STARTING EXPERIMENT: Adam_lr0.0001_bs32 =====\n",
      "\n"
     ]
    },
    {
     "name": "stderr",
     "output_type": "stream",
     "text": [
      "Epoch 1 Training: 100%|██████████| 80/80 [00:46<00:00,  1.73it/s]\n",
      "Epoch 1 Validation: 100%|██████████| 20/20 [00:09<00:00,  2.14it/s]\n"
     ]
    },
    {
     "name": "stdout",
     "output_type": "stream",
     "text": [
      "Epoch [1/20], Train Loss: 0.4474, Train Acc: 0.8107\n",
      "Epoch [1/20], Val Loss: 0.2343, Val Acc: 0.9013\n",
      "Epoch 1 duration: 55.58 seconds\n",
      "New best model saved at epoch 1\n"
     ]
    },
    {
     "name": "stderr",
     "output_type": "stream",
     "text": [
      "Epoch 2 Training: 100%|██████████| 80/80 [00:45<00:00,  1.75it/s]\n",
      "Epoch 2 Validation: 100%|██████████| 20/20 [00:09<00:00,  2.17it/s]\n"
     ]
    },
    {
     "name": "stdout",
     "output_type": "stream",
     "text": [
      "Epoch [2/20], Train Loss: 0.2025, Train Acc: 0.9212\n",
      "Epoch [2/20], Val Loss: 0.1706, Val Acc: 0.9373\n",
      "Epoch 2 duration: 54.85 seconds\n",
      "New best model saved at epoch 2\n"
     ]
    },
    {
     "name": "stderr",
     "output_type": "stream",
     "text": [
      "Epoch 3 Training: 100%|██████████| 80/80 [00:45<00:00,  1.77it/s]\n",
      "Epoch 3 Validation: 100%|██████████| 20/20 [00:09<00:00,  2.19it/s]\n"
     ]
    },
    {
     "name": "stdout",
     "output_type": "stream",
     "text": [
      "Epoch [3/20], Train Loss: 0.1156, Train Acc: 0.9604\n",
      "Epoch [3/20], Val Loss: 0.1529, Val Acc: 0.9420\n",
      "Epoch 3 duration: 54.37 seconds\n",
      "New best model saved at epoch 3\n"
     ]
    },
    {
     "name": "stderr",
     "output_type": "stream",
     "text": [
      "Epoch 4 Training: 100%|██████████| 80/80 [00:44<00:00,  1.78it/s]\n",
      "Epoch 4 Validation: 100%|██████████| 20/20 [00:09<00:00,  2.17it/s]\n"
     ]
    },
    {
     "name": "stdout",
     "output_type": "stream",
     "text": [
      "Epoch [4/20], Train Loss: 0.0725, Train Acc: 0.9745\n",
      "Epoch [4/20], Val Loss: 0.1573, Val Acc: 0.9451\n",
      "Epoch 4 duration: 54.12 seconds\n"
     ]
    },
    {
     "name": "stderr",
     "output_type": "stream",
     "text": [
      "Epoch 5 Training: 100%|██████████| 80/80 [00:44<00:00,  1.79it/s]\n",
      "Epoch 5 Validation: 100%|██████████| 20/20 [00:09<00:00,  2.14it/s]\n"
     ]
    },
    {
     "name": "stdout",
     "output_type": "stream",
     "text": [
      "Epoch [5/20], Train Loss: 0.0608, Train Acc: 0.9769\n",
      "Epoch [5/20], Val Loss: 0.1407, Val Acc: 0.9483\n",
      "Epoch 5 duration: 54.12 seconds\n",
      "New best model saved at epoch 5\n"
     ]
    },
    {
     "name": "stderr",
     "output_type": "stream",
     "text": [
      "Epoch 6 Training: 100%|██████████| 80/80 [00:45<00:00,  1.77it/s]\n",
      "Epoch 6 Validation: 100%|██████████| 20/20 [00:09<00:00,  2.16it/s]\n"
     ]
    },
    {
     "name": "stdout",
     "output_type": "stream",
     "text": [
      "Epoch [6/20], Train Loss: 0.0415, Train Acc: 0.9882\n",
      "Epoch [6/20], Val Loss: 0.1451, Val Acc: 0.9467\n",
      "Epoch 6 duration: 54.36 seconds\n"
     ]
    },
    {
     "name": "stderr",
     "output_type": "stream",
     "text": [
      "Epoch 7 Training: 100%|██████████| 80/80 [00:45<00:00,  1.76it/s]\n",
      "Epoch 7 Validation: 100%|██████████| 20/20 [00:09<00:00,  2.19it/s]\n"
     ]
    },
    {
     "name": "stdout",
     "output_type": "stream",
     "text": [
      "Epoch [7/20], Train Loss: 0.0357, Train Acc: 0.9886\n",
      "Epoch [7/20], Val Loss: 0.1899, Val Acc: 0.9389\n",
      "Epoch 7 duration: 54.57 seconds\n"
     ]
    },
    {
     "name": "stderr",
     "output_type": "stream",
     "text": [
      "Epoch 8 Training: 100%|██████████| 80/80 [00:45<00:00,  1.77it/s]\n",
      "Epoch 8 Validation: 100%|██████████| 20/20 [00:09<00:00,  2.19it/s]\n"
     ]
    },
    {
     "name": "stdout",
     "output_type": "stream",
     "text": [
      "Epoch [8/20], Train Loss: 0.0210, Train Acc: 0.9941\n",
      "Epoch [8/20], Val Loss: 0.1636, Val Acc: 0.9420\n",
      "Epoch 8 duration: 54.36 seconds\n"
     ]
    },
    {
     "name": "stderr",
     "output_type": "stream",
     "text": [
      "Epoch 9 Training: 100%|██████████| 80/80 [00:45<00:00,  1.77it/s]\n",
      "Epoch 9 Validation: 100%|██████████| 20/20 [00:09<00:00,  2.15it/s]\n"
     ]
    },
    {
     "name": "stdout",
     "output_type": "stream",
     "text": [
      "Epoch [9/20], Train Loss: 0.0291, Train Acc: 0.9918\n",
      "Epoch [9/20], Val Loss: 0.1587, Val Acc: 0.9404\n",
      "Epoch 9 duration: 54.46 seconds\n"
     ]
    },
    {
     "name": "stderr",
     "output_type": "stream",
     "text": [
      "Epoch 10 Training: 100%|██████████| 80/80 [00:45<00:00,  1.78it/s]\n",
      "Epoch 10 Validation: 100%|██████████| 20/20 [00:09<00:00,  2.18it/s]\n"
     ]
    },
    {
     "name": "stdout",
     "output_type": "stream",
     "text": [
      "Epoch [10/20], Train Loss: 0.0228, Train Acc: 0.9933\n",
      "Epoch [10/20], Val Loss: 0.1393, Val Acc: 0.9467\n",
      "Epoch 10 duration: 54.20 seconds\n",
      "New best model saved at epoch 10\n"
     ]
    },
    {
     "name": "stderr",
     "output_type": "stream",
     "text": [
      "Epoch 11 Training: 100%|██████████| 80/80 [00:45<00:00,  1.78it/s]\n",
      "Epoch 11 Validation: 100%|██████████| 20/20 [00:09<00:00,  2.19it/s]\n"
     ]
    },
    {
     "name": "stdout",
     "output_type": "stream",
     "text": [
      "Epoch [11/20], Train Loss: 0.0138, Train Acc: 0.9976\n",
      "Epoch [11/20], Val Loss: 0.1426, Val Acc: 0.9451\n",
      "Epoch 11 duration: 54.18 seconds\n"
     ]
    },
    {
     "name": "stderr",
     "output_type": "stream",
     "text": [
      "Epoch 12 Training: 100%|██████████| 80/80 [00:44<00:00,  1.78it/s]\n",
      "Epoch 12 Validation: 100%|██████████| 20/20 [00:09<00:00,  2.15it/s]\n"
     ]
    },
    {
     "name": "stdout",
     "output_type": "stream",
     "text": [
      "Epoch [12/20], Train Loss: 0.0140, Train Acc: 0.9949\n",
      "Epoch [12/20], Val Loss: 0.1695, Val Acc: 0.9498\n",
      "Epoch 12 duration: 54.16 seconds\n"
     ]
    },
    {
     "name": "stderr",
     "output_type": "stream",
     "text": [
      "Epoch 13 Training: 100%|██████████| 80/80 [00:45<00:00,  1.77it/s]\n",
      "Epoch 13 Validation: 100%|██████████| 20/20 [00:09<00:00,  2.15it/s]\n"
     ]
    },
    {
     "name": "stdout",
     "output_type": "stream",
     "text": [
      "Epoch [13/20], Train Loss: 0.0125, Train Acc: 0.9961\n",
      "Epoch [13/20], Val Loss: 0.1727, Val Acc: 0.9530\n",
      "Epoch 13 duration: 54.61 seconds\n"
     ]
    },
    {
     "name": "stderr",
     "output_type": "stream",
     "text": [
      "Epoch 14 Training: 100%|██████████| 80/80 [00:45<00:00,  1.75it/s]\n",
      "Epoch 14 Validation: 100%|██████████| 20/20 [00:09<00:00,  2.19it/s]\n"
     ]
    },
    {
     "name": "stdout",
     "output_type": "stream",
     "text": [
      "Epoch [14/20], Train Loss: 0.0117, Train Acc: 0.9973\n",
      "Epoch [14/20], Val Loss: 0.1748, Val Acc: 0.9514\n",
      "Epoch 14 duration: 54.81 seconds\n"
     ]
    },
    {
     "name": "stderr",
     "output_type": "stream",
     "text": [
      "Epoch 15 Training: 100%|██████████| 80/80 [00:44<00:00,  1.78it/s]\n",
      "Epoch 15 Validation: 100%|██████████| 20/20 [00:09<00:00,  2.15it/s]\n"
     ]
    },
    {
     "name": "stdout",
     "output_type": "stream",
     "text": [
      "Epoch [15/20], Train Loss: 0.0160, Train Acc: 0.9949\n",
      "Epoch [15/20], Val Loss: 0.2009, Val Acc: 0.9483\n",
      "Epoch 15 duration: 54.23 seconds\n",
      "Early stopping at epoch 15\n",
      "Total training time: 817.64 seconds\n"
     ]
    },
    {
     "name": "stderr",
     "output_type": "stream",
     "text": [
      "Evaluating Image Model: 100%|██████████| 22/22 [00:10<00:00,  2.14it/s]\n"
     ]
    },
    {
     "name": "stdout",
     "output_type": "stream",
     "text": [
      "Test evaluation time: 10.28 seconds\n",
      "\n",
      "----- Results for Experiment 4: Adam_lr0.0001_bs32 -----\n",
      "Best epoch: 10 with validation loss: 0.1393\n",
      "Early stopping activated\n",
      "Test Metrics:\n",
      "  Accuracy: 0.9557\n",
      "  Precision: 0.9597\n",
      "  Recall: 0.9514\n",
      "  F1 Score: 0.9555\n",
      "\n",
      "\n",
      "===== RUNNING EXPERIMENT 5/8 =====\n",
      "Optimizer: RMSprop, Batch Size: 16, Learning Rate: 0.001\n",
      "\n",
      "===== STARTING EXPERIMENT: RMSprop_lr0.001_bs16 =====\n",
      "\n"
     ]
    },
    {
     "name": "stderr",
     "output_type": "stream",
     "text": [
      "Epoch 1 Training: 100%|██████████| 160/160 [00:44<00:00,  3.56it/s]\n",
      "Epoch 1 Validation: 100%|██████████| 40/40 [00:08<00:00,  4.49it/s]\n"
     ]
    },
    {
     "name": "stdout",
     "output_type": "stream",
     "text": [
      "Epoch [1/20], Train Loss: 0.4131, Train Acc: 0.8260\n",
      "Epoch [1/20], Val Loss: 0.2671, Val Acc: 0.9013\n",
      "Epoch 1 duration: 53.83 seconds\n",
      "New best model saved at epoch 1\n"
     ]
    },
    {
     "name": "stderr",
     "output_type": "stream",
     "text": [
      "Epoch 2 Training: 100%|██████████| 160/160 [00:44<00:00,  3.60it/s]\n",
      "Epoch 2 Validation: 100%|██████████| 40/40 [00:08<00:00,  4.48it/s]\n"
     ]
    },
    {
     "name": "stdout",
     "output_type": "stream",
     "text": [
      "Epoch [2/20], Train Loss: 0.2446, Train Acc: 0.9067\n",
      "Epoch [2/20], Val Loss: 0.1887, Val Acc: 0.9263\n",
      "Epoch 2 duration: 53.37 seconds\n",
      "New best model saved at epoch 2\n"
     ]
    },
    {
     "name": "stderr",
     "output_type": "stream",
     "text": [
      "Epoch 3 Training: 100%|██████████| 160/160 [00:44<00:00,  3.63it/s]\n",
      "Epoch 3 Validation: 100%|██████████| 40/40 [00:09<00:00,  4.41it/s]\n"
     ]
    },
    {
     "name": "stdout",
     "output_type": "stream",
     "text": [
      "Epoch [3/20], Train Loss: 0.2195, Train Acc: 0.9142\n",
      "Epoch [3/20], Val Loss: 0.2356, Val Acc: 0.9232\n",
      "Epoch 3 duration: 53.17 seconds\n"
     ]
    },
    {
     "name": "stderr",
     "output_type": "stream",
     "text": [
      "Epoch 4 Training: 100%|██████████| 160/160 [00:44<00:00,  3.61it/s]\n",
      "Epoch 4 Validation: 100%|██████████| 40/40 [00:09<00:00,  4.43it/s]\n"
     ]
    },
    {
     "name": "stdout",
     "output_type": "stream",
     "text": [
      "Epoch [4/20], Train Loss: 0.1596, Train Acc: 0.9408\n",
      "Epoch [4/20], Val Loss: 0.7983, Val Acc: 0.6599\n",
      "Epoch 4 duration: 53.42 seconds\n"
     ]
    },
    {
     "name": "stderr",
     "output_type": "stream",
     "text": [
      "Epoch 5 Training: 100%|██████████| 160/160 [00:44<00:00,  3.58it/s]\n",
      "Epoch 5 Validation: 100%|██████████| 40/40 [00:08<00:00,  4.49it/s]\n"
     ]
    },
    {
     "name": "stdout",
     "output_type": "stream",
     "text": [
      "Epoch [5/20], Train Loss: 0.1583, Train Acc: 0.9377\n",
      "Epoch [5/20], Val Loss: 0.1576, Val Acc: 0.9342\n",
      "Epoch 5 duration: 53.62 seconds\n",
      "New best model saved at epoch 5\n"
     ]
    },
    {
     "name": "stderr",
     "output_type": "stream",
     "text": [
      "Epoch 6 Training: 100%|██████████| 160/160 [00:44<00:00,  3.62it/s]\n",
      "Epoch 6 Validation: 100%|██████████| 40/40 [00:08<00:00,  4.48it/s]\n"
     ]
    },
    {
     "name": "stdout",
     "output_type": "stream",
     "text": [
      "Epoch [6/20], Train Loss: 0.1152, Train Acc: 0.9592\n",
      "Epoch [6/20], Val Loss: 0.4167, Val Acc: 0.8746\n",
      "Epoch 6 duration: 53.17 seconds\n"
     ]
    },
    {
     "name": "stderr",
     "output_type": "stream",
     "text": [
      "Epoch 7 Training: 100%|██████████| 160/160 [00:44<00:00,  3.62it/s]\n",
      "Epoch 7 Validation: 100%|██████████| 40/40 [00:09<00:00,  4.35it/s]\n"
     ]
    },
    {
     "name": "stdout",
     "output_type": "stream",
     "text": [
      "Epoch [7/20], Train Loss: 0.0960, Train Acc: 0.9639\n",
      "Epoch [7/20], Val Loss: 0.2003, Val Acc: 0.9342\n",
      "Epoch 7 duration: 53.44 seconds\n"
     ]
    },
    {
     "name": "stderr",
     "output_type": "stream",
     "text": [
      "Epoch 8 Training: 100%|██████████| 160/160 [00:44<00:00,  3.59it/s]\n",
      "Epoch 8 Validation: 100%|██████████| 40/40 [00:08<00:00,  4.49it/s]\n"
     ]
    },
    {
     "name": "stdout",
     "output_type": "stream",
     "text": [
      "Epoch [8/20], Train Loss: 0.0788, Train Acc: 0.9710\n",
      "Epoch [8/20], Val Loss: 0.2806, Val Acc: 0.9420\n",
      "Epoch 8 duration: 53.52 seconds\n"
     ]
    },
    {
     "name": "stderr",
     "output_type": "stream",
     "text": [
      "Epoch 9 Training: 100%|██████████| 160/160 [00:44<00:00,  3.59it/s]\n",
      "Epoch 9 Validation: 100%|██████████| 40/40 [00:08<00:00,  4.48it/s]\n"
     ]
    },
    {
     "name": "stdout",
     "output_type": "stream",
     "text": [
      "Epoch [9/20], Train Loss: 0.0698, Train Acc: 0.9730\n",
      "Epoch [9/20], Val Loss: 0.1722, Val Acc: 0.9451\n",
      "Epoch 9 duration: 53.47 seconds\n"
     ]
    },
    {
     "name": "stderr",
     "output_type": "stream",
     "text": [
      "Epoch 10 Training: 100%|██████████| 160/160 [00:44<00:00,  3.60it/s]\n",
      "Epoch 10 Validation: 100%|██████████| 40/40 [00:09<00:00,  4.38it/s]\n"
     ]
    },
    {
     "name": "stdout",
     "output_type": "stream",
     "text": [
      "Epoch [10/20], Train Loss: 0.0686, Train Acc: 0.9722\n",
      "Epoch [10/20], Val Loss: 0.2461, Val Acc: 0.9342\n",
      "Epoch 10 duration: 53.62 seconds\n",
      "Early stopping at epoch 10\n",
      "Total training time: 535.03 seconds\n"
     ]
    },
    {
     "name": "stderr",
     "output_type": "stream",
     "text": [
      "Evaluating Image Model: 100%|██████████| 44/44 [00:09<00:00,  4.56it/s]\n"
     ]
    },
    {
     "name": "stdout",
     "output_type": "stream",
     "text": [
      "Test evaluation time: 9.67 seconds\n",
      "\n",
      "----- Results for Experiment 5: RMSprop_lr0.001_bs16 -----\n",
      "Best epoch: 5 with validation loss: 0.1576\n",
      "Early stopping activated\n",
      "Test Metrics:\n",
      "  Accuracy: 0.9586\n",
      "  Precision: 0.9625\n",
      "  Recall: 0.9543\n",
      "  F1 Score: 0.9584\n",
      "\n",
      "\n",
      "===== RUNNING EXPERIMENT 6/8 =====\n",
      "Optimizer: RMSprop, Batch Size: 32, Learning Rate: 0.001\n",
      "\n",
      "===== STARTING EXPERIMENT: RMSprop_lr0.001_bs32 =====\n",
      "\n"
     ]
    },
    {
     "name": "stderr",
     "output_type": "stream",
     "text": [
      "Epoch 1 Training: 100%|██████████| 80/80 [00:45<00:00,  1.77it/s]\n",
      "Epoch 1 Validation: 100%|██████████| 20/20 [00:09<00:00,  2.19it/s]\n"
     ]
    },
    {
     "name": "stdout",
     "output_type": "stream",
     "text": [
      "Epoch [1/20], Train Loss: 0.4173, Train Acc: 0.8158\n",
      "Epoch [1/20], Val Loss: 0.2314, Val Acc: 0.8981\n",
      "Epoch 1 duration: 54.37 seconds\n",
      "New best model saved at epoch 1\n"
     ]
    },
    {
     "name": "stderr",
     "output_type": "stream",
     "text": [
      "Epoch 2 Training: 100%|██████████| 80/80 [00:44<00:00,  1.79it/s]\n",
      "Epoch 2 Validation: 100%|██████████| 20/20 [00:09<00:00,  2.15it/s]\n"
     ]
    },
    {
     "name": "stdout",
     "output_type": "stream",
     "text": [
      "Epoch [2/20], Train Loss: 0.2171, Train Acc: 0.9075\n",
      "Epoch [2/20], Val Loss: 0.1769, Val Acc: 0.9373\n",
      "Epoch 2 duration: 53.91 seconds\n",
      "New best model saved at epoch 2\n"
     ]
    },
    {
     "name": "stderr",
     "output_type": "stream",
     "text": [
      "Epoch 3 Training: 100%|██████████| 80/80 [00:45<00:00,  1.78it/s]\n",
      "Epoch 3 Validation: 100%|██████████| 20/20 [00:09<00:00,  2.18it/s]\n"
     ]
    },
    {
     "name": "stdout",
     "output_type": "stream",
     "text": [
      "Epoch [3/20], Train Loss: 0.1693, Train Acc: 0.9361\n",
      "Epoch [3/20], Val Loss: 0.1951, Val Acc: 0.9357\n",
      "Epoch 3 duration: 54.19 seconds\n"
     ]
    },
    {
     "name": "stderr",
     "output_type": "stream",
     "text": [
      "Epoch 4 Training: 100%|██████████| 80/80 [00:45<00:00,  1.75it/s]\n",
      "Epoch 4 Validation: 100%|██████████| 20/20 [00:09<00:00,  2.20it/s]\n"
     ]
    },
    {
     "name": "stdout",
     "output_type": "stream",
     "text": [
      "Epoch [4/20], Train Loss: 0.1306, Train Acc: 0.9498\n",
      "Epoch [4/20], Val Loss: 0.1620, Val Acc: 0.9420\n",
      "Epoch 4 duration: 54.77 seconds\n",
      "New best model saved at epoch 4\n"
     ]
    },
    {
     "name": "stderr",
     "output_type": "stream",
     "text": [
      "Epoch 5 Training: 100%|██████████| 80/80 [00:45<00:00,  1.78it/s]\n",
      "Epoch 5 Validation: 100%|██████████| 20/20 [00:09<00:00,  2.16it/s]\n"
     ]
    },
    {
     "name": "stdout",
     "output_type": "stream",
     "text": [
      "Epoch [5/20], Train Loss: 0.1015, Train Acc: 0.9600\n",
      "Epoch [5/20], Val Loss: 0.1359, Val Acc: 0.9498\n",
      "Epoch 5 duration: 54.27 seconds\n",
      "New best model saved at epoch 5\n"
     ]
    },
    {
     "name": "stderr",
     "output_type": "stream",
     "text": [
      "Epoch 6 Training: 100%|██████████| 80/80 [00:44<00:00,  1.80it/s]\n",
      "Epoch 6 Validation: 100%|██████████| 20/20 [00:09<00:00,  2.14it/s]\n"
     ]
    },
    {
     "name": "stdout",
     "output_type": "stream",
     "text": [
      "Epoch [6/20], Train Loss: 0.0811, Train Acc: 0.9675\n",
      "Epoch [6/20], Val Loss: 0.1621, Val Acc: 0.9389\n",
      "Epoch 6 duration: 53.74 seconds\n"
     ]
    },
    {
     "name": "stderr",
     "output_type": "stream",
     "text": [
      "Epoch 7 Training: 100%|██████████| 80/80 [00:44<00:00,  1.79it/s]\n",
      "Epoch 7 Validation: 100%|██████████| 20/20 [00:09<00:00,  2.18it/s]\n"
     ]
    },
    {
     "name": "stdout",
     "output_type": "stream",
     "text": [
      "Epoch [7/20], Train Loss: 0.0769, Train Acc: 0.9749\n",
      "Epoch [7/20], Val Loss: 0.1919, Val Acc: 0.9310\n",
      "Epoch 7 duration: 53.95 seconds\n"
     ]
    },
    {
     "name": "stderr",
     "output_type": "stream",
     "text": [
      "Epoch 8 Training: 100%|██████████| 80/80 [00:44<00:00,  1.78it/s]\n",
      "Epoch 8 Validation: 100%|██████████| 20/20 [00:09<00:00,  2.19it/s]\n"
     ]
    },
    {
     "name": "stdout",
     "output_type": "stream",
     "text": [
      "Epoch [8/20], Train Loss: 0.0522, Train Acc: 0.9820\n",
      "Epoch [8/20], Val Loss: 0.4108, Val Acc: 0.8903\n",
      "Epoch 8 duration: 54.13 seconds\n"
     ]
    },
    {
     "name": "stderr",
     "output_type": "stream",
     "text": [
      "Epoch 9 Training: 100%|██████████| 80/80 [00:44<00:00,  1.78it/s]\n",
      "Epoch 9 Validation: 100%|██████████| 20/20 [00:09<00:00,  2.14it/s]\n"
     ]
    },
    {
     "name": "stdout",
     "output_type": "stream",
     "text": [
      "Epoch [9/20], Train Loss: 0.0584, Train Acc: 0.9777\n",
      "Epoch [9/20], Val Loss: 0.1448, Val Acc: 0.9530\n",
      "Epoch 9 duration: 54.26 seconds\n"
     ]
    },
    {
     "name": "stderr",
     "output_type": "stream",
     "text": [
      "Epoch 10 Training: 100%|██████████| 80/80 [00:45<00:00,  1.77it/s]\n",
      "Epoch 10 Validation: 100%|██████████| 20/20 [00:09<00:00,  2.18it/s]\n"
     ]
    },
    {
     "name": "stdout",
     "output_type": "stream",
     "text": [
      "Epoch [10/20], Train Loss: 0.0502, Train Acc: 0.9816\n",
      "Epoch [10/20], Val Loss: 0.1570, Val Acc: 0.9514\n",
      "Epoch 10 duration: 54.31 seconds\n",
      "Early stopping at epoch 10\n",
      "Total training time: 542.68 seconds\n"
     ]
    },
    {
     "name": "stderr",
     "output_type": "stream",
     "text": [
      "Evaluating Image Model: 100%|██████████| 22/22 [00:10<00:00,  2.19it/s]\n"
     ]
    },
    {
     "name": "stdout",
     "output_type": "stream",
     "text": [
      "Test evaluation time: 10.06 seconds\n",
      "\n",
      "----- Results for Experiment 6: RMSprop_lr0.001_bs32 -----\n",
      "Best epoch: 5 with validation loss: 0.1359\n",
      "Early stopping activated\n",
      "Test Metrics:\n",
      "  Accuracy: 0.9586\n",
      "  Precision: 0.9820\n",
      "  Recall: 0.9343\n",
      "  F1 Score: 0.9575\n",
      "\n",
      "\n",
      "===== RUNNING EXPERIMENT 7/8 =====\n",
      "Optimizer: RMSprop, Batch Size: 16, Learning Rate: 0.0001\n",
      "\n",
      "===== STARTING EXPERIMENT: RMSprop_lr0.0001_bs16 =====\n",
      "\n"
     ]
    },
    {
     "name": "stderr",
     "output_type": "stream",
     "text": [
      "Epoch 1 Training: 100%|██████████| 160/160 [00:44<00:00,  3.58it/s]\n",
      "Epoch 1 Validation: 100%|██████████| 40/40 [00:09<00:00,  4.41it/s]\n"
     ]
    },
    {
     "name": "stdout",
     "output_type": "stream",
     "text": [
      "Epoch [1/20], Train Loss: 0.3003, Train Acc: 0.8832\n",
      "Epoch [1/20], Val Loss: 0.1626, Val Acc: 0.9420\n",
      "Epoch 1 duration: 53.75 seconds\n",
      "New best model saved at epoch 1\n"
     ]
    },
    {
     "name": "stderr",
     "output_type": "stream",
     "text": [
      "Epoch 2 Training: 100%|██████████| 160/160 [00:44<00:00,  3.59it/s]\n",
      "Epoch 2 Validation: 100%|██████████| 40/40 [00:09<00:00,  4.44it/s]\n"
     ]
    },
    {
     "name": "stdout",
     "output_type": "stream",
     "text": [
      "Epoch [2/20], Train Loss: 0.1592, Train Acc: 0.9408\n",
      "Epoch [2/20], Val Loss: 0.1592, Val Acc: 0.9467\n",
      "Epoch 2 duration: 53.58 seconds\n",
      "New best model saved at epoch 2\n"
     ]
    },
    {
     "name": "stderr",
     "output_type": "stream",
     "text": [
      "Epoch 3 Training: 100%|██████████| 160/160 [00:44<00:00,  3.57it/s]\n",
      "Epoch 3 Validation: 100%|██████████| 40/40 [00:08<00:00,  4.48it/s]\n"
     ]
    },
    {
     "name": "stdout",
     "output_type": "stream",
     "text": [
      "Epoch [3/20], Train Loss: 0.1104, Train Acc: 0.9592\n",
      "Epoch [3/20], Val Loss: 0.1377, Val Acc: 0.9467\n",
      "Epoch 3 duration: 53.76 seconds\n",
      "New best model saved at epoch 3\n"
     ]
    },
    {
     "name": "stderr",
     "output_type": "stream",
     "text": [
      "Epoch 4 Training: 100%|██████████| 160/160 [00:44<00:00,  3.60it/s]\n",
      "Epoch 4 Validation: 100%|██████████| 40/40 [00:09<00:00,  4.36it/s]\n"
     ]
    },
    {
     "name": "stdout",
     "output_type": "stream",
     "text": [
      "Epoch [4/20], Train Loss: 0.0606, Train Acc: 0.9820\n",
      "Epoch [4/20], Val Loss: 0.1476, Val Acc: 0.9467\n",
      "Epoch 4 duration: 53.69 seconds\n"
     ]
    },
    {
     "name": "stderr",
     "output_type": "stream",
     "text": [
      "Epoch 5 Training: 100%|██████████| 160/160 [00:44<00:00,  3.59it/s]\n",
      "Epoch 5 Validation: 100%|██████████| 40/40 [00:08<00:00,  4.46it/s]\n"
     ]
    },
    {
     "name": "stdout",
     "output_type": "stream",
     "text": [
      "Epoch [5/20], Train Loss: 0.0538, Train Acc: 0.9824\n",
      "Epoch [5/20], Val Loss: 0.1265, Val Acc: 0.9561\n",
      "Epoch 5 duration: 53.59 seconds\n",
      "New best model saved at epoch 5\n"
     ]
    },
    {
     "name": "stderr",
     "output_type": "stream",
     "text": [
      "Epoch 6 Training: 100%|██████████| 160/160 [00:44<00:00,  3.58it/s]\n",
      "Epoch 6 Validation: 100%|██████████| 40/40 [00:08<00:00,  4.46it/s]\n"
     ]
    },
    {
     "name": "stdout",
     "output_type": "stream",
     "text": [
      "Epoch [6/20], Train Loss: 0.0364, Train Acc: 0.9875\n",
      "Epoch [6/20], Val Loss: 0.1431, Val Acc: 0.9483\n",
      "Epoch 6 duration: 53.68 seconds\n"
     ]
    },
    {
     "name": "stderr",
     "output_type": "stream",
     "text": [
      "Epoch 7 Training: 100%|██████████| 160/160 [00:44<00:00,  3.58it/s]\n",
      "Epoch 7 Validation: 100%|██████████| 40/40 [00:08<00:00,  4.46it/s]\n"
     ]
    },
    {
     "name": "stdout",
     "output_type": "stream",
     "text": [
      "Epoch [7/20], Train Loss: 0.0323, Train Acc: 0.9906\n",
      "Epoch [7/20], Val Loss: 0.1538, Val Acc: 0.9530\n",
      "Epoch 7 duration: 53.67 seconds\n"
     ]
    },
    {
     "name": "stderr",
     "output_type": "stream",
     "text": [
      "Epoch 8 Training: 100%|██████████| 160/160 [00:44<00:00,  3.59it/s]\n",
      "Epoch 8 Validation: 100%|██████████| 40/40 [00:09<00:00,  4.32it/s]\n"
     ]
    },
    {
     "name": "stdout",
     "output_type": "stream",
     "text": [
      "Epoch [8/20], Train Loss: 0.0220, Train Acc: 0.9949\n",
      "Epoch [8/20], Val Loss: 0.1669, Val Acc: 0.9498\n",
      "Epoch 8 duration: 53.84 seconds\n"
     ]
    },
    {
     "name": "stderr",
     "output_type": "stream",
     "text": [
      "Epoch 9 Training: 100%|██████████| 160/160 [00:44<00:00,  3.62it/s]\n",
      "Epoch 9 Validation: 100%|██████████| 40/40 [00:08<00:00,  4.48it/s]\n"
     ]
    },
    {
     "name": "stdout",
     "output_type": "stream",
     "text": [
      "Epoch [9/20], Train Loss: 0.0269, Train Acc: 0.9918\n",
      "Epoch [9/20], Val Loss: 0.1692, Val Acc: 0.9467\n",
      "Epoch 9 duration: 53.16 seconds\n"
     ]
    },
    {
     "name": "stderr",
     "output_type": "stream",
     "text": [
      "Epoch 10 Training: 100%|██████████| 160/160 [00:44<00:00,  3.59it/s]\n",
      "Epoch 10 Validation: 100%|██████████| 40/40 [00:09<00:00,  4.43it/s]\n"
     ]
    },
    {
     "name": "stdout",
     "output_type": "stream",
     "text": [
      "Epoch [10/20], Train Loss: 0.0195, Train Acc: 0.9937\n",
      "Epoch [10/20], Val Loss: 0.1858, Val Acc: 0.9498\n",
      "Epoch 10 duration: 53.60 seconds\n",
      "Early stopping at epoch 10\n",
      "Total training time: 536.87 seconds\n"
     ]
    },
    {
     "name": "stderr",
     "output_type": "stream",
     "text": [
      "Evaluating Image Model: 100%|██████████| 44/44 [00:09<00:00,  4.54it/s]\n"
     ]
    },
    {
     "name": "stdout",
     "output_type": "stream",
     "text": [
      "Test evaluation time: 9.71 seconds\n",
      "\n",
      "----- Results for Experiment 7: RMSprop_lr0.0001_bs16 -----\n",
      "Best epoch: 5 with validation loss: 0.1265\n",
      "Early stopping activated\n",
      "Test Metrics:\n",
      "  Accuracy: 0.9700\n",
      "  Precision: 0.9687\n",
      "  Recall: 0.9714\n",
      "  F1 Score: 0.9700\n",
      "\n",
      "\n",
      "===== RUNNING EXPERIMENT 8/8 =====\n",
      "Optimizer: RMSprop, Batch Size: 32, Learning Rate: 0.0001\n",
      "\n",
      "===== STARTING EXPERIMENT: RMSprop_lr0.0001_bs32 =====\n",
      "\n"
     ]
    },
    {
     "name": "stderr",
     "output_type": "stream",
     "text": [
      "Epoch 1 Training: 100%|██████████| 80/80 [00:45<00:00,  1.76it/s]\n",
      "Epoch 1 Validation: 100%|██████████| 20/20 [00:09<00:00,  2.17it/s]\n"
     ]
    },
    {
     "name": "stdout",
     "output_type": "stream",
     "text": [
      "Epoch [1/20], Train Loss: 0.2867, Train Acc: 0.8821\n",
      "Epoch [1/20], Val Loss: 0.1654, Val Acc: 0.9295\n",
      "Epoch 1 duration: 54.71 seconds\n",
      "New best model saved at epoch 1\n"
     ]
    },
    {
     "name": "stderr",
     "output_type": "stream",
     "text": [
      "Epoch 2 Training: 100%|██████████| 80/80 [00:45<00:00,  1.75it/s]\n",
      "Epoch 2 Validation: 100%|██████████| 20/20 [00:09<00:00,  2.19it/s]\n"
     ]
    },
    {
     "name": "stdout",
     "output_type": "stream",
     "text": [
      "Epoch [2/20], Train Loss: 0.1378, Train Acc: 0.9510\n",
      "Epoch [2/20], Val Loss: 0.1598, Val Acc: 0.9342\n",
      "Epoch 2 duration: 54.78 seconds\n",
      "New best model saved at epoch 2\n"
     ]
    },
    {
     "name": "stderr",
     "output_type": "stream",
     "text": [
      "Epoch 3 Training: 100%|██████████| 80/80 [00:45<00:00,  1.75it/s]\n",
      "Epoch 3 Validation: 100%|██████████| 20/20 [00:09<00:00,  2.13it/s]\n"
     ]
    },
    {
     "name": "stdout",
     "output_type": "stream",
     "text": [
      "Epoch [3/20], Train Loss: 0.0731, Train Acc: 0.9745\n",
      "Epoch [3/20], Val Loss: 0.1667, Val Acc: 0.9373\n",
      "Epoch 3 duration: 55.17 seconds\n"
     ]
    },
    {
     "name": "stderr",
     "output_type": "stream",
     "text": [
      "Epoch 4 Training: 100%|██████████| 80/80 [00:44<00:00,  1.78it/s]\n",
      "Epoch 4 Validation: 100%|██████████| 20/20 [00:09<00:00,  2.17it/s]\n"
     ]
    },
    {
     "name": "stdout",
     "output_type": "stream",
     "text": [
      "Epoch [4/20], Train Loss: 0.0569, Train Acc: 0.9804\n",
      "Epoch [4/20], Val Loss: 0.1526, Val Acc: 0.9451\n",
      "Epoch 4 duration: 54.23 seconds\n",
      "New best model saved at epoch 4\n"
     ]
    },
    {
     "name": "stderr",
     "output_type": "stream",
     "text": [
      "Epoch 5 Training: 100%|██████████| 80/80 [00:45<00:00,  1.76it/s]\n",
      "Epoch 5 Validation: 100%|██████████| 20/20 [00:09<00:00,  2.19it/s]\n"
     ]
    },
    {
     "name": "stdout",
     "output_type": "stream",
     "text": [
      "Epoch [5/20], Train Loss: 0.0372, Train Acc: 0.9882\n",
      "Epoch [5/20], Val Loss: 0.1635, Val Acc: 0.9498\n",
      "Epoch 5 duration: 54.49 seconds\n"
     ]
    },
    {
     "name": "stderr",
     "output_type": "stream",
     "text": [
      "Epoch 6 Training: 100%|██████████| 80/80 [00:45<00:00,  1.77it/s]\n",
      "Epoch 6 Validation: 100%|██████████| 20/20 [00:09<00:00,  2.13it/s]\n"
     ]
    },
    {
     "name": "stdout",
     "output_type": "stream",
     "text": [
      "Epoch [6/20], Train Loss: 0.0385, Train Acc: 0.9855\n",
      "Epoch [6/20], Val Loss: 0.1653, Val Acc: 0.9514\n",
      "Epoch 6 duration: 54.54 seconds\n"
     ]
    },
    {
     "name": "stderr",
     "output_type": "stream",
     "text": [
      "Epoch 7 Training: 100%|██████████| 80/80 [00:44<00:00,  1.78it/s]\n",
      "Epoch 7 Validation: 100%|██████████| 20/20 [00:09<00:00,  2.15it/s]\n"
     ]
    },
    {
     "name": "stdout",
     "output_type": "stream",
     "text": [
      "Epoch [7/20], Train Loss: 0.0233, Train Acc: 0.9926\n",
      "Epoch [7/20], Val Loss: 0.1814, Val Acc: 0.9389\n",
      "Epoch 7 duration: 54.29 seconds\n"
     ]
    },
    {
     "name": "stderr",
     "output_type": "stream",
     "text": [
      "Epoch 8 Training: 100%|██████████| 80/80 [00:45<00:00,  1.76it/s]\n",
      "Epoch 8 Validation: 100%|██████████| 20/20 [00:09<00:00,  2.18it/s]\n"
     ]
    },
    {
     "name": "stdout",
     "output_type": "stream",
     "text": [
      "Epoch [8/20], Train Loss: 0.0211, Train Acc: 0.9918\n",
      "Epoch [8/20], Val Loss: 0.1616, Val Acc: 0.9483\n",
      "Epoch 8 duration: 54.74 seconds\n"
     ]
    },
    {
     "name": "stderr",
     "output_type": "stream",
     "text": [
      "Epoch 9 Training: 100%|██████████| 80/80 [00:44<00:00,  1.78it/s]\n",
      "Epoch 9 Validation: 100%|██████████| 20/20 [00:09<00:00,  2.17it/s]\n"
     ]
    },
    {
     "name": "stdout",
     "output_type": "stream",
     "text": [
      "Epoch [9/20], Train Loss: 0.0150, Train Acc: 0.9949\n",
      "Epoch [9/20], Val Loss: 0.2180, Val Acc: 0.9436\n",
      "Epoch 9 duration: 54.16 seconds\n",
      "Early stopping at epoch 9\n",
      "Total training time: 491.49 seconds\n"
     ]
    },
    {
     "name": "stderr",
     "output_type": "stream",
     "text": [
      "Evaluating Image Model: 100%|██████████| 22/22 [00:10<00:00,  2.16it/s]"
     ]
    },
    {
     "name": "stdout",
     "output_type": "stream",
     "text": [
      "Test evaluation time: 10.19 seconds\n",
      "\n",
      "----- Results for Experiment 8: RMSprop_lr0.0001_bs32 -----\n",
      "Best epoch: 4 with validation loss: 0.1526\n",
      "Early stopping activated\n",
      "Test Metrics:\n",
      "  Accuracy: 0.9671\n",
      "  Precision: 0.9767\n",
      "  Recall: 0.9571\n",
      "  F1 Score: 0.9668\n"
     ]
    },
    {
     "name": "stderr",
     "output_type": "stream",
     "text": [
      "\n"
     ]
    }
   ],
   "source": [
    "# Run all experiments and collect results\n",
    "results = []\n",
    "for i, exp in enumerate(experiments):\n",
    "    print(f\"\\n\\n===== RUNNING EXPERIMENT {i+1}/{len(experiments)} =====\")\n",
    "    print(f\"Optimizer: {exp['optimizer']}, Batch Size: {exp['batch_size']}, Learning Rate: {exp['learning_rate']}\")\n",
    "    \n",
    "    experiment_result = run_experiment(\n",
    "        optimizer_name=exp['optimizer'],\n",
    "        learning_rate=exp['learning_rate'],\n",
    "        batch_size=exp['batch_size'],\n",
    "        device=device\n",
    "    )\n",
    "    \n",
    "    results.append(experiment_result)\n",
    "    \n",
    "    # Print current experiment metrics\n",
    "    print(f\"\\n----- Results for Experiment {i+1}: {experiment_result['experiment_name']} -----\")\n",
    "    print(f\"Best epoch: {experiment_result['best_epoch']} with validation loss: {experiment_result['best_val_loss']:.4f}\")\n",
    "    if experiment_result.get('stopped_early', False):\n",
    "        print(\"Early stopping activated\")\n",
    "    print(\"Test Metrics:\")\n",
    "    for metric_name, value in experiment_result['metrics'].items():\n",
    "        print(f\"  {metric_name}: {value:.4f}\")\n"
   ]
  },
  {
   "cell_type": "code",
   "execution_count": 26,
   "id": "30ebffcc",
   "metadata": {
    "execution": {
     "iopub.execute_input": "2025-08-03T05:41:36.274213Z",
     "iopub.status.busy": "2025-08-03T05:41:36.273695Z",
     "iopub.status.idle": "2025-08-03T05:41:36.278075Z",
     "shell.execute_reply": "2025-08-03T05:41:36.277274Z"
    },
    "papermill": {
     "duration": 0.594769,
     "end_time": "2025-08-03T05:41:36.279211",
     "exception": false,
     "start_time": "2025-08-03T05:41:35.684442",
     "status": "completed"
    },
    "tags": []
   },
   "outputs": [
    {
     "name": "stdout",
     "output_type": "stream",
     "text": [
      "Adam_lr0.001_bs16\n",
      "Adam_lr0.001_bs32\n",
      "Adam_lr0.0001_bs16\n",
      "Adam_lr0.0001_bs32\n",
      "RMSprop_lr0.001_bs16\n",
      "RMSprop_lr0.001_bs32\n",
      "RMSprop_lr0.0001_bs16\n",
      "RMSprop_lr0.0001_bs32\n"
     ]
    }
   ],
   "source": [
    "for r in results:\n",
    "    print(r['experiment_name'])"
   ]
  },
  {
   "cell_type": "code",
   "execution_count": 27,
   "id": "c6f3cc95",
   "metadata": {
    "execution": {
     "iopub.execute_input": "2025-08-03T05:41:37.387568Z",
     "iopub.status.busy": "2025-08-03T05:41:37.387252Z",
     "iopub.status.idle": "2025-08-03T05:41:37.394559Z",
     "shell.execute_reply": "2025-08-03T05:41:37.393835Z"
    },
    "papermill": {
     "duration": 0.594235,
     "end_time": "2025-08-03T05:41:37.395651",
     "exception": false,
     "start_time": "2025-08-03T05:41:36.801416",
     "status": "completed"
    },
    "tags": []
   },
   "outputs": [],
   "source": [
    "# Create a DataFrame for easier analysis\n",
    "results_df = pd.DataFrame([\n",
    "    {\n",
    "        'Experiment': r['experiment_name'],\n",
    "        'Optimizer': r['experiment_name'].split('_')[0],\n",
    "        'Learning Rate': float(r['experiment_name'].split('_')[1][2:]),  # remove 'lr'\n",
    "        'Batch Size': int(r['experiment_name'].split('_')[2][2:]),       # remove 'bs'\n",
    "        'Best Epoch': r['best_epoch'],\n",
    "        'Best Val Loss': r['best_val_loss'],\n",
    "        'Accuracy': r['metrics']['Accuracy'],\n",
    "        'Precision': r['metrics']['Precision'],\n",
    "        'Recall': r['metrics']['Recall'],\n",
    "        'F1 Score': r['metrics']['F1 Score'],\n",
    "        'Model Path': r['model_path']\n",
    "    }\n",
    "    for r in results\n",
    "])\n"
   ]
  },
  {
   "cell_type": "code",
   "execution_count": 28,
   "id": "7624508c",
   "metadata": {
    "execution": {
     "iopub.execute_input": "2025-08-03T05:41:38.524582Z",
     "iopub.status.busy": "2025-08-03T05:41:38.524274Z",
     "iopub.status.idle": "2025-08-03T05:41:38.535545Z",
     "shell.execute_reply": "2025-08-03T05:41:38.534577Z"
    },
    "papermill": {
     "duration": 0.611622,
     "end_time": "2025-08-03T05:41:38.537029",
     "exception": false,
     "start_time": "2025-08-03T05:41:37.925407",
     "status": "completed"
    },
    "tags": []
   },
   "outputs": [
    {
     "name": "stdout",
     "output_type": "stream",
     "text": [
      "\n",
      "Results saved to image_model_experiments_results_20250803_054138.csv\n"
     ]
    }
   ],
   "source": [
    "from datetime import datetime\n",
    "# Save results to CSV\n",
    "timestamp = datetime.now().strftime(\"%Y%m%d_%H%M%S\")\n",
    "results_csv_path = f'image_model_experiments_results_{timestamp}.csv'\n",
    "results_df.to_csv(results_csv_path, index=False)\n",
    "print(f\"\\nResults saved to {results_csv_path}\")"
   ]
  },
  {
   "cell_type": "code",
   "execution_count": 29,
   "id": "983feb3c",
   "metadata": {
    "execution": {
     "iopub.execute_input": "2025-08-03T05:41:39.622756Z",
     "iopub.status.busy": "2025-08-03T05:41:39.622077Z",
     "iopub.status.idle": "2025-08-03T05:41:39.632897Z",
     "shell.execute_reply": "2025-08-03T05:41:39.632336Z"
    },
    "papermill": {
     "duration": 0.566823,
     "end_time": "2025-08-03T05:41:39.633965",
     "exception": false,
     "start_time": "2025-08-03T05:41:39.067142",
     "status": "completed"
    },
    "tags": []
   },
   "outputs": [
    {
     "name": "stdout",
     "output_type": "stream",
     "text": [
      "\n",
      "===== EXPERIMENT RESULTS SUMMARY (Sorted by F1 Score) =====\n",
      "              Experiment  Accuracy  Precision    Recall  F1 Score\n",
      "0      Adam_lr0.001_bs16  0.961429   0.973607  0.948571  0.960926\n",
      "1      Adam_lr0.001_bs32  0.961429   0.982090  0.940000  0.960584\n",
      "2     Adam_lr0.0001_bs16  0.972857   0.968839  0.977143  0.972973\n",
      "3     Adam_lr0.0001_bs32  0.955714   0.959654  0.951429  0.955524\n",
      "4   RMSprop_lr0.001_bs16  0.958571   0.962536  0.954286  0.958393\n",
      "5   RMSprop_lr0.001_bs32  0.958571   0.981982  0.934286  0.957540\n",
      "6  RMSprop_lr0.0001_bs16  0.970000   0.968661  0.971429  0.970043\n",
      "7  RMSprop_lr0.0001_bs32  0.967143   0.976676  0.957143  0.966811\n"
     ]
    }
   ],
   "source": [
    "# Print summary of all experiment results sorted by F1 Score\n",
    "print(\"\\n===== EXPERIMENT RESULTS SUMMARY (Sorted by F1 Score) =====\")\n",
    "sorted_results = results_df.sort_values('F1 Score', ascending=False)\n",
    "print(results_df[['Experiment', 'Accuracy', 'Precision', 'Recall','F1 Score']])"
   ]
  },
  {
   "cell_type": "code",
   "execution_count": 30,
   "id": "aa99346b",
   "metadata": {
    "execution": {
     "iopub.execute_input": "2025-08-03T05:41:40.753106Z",
     "iopub.status.busy": "2025-08-03T05:41:40.752438Z",
     "iopub.status.idle": "2025-08-03T05:41:40.758221Z",
     "shell.execute_reply": "2025-08-03T05:41:40.757472Z"
    },
    "papermill": {
     "duration": 0.542985,
     "end_time": "2025-08-03T05:41:40.759412",
     "exception": false,
     "start_time": "2025-08-03T05:41:40.216427",
     "status": "completed"
    },
    "tags": []
   },
   "outputs": [
    {
     "name": "stdout",
     "output_type": "stream",
     "text": [
      "\n",
      "===== BEST MODEL =====\n",
      "Configuration: Adam_lr0.0001_bs16\n",
      "Batch Size: 16\n",
      "Learning Rate: 0.0001\n",
      "Best Epoch: 9\n",
      "F1 Score: 0.9730\n",
      "Accuracy: 0.9729\n",
      "Precision: 0.9688\n",
      "Recall: 0.9771\n",
      "Model Path: best_image_model_Adam_lr0.0001_bs16_state_dict.pt\n"
     ]
    }
   ],
   "source": [
    "# Find the best model based on F1 score\n",
    "best_exp = sorted_results.iloc[0]\n",
    "print(\"\\n===== BEST MODEL =====\")\n",
    "print(f\"Configuration: {best_exp['Experiment']}\")\n",
    "print(f\"Batch Size: {best_exp['Batch Size']}\")\n",
    "print(f\"Learning Rate: {best_exp['Learning Rate']}\")\n",
    "print(f\"Best Epoch: {best_exp['Best Epoch']}\")\n",
    "print(f\"F1 Score: {best_exp['F1 Score']:.4f}\")\n",
    "print(f\"Accuracy: {best_exp['Accuracy']:.4f}\")\n",
    "print(f\"Precision: {best_exp['Precision']:.4f}\")\n",
    "print(f\"Recall: {best_exp['Recall']:.4f}\")\n",
    "print(f\"Model Path: {best_exp['Model Path']}\")"
   ]
  }
 ],
 "metadata": {
  "kaggle": {
   "accelerator": "gpu",
   "dataSources": [
    {
     "datasetId": 7745791,
     "sourceId": 12290132,
     "sourceType": "datasetVersion"
    },
    {
     "sourceId": 247475219,
     "sourceType": "kernelVersion"
    }
   ],
   "dockerImageVersionId": 31041,
   "isGpuEnabled": true,
   "isInternetEnabled": true,
   "language": "python",
   "sourceType": "notebook"
  },
  "kernelspec": {
   "display_name": "Python 3",
   "language": "python",
   "name": "python3"
  },
  "language_info": {
   "codemirror_mode": {
    "name": "ipython",
    "version": 3
   },
   "file_extension": ".py",
   "mimetype": "text/x-python",
   "name": "python",
   "nbconvert_exporter": "python",
   "pygments_lexer": "ipython3",
   "version": "3.11.11"
  },
  "papermill": {
   "default_parameters": {},
   "duration": 4931.28709,
   "end_time": "2025-08-03T05:41:44.746241",
   "environment_variables": {},
   "exception": null,
   "input_path": "__notebook__.ipynb",
   "output_path": "__notebook__.ipynb",
   "parameters": {},
   "start_time": "2025-08-03T04:19:33.459151",
   "version": "2.6.0"
  }
 },
 "nbformat": 4,
 "nbformat_minor": 5
}
