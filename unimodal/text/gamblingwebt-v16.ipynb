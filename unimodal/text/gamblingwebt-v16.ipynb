{
 "cells": [
  {
   "cell_type": "code",
   "execution_count": 1,
   "id": "3d91b9e1",
   "metadata": {
    "_cell_guid": "b1076dfc-b9ad-4769-8c92-a6c4dae69d19",
    "_uuid": "8f2839f25d086af736a60e9eeb907d3b93b6e0e5",
    "execution": {
     "iopub.execute_input": "2025-08-03T05:54:28.036093Z",
     "iopub.status.busy": "2025-08-03T05:54:28.035473Z",
     "iopub.status.idle": "2025-08-03T05:54:59.595476Z",
     "shell.execute_reply": "2025-08-03T05:54:59.594811Z"
    },
    "papermill": {
     "duration": 31.56774,
     "end_time": "2025-08-03T05:54:59.596966",
     "exception": false,
     "start_time": "2025-08-03T05:54:28.029226",
     "status": "completed"
    },
    "tags": []
   },
   "outputs": [
    {
     "name": "stderr",
     "output_type": "stream",
     "text": [
      "2025-08-03 05:54:45.451564: E external/local_xla/xla/stream_executor/cuda/cuda_fft.cc:477] Unable to register cuFFT factory: Attempting to register factory for plugin cuFFT when one has already been registered\n",
      "WARNING: All log messages before absl::InitializeLog() is called are written to STDERR\n",
      "E0000 00:00:1754200485.626155      18 cuda_dnn.cc:8310] Unable to register cuDNN factory: Attempting to register factory for plugin cuDNN when one has already been registered\n",
      "E0000 00:00:1754200485.678875      18 cuda_blas.cc:1418] Unable to register cuBLAS factory: Attempting to register factory for plugin cuBLAS when one has already been registered\n"
     ]
    }
   ],
   "source": [
    "import os\n",
    "import numpy as np\n",
    "import pandas as pd\n",
    "import random\n",
    "import copy\n",
    "\n",
    "from sklearn.model_selection import train_test_split\n",
    "from sklearn.utils import shuffle\n",
    "\n",
    "import torch\n",
    "import torch.nn as nn\n",
    "from torch.utils.data import Dataset, DataLoader\n",
    "import torch.optim as optim\n",
    "\n",
    "from PIL import Image\n",
    "import torchvision.models as models\n",
    "import torchvision.transforms as transforms\n",
    "\n",
    "import re\n",
    "from collections import Counter\n",
    "from transformers import (\n",
    "    AutoConfig,\n",
    "    AutoTokenizer, \n",
    "    AutoModel,\n",
    "    AutoModelForSequenceClassification, \n",
    "    TrainingArguments, \n",
    "    Trainer, \n",
    "    DataCollatorWithPadding,\n",
    "    get_scheduler\n",
    ")\n",
    "\n",
    "from sklearn.metrics import accuracy_score, precision_score, recall_score, f1_score, classification_report\n",
    "from tqdm import tqdm\n",
    "import time\n",
    "import matplotlib.pyplot as plt\n",
    "import warnings\n",
    "warnings.filterwarnings(\"ignore\")"
   ]
  },
  {
   "cell_type": "code",
   "execution_count": 2,
   "id": "0776d2aa",
   "metadata": {
    "execution": {
     "iopub.execute_input": "2025-08-03T05:54:59.611728Z",
     "iopub.status.busy": "2025-08-03T05:54:59.610936Z",
     "iopub.status.idle": "2025-08-03T05:54:59.615887Z",
     "shell.execute_reply": "2025-08-03T05:54:59.615056Z"
    },
    "papermill": {
     "duration": 0.01551,
     "end_time": "2025-08-03T05:54:59.617696",
     "exception": false,
     "start_time": "2025-08-03T05:54:59.602186",
     "status": "completed"
    },
    "tags": []
   },
   "outputs": [],
   "source": [
    "device = torch.device(\"cuda\" if torch.cuda.is_available() else \"cpu\")"
   ]
  },
  {
   "cell_type": "code",
   "execution_count": 3,
   "id": "28257bd3",
   "metadata": {
    "execution": {
     "iopub.execute_input": "2025-08-03T05:54:59.630074Z",
     "iopub.status.busy": "2025-08-03T05:54:59.628793Z",
     "iopub.status.idle": "2025-08-03T05:54:59.640679Z",
     "shell.execute_reply": "2025-08-03T05:54:59.639709Z"
    },
    "papermill": {
     "duration": 0.019741,
     "end_time": "2025-08-03T05:54:59.642542",
     "exception": false,
     "start_time": "2025-08-03T05:54:59.622801",
     "status": "completed"
    },
    "tags": []
   },
   "outputs": [],
   "source": [
    "seed = 0\n",
    "def seed_everything(seed):\n",
    "    os.environ[\"PYTHONHASHSEED\"] = str(seed)\n",
    "    random.seed(seed)\n",
    "    np.random.seed(seed)\n",
    "    torch.manual_seed(seed)\n",
    "    torch.cuda.manual_seed(seed)\n",
    "    torch.cuda.manual_seed_all(seed)\n",
    "    torch.backends.cudnn.deterministic = True\n",
    "    torch.backends.cudnn.benchmark = False\n",
    "\n",
    "seed_everything(seed)"
   ]
  },
  {
   "cell_type": "code",
   "execution_count": 4,
   "id": "cba623af",
   "metadata": {
    "execution": {
     "iopub.execute_input": "2025-08-03T05:54:59.657418Z",
     "iopub.status.busy": "2025-08-03T05:54:59.656730Z",
     "iopub.status.idle": "2025-08-03T05:54:59.660857Z",
     "shell.execute_reply": "2025-08-03T05:54:59.660205Z"
    },
    "papermill": {
     "duration": 0.010937,
     "end_time": "2025-08-03T05:54:59.662120",
     "exception": false,
     "start_time": "2025-08-03T05:54:59.651183",
     "status": "completed"
    },
    "tags": []
   },
   "outputs": [],
   "source": [
    "# Generator untuk DataLoader\n",
    "g = torch.Generator()\n",
    "g.manual_seed(seed)\n",
    "\n",
    "def seed_worker(worker_id):\n",
    "    \"\"\"Fungsi untuk memastikan setiap worker memiliki seed yang sama\"\"\"\n",
    "    worker_seed = torch.initial_seed() % 2**32\n",
    "    np.random.seed(worker_seed)\n",
    "    random.seed(worker_seed)"
   ]
  },
  {
   "cell_type": "code",
   "execution_count": 5,
   "id": "4296468c",
   "metadata": {
    "execution": {
     "iopub.execute_input": "2025-08-03T05:54:59.675832Z",
     "iopub.status.busy": "2025-08-03T05:54:59.674899Z",
     "iopub.status.idle": "2025-08-03T05:54:59.679259Z",
     "shell.execute_reply": "2025-08-03T05:54:59.678588Z"
    },
    "papermill": {
     "duration": 0.012406,
     "end_time": "2025-08-03T05:54:59.680350",
     "exception": false,
     "start_time": "2025-08-03T05:54:59.667944",
     "status": "completed"
    },
    "tags": []
   },
   "outputs": [],
   "source": [
    "# Paths\n",
    "train_csv_path = '/kaggle/input/train-test/train_data.csv'\n",
    "test_csv_path = '/kaggle/input/train-test/test_data.csv'"
   ]
  },
  {
   "cell_type": "code",
   "execution_count": 6,
   "id": "7bf2ece1",
   "metadata": {
    "execution": {
     "iopub.execute_input": "2025-08-03T05:54:59.689149Z",
     "iopub.status.busy": "2025-08-03T05:54:59.688935Z",
     "iopub.status.idle": "2025-08-03T05:54:59.763277Z",
     "shell.execute_reply": "2025-08-03T05:54:59.762711Z"
    },
    "papermill": {
     "duration": 0.080278,
     "end_time": "2025-08-03T05:54:59.764702",
     "exception": false,
     "start_time": "2025-08-03T05:54:59.684424",
     "status": "completed"
    },
    "tags": []
   },
   "outputs": [],
   "source": [
    "# Load data\n",
    "train_df = pd.read_csv(train_csv_path)\n",
    "test_df = pd.read_csv(test_csv_path)"
   ]
  },
  {
   "cell_type": "code",
   "execution_count": 7,
   "id": "16917170",
   "metadata": {
    "execution": {
     "iopub.execute_input": "2025-08-03T05:54:59.773788Z",
     "iopub.status.busy": "2025-08-03T05:54:59.773554Z",
     "iopub.status.idle": "2025-08-03T05:54:59.781090Z",
     "shell.execute_reply": "2025-08-03T05:54:59.780363Z"
    },
    "papermill": {
     "duration": 0.013202,
     "end_time": "2025-08-03T05:54:59.782160",
     "exception": false,
     "start_time": "2025-08-03T05:54:59.768958",
     "status": "completed"
    },
    "tags": []
   },
   "outputs": [
    {
     "name": "stdout",
     "output_type": "stream",
     "text": [
      "Missing values in Train:\n",
      " File Name         0\n",
      "Extracted Text    0\n",
      "Class             0\n",
      "dtype: int64\n"
     ]
    }
   ],
   "source": [
    "# Drop missing values\n",
    "print('Missing values in Train:\\n', train_df.isna().sum())\n",
    "train_df = train_df.dropna()"
   ]
  },
  {
   "cell_type": "code",
   "execution_count": 8,
   "id": "58a19b6c",
   "metadata": {
    "execution": {
     "iopub.execute_input": "2025-08-03T05:54:59.791100Z",
     "iopub.status.busy": "2025-08-03T05:54:59.790863Z",
     "iopub.status.idle": "2025-08-03T05:54:59.796445Z",
     "shell.execute_reply": "2025-08-03T05:54:59.795914Z"
    },
    "papermill": {
     "duration": 0.011133,
     "end_time": "2025-08-03T05:54:59.797400",
     "exception": false,
     "start_time": "2025-08-03T05:54:59.786267",
     "status": "completed"
    },
    "tags": []
   },
   "outputs": [],
   "source": [
    "import re\n",
    "\n",
    "def clean_texts(texts):\n",
    "    cleaned_texts = []\n",
    "\n",
    "    # Kata 1–2 huruf yang penting dan tidak boleh dihapus\n",
    "    exceptions = {\"di\", \"ke\", \"ya\", \"jl\"}\n",
    "\n",
    "    for text in texts:\n",
    "        # ----- BASIC CLEANING -----\n",
    "        text = re.sub(r\"http\\S+\", \"\", text)                    # Hapus URL\n",
    "        text = re.sub(r\"\\n\", \" \", text)                        # Ganti newline dengan spasi\n",
    "        text = re.sub(r\"[^a-zA-Z]\", \" \", text)             # Sisakan huruf, angka, apostrof\n",
    "        text = re.sub(r\"\\s{2,}\", \" \", text).strip().lower()    # Hapus spasi ganda & ke lowercase\n",
    "\n",
    "        # ----- FILTERING -----\n",
    "        words = text.split()\n",
    "        filtered_words = [\n",
    "            w for w in words\n",
    "            if (len(w) > 2 or w in exceptions)\n",
    "            and not re.fullmatch(r\"[aeiou]{3,}\", w)            # Hindari vokal berulang (\"aaa\")\n",
    "            and not re.fullmatch(r\"[bcdfghjklmnpqrstvwxyz]{3,}\", w)  # Hindari konsonan berulang (\"kkk\")\n",
    "            and len(w) <= 20                                   # Batasi kata terlalu panjang\n",
    "        ]\n",
    "\n",
    "        cleaned_texts.append(\" \".join(filtered_words))\n",
    "\n",
    "    return cleaned_texts"
   ]
  },
  {
   "cell_type": "code",
   "execution_count": 9,
   "id": "9fbc099a",
   "metadata": {
    "execution": {
     "iopub.execute_input": "2025-08-03T05:54:59.806721Z",
     "iopub.status.busy": "2025-08-03T05:54:59.806505Z",
     "iopub.status.idle": "2025-08-03T05:55:00.293293Z",
     "shell.execute_reply": "2025-08-03T05:55:00.292692Z"
    },
    "papermill": {
     "duration": 0.493157,
     "end_time": "2025-08-03T05:55:00.294708",
     "exception": false,
     "start_time": "2025-08-03T05:54:59.801551",
     "status": "completed"
    },
    "tags": []
   },
   "outputs": [],
   "source": [
    "# # Clean text\n",
    "train_df['cleaned_text'] = clean_texts(train_df['Extracted Text'])\n",
    "test_df['cleaned_text'] = clean_texts(test_df['Extracted Text'])\n",
    "# Gabungkan teks dari train dan test sementara\n",
    "# combined_texts = pd.concat([train_df['Extracted Text'], test_df['Extracted Text']], ignore_index=True)\n",
    "\n",
    "# # Bersihkan semua teks gabungan\n",
    "# cleaned_all = clean_texts(combined_texts)\n",
    "\n",
    "# # Bagi kembali hasil cleaned text ke dalam train dan test\n",
    "# train_df['cleaned_text'] = cleaned_all[:len(train_df)]\n",
    "# test_df['cleaned_text'] = cleaned_all[len(train_df):]"
   ]
  },
  {
   "cell_type": "code",
   "execution_count": 10,
   "id": "d62b07b8",
   "metadata": {
    "execution": {
     "iopub.execute_input": "2025-08-03T05:55:00.303920Z",
     "iopub.status.busy": "2025-08-03T05:55:00.303689Z",
     "iopub.status.idle": "2025-08-03T05:55:00.341073Z",
     "shell.execute_reply": "2025-08-03T05:55:00.340350Z"
    },
    "papermill": {
     "duration": 0.043338,
     "end_time": "2025-08-03T05:55:00.342242",
     "exception": false,
     "start_time": "2025-08-03T05:55:00.298904",
     "status": "completed"
    },
    "tags": []
   },
   "outputs": [
    {
     "data": {
      "text/html": [
       "<div>\n",
       "<style scoped>\n",
       "    .dataframe tbody tr th:only-of-type {\n",
       "        vertical-align: middle;\n",
       "    }\n",
       "\n",
       "    .dataframe tbody tr th {\n",
       "        vertical-align: top;\n",
       "    }\n",
       "\n",
       "    .dataframe thead th {\n",
       "        text-align: right;\n",
       "    }\n",
       "</style>\n",
       "<table border=\"1\" class=\"dataframe\">\n",
       "  <thead>\n",
       "    <tr style=\"text-align: right;\">\n",
       "      <th></th>\n",
       "      <th>File Name</th>\n",
       "      <th>Extracted Text</th>\n",
       "      <th>Class</th>\n",
       "      <th>cleaned_text</th>\n",
       "    </tr>\n",
       "  </thead>\n",
       "  <tbody>\n",
       "    <tr>\n",
       "      <th>0</th>\n",
       "      <td>ahoyamigo.com_home.png</td>\n",
       "      <td>KASKUSTOTO LOGIN KASKUSTOTO oiocom KASKUSTOTO ...</td>\n",
       "      <td>judi</td>\n",
       "      <td>kaskustoto login kaskustoto oiocom kaskustoto ...</td>\n",
       "    </tr>\n",
       "    <tr>\n",
       "      <th>1</th>\n",
       "      <td>asgard789.bet.png</td>\n",
       "      <td>SUCKBET kunusn   Tusluju Unajv ]acipısı aüns I...</td>\n",
       "      <td>judi</td>\n",
       "      <td>suckbet kunusn tusluju unajv acip augn</td>\n",
       "    </tr>\n",
       "    <tr>\n",
       "      <th>2</th>\n",
       "      <td>bola442.monster.png</td>\n",
       "      <td>AsF User Name Password Code 6636 LOGIN Lela442...</td>\n",
       "      <td>judi</td>\n",
       "      <td>asf user name password code login lela live ch...</td>\n",
       "    </tr>\n",
       "    <tr>\n",
       "      <th>3</th>\n",
       "      <td>maniac-ihokibet.com_page1.png</td>\n",
       "      <td>Download APK Live Chat Hubungı Kamı Lupa Kata ...</td>\n",
       "      <td>judi</td>\n",
       "      <td>download apk live chat hubung kam lupa kata sa...</td>\n",
       "    </tr>\n",
       "    <tr>\n",
       "      <th>4</th>\n",
       "      <td>ketohour.com_page4.png</td>\n",
       "      <td>ketohour Beranda 7 @ Q Subscribe Beranda Situs...</td>\n",
       "      <td>judi</td>\n",
       "      <td>ketohour beranda subscribe beranda situs togel...</td>\n",
       "    </tr>\n",
       "    <tr>\n",
       "      <th>...</th>\n",
       "      <td>...</td>\n",
       "      <td>...</td>\n",
       "      <td>...</td>\n",
       "      <td>...</td>\n",
       "    </tr>\n",
       "    <tr>\n",
       "      <th>3340</th>\n",
       "      <td>bankmandiri.co.id_home.png</td>\n",
       "      <td>Ketik untuk mencari Log In mandırı Perseoranga...</td>\n",
       "      <td>non-judi</td>\n",
       "      <td>ketik untuk mencari log mand perseorangan bisn...</td>\n",
       "    </tr>\n",
       "    <tr>\n",
       "      <th>3341</th>\n",
       "      <td>bengkaliskab.go.id_page3.png</td>\n",
       "      <td>JL Ahmad Yani, Bengkalis Kota Selamat datang d...</td>\n",
       "      <td>non-judi</td>\n",
       "      <td>jl ahmad yani bengkalis kota selamat datang di...</td>\n",
       "    </tr>\n",
       "    <tr>\n",
       "      <th>3342</th>\n",
       "      <td>bsmentertainment.com_page9.png</td>\n",
       "      <td>021-22792541 CallWva 08111306600 (Jakarta) | C...</td>\n",
       "      <td>non-judi</td>\n",
       "      <td>callwva jakarta call wva bandurg office hours ...</td>\n",
       "    </tr>\n",
       "    <tr>\n",
       "      <th>3343</th>\n",
       "      <td>coinmarketcap.com_page5.png</td>\n",
       "      <td>CoinMarketCap Cryptocurrencies DexScan Exchang...</td>\n",
       "      <td>non-judi</td>\n",
       "      <td>coinmarketcap cryptocurrencies dexscan exchang...</td>\n",
       "    </tr>\n",
       "    <tr>\n",
       "      <th>3344</th>\n",
       "      <td>fibermedia.co.id_home.png</td>\n",
       "      <td>Telephone 021-7599-7997 Email : sales@fibermed...</td>\n",
       "      <td>non-judi</td>\n",
       "      <td>telephone email sales fibermedia coid opening ...</td>\n",
       "    </tr>\n",
       "  </tbody>\n",
       "</table>\n",
       "<p>3343 rows × 4 columns</p>\n",
       "</div>"
      ],
      "text/plain": [
       "                           File Name  \\\n",
       "0             ahoyamigo.com_home.png   \n",
       "1                  asgard789.bet.png   \n",
       "2                bola442.monster.png   \n",
       "3      maniac-ihokibet.com_page1.png   \n",
       "4             ketohour.com_page4.png   \n",
       "...                              ...   \n",
       "3340      bankmandiri.co.id_home.png   \n",
       "3341    bengkaliskab.go.id_page3.png   \n",
       "3342  bsmentertainment.com_page9.png   \n",
       "3343     coinmarketcap.com_page5.png   \n",
       "3344       fibermedia.co.id_home.png   \n",
       "\n",
       "                                         Extracted Text     Class  \\\n",
       "0     KASKUSTOTO LOGIN KASKUSTOTO oiocom KASKUSTOTO ...      judi   \n",
       "1     SUCKBET kunusn   Tusluju Unajv ]acipısı aüns I...      judi   \n",
       "2     AsF User Name Password Code 6636 LOGIN Lela442...      judi   \n",
       "3     Download APK Live Chat Hubungı Kamı Lupa Kata ...      judi   \n",
       "4     ketohour Beranda 7 @ Q Subscribe Beranda Situs...      judi   \n",
       "...                                                 ...       ...   \n",
       "3340  Ketik untuk mencari Log In mandırı Perseoranga...  non-judi   \n",
       "3341  JL Ahmad Yani, Bengkalis Kota Selamat datang d...  non-judi   \n",
       "3342  021-22792541 CallWva 08111306600 (Jakarta) | C...  non-judi   \n",
       "3343  CoinMarketCap Cryptocurrencies DexScan Exchang...  non-judi   \n",
       "3344  Telephone 021-7599-7997 Email : sales@fibermed...  non-judi   \n",
       "\n",
       "                                           cleaned_text  \n",
       "0     kaskustoto login kaskustoto oiocom kaskustoto ...  \n",
       "1                suckbet kunusn tusluju unajv acip augn  \n",
       "2     asf user name password code login lela live ch...  \n",
       "3     download apk live chat hubung kam lupa kata sa...  \n",
       "4     ketohour beranda subscribe beranda situs togel...  \n",
       "...                                                 ...  \n",
       "3340  ketik untuk mencari log mand perseorangan bisn...  \n",
       "3341  jl ahmad yani bengkalis kota selamat datang di...  \n",
       "3342  callwva jakarta call wva bandurg office hours ...  \n",
       "3343  coinmarketcap cryptocurrencies dexscan exchang...  \n",
       "3344  telephone email sales fibermedia coid opening ...  \n",
       "\n",
       "[3343 rows x 4 columns]"
      ]
     },
     "execution_count": 10,
     "metadata": {},
     "output_type": "execute_result"
    }
   ],
   "source": [
    "# Drop rows with less than 5 words\n",
    "train_df = train_df[train_df['cleaned_text'].apply(lambda x: len(str(x).split()) >= 5)]\n",
    "test_df = test_df[test_df['cleaned_text'].apply(lambda x: len(str(x).split()) >= 5)]\n",
    "train_df"
   ]
  },
  {
   "cell_type": "code",
   "execution_count": 11,
   "id": "47c3b4e8",
   "metadata": {
    "execution": {
     "iopub.execute_input": "2025-08-03T05:55:00.352136Z",
     "iopub.status.busy": "2025-08-03T05:55:00.351897Z",
     "iopub.status.idle": "2025-08-03T05:55:00.364376Z",
     "shell.execute_reply": "2025-08-03T05:55:00.363602Z"
    },
    "papermill": {
     "duration": 0.018686,
     "end_time": "2025-08-03T05:55:00.365536",
     "exception": false,
     "start_time": "2025-08-03T05:55:00.346850",
     "status": "completed"
    },
    "tags": []
   },
   "outputs": [
    {
     "name": "stdout",
     "output_type": "stream",
     "text": [
      "Duplikasi di train: 8\n",
      "Duplikasi di test : 0\n",
      "Setelah dihapus:\n",
      "Train: 3335 baris\n",
      "Test : 700 baris\n"
     ]
    }
   ],
   "source": [
    "# Cek jumlah duplikasi sebelum dihapus\n",
    "print(\"Duplikasi di train:\", train_df.duplicated(subset='cleaned_text').sum())\n",
    "print(\"Duplikasi di test :\", test_df.duplicated(subset='cleaned_text').sum())\n",
    "\n",
    "# Hapus duplikasi berdasarkan cleaned_text\n",
    "train_df = train_df.drop_duplicates(subset='cleaned_text').reset_index(drop=True)\n",
    "test_df = test_df.drop_duplicates(subset='cleaned_text').reset_index(drop=True)\n",
    "\n",
    "# Cek ulang setelah pembersihan\n",
    "print(\"Setelah dihapus:\")\n",
    "print(\"Train:\", len(train_df), \"baris\")\n",
    "print(\"Test :\", len(test_df), \"baris\")"
   ]
  },
  {
   "cell_type": "code",
   "execution_count": 12,
   "id": "073231f4",
   "metadata": {
    "execution": {
     "iopub.execute_input": "2025-08-03T05:55:00.375667Z",
     "iopub.status.busy": "2025-08-03T05:55:00.375428Z",
     "iopub.status.idle": "2025-08-03T05:55:00.382097Z",
     "shell.execute_reply": "2025-08-03T05:55:00.381350Z"
    },
    "papermill": {
     "duration": 0.013032,
     "end_time": "2025-08-03T05:55:00.383128",
     "exception": false,
     "start_time": "2025-08-03T05:55:00.370096",
     "status": "completed"
    },
    "tags": []
   },
   "outputs": [
    {
     "name": "stdout",
     "output_type": "stream",
     "text": [
      "Distribusi label di Train set:\n",
      "Class\n",
      "non-judi    1740\n",
      "judi        1595\n",
      "Name: count, dtype: int64 \n",
      "\n",
      "Distribusi label di Test set:\n",
      "Class\n",
      "judi        350\n",
      "non-judi    350\n",
      "Name: count, dtype: int64\n"
     ]
    }
   ],
   "source": [
    "# Print jumlah per kelas\n",
    "print(\"Distribusi label di Train set:\")\n",
    "print(train_df['Class'].value_counts(), '\\n')\n",
    "\n",
    "print(\"Distribusi label di Test set:\")\n",
    "print(test_df['Class'].value_counts())"
   ]
  },
  {
   "cell_type": "code",
   "execution_count": 13,
   "id": "c8843df9",
   "metadata": {
    "execution": {
     "iopub.execute_input": "2025-08-03T05:55:00.392738Z",
     "iopub.status.busy": "2025-08-03T05:55:00.392529Z",
     "iopub.status.idle": "2025-08-03T05:55:00.401398Z",
     "shell.execute_reply": "2025-08-03T05:55:00.400564Z"
    },
    "papermill": {
     "duration": 0.01491,
     "end_time": "2025-08-03T05:55:00.402535",
     "exception": false,
     "start_time": "2025-08-03T05:55:00.387625",
     "status": "completed"
    },
    "tags": []
   },
   "outputs": [
    {
     "name": "stdout",
     "output_type": "stream",
     "text": [
      "Distribusi label setelah undersampling:\n",
      "Class\n",
      "judi        1595\n",
      "non-judi    1595\n",
      "Name: count, dtype: int64\n"
     ]
    }
   ],
   "source": [
    "from sklearn.utils import resample\n",
    "\n",
    "# Pisahkan data berdasarkan kelas\n",
    "train_judi = train_df[train_df['Class'] == 'judi']\n",
    "train_nonjudi = train_df[train_df['Class'] == 'non-judi']\n",
    "\n",
    "# Undersampling kelas mayoritas (non-judi) agar jumlahnya sama dengan kelas judi\n",
    "train_nonjudi_undersampled = resample(train_nonjudi,\n",
    "                                      replace=False,      # tanpa duplikasi\n",
    "                                      n_samples=len(train_judi),  # samakan jumlahnya dengan kelas minoritas\n",
    "                                      random_state=seed)    # untuk replikasi hasil\n",
    "\n",
    "# Gabungkan kembali data yang sudah diundersample\n",
    "train_df_balanced = pd.concat([train_judi, train_nonjudi_undersampled])\n",
    "\n",
    "# Cek distribusi baru\n",
    "print(\"Distribusi label setelah undersampling:\")\n",
    "print(train_df_balanced['Class'].value_counts())"
   ]
  },
  {
   "cell_type": "code",
   "execution_count": 14,
   "id": "4e549758",
   "metadata": {
    "execution": {
     "iopub.execute_input": "2025-08-03T05:55:00.412083Z",
     "iopub.status.busy": "2025-08-03T05:55:00.411663Z",
     "iopub.status.idle": "2025-08-03T05:55:00.419087Z",
     "shell.execute_reply": "2025-08-03T05:55:00.418559Z"
    },
    "papermill": {
     "duration": 0.013249,
     "end_time": "2025-08-03T05:55:00.420098",
     "exception": false,
     "start_time": "2025-08-03T05:55:00.406849",
     "status": "completed"
    },
    "tags": []
   },
   "outputs": [],
   "source": [
    "label_map = {\n",
    "    \"non-judi\": 0,\n",
    "    \"judi\": 1\n",
    "}\n",
    "\n",
    "train_df_balanced['label'] = train_df_balanced['Class'].map(label_map)\n",
    "test_df['label'] = test_df['Class'].map(label_map)"
   ]
  },
  {
   "cell_type": "code",
   "execution_count": 15,
   "id": "bc2852cc",
   "metadata": {
    "execution": {
     "iopub.execute_input": "2025-08-03T05:55:00.430454Z",
     "iopub.status.busy": "2025-08-03T05:55:00.430148Z",
     "iopub.status.idle": "2025-08-03T05:55:00.440111Z",
     "shell.execute_reply": "2025-08-03T05:55:00.439384Z"
    },
    "papermill": {
     "duration": 0.016718,
     "end_time": "2025-08-03T05:55:00.441293",
     "exception": false,
     "start_time": "2025-08-03T05:55:00.424575",
     "status": "completed"
    },
    "tags": []
   },
   "outputs": [
    {
     "name": "stdout",
     "output_type": "stream",
     "text": [
      "Jumlah data train: 2552\n",
      "Jumlah data valid: 638\n",
      "Jumlah data test: 700\n"
     ]
    }
   ],
   "source": [
    "traindf, validdf = train_test_split(\n",
    "    train_df_balanced, test_size=0.2, stratify=train_df_balanced['label'], random_state=seed\n",
    ")\n",
    "\n",
    "print(f\"Jumlah data train: {len(traindf)}\")\n",
    "print(f\"Jumlah data valid: {len(validdf)}\")\n",
    "print(f\"Jumlah data test: {len(test_df)}\")"
   ]
  },
  {
   "cell_type": "code",
   "execution_count": 16,
   "id": "b9b5c4cd",
   "metadata": {
    "execution": {
     "iopub.execute_input": "2025-08-03T05:55:00.452113Z",
     "iopub.status.busy": "2025-08-03T05:55:00.451627Z",
     "iopub.status.idle": "2025-08-03T05:55:00.460262Z",
     "shell.execute_reply": "2025-08-03T05:55:00.459360Z"
    },
    "papermill": {
     "duration": 0.015307,
     "end_time": "2025-08-03T05:55:00.461427",
     "exception": false,
     "start_time": "2025-08-03T05:55:00.446120",
     "status": "completed"
    },
    "tags": []
   },
   "outputs": [
    {
     "name": "stdout",
     "output_type": "stream",
     "text": [
      "Distribusi label di Train set:\n",
      "label\n",
      "1    1276\n",
      "0    1276\n",
      "Name: count, dtype: int64 \n",
      "\n",
      "Distribusi label di Validation set:\n",
      "label\n",
      "0    319\n",
      "1    319\n",
      "Name: count, dtype: int64 \n",
      "\n",
      "Distribusi label di Test set:\n",
      "label\n",
      "1    350\n",
      "0    350\n",
      "Name: count, dtype: int64\n"
     ]
    }
   ],
   "source": [
    "# Print jumlah per kelas\n",
    "print(\"Distribusi label di Train set:\")\n",
    "print(traindf['label'].value_counts(), '\\n')\n",
    "\n",
    "print(\"Distribusi label di Validation set:\")\n",
    "print(validdf['label'].value_counts(), '\\n')\n",
    "\n",
    "print(\"Distribusi label di Test set:\")\n",
    "print(test_df['label'].value_counts())"
   ]
  },
  {
   "cell_type": "code",
   "execution_count": 17,
   "id": "8661e76f",
   "metadata": {
    "execution": {
     "iopub.execute_input": "2025-08-03T05:55:00.472272Z",
     "iopub.status.busy": "2025-08-03T05:55:00.471684Z",
     "iopub.status.idle": "2025-08-03T05:55:00.477394Z",
     "shell.execute_reply": "2025-08-03T05:55:00.476642Z"
    },
    "papermill": {
     "duration": 0.012305,
     "end_time": "2025-08-03T05:55:00.478425",
     "exception": false,
     "start_time": "2025-08-03T05:55:00.466120",
     "status": "completed"
    },
    "tags": []
   },
   "outputs": [],
   "source": [
    "class CustomDataset(Dataset):\n",
    "    def __init__(self, dataframe, tokenizer, max_length):\n",
    "        self.dataframe = dataframe.reset_index(drop=True)\n",
    "        self.tokenizer = tokenizer\n",
    "        self.max_length = max_length\n",
    "\n",
    "    def __len__(self):\n",
    "        return len(self.dataframe)\n",
    "\n",
    "    def __getitem__(self, index):\n",
    "        row = self.dataframe.iloc[index]\n",
    "        label = row['label']\n",
    "        text = str(row['cleaned_text'])\n",
    "\n",
    "        encoding = self.tokenizer.encode_plus(\n",
    "            text,\n",
    "            add_special_tokens=True,\n",
    "            max_length=self.max_length,\n",
    "            truncation=True,\n",
    "            return_tensors='pt',\n",
    "            padding='max_length'\n",
    "        )\n",
    "\n",
    "        input_ids = encoding['input_ids'].flatten()\n",
    "        attention_mask = encoding['attention_mask'].flatten()\n",
    "\n",
    "        return {\n",
    "            'input_ids': input_ids,\n",
    "            'attention_mask': attention_mask,\n",
    "            'label': torch.tensor(label, dtype=torch.long)\n",
    "        }\n"
   ]
  },
  {
   "cell_type": "code",
   "execution_count": 18,
   "id": "21b897bc",
   "metadata": {
    "execution": {
     "iopub.execute_input": "2025-08-03T05:55:00.488261Z",
     "iopub.status.busy": "2025-08-03T05:55:00.487790Z",
     "iopub.status.idle": "2025-08-03T05:55:01.438932Z",
     "shell.execute_reply": "2025-08-03T05:55:01.438290Z"
    },
    "papermill": {
     "duration": 0.957515,
     "end_time": "2025-08-03T05:55:01.440390",
     "exception": false,
     "start_time": "2025-08-03T05:55:00.482875",
     "status": "completed"
    },
    "tags": []
   },
   "outputs": [
    {
     "data": {
      "application/vnd.jupyter.widget-view+json": {
       "model_id": "5941693fbd5a40a587ed5215bbb18e16",
       "version_major": 2,
       "version_minor": 0
      },
      "text/plain": [
       "tokenizer_config.json:   0%|          | 0.00/2.00 [00:00<?, ?B/s]"
      ]
     },
     "metadata": {},
     "output_type": "display_data"
    },
    {
     "data": {
      "application/vnd.jupyter.widget-view+json": {
       "model_id": "b51baea45cc84232b2739dc1bdef286e",
       "version_major": 2,
       "version_minor": 0
      },
      "text/plain": [
       "config.json: 0.00B [00:00, ?B/s]"
      ]
     },
     "metadata": {},
     "output_type": "display_data"
    },
    {
     "data": {
      "application/vnd.jupyter.widget-view+json": {
       "model_id": "0298922afb9b4aa29f8d68c0bf2b4290",
       "version_major": 2,
       "version_minor": 0
      },
      "text/plain": [
       "vocab.txt: 0.00B [00:00, ?B/s]"
      ]
     },
     "metadata": {},
     "output_type": "display_data"
    },
    {
     "data": {
      "application/vnd.jupyter.widget-view+json": {
       "model_id": "2211d0fa6ea346968c4a2d8350c339e5",
       "version_major": 2,
       "version_minor": 0
      },
      "text/plain": [
       "special_tokens_map.json:   0%|          | 0.00/112 [00:00<?, ?B/s]"
      ]
     },
     "metadata": {},
     "output_type": "display_data"
    }
   ],
   "source": [
    "# Tokenizer\n",
    "tokenizer = AutoTokenizer.from_pretrained('indobenchmark/indobert-base-p1')\n",
    "max_length = 128\n",
    "\n",
    "# Dataset\n",
    "train_dataset = CustomDataset(traindf, tokenizer, max_length)\n",
    "valid_dataset = CustomDataset(validdf, tokenizer, max_length)\n",
    "test_dataset = CustomDataset(test_df, tokenizer, max_length)"
   ]
  },
  {
   "cell_type": "code",
   "execution_count": 19,
   "id": "10c0f2c9",
   "metadata": {
    "execution": {
     "iopub.execute_input": "2025-08-03T05:55:01.453154Z",
     "iopub.status.busy": "2025-08-03T05:55:01.452478Z",
     "iopub.status.idle": "2025-08-03T05:55:01.466283Z",
     "shell.execute_reply": "2025-08-03T05:55:01.465649Z"
    },
    "papermill": {
     "duration": 0.021407,
     "end_time": "2025-08-03T05:55:01.467527",
     "exception": false,
     "start_time": "2025-08-03T05:55:01.446120",
     "status": "completed"
    },
    "tags": []
   },
   "outputs": [],
   "source": [
    "def run_experiment(batch_size, learning_rate, num_epochs, device):\n",
    "    experiment_name = f\"bs{batch_size}_lr{learning_rate}_ep{num_epochs}\"\n",
    "    print(f\"\\n===== STARTING EXPERIMENT: {experiment_name} =====\\n\")\n",
    "\n",
    "    # Inisialisasi DataLoader\n",
    "    train_loader = DataLoader(train_dataset, batch_size=batch_size, shuffle=True, \n",
    "                              num_workers=4, worker_init_fn=seed_worker, generator=g)\n",
    "    valid_loader = DataLoader(valid_dataset, batch_size=batch_size, shuffle=False, \n",
    "                              num_workers=4, worker_init_fn=seed_worker, generator=g)\n",
    "    test_loader = DataLoader(test_dataset, batch_size=batch_size, shuffle=False, \n",
    "                             num_workers=4, worker_init_fn=seed_worker, generator=g)\n",
    "\n",
    "    # Model\n",
    "    text_model = AutoModelForSequenceClassification.from_pretrained('indobenchmark/indobert-base-p1', num_labels=1)\n",
    "    text_model.to(device)\n",
    "    is_parallel = False\n",
    "    if torch.cuda.device_count() > 1:\n",
    "        print(f\"Using {torch.cuda.device_count()} GPUs!\")\n",
    "        text_model = nn.DataParallel(text_model)\n",
    "        is_parallel = True\n",
    "\n",
    "    optimizer = optim.Adam(text_model.parameters(), lr=learning_rate)\n",
    "    criterion = nn.BCEWithLogitsLoss()\n",
    "\n",
    "    train_losses, train_accuracies = [], []\n",
    "    valid_losses, valid_accuracies = [], []\n",
    "\n",
    "    best_val_loss = float('inf')\n",
    "    best_model_path = f'best_text_model_{experiment_name}_state_dict.pt'\n",
    "\n",
    "    # Time tracking\n",
    "    training_start_time = time.time()\n",
    "\n",
    "    for epoch in range(num_epochs):\n",
    "        # TRAINING\n",
    "        epoch_train_start = time.time()\n",
    "        text_model.train()\n",
    "        total_loss = 0.0\n",
    "        correct = 0\n",
    "        total_samples = 0\n",
    "\n",
    "        for batch_data in tqdm(train_loader, desc=f\"Epoch {epoch+1} Training\"):\n",
    "            input_ids = batch_data['input_ids'].to(device)\n",
    "            attention_mask = batch_data['attention_mask'].to(device)\n",
    "            labels = batch_data['label'].float().to(device)\n",
    "\n",
    "            optimizer.zero_grad()\n",
    "            outputs = text_model(input_ids=input_ids, attention_mask=attention_mask).logits.squeeze(1)\n",
    "            loss = criterion(outputs, labels)\n",
    "            loss.backward()\n",
    "            optimizer.step()\n",
    "\n",
    "            total_loss += loss.item()\n",
    "            predicted = (torch.sigmoid(outputs) > 0.5).long()\n",
    "            correct += (predicted == labels).sum().item()\n",
    "            total_samples += labels.size(0)\n",
    "\n",
    "        epoch_loss = total_loss / len(train_loader)\n",
    "        epoch_accuracy = correct / total_samples\n",
    "        train_losses.append(epoch_loss)\n",
    "        train_accuracies.append(epoch_accuracy)\n",
    "        epoch_train_duration = time.time() - epoch_train_start\n",
    "\n",
    "        # VALIDATION\n",
    "        epoch_val_start = time.time()\n",
    "        text_model.eval()\n",
    "        valid_loss = 0.0\n",
    "        valid_correct = 0\n",
    "        valid_total_samples = 0\n",
    "\n",
    "        with torch.no_grad():\n",
    "            for batch_data in valid_loader:\n",
    "                input_ids = batch_data['input_ids'].to(device)\n",
    "                attention_mask = batch_data['attention_mask'].to(device)\n",
    "                labels = batch_data['label'].float().to(device)\n",
    "\n",
    "                outputs = text_model(input_ids=input_ids, attention_mask=attention_mask).logits.squeeze(1)\n",
    "                loss = criterion(outputs, labels)\n",
    "                valid_loss += loss.item()\n",
    "\n",
    "                predicted = (torch.sigmoid(outputs) > 0.5).long()\n",
    "                valid_correct += (predicted == labels).sum().item()\n",
    "                valid_total_samples += labels.size(0)\n",
    "\n",
    "        valid_epoch_loss = valid_loss / len(valid_loader)\n",
    "        valid_epoch_accuracy = valid_correct / valid_total_samples\n",
    "        valid_losses.append(valid_epoch_loss)\n",
    "        valid_accuracies.append(valid_epoch_accuracy)\n",
    "        epoch_val_duration = time.time() - epoch_val_start\n",
    "\n",
    "        print(f\"Epoch [{epoch+1}/{num_epochs}], Train Loss: {epoch_loss:.4f}, Acc: {epoch_accuracy:.4f}, Time: {epoch_train_duration:.2f}s\")\n",
    "        print(f\"Epoch [{epoch+1}/{num_epochs}], Val   Loss: {valid_epoch_loss:.4f}, Acc: {valid_epoch_accuracy:.4f}, Time: {epoch_val_duration:.2f}s\")\n",
    "\n",
    "        if valid_epoch_loss < best_val_loss:\n",
    "            best_val_loss = valid_epoch_loss\n",
    "            torch.save(text_model.module.state_dict() if is_parallel else text_model.state_dict(), best_model_path)\n",
    "            print(f\"New best model saved at epoch {epoch+1} with val loss: {valid_epoch_loss:.4f}\")\n",
    "\n",
    "    total_training_duration = time.time() - training_start_time\n",
    "    print(f\"\\n✅ Total training + validation time: {total_training_duration:.2f} seconds\\n\")\n",
    "\n",
    "    # Load best model\n",
    "    best_model = AutoModelForSequenceClassification.from_pretrained('indobenchmark/indobert-base-p1', num_labels=1)\n",
    "    best_model.load_state_dict(torch.load(best_model_path))\n",
    "    best_model.to(device)\n",
    "\n",
    "    # EVALUATION\n",
    "    test_start_time = time.time()\n",
    "    metrics = evaluate_text_model(best_model, test_loader, device)\n",
    "    test_duration = time.time() - test_start_time\n",
    "    print(f\"🧪 Test time: {test_duration:.2f} seconds\")\n",
    "\n",
    "    return {\n",
    "        'experiment_name': experiment_name,\n",
    "        'metrics': metrics,\n",
    "        'model_path': best_model_path,\n",
    "        'train_losses': train_losses,\n",
    "        'train_accuracies': train_accuracies,\n",
    "        'valid_losses': valid_losses,\n",
    "        'valid_accuracies': valid_accuracies,\n",
    "        'best_val_loss': best_val_loss,\n",
    "        'best_epoch': np.argmin(valid_losses) + 1,\n",
    "        'train_time': total_training_duration,\n",
    "        'test_time': test_duration,\n",
    "    }"
   ]
  },
  {
   "cell_type": "code",
   "execution_count": 20,
   "id": "ac2b2b0c",
   "metadata": {
    "execution": {
     "iopub.execute_input": "2025-08-03T05:55:01.478424Z",
     "iopub.status.busy": "2025-08-03T05:55:01.478159Z",
     "iopub.status.idle": "2025-08-03T05:55:01.483338Z",
     "shell.execute_reply": "2025-08-03T05:55:01.482811Z"
    },
    "papermill": {
     "duration": 0.011778,
     "end_time": "2025-08-03T05:55:01.484408",
     "exception": false,
     "start_time": "2025-08-03T05:55:01.472630",
     "status": "completed"
    },
    "tags": []
   },
   "outputs": [],
   "source": [
    "# Define function to evaluate text model\n",
    "def evaluate_text_model(model, data_loader, device): \n",
    "    model.eval()\n",
    "    all_preds = []\n",
    "    all_labels = []\n",
    "\n",
    "    with torch.no_grad():\n",
    "        for batch_data in tqdm(data_loader, desc=\"Evaluating Text Model\"):\n",
    "            input_ids = batch_data['input_ids'].to(device)\n",
    "            attention_mask = batch_data['attention_mask'].to(device)\n",
    "            labels = batch_data['label'].to(device)\n",
    "\n",
    "            outputs = model(input_ids=input_ids, attention_mask=attention_mask).logits.squeeze(1)\n",
    "            preds = (torch.sigmoid(outputs) > 0.5).cpu().numpy()\n",
    "\n",
    "            all_preds.extend(preds)\n",
    "            all_labels.extend(labels.cpu().numpy())\n",
    "    \n",
    "    # Calculate metrics\n",
    "    metrics = {\n",
    "        'Accuracy': accuracy_score(all_labels, all_preds),\n",
    "        'Precision': precision_score(all_labels, all_preds),\n",
    "        'Recall': recall_score(all_labels, all_preds),\n",
    "        'F1 Score': f1_score(all_labels, all_preds)\n",
    "    }\n",
    "    \n",
    "    return metrics"
   ]
  },
  {
   "cell_type": "code",
   "execution_count": 21,
   "id": "dcd263ba",
   "metadata": {
    "execution": {
     "iopub.execute_input": "2025-08-03T05:55:01.494998Z",
     "iopub.status.busy": "2025-08-03T05:55:01.494531Z",
     "iopub.status.idle": "2025-08-03T05:55:01.498058Z",
     "shell.execute_reply": "2025-08-03T05:55:01.497545Z"
    },
    "papermill": {
     "duration": 0.009785,
     "end_time": "2025-08-03T05:55:01.498993",
     "exception": false,
     "start_time": "2025-08-03T05:55:01.489208",
     "status": "completed"
    },
    "tags": []
   },
   "outputs": [],
   "source": [
    "# Define experiments based on the specified hyperparameters\n",
    "experiments = [\n",
    "    {'batch_size': bs, 'learning_rate': lr, 'num_epochs': ep}\n",
    "    for bs in [16, 32]\n",
    "    for lr in [5e-5, 3e-5, 2e-5]\n",
    "    for ep in [2, 3, 4]\n",
    "]"
   ]
  },
  {
   "cell_type": "code",
   "execution_count": 22,
   "id": "37dc748a",
   "metadata": {
    "execution": {
     "iopub.execute_input": "2025-08-03T05:55:01.509570Z",
     "iopub.status.busy": "2025-08-03T05:55:01.509377Z",
     "iopub.status.idle": "2025-08-03T06:27:56.837715Z",
     "shell.execute_reply": "2025-08-03T06:27:56.836933Z"
    },
    "papermill": {
     "duration": 1975.334915,
     "end_time": "2025-08-03T06:27:56.838865",
     "exception": false,
     "start_time": "2025-08-03T05:55:01.503950",
     "status": "completed"
    },
    "tags": []
   },
   "outputs": [
    {
     "name": "stdout",
     "output_type": "stream",
     "text": [
      "\n",
      "\n",
      "===== RUNNING EXPERIMENT 1/18 =====\n",
      "Batch Size: 16, Learning Rate: 5e-05, Epochs: 2\n",
      "\n",
      "===== STARTING EXPERIMENT: bs16_lr5e-05_ep2 =====\n",
      "\n"
     ]
    },
    {
     "data": {
      "application/vnd.jupyter.widget-view+json": {
       "model_id": "0f20053129484d5c8503e02337ed551e",
       "version_major": 2,
       "version_minor": 0
      },
      "text/plain": [
       "pytorch_model.bin:   0%|          | 0.00/498M [00:00<?, ?B/s]"
      ]
     },
     "metadata": {},
     "output_type": "display_data"
    },
    {
     "name": "stderr",
     "output_type": "stream",
     "text": [
      "Some weights of BertForSequenceClassification were not initialized from the model checkpoint at indobenchmark/indobert-base-p1 and are newly initialized: ['classifier.bias', 'classifier.weight']\n",
      "You should probably TRAIN this model on a down-stream task to be able to use it for predictions and inference.\n"
     ]
    },
    {
     "data": {
      "application/vnd.jupyter.widget-view+json": {
       "model_id": "1dcfd70cc31d411f9be4a8cb7f7650e9",
       "version_major": 2,
       "version_minor": 0
      },
      "text/plain": [
       "model.safetensors:   0%|          | 0.00/498M [00:00<?, ?B/s]"
      ]
     },
     "metadata": {},
     "output_type": "display_data"
    },
    {
     "name": "stderr",
     "output_type": "stream",
     "text": [
      "\n",
      "Epoch 1 Training:   0%|          | 0/160 [00:00<?, ?it/s]\u001b[A\n",
      "Epoch 1 Training:   1%|          | 1/160 [00:01<03:22,  1.27s/it]\u001b[A\n",
      "Epoch 1 Training:   1%|▏         | 2/160 [00:01<01:42,  1.55it/s]\u001b[A\n",
      "Epoch 1 Training:   2%|▏         | 3/160 [00:01<01:09,  2.25it/s]\u001b[A\n",
      "Epoch 1 Training:   2%|▎         | 4/160 [00:01<00:54,  2.86it/s]\u001b[A\n",
      "Epoch 1 Training:   3%|▎         | 5/160 [00:02<00:46,  3.34it/s]\u001b[A\n",
      "Epoch 1 Training:   4%|▍         | 6/160 [00:02<00:41,  3.75it/s]\u001b[A\n",
      "Epoch 1 Training:   4%|▍         | 7/160 [00:02<00:37,  4.05it/s]\u001b[A\n",
      "Epoch 1 Training:   5%|▌         | 8/160 [00:02<00:35,  4.29it/s]\u001b[A\n",
      "Epoch 1 Training:   6%|▌         | 9/160 [00:02<00:33,  4.46it/s]\u001b[A\n",
      "Epoch 1 Training:   6%|▋         | 10/160 [00:03<00:32,  4.58it/s]\u001b[A\n",
      "Epoch 1 Training:   7%|▋         | 11/160 [00:03<00:31,  4.67it/s]\u001b[A\n",
      "Epoch 1 Training:   8%|▊         | 12/160 [00:03<00:31,  4.73it/s]\u001b[A\n",
      "Epoch 1 Training:   8%|▊         | 13/160 [00:03<00:30,  4.76it/s]\u001b[A\n",
      "Epoch 1 Training:   9%|▉         | 14/160 [00:03<00:30,  4.79it/s]\u001b[A\n",
      "Epoch 1 Training:   9%|▉         | 15/160 [00:04<00:30,  4.82it/s]\u001b[A\n",
      "Epoch 1 Training:  10%|█         | 16/160 [00:04<00:29,  4.83it/s]\u001b[A\n",
      "Epoch 1 Training:  11%|█         | 17/160 [00:04<00:29,  4.84it/s]\u001b[A\n",
      "Epoch 1 Training:  11%|█▏        | 18/160 [00:04<00:29,  4.85it/s]\u001b[A\n",
      "Epoch 1 Training:  12%|█▏        | 19/160 [00:04<00:29,  4.85it/s]\u001b[A\n",
      "Epoch 1 Training:  12%|█▎        | 20/160 [00:05<00:28,  4.84it/s]\u001b[A\n",
      "Epoch 1 Training:  13%|█▎        | 21/160 [00:05<00:28,  4.85it/s]\u001b[A\n",
      "Epoch 1 Training:  14%|█▍        | 22/160 [00:05<00:28,  4.86it/s]\u001b[A\n",
      "Epoch 1 Training:  14%|█▍        | 23/160 [00:05<00:28,  4.86it/s]\u001b[A\n",
      "Epoch 1 Training:  15%|█▌        | 24/160 [00:06<00:27,  4.86it/s]\u001b[A\n",
      "Epoch 1 Training:  16%|█▌        | 25/160 [00:06<00:27,  4.87it/s]\u001b[A\n",
      "Epoch 1 Training:  16%|█▋        | 26/160 [00:06<00:27,  4.87it/s]\u001b[A\n",
      "Epoch 1 Training:  17%|█▋        | 27/160 [00:06<00:27,  4.87it/s]\u001b[A\n",
      "Epoch 1 Training:  18%|█▊        | 28/160 [00:06<00:27,  4.87it/s]\u001b[A\n",
      "Epoch 1 Training:  18%|█▊        | 29/160 [00:07<00:26,  4.87it/s]\u001b[A\n",
      "Epoch 1 Training:  19%|█▉        | 30/160 [00:07<00:26,  4.88it/s]\u001b[A\n",
      "Epoch 1 Training:  19%|█▉        | 31/160 [00:07<00:26,  4.87it/s]\u001b[A\n",
      "Epoch 1 Training:  20%|██        | 32/160 [00:07<00:26,  4.88it/s]\u001b[A\n",
      "Epoch 1 Training:  21%|██        | 33/160 [00:07<00:26,  4.88it/s]\u001b[A\n",
      "Epoch 1 Training:  21%|██▏       | 34/160 [00:08<00:25,  4.89it/s]\u001b[A\n",
      "Epoch 1 Training:  22%|██▏       | 35/160 [00:08<00:25,  4.89it/s]\u001b[A\n",
      "Epoch 1 Training:  22%|██▎       | 36/160 [00:08<00:25,  4.88it/s]\u001b[A\n",
      "Epoch 1 Training:  23%|██▎       | 37/160 [00:08<00:25,  4.87it/s]\u001b[A\n",
      "Epoch 1 Training:  24%|██▍       | 38/160 [00:08<00:25,  4.87it/s]\u001b[A\n",
      "Epoch 1 Training:  24%|██▍       | 39/160 [00:09<00:24,  4.86it/s]\u001b[A\n",
      "Epoch 1 Training:  25%|██▌       | 40/160 [00:09<00:24,  4.87it/s]\u001b[A\n",
      "Epoch 1 Training:  26%|██▌       | 41/160 [00:09<00:24,  4.87it/s]\u001b[A\n",
      "Epoch 1 Training:  26%|██▋       | 42/160 [00:09<00:24,  4.87it/s]\u001b[A\n",
      "Epoch 1 Training:  27%|██▋       | 43/160 [00:09<00:24,  4.87it/s]\u001b[A\n",
      "Epoch 1 Training:  28%|██▊       | 44/160 [00:10<00:23,  4.88it/s]\u001b[A\n",
      "Epoch 1 Training:  28%|██▊       | 45/160 [00:10<00:23,  4.88it/s]\u001b[A\n",
      "Epoch 1 Training:  29%|██▉       | 46/160 [00:10<00:23,  4.88it/s]\u001b[A\n",
      "Epoch 1 Training:  29%|██▉       | 47/160 [00:10<00:23,  4.88it/s]\u001b[A\n",
      "Epoch 1 Training:  30%|███       | 48/160 [00:10<00:23,  4.85it/s]\u001b[A\n",
      "Epoch 1 Training:  31%|███       | 49/160 [00:11<00:22,  4.85it/s]\u001b[A\n",
      "Epoch 1 Training:  31%|███▏      | 50/160 [00:11<00:22,  4.85it/s]\u001b[A\n",
      "Epoch 1 Training:  32%|███▏      | 51/160 [00:11<00:22,  4.84it/s]\u001b[A\n",
      "Epoch 1 Training:  32%|███▎      | 52/160 [00:11<00:22,  4.85it/s]\u001b[A\n",
      "Epoch 1 Training:  33%|███▎      | 53/160 [00:11<00:22,  4.85it/s]\u001b[A\n",
      "Epoch 1 Training:  34%|███▍      | 54/160 [00:12<00:21,  4.85it/s]\u001b[A\n",
      "Epoch 1 Training:  34%|███▍      | 55/160 [00:12<00:21,  4.86it/s]\u001b[A\n",
      "Epoch 1 Training:  35%|███▌      | 56/160 [00:12<00:21,  4.86it/s]\u001b[A\n",
      "Epoch 1 Training:  36%|███▌      | 57/160 [00:12<00:21,  4.87it/s]\u001b[A\n",
      "Epoch 1 Training:  36%|███▋      | 58/160 [00:12<00:20,  4.87it/s]\u001b[A\n",
      "Epoch 1 Training:  37%|███▋      | 59/160 [00:13<00:20,  4.87it/s]\u001b[A\n",
      "Epoch 1 Training:  38%|███▊      | 60/160 [00:13<00:20,  4.87it/s]\u001b[A\n",
      "Epoch 1 Training:  38%|███▊      | 61/160 [00:13<00:20,  4.88it/s]\u001b[A\n",
      "Epoch 1 Training:  39%|███▉      | 62/160 [00:13<00:20,  4.88it/s]\u001b[A\n",
      "Epoch 1 Training:  39%|███▉      | 63/160 [00:14<00:19,  4.88it/s]\u001b[A\n",
      "Epoch 1 Training:  40%|████      | 64/160 [00:14<00:19,  4.87it/s]\u001b[A\n",
      "Epoch 1 Training:  41%|████      | 65/160 [00:14<00:19,  4.87it/s]\u001b[A\n",
      "Epoch 1 Training:  41%|████▏     | 66/160 [00:14<00:19,  4.86it/s]\u001b[A\n",
      "Epoch 1 Training:  42%|████▏     | 67/160 [00:14<00:19,  4.84it/s]\u001b[A\n",
      "Epoch 1 Training:  42%|████▎     | 68/160 [00:15<00:18,  4.85it/s]\u001b[A\n",
      "Epoch 1 Training:  43%|████▎     | 69/160 [00:15<00:18,  4.85it/s]\u001b[A\n",
      "Epoch 1 Training:  44%|████▍     | 70/160 [00:15<00:18,  4.86it/s]\u001b[A\n",
      "Epoch 1 Training:  44%|████▍     | 71/160 [00:15<00:18,  4.86it/s]\u001b[A\n",
      "Epoch 1 Training:  45%|████▌     | 72/160 [00:15<00:18,  4.86it/s]\u001b[A\n",
      "Epoch 1 Training:  46%|████▌     | 73/160 [00:16<00:17,  4.86it/s]\u001b[A\n",
      "Epoch 1 Training:  46%|████▋     | 74/160 [00:16<00:17,  4.87it/s]\u001b[A\n",
      "Epoch 1 Training:  47%|████▋     | 75/160 [00:16<00:17,  4.88it/s]\u001b[A\n",
      "Epoch 1 Training:  48%|████▊     | 76/160 [00:16<00:17,  4.88it/s]\u001b[A\n",
      "Epoch 1 Training:  48%|████▊     | 77/160 [00:16<00:17,  4.87it/s]\u001b[A\n",
      "Epoch 1 Training:  49%|████▉     | 78/160 [00:17<00:16,  4.86it/s]\u001b[A\n",
      "Epoch 1 Training:  49%|████▉     | 79/160 [00:17<00:16,  4.87it/s]\u001b[A\n",
      "Epoch 1 Training:  50%|█████     | 80/160 [00:17<00:16,  4.87it/s]\u001b[A\n",
      "Epoch 1 Training:  51%|█████     | 81/160 [00:17<00:16,  4.86it/s]\u001b[A\n",
      "Epoch 1 Training:  51%|█████▏    | 82/160 [00:17<00:16,  4.87it/s]\u001b[A\n",
      "Epoch 1 Training:  52%|█████▏    | 83/160 [00:18<00:15,  4.87it/s]\u001b[A\n",
      "Epoch 1 Training:  52%|█████▎    | 84/160 [00:18<00:15,  4.87it/s]\u001b[A\n",
      "Epoch 1 Training:  53%|█████▎    | 85/160 [00:18<00:15,  4.87it/s]\u001b[A\n",
      "Epoch 1 Training:  54%|█████▍    | 86/160 [00:18<00:15,  4.87it/s]\u001b[A\n",
      "Epoch 1 Training:  54%|█████▍    | 87/160 [00:18<00:14,  4.87it/s]\u001b[A\n",
      "Epoch 1 Training:  55%|█████▌    | 88/160 [00:19<00:14,  4.87it/s]\u001b[A\n",
      "Epoch 1 Training:  56%|█████▌    | 89/160 [00:19<00:14,  4.87it/s]\u001b[A\n",
      "Epoch 1 Training:  56%|█████▋    | 90/160 [00:19<00:14,  4.87it/s]\u001b[A\n",
      "Epoch 1 Training:  57%|█████▋    | 91/160 [00:19<00:14,  4.87it/s]\u001b[A\n",
      "Epoch 1 Training:  57%|█████▊    | 92/160 [00:19<00:13,  4.87it/s]\u001b[A\n",
      "Epoch 1 Training:  58%|█████▊    | 93/160 [00:20<00:13,  4.87it/s]\u001b[A\n",
      "Epoch 1 Training:  59%|█████▉    | 94/160 [00:20<00:13,  4.87it/s]\u001b[A\n",
      "Epoch 1 Training:  59%|█████▉    | 95/160 [00:20<00:13,  4.88it/s]\u001b[A\n",
      "Epoch 1 Training:  60%|██████    | 96/160 [00:20<00:13,  4.88it/s]\u001b[A\n",
      "Epoch 1 Training:  61%|██████    | 97/160 [00:20<00:12,  4.88it/s]\u001b[A\n",
      "Epoch 1 Training:  61%|██████▏   | 98/160 [00:21<00:12,  4.88it/s]\u001b[A\n",
      "Epoch 1 Training:  62%|██████▏   | 99/160 [00:21<00:12,  4.88it/s]\u001b[A\n",
      "Epoch 1 Training:  62%|██████▎   | 100/160 [00:21<00:12,  4.88it/s]\u001b[A\n",
      "Epoch 1 Training:  63%|██████▎   | 101/160 [00:21<00:12,  4.87it/s]\u001b[A\n",
      "Epoch 1 Training:  64%|██████▍   | 102/160 [00:22<00:11,  4.87it/s]\u001b[A\n",
      "Epoch 1 Training:  64%|██████▍   | 103/160 [00:22<00:11,  4.87it/s]\u001b[A\n",
      "Epoch 1 Training:  65%|██████▌   | 104/160 [00:22<00:11,  4.87it/s]\u001b[A\n",
      "Epoch 1 Training:  66%|██████▌   | 105/160 [00:22<00:11,  4.87it/s]\u001b[A\n",
      "Epoch 1 Training:  66%|██████▋   | 106/160 [00:22<00:11,  4.88it/s]\u001b[A\n",
      "Epoch 1 Training:  67%|██████▋   | 107/160 [00:23<00:10,  4.89it/s]\u001b[A\n",
      "Epoch 1 Training:  68%|██████▊   | 108/160 [00:23<00:10,  4.88it/s]\u001b[A\n",
      "Epoch 1 Training:  68%|██████▊   | 109/160 [00:23<00:10,  4.88it/s]\u001b[A\n",
      "Epoch 1 Training:  69%|██████▉   | 110/160 [00:23<00:10,  4.88it/s]\u001b[A\n",
      "Epoch 1 Training:  69%|██████▉   | 111/160 [00:23<00:10,  4.88it/s]\u001b[A\n",
      "Epoch 1 Training:  70%|███████   | 112/160 [00:24<00:09,  4.88it/s]\u001b[A\n",
      "Epoch 1 Training:  71%|███████   | 113/160 [00:24<00:09,  4.88it/s]\u001b[A\n",
      "Epoch 1 Training:  71%|███████▏  | 114/160 [00:24<00:09,  4.88it/s]\u001b[A\n",
      "Epoch 1 Training:  72%|███████▏  | 115/160 [00:24<00:09,  4.87it/s]\u001b[A\n",
      "Epoch 1 Training:  72%|███████▎  | 116/160 [00:24<00:09,  4.88it/s]\u001b[A\n",
      "Epoch 1 Training:  73%|███████▎  | 117/160 [00:25<00:08,  4.88it/s]\u001b[A\n",
      "Epoch 1 Training:  74%|███████▍  | 118/160 [00:25<00:08,  4.89it/s]\u001b[A\n",
      "Epoch 1 Training:  74%|███████▍  | 119/160 [00:25<00:08,  4.89it/s]\u001b[A\n",
      "Epoch 1 Training:  75%|███████▌  | 120/160 [00:25<00:08,  4.89it/s]\u001b[A\n",
      "Epoch 1 Training:  76%|███████▌  | 121/160 [00:25<00:07,  4.88it/s]\u001b[A\n",
      "Epoch 1 Training:  76%|███████▋  | 122/160 [00:26<00:07,  4.88it/s]\u001b[A\n",
      "Epoch 1 Training:  77%|███████▋  | 123/160 [00:26<00:07,  4.87it/s]\u001b[A\n",
      "Epoch 1 Training:  78%|███████▊  | 124/160 [00:26<00:07,  4.87it/s]\u001b[A\n",
      "Epoch 1 Training:  78%|███████▊  | 125/160 [00:26<00:07,  4.88it/s]\u001b[A\n",
      "Epoch 1 Training:  79%|███████▉  | 126/160 [00:26<00:06,  4.88it/s]\u001b[A\n",
      "Epoch 1 Training:  79%|███████▉  | 127/160 [00:27<00:06,  4.89it/s]\u001b[A\n",
      "Epoch 1 Training:  80%|████████  | 128/160 [00:27<00:06,  4.89it/s]\u001b[A\n",
      "Epoch 1 Training:  81%|████████  | 129/160 [00:27<00:06,  4.89it/s]\u001b[A\n",
      "Epoch 1 Training:  81%|████████▏ | 130/160 [00:27<00:06,  4.89it/s]\u001b[A\n",
      "Epoch 1 Training:  82%|████████▏ | 131/160 [00:27<00:05,  4.89it/s]\u001b[A\n",
      "Epoch 1 Training:  82%|████████▎ | 132/160 [00:28<00:05,  4.88it/s]\u001b[A\n",
      "Epoch 1 Training:  83%|████████▎ | 133/160 [00:28<00:05,  4.88it/s]\u001b[A\n",
      "Epoch 1 Training:  84%|████████▍ | 134/160 [00:28<00:05,  4.88it/s]\u001b[A\n",
      "Epoch 1 Training:  84%|████████▍ | 135/160 [00:28<00:05,  4.88it/s]\u001b[A\n",
      "Epoch 1 Training:  85%|████████▌ | 136/160 [00:28<00:04,  4.88it/s]\u001b[A\n",
      "Epoch 1 Training:  86%|████████▌ | 137/160 [00:29<00:04,  4.88it/s]\u001b[A\n",
      "Epoch 1 Training:  86%|████████▋ | 138/160 [00:29<00:04,  4.88it/s]\u001b[A\n",
      "Epoch 1 Training:  87%|████████▋ | 139/160 [00:29<00:04,  4.88it/s]\u001b[A\n",
      "Epoch 1 Training:  88%|████████▊ | 140/160 [00:29<00:04,  4.88it/s]\u001b[A\n",
      "Epoch 1 Training:  88%|████████▊ | 141/160 [00:30<00:03,  4.88it/s]\u001b[A\n",
      "Epoch 1 Training:  89%|████████▉ | 142/160 [00:30<00:03,  4.88it/s]\u001b[A\n",
      "Epoch 1 Training:  89%|████████▉ | 143/160 [00:30<00:03,  4.89it/s]\u001b[A\n",
      "Epoch 1 Training:  90%|█████████ | 144/160 [00:30<00:03,  4.88it/s]\u001b[A\n",
      "Epoch 1 Training:  91%|█████████ | 145/160 [00:30<00:03,  4.89it/s]\u001b[A\n",
      "Epoch 1 Training:  91%|█████████▏| 146/160 [00:31<00:02,  4.89it/s]\u001b[A\n",
      "Epoch 1 Training:  92%|█████████▏| 147/160 [00:31<00:02,  4.89it/s]\u001b[A\n",
      "Epoch 1 Training:  92%|█████████▎| 148/160 [00:31<00:02,  4.88it/s]\u001b[A\n",
      "Epoch 1 Training:  93%|█████████▎| 149/160 [00:31<00:02,  4.88it/s]\u001b[A\n",
      "Epoch 1 Training:  94%|█████████▍| 150/160 [00:31<00:02,  4.88it/s]\u001b[A\n",
      "Epoch 1 Training:  94%|█████████▍| 151/160 [00:32<00:01,  4.88it/s]\u001b[A\n",
      "Epoch 1 Training:  95%|█████████▌| 152/160 [00:32<00:01,  4.88it/s]\u001b[A\n",
      "Epoch 1 Training:  96%|█████████▌| 153/160 [00:32<00:01,  4.88it/s]\u001b[A\n",
      "Epoch 1 Training:  96%|█████████▋| 154/160 [00:32<00:01,  4.88it/s]\u001b[A\n",
      "Epoch 1 Training:  97%|█████████▋| 155/160 [00:32<00:01,  4.89it/s]\u001b[A\n",
      "Epoch 1 Training:  98%|█████████▊| 156/160 [00:33<00:00,  4.89it/s]\u001b[A\n",
      "Epoch 1 Training:  98%|█████████▊| 157/160 [00:33<00:00,  4.89it/s]\u001b[A\n",
      "Epoch 1 Training:  99%|█████████▉| 158/160 [00:33<00:00,  4.89it/s]\u001b[A\n",
      "Epoch 1 Training:  99%|█████████▉| 159/160 [00:33<00:00,  4.89it/s]\u001b[A\n",
      "Epoch 1 Training: 100%|██████████| 160/160 [00:33<00:00,  4.72it/s]\n"
     ]
    },
    {
     "name": "stdout",
     "output_type": "stream",
     "text": [
      "Epoch [1/2], Train Loss: 0.1062, Acc: 0.9596, Time: 33.88s\n",
      "Epoch [1/2], Val   Loss: 0.0599, Acc: 0.9859, Time: 2.42s\n",
      "New best model saved at epoch 1 with val loss: 0.0599\n"
     ]
    },
    {
     "name": "stderr",
     "output_type": "stream",
     "text": [
      "Epoch 2 Training: 100%|██████████| 160/160 [00:32<00:00,  4.89it/s]\n"
     ]
    },
    {
     "name": "stdout",
     "output_type": "stream",
     "text": [
      "Epoch [2/2], Train Loss: 0.0466, Acc: 0.9882, Time: 32.75s\n",
      "Epoch [2/2], Val   Loss: 0.0944, Acc: 0.9624, Time: 2.43s\n",
      "\n",
      "✅ Total training + validation time: 72.26 seconds\n",
      "\n"
     ]
    },
    {
     "name": "stderr",
     "output_type": "stream",
     "text": [
      "Some weights of BertForSequenceClassification were not initialized from the model checkpoint at indobenchmark/indobert-base-p1 and are newly initialized: ['classifier.bias', 'classifier.weight']\n",
      "You should probably TRAIN this model on a down-stream task to be able to use it for predictions and inference.\n",
      "Evaluating Text Model: 100%|██████████| 44/44 [00:02<00:00, 16.25it/s]\n"
     ]
    },
    {
     "name": "stdout",
     "output_type": "stream",
     "text": [
      "🧪 Test time: 2.72 seconds\n",
      "\n",
      "----- Results for Experiment 1: bs16_lr5e-05_ep2 -----\n",
      "Best epoch: 1 with validation loss: 0.0599\n",
      "Test Metrics:\n",
      "  Accuracy: 0.9643\n",
      "  Precision: 0.9380\n",
      "  Recall: 0.9943\n",
      "  F1 Score: 0.9653\n",
      "\n",
      "\n",
      "===== RUNNING EXPERIMENT 2/18 =====\n",
      "Batch Size: 16, Learning Rate: 5e-05, Epochs: 3\n",
      "\n",
      "===== STARTING EXPERIMENT: bs16_lr5e-05_ep3 =====\n",
      "\n"
     ]
    },
    {
     "name": "stderr",
     "output_type": "stream",
     "text": [
      "Some weights of BertForSequenceClassification were not initialized from the model checkpoint at indobenchmark/indobert-base-p1 and are newly initialized: ['classifier.bias', 'classifier.weight']\n",
      "You should probably TRAIN this model on a down-stream task to be able to use it for predictions and inference.\n",
      "Epoch 1 Training: 100%|██████████| 160/160 [00:32<00:00,  4.88it/s]\n"
     ]
    },
    {
     "name": "stdout",
     "output_type": "stream",
     "text": [
      "Epoch [1/3], Train Loss: 0.0865, Acc: 0.9687, Time: 32.80s\n",
      "Epoch [1/3], Val   Loss: 0.0497, Acc: 0.9859, Time: 2.45s\n",
      "New best model saved at epoch 1 with val loss: 0.0497\n"
     ]
    },
    {
     "name": "stderr",
     "output_type": "stream",
     "text": [
      "Epoch 2 Training: 100%|██████████| 160/160 [00:32<00:00,  4.87it/s]\n"
     ]
    },
    {
     "name": "stdout",
     "output_type": "stream",
     "text": [
      "Epoch [2/3], Train Loss: 0.0237, Acc: 0.9953, Time: 32.83s\n",
      "Epoch [2/3], Val   Loss: 0.0464, Acc: 0.9906, Time: 2.45s\n",
      "New best model saved at epoch 2 with val loss: 0.0464\n"
     ]
    },
    {
     "name": "stderr",
     "output_type": "stream",
     "text": [
      "Epoch 3 Training: 100%|██████████| 160/160 [00:32<00:00,  4.88it/s]\n"
     ]
    },
    {
     "name": "stdout",
     "output_type": "stream",
     "text": [
      "Epoch [3/3], Train Loss: 0.0237, Acc: 0.9933, Time: 32.78s\n",
      "Epoch [3/3], Val   Loss: 0.0533, Acc: 0.9922, Time: 2.46s\n",
      "\n",
      "✅ Total training + validation time: 107.77 seconds\n",
      "\n"
     ]
    },
    {
     "name": "stderr",
     "output_type": "stream",
     "text": [
      "Some weights of BertForSequenceClassification were not initialized from the model checkpoint at indobenchmark/indobert-base-p1 and are newly initialized: ['classifier.bias', 'classifier.weight']\n",
      "You should probably TRAIN this model on a down-stream task to be able to use it for predictions and inference.\n",
      "Evaluating Text Model: 100%|██████████| 44/44 [00:02<00:00, 16.36it/s]\n"
     ]
    },
    {
     "name": "stdout",
     "output_type": "stream",
     "text": [
      "🧪 Test time: 2.70 seconds\n",
      "\n",
      "----- Results for Experiment 2: bs16_lr5e-05_ep3 -----\n",
      "Best epoch: 2 with validation loss: 0.0464\n",
      "Test Metrics:\n",
      "  Accuracy: 0.9843\n",
      "  Precision: 0.9942\n",
      "  Recall: 0.9743\n",
      "  F1 Score: 0.9841\n",
      "\n",
      "\n",
      "===== RUNNING EXPERIMENT 3/18 =====\n",
      "Batch Size: 16, Learning Rate: 5e-05, Epochs: 4\n",
      "\n",
      "===== STARTING EXPERIMENT: bs16_lr5e-05_ep4 =====\n",
      "\n"
     ]
    },
    {
     "name": "stderr",
     "output_type": "stream",
     "text": [
      "Some weights of BertForSequenceClassification were not initialized from the model checkpoint at indobenchmark/indobert-base-p1 and are newly initialized: ['classifier.bias', 'classifier.weight']\n",
      "You should probably TRAIN this model on a down-stream task to be able to use it for predictions and inference.\n",
      "Epoch 1 Training: 100%|██████████| 160/160 [00:32<00:00,  4.88it/s]\n"
     ]
    },
    {
     "name": "stdout",
     "output_type": "stream",
     "text": [
      "Epoch [1/4], Train Loss: 0.0943, Acc: 0.9698, Time: 32.82s\n",
      "Epoch [1/4], Val   Loss: 0.0609, Acc: 0.9843, Time: 2.46s\n",
      "New best model saved at epoch 1 with val loss: 0.0609\n"
     ]
    },
    {
     "name": "stderr",
     "output_type": "stream",
     "text": [
      "Epoch 2 Training: 100%|██████████| 160/160 [00:32<00:00,  4.88it/s]\n"
     ]
    },
    {
     "name": "stdout",
     "output_type": "stream",
     "text": [
      "Epoch [2/4], Train Loss: 0.0287, Acc: 0.9929, Time: 32.79s\n",
      "Epoch [2/4], Val   Loss: 0.0535, Acc: 0.9828, Time: 2.45s\n",
      "New best model saved at epoch 2 with val loss: 0.0535\n"
     ]
    },
    {
     "name": "stderr",
     "output_type": "stream",
     "text": [
      "Epoch 3 Training: 100%|██████████| 160/160 [00:32<00:00,  4.88it/s]\n"
     ]
    },
    {
     "name": "stdout",
     "output_type": "stream",
     "text": [
      "Epoch [3/4], Train Loss: 0.0473, Acc: 0.9902, Time: 32.77s\n",
      "Epoch [3/4], Val   Loss: 0.0729, Acc: 0.9828, Time: 2.45s\n"
     ]
    },
    {
     "name": "stderr",
     "output_type": "stream",
     "text": [
      "Epoch 4 Training: 100%|██████████| 160/160 [00:32<00:00,  4.88it/s]\n"
     ]
    },
    {
     "name": "stdout",
     "output_type": "stream",
     "text": [
      "Epoch [4/4], Train Loss: 0.0099, Acc: 0.9976, Time: 32.78s\n",
      "Epoch [4/4], Val   Loss: 0.0482, Acc: 0.9922, Time: 2.45s\n",
      "New best model saved at epoch 4 with val loss: 0.0482\n",
      "\n",
      "✅ Total training + validation time: 144.25 seconds\n",
      "\n"
     ]
    },
    {
     "name": "stderr",
     "output_type": "stream",
     "text": [
      "Some weights of BertForSequenceClassification were not initialized from the model checkpoint at indobenchmark/indobert-base-p1 and are newly initialized: ['classifier.bias', 'classifier.weight']\n",
      "You should probably TRAIN this model on a down-stream task to be able to use it for predictions and inference.\n",
      "Evaluating Text Model: 100%|██████████| 44/44 [00:02<00:00, 16.23it/s]\n"
     ]
    },
    {
     "name": "stdout",
     "output_type": "stream",
     "text": [
      "🧪 Test time: 2.72 seconds\n",
      "\n",
      "----- Results for Experiment 3: bs16_lr5e-05_ep4 -----\n",
      "Best epoch: 4 with validation loss: 0.0482\n",
      "Test Metrics:\n",
      "  Accuracy: 0.9814\n",
      "  Precision: 0.9828\n",
      "  Recall: 0.9800\n",
      "  F1 Score: 0.9814\n",
      "\n",
      "\n",
      "===== RUNNING EXPERIMENT 4/18 =====\n",
      "Batch Size: 16, Learning Rate: 3e-05, Epochs: 2\n",
      "\n",
      "===== STARTING EXPERIMENT: bs16_lr3e-05_ep2 =====\n",
      "\n"
     ]
    },
    {
     "name": "stderr",
     "output_type": "stream",
     "text": [
      "Some weights of BertForSequenceClassification were not initialized from the model checkpoint at indobenchmark/indobert-base-p1 and are newly initialized: ['classifier.bias', 'classifier.weight']\n",
      "You should probably TRAIN this model on a down-stream task to be able to use it for predictions and inference.\n",
      "Epoch 1 Training: 100%|██████████| 160/160 [00:32<00:00,  4.87it/s]\n"
     ]
    },
    {
     "name": "stdout",
     "output_type": "stream",
     "text": [
      "Epoch [1/2], Train Loss: 0.0906, Acc: 0.9589, Time: 32.84s\n",
      "Epoch [1/2], Val   Loss: 0.0478, Acc: 0.9859, Time: 2.45s\n",
      "New best model saved at epoch 1 with val loss: 0.0478\n"
     ]
    },
    {
     "name": "stderr",
     "output_type": "stream",
     "text": [
      "Epoch 2 Training: 100%|██████████| 160/160 [00:32<00:00,  4.88it/s]\n"
     ]
    },
    {
     "name": "stdout",
     "output_type": "stream",
     "text": [
      "Epoch [2/2], Train Loss: 0.0199, Acc: 0.9945, Time: 32.78s\n",
      "Epoch [2/2], Val   Loss: 0.0737, Acc: 0.9796, Time: 2.45s\n",
      "\n",
      "✅ Total training + validation time: 71.29 seconds\n",
      "\n"
     ]
    },
    {
     "name": "stderr",
     "output_type": "stream",
     "text": [
      "Some weights of BertForSequenceClassification were not initialized from the model checkpoint at indobenchmark/indobert-base-p1 and are newly initialized: ['classifier.bias', 'classifier.weight']\n",
      "You should probably TRAIN this model on a down-stream task to be able to use it for predictions and inference.\n",
      "Evaluating Text Model: 100%|██████████| 44/44 [00:02<00:00, 16.26it/s]\n"
     ]
    },
    {
     "name": "stdout",
     "output_type": "stream",
     "text": [
      "🧪 Test time: 2.72 seconds\n",
      "\n",
      "----- Results for Experiment 4: bs16_lr3e-05_ep2 -----\n",
      "Best epoch: 1 with validation loss: 0.0478\n",
      "Test Metrics:\n",
      "  Accuracy: 0.9843\n",
      "  Precision: 0.9802\n",
      "  Recall: 0.9886\n",
      "  F1 Score: 0.9844\n",
      "\n",
      "\n",
      "===== RUNNING EXPERIMENT 5/18 =====\n",
      "Batch Size: 16, Learning Rate: 3e-05, Epochs: 3\n",
      "\n",
      "===== STARTING EXPERIMENT: bs16_lr3e-05_ep3 =====\n",
      "\n"
     ]
    },
    {
     "name": "stderr",
     "output_type": "stream",
     "text": [
      "Some weights of BertForSequenceClassification were not initialized from the model checkpoint at indobenchmark/indobert-base-p1 and are newly initialized: ['classifier.bias', 'classifier.weight']\n",
      "You should probably TRAIN this model on a down-stream task to be able to use it for predictions and inference.\n",
      "Epoch 1 Training: 100%|██████████| 160/160 [00:32<00:00,  4.87it/s]\n"
     ]
    },
    {
     "name": "stdout",
     "output_type": "stream",
     "text": [
      "Epoch [1/3], Train Loss: 0.1065, Acc: 0.9632, Time: 32.85s\n",
      "Epoch [1/3], Val   Loss: 0.0476, Acc: 0.9875, Time: 2.46s\n",
      "New best model saved at epoch 1 with val loss: 0.0476\n"
     ]
    },
    {
     "name": "stderr",
     "output_type": "stream",
     "text": [
      "Epoch 2 Training: 100%|██████████| 160/160 [00:32<00:00,  4.88it/s]\n"
     ]
    },
    {
     "name": "stdout",
     "output_type": "stream",
     "text": [
      "Epoch [2/3], Train Loss: 0.0195, Acc: 0.9965, Time: 32.82s\n",
      "Epoch [2/3], Val   Loss: 0.0542, Acc: 0.9875, Time: 2.46s\n"
     ]
    },
    {
     "name": "stderr",
     "output_type": "stream",
     "text": [
      "Epoch 3 Training: 100%|██████████| 160/160 [00:32<00:00,  4.88it/s]\n"
     ]
    },
    {
     "name": "stdout",
     "output_type": "stream",
     "text": [
      "Epoch [3/3], Train Loss: 0.0095, Acc: 0.9973, Time: 32.82s\n",
      "Epoch [3/3], Val   Loss: 0.0660, Acc: 0.9828, Time: 2.48s\n",
      "\n",
      "✅ Total training + validation time: 106.66 seconds\n",
      "\n"
     ]
    },
    {
     "name": "stderr",
     "output_type": "stream",
     "text": [
      "Some weights of BertForSequenceClassification were not initialized from the model checkpoint at indobenchmark/indobert-base-p1 and are newly initialized: ['classifier.bias', 'classifier.weight']\n",
      "You should probably TRAIN this model on a down-stream task to be able to use it for predictions and inference.\n",
      "Evaluating Text Model: 100%|██████████| 44/44 [00:02<00:00, 16.28it/s]\n"
     ]
    },
    {
     "name": "stdout",
     "output_type": "stream",
     "text": [
      "🧪 Test time: 2.71 seconds\n",
      "\n",
      "----- Results for Experiment 5: bs16_lr3e-05_ep3 -----\n",
      "Best epoch: 1 with validation loss: 0.0476\n",
      "Test Metrics:\n",
      "  Accuracy: 0.9843\n",
      "  Precision: 0.9802\n",
      "  Recall: 0.9886\n",
      "  F1 Score: 0.9844\n",
      "\n",
      "\n",
      "===== RUNNING EXPERIMENT 6/18 =====\n",
      "Batch Size: 16, Learning Rate: 3e-05, Epochs: 4\n",
      "\n",
      "===== STARTING EXPERIMENT: bs16_lr3e-05_ep4 =====\n",
      "\n"
     ]
    },
    {
     "name": "stderr",
     "output_type": "stream",
     "text": [
      "Some weights of BertForSequenceClassification were not initialized from the model checkpoint at indobenchmark/indobert-base-p1 and are newly initialized: ['classifier.bias', 'classifier.weight']\n",
      "You should probably TRAIN this model on a down-stream task to be able to use it for predictions and inference.\n",
      "Epoch 1 Training: 100%|██████████| 160/160 [00:32<00:00,  4.87it/s]\n"
     ]
    },
    {
     "name": "stdout",
     "output_type": "stream",
     "text": [
      "Epoch [1/4], Train Loss: 0.0980, Acc: 0.9687, Time: 32.85s\n",
      "Epoch [1/4], Val   Loss: 0.0397, Acc: 0.9875, Time: 2.46s\n",
      "New best model saved at epoch 1 with val loss: 0.0397\n"
     ]
    },
    {
     "name": "stderr",
     "output_type": "stream",
     "text": [
      "Epoch 2 Training: 100%|██████████| 160/160 [00:32<00:00,  4.87it/s]\n"
     ]
    },
    {
     "name": "stdout",
     "output_type": "stream",
     "text": [
      "Epoch [2/4], Train Loss: 0.0183, Acc: 0.9953, Time: 32.86s\n",
      "Epoch [2/4], Val   Loss: 0.0651, Acc: 0.9828, Time: 2.46s\n"
     ]
    },
    {
     "name": "stderr",
     "output_type": "stream",
     "text": [
      "Epoch 3 Training: 100%|██████████| 160/160 [00:32<00:00,  4.87it/s]\n"
     ]
    },
    {
     "name": "stdout",
     "output_type": "stream",
     "text": [
      "Epoch [3/4], Train Loss: 0.0151, Acc: 0.9957, Time: 32.83s\n",
      "Epoch [3/4], Val   Loss: 0.0513, Acc: 0.9875, Time: 2.46s\n"
     ]
    },
    {
     "name": "stderr",
     "output_type": "stream",
     "text": [
      "Epoch 4 Training: 100%|██████████| 160/160 [00:32<00:00,  4.87it/s]\n"
     ]
    },
    {
     "name": "stdout",
     "output_type": "stream",
     "text": [
      "Epoch [4/4], Train Loss: 0.0063, Acc: 0.9984, Time: 32.85s\n",
      "Epoch [4/4], Val   Loss: 0.0634, Acc: 0.9843, Time: 2.46s\n",
      "\n",
      "✅ Total training + validation time: 141.98 seconds\n",
      "\n"
     ]
    },
    {
     "name": "stderr",
     "output_type": "stream",
     "text": [
      "Some weights of BertForSequenceClassification were not initialized from the model checkpoint at indobenchmark/indobert-base-p1 and are newly initialized: ['classifier.bias', 'classifier.weight']\n",
      "You should probably TRAIN this model on a down-stream task to be able to use it for predictions and inference.\n",
      "Evaluating Text Model: 100%|██████████| 44/44 [00:02<00:00, 16.22it/s]\n"
     ]
    },
    {
     "name": "stdout",
     "output_type": "stream",
     "text": [
      "🧪 Test time: 2.72 seconds\n",
      "\n",
      "----- Results for Experiment 6: bs16_lr3e-05_ep4 -----\n",
      "Best epoch: 1 with validation loss: 0.0397\n",
      "Test Metrics:\n",
      "  Accuracy: 0.9857\n",
      "  Precision: 0.9913\n",
      "  Recall: 0.9800\n",
      "  F1 Score: 0.9856\n",
      "\n",
      "\n",
      "===== RUNNING EXPERIMENT 7/18 =====\n",
      "Batch Size: 16, Learning Rate: 2e-05, Epochs: 2\n",
      "\n",
      "===== STARTING EXPERIMENT: bs16_lr2e-05_ep2 =====\n",
      "\n"
     ]
    },
    {
     "name": "stderr",
     "output_type": "stream",
     "text": [
      "Some weights of BertForSequenceClassification were not initialized from the model checkpoint at indobenchmark/indobert-base-p1 and are newly initialized: ['classifier.bias', 'classifier.weight']\n",
      "You should probably TRAIN this model on a down-stream task to be able to use it for predictions and inference.\n",
      "Epoch 1 Training: 100%|██████████| 160/160 [00:32<00:00,  4.87it/s]\n"
     ]
    },
    {
     "name": "stdout",
     "output_type": "stream",
     "text": [
      "Epoch [1/2], Train Loss: 0.0940, Acc: 0.9659, Time: 32.85s\n",
      "Epoch [1/2], Val   Loss: 0.0451, Acc: 0.9906, Time: 2.47s\n",
      "New best model saved at epoch 1 with val loss: 0.0451\n"
     ]
    },
    {
     "name": "stderr",
     "output_type": "stream",
     "text": [
      "Epoch 2 Training: 100%|██████████| 160/160 [00:32<00:00,  4.88it/s]\n"
     ]
    },
    {
     "name": "stdout",
     "output_type": "stream",
     "text": [
      "Epoch [2/2], Train Loss: 0.0280, Acc: 0.9914, Time: 32.81s\n",
      "Epoch [2/2], Val   Loss: 0.0530, Acc: 0.9875, Time: 2.45s\n",
      "\n",
      "✅ Total training + validation time: 71.35 seconds\n",
      "\n"
     ]
    },
    {
     "name": "stderr",
     "output_type": "stream",
     "text": [
      "Some weights of BertForSequenceClassification were not initialized from the model checkpoint at indobenchmark/indobert-base-p1 and are newly initialized: ['classifier.bias', 'classifier.weight']\n",
      "You should probably TRAIN this model on a down-stream task to be able to use it for predictions and inference.\n",
      "Evaluating Text Model: 100%|██████████| 44/44 [00:02<00:00, 16.27it/s]\n"
     ]
    },
    {
     "name": "stdout",
     "output_type": "stream",
     "text": [
      "🧪 Test time: 2.71 seconds\n",
      "\n",
      "----- Results for Experiment 7: bs16_lr2e-05_ep2 -----\n",
      "Best epoch: 1 with validation loss: 0.0451\n",
      "Test Metrics:\n",
      "  Accuracy: 0.9771\n",
      "  Precision: 0.9827\n",
      "  Recall: 0.9714\n",
      "  F1 Score: 0.9770\n",
      "\n",
      "\n",
      "===== RUNNING EXPERIMENT 8/18 =====\n",
      "Batch Size: 16, Learning Rate: 2e-05, Epochs: 3\n",
      "\n",
      "===== STARTING EXPERIMENT: bs16_lr2e-05_ep3 =====\n",
      "\n"
     ]
    },
    {
     "name": "stderr",
     "output_type": "stream",
     "text": [
      "Some weights of BertForSequenceClassification were not initialized from the model checkpoint at indobenchmark/indobert-base-p1 and are newly initialized: ['classifier.bias', 'classifier.weight']\n",
      "You should probably TRAIN this model on a down-stream task to be able to use it for predictions and inference.\n",
      "Epoch 1 Training: 100%|██████████| 160/160 [00:32<00:00,  4.88it/s]\n"
     ]
    },
    {
     "name": "stdout",
     "output_type": "stream",
     "text": [
      "Epoch [1/3], Train Loss: 0.0968, Acc: 0.9581, Time: 32.81s\n",
      "Epoch [1/3], Val   Loss: 0.0587, Acc: 0.9843, Time: 2.47s\n",
      "New best model saved at epoch 1 with val loss: 0.0587\n"
     ]
    },
    {
     "name": "stderr",
     "output_type": "stream",
     "text": [
      "Epoch 2 Training: 100%|██████████| 160/160 [00:32<00:00,  4.87it/s]\n"
     ]
    },
    {
     "name": "stdout",
     "output_type": "stream",
     "text": [
      "Epoch [2/3], Train Loss: 0.0289, Acc: 0.9918, Time: 32.86s\n",
      "Epoch [2/3], Val   Loss: 0.0512, Acc: 0.9843, Time: 2.47s\n",
      "New best model saved at epoch 2 with val loss: 0.0512\n"
     ]
    },
    {
     "name": "stderr",
     "output_type": "stream",
     "text": [
      "Epoch 3 Training: 100%|██████████| 160/160 [00:32<00:00,  4.87it/s]\n"
     ]
    },
    {
     "name": "stdout",
     "output_type": "stream",
     "text": [
      "Epoch [3/3], Train Loss: 0.0098, Acc: 0.9984, Time: 32.83s\n",
      "Epoch [3/3], Val   Loss: 0.0471, Acc: 0.9922, Time: 2.46s\n",
      "New best model saved at epoch 3 with val loss: 0.0471\n",
      "\n",
      "✅ Total training + validation time: 108.98 seconds\n",
      "\n"
     ]
    },
    {
     "name": "stderr",
     "output_type": "stream",
     "text": [
      "Some weights of BertForSequenceClassification were not initialized from the model checkpoint at indobenchmark/indobert-base-p1 and are newly initialized: ['classifier.bias', 'classifier.weight']\n",
      "You should probably TRAIN this model on a down-stream task to be able to use it for predictions and inference.\n",
      "Evaluating Text Model: 100%|██████████| 44/44 [00:02<00:00, 16.29it/s]\n"
     ]
    },
    {
     "name": "stdout",
     "output_type": "stream",
     "text": [
      "🧪 Test time: 2.71 seconds\n",
      "\n",
      "----- Results for Experiment 8: bs16_lr2e-05_ep3 -----\n",
      "Best epoch: 3 with validation loss: 0.0471\n",
      "Test Metrics:\n",
      "  Accuracy: 0.9857\n",
      "  Precision: 0.9913\n",
      "  Recall: 0.9800\n",
      "  F1 Score: 0.9856\n",
      "\n",
      "\n",
      "===== RUNNING EXPERIMENT 9/18 =====\n",
      "Batch Size: 16, Learning Rate: 2e-05, Epochs: 4\n",
      "\n",
      "===== STARTING EXPERIMENT: bs16_lr2e-05_ep4 =====\n",
      "\n"
     ]
    },
    {
     "name": "stderr",
     "output_type": "stream",
     "text": [
      "Some weights of BertForSequenceClassification were not initialized from the model checkpoint at indobenchmark/indobert-base-p1 and are newly initialized: ['classifier.bias', 'classifier.weight']\n",
      "You should probably TRAIN this model on a down-stream task to be able to use it for predictions and inference.\n",
      "Epoch 1 Training: 100%|██████████| 160/160 [00:32<00:00,  4.87it/s]\n"
     ]
    },
    {
     "name": "stdout",
     "output_type": "stream",
     "text": [
      "Epoch [1/4], Train Loss: 0.0889, Acc: 0.9659, Time: 32.86s\n",
      "Epoch [1/4], Val   Loss: 0.0556, Acc: 0.9812, Time: 2.46s\n",
      "New best model saved at epoch 1 with val loss: 0.0556\n"
     ]
    },
    {
     "name": "stderr",
     "output_type": "stream",
     "text": [
      "Epoch 2 Training: 100%|██████████| 160/160 [00:32<00:00,  4.87it/s]\n"
     ]
    },
    {
     "name": "stdout",
     "output_type": "stream",
     "text": [
      "Epoch [2/4], Train Loss: 0.0200, Acc: 0.9957, Time: 32.84s\n",
      "Epoch [2/4], Val   Loss: 0.0478, Acc: 0.9875, Time: 2.45s\n",
      "New best model saved at epoch 2 with val loss: 0.0478\n"
     ]
    },
    {
     "name": "stderr",
     "output_type": "stream",
     "text": [
      "Epoch 3 Training: 100%|██████████| 160/160 [00:32<00:00,  4.88it/s]\n"
     ]
    },
    {
     "name": "stdout",
     "output_type": "stream",
     "text": [
      "Epoch [3/4], Train Loss: 0.0154, Acc: 0.9965, Time: 32.81s\n",
      "Epoch [3/4], Val   Loss: 0.0850, Acc: 0.9812, Time: 2.45s\n"
     ]
    },
    {
     "name": "stderr",
     "output_type": "stream",
     "text": [
      "Epoch 4 Training: 100%|██████████| 160/160 [00:32<00:00,  4.87it/s]\n"
     ]
    },
    {
     "name": "stdout",
     "output_type": "stream",
     "text": [
      "Epoch [4/4], Train Loss: 0.0091, Acc: 0.9973, Time: 32.83s\n",
      "Epoch [4/4], Val   Loss: 0.0632, Acc: 0.9843, Time: 2.46s\n",
      "\n",
      "✅ Total training + validation time: 143.16 seconds\n",
      "\n"
     ]
    },
    {
     "name": "stderr",
     "output_type": "stream",
     "text": [
      "Some weights of BertForSequenceClassification were not initialized from the model checkpoint at indobenchmark/indobert-base-p1 and are newly initialized: ['classifier.bias', 'classifier.weight']\n",
      "You should probably TRAIN this model on a down-stream task to be able to use it for predictions and inference.\n",
      "Evaluating Text Model: 100%|██████████| 44/44 [00:02<00:00, 16.31it/s]\n"
     ]
    },
    {
     "name": "stdout",
     "output_type": "stream",
     "text": [
      "🧪 Test time: 2.71 seconds\n",
      "\n",
      "----- Results for Experiment 9: bs16_lr2e-05_ep4 -----\n",
      "Best epoch: 2 with validation loss: 0.0478\n",
      "Test Metrics:\n",
      "  Accuracy: 0.9800\n",
      "  Precision: 0.9773\n",
      "  Recall: 0.9829\n",
      "  F1 Score: 0.9801\n",
      "\n",
      "\n",
      "===== RUNNING EXPERIMENT 10/18 =====\n",
      "Batch Size: 32, Learning Rate: 5e-05, Epochs: 2\n",
      "\n",
      "===== STARTING EXPERIMENT: bs32_lr5e-05_ep2 =====\n",
      "\n"
     ]
    },
    {
     "name": "stderr",
     "output_type": "stream",
     "text": [
      "Some weights of BertForSequenceClassification were not initialized from the model checkpoint at indobenchmark/indobert-base-p1 and are newly initialized: ['classifier.bias', 'classifier.weight']\n",
      "You should probably TRAIN this model on a down-stream task to be able to use it for predictions and inference.\n",
      "Epoch 1 Training: 100%|██████████| 80/80 [00:31<00:00,  2.57it/s]\n"
     ]
    },
    {
     "name": "stdout",
     "output_type": "stream",
     "text": [
      "Epoch [1/2], Train Loss: 0.1039, Acc: 0.9596, Time: 31.14s\n",
      "Epoch [1/2], Val   Loss: 0.0731, Acc: 0.9765, Time: 2.40s\n",
      "New best model saved at epoch 1 with val loss: 0.0731\n"
     ]
    },
    {
     "name": "stderr",
     "output_type": "stream",
     "text": [
      "Epoch 2 Training: 100%|██████████| 80/80 [00:31<00:00,  2.58it/s]\n"
     ]
    },
    {
     "name": "stdout",
     "output_type": "stream",
     "text": [
      "Epoch [2/2], Train Loss: 0.0345, Acc: 0.9894, Time: 31.05s\n",
      "Epoch [2/2], Val   Loss: 0.0456, Acc: 0.9890, Time: 2.41s\n",
      "New best model saved at epoch 2 with val loss: 0.0456\n",
      "\n",
      "✅ Total training + validation time: 68.94 seconds\n",
      "\n"
     ]
    },
    {
     "name": "stderr",
     "output_type": "stream",
     "text": [
      "Some weights of BertForSequenceClassification were not initialized from the model checkpoint at indobenchmark/indobert-base-p1 and are newly initialized: ['classifier.bias', 'classifier.weight']\n",
      "You should probably TRAIN this model on a down-stream task to be able to use it for predictions and inference.\n",
      "Evaluating Text Model: 100%|██████████| 22/22 [00:02<00:00,  8.30it/s]\n"
     ]
    },
    {
     "name": "stdout",
     "output_type": "stream",
     "text": [
      "🧪 Test time: 2.66 seconds\n",
      "\n",
      "----- Results for Experiment 10: bs32_lr5e-05_ep2 -----\n",
      "Best epoch: 2 with validation loss: 0.0456\n",
      "Test Metrics:\n",
      "  Accuracy: 0.9829\n",
      "  Precision: 0.9856\n",
      "  Recall: 0.9800\n",
      "  F1 Score: 0.9828\n",
      "\n",
      "\n",
      "===== RUNNING EXPERIMENT 11/18 =====\n",
      "Batch Size: 32, Learning Rate: 5e-05, Epochs: 3\n",
      "\n",
      "===== STARTING EXPERIMENT: bs32_lr5e-05_ep3 =====\n",
      "\n"
     ]
    },
    {
     "name": "stderr",
     "output_type": "stream",
     "text": [
      "Some weights of BertForSequenceClassification were not initialized from the model checkpoint at indobenchmark/indobert-base-p1 and are newly initialized: ['classifier.bias', 'classifier.weight']\n",
      "You should probably TRAIN this model on a down-stream task to be able to use it for predictions and inference.\n",
      "Epoch 1 Training: 100%|██████████| 80/80 [00:31<00:00,  2.58it/s]\n"
     ]
    },
    {
     "name": "stdout",
     "output_type": "stream",
     "text": [
      "Epoch [1/3], Train Loss: 0.1126, Acc: 0.9592, Time: 31.03s\n",
      "Epoch [1/3], Val   Loss: 0.0667, Acc: 0.9812, Time: 2.40s\n",
      "New best model saved at epoch 1 with val loss: 0.0667\n"
     ]
    },
    {
     "name": "stderr",
     "output_type": "stream",
     "text": [
      "Epoch 2 Training: 100%|██████████| 80/80 [00:31<00:00,  2.57it/s]\n"
     ]
    },
    {
     "name": "stdout",
     "output_type": "stream",
     "text": [
      "Epoch [2/3], Train Loss: 0.0344, Acc: 0.9902, Time: 31.09s\n",
      "Epoch [2/3], Val   Loss: 0.0526, Acc: 0.9875, Time: 2.46s\n",
      "New best model saved at epoch 2 with val loss: 0.0526\n"
     ]
    },
    {
     "name": "stderr",
     "output_type": "stream",
     "text": [
      "Epoch 3 Training: 100%|██████████| 80/80 [00:31<00:00,  2.57it/s]\n"
     ]
    },
    {
     "name": "stdout",
     "output_type": "stream",
     "text": [
      "Epoch [3/3], Train Loss: 0.0176, Acc: 0.9957, Time: 31.08s\n",
      "Epoch [3/3], Val   Loss: 0.0535, Acc: 0.9796, Time: 2.39s\n",
      "\n",
      "✅ Total training + validation time: 102.43 seconds\n",
      "\n"
     ]
    },
    {
     "name": "stderr",
     "output_type": "stream",
     "text": [
      "Some weights of BertForSequenceClassification were not initialized from the model checkpoint at indobenchmark/indobert-base-p1 and are newly initialized: ['classifier.bias', 'classifier.weight']\n",
      "You should probably TRAIN this model on a down-stream task to be able to use it for predictions and inference.\n",
      "Evaluating Text Model: 100%|██████████| 22/22 [00:02<00:00,  8.36it/s]\n"
     ]
    },
    {
     "name": "stdout",
     "output_type": "stream",
     "text": [
      "🧪 Test time: 2.64 seconds\n",
      "\n",
      "----- Results for Experiment 11: bs32_lr5e-05_ep3 -----\n",
      "Best epoch: 2 with validation loss: 0.0526\n",
      "Test Metrics:\n",
      "  Accuracy: 0.9857\n",
      "  Precision: 0.9913\n",
      "  Recall: 0.9800\n",
      "  F1 Score: 0.9856\n",
      "\n",
      "\n",
      "===== RUNNING EXPERIMENT 12/18 =====\n",
      "Batch Size: 32, Learning Rate: 5e-05, Epochs: 4\n",
      "\n",
      "===== STARTING EXPERIMENT: bs32_lr5e-05_ep4 =====\n",
      "\n"
     ]
    },
    {
     "name": "stderr",
     "output_type": "stream",
     "text": [
      "Some weights of BertForSequenceClassification were not initialized from the model checkpoint at indobenchmark/indobert-base-p1 and are newly initialized: ['classifier.bias', 'classifier.weight']\n",
      "You should probably TRAIN this model on a down-stream task to be able to use it for predictions and inference.\n",
      "Epoch 1 Training: 100%|██████████| 80/80 [00:31<00:00,  2.58it/s]\n"
     ]
    },
    {
     "name": "stdout",
     "output_type": "stream",
     "text": [
      "Epoch [1/4], Train Loss: 0.1137, Acc: 0.9569, Time: 31.07s\n",
      "Epoch [1/4], Val   Loss: 0.0755, Acc: 0.9749, Time: 2.39s\n",
      "New best model saved at epoch 1 with val loss: 0.0755\n"
     ]
    },
    {
     "name": "stderr",
     "output_type": "stream",
     "text": [
      "Epoch 2 Training: 100%|██████████| 80/80 [00:31<00:00,  2.58it/s]\n"
     ]
    },
    {
     "name": "stdout",
     "output_type": "stream",
     "text": [
      "Epoch [2/4], Train Loss: 0.0367, Acc: 0.9898, Time: 31.05s\n",
      "Epoch [2/4], Val   Loss: 0.0560, Acc: 0.9828, Time: 2.40s\n",
      "New best model saved at epoch 2 with val loss: 0.0560\n"
     ]
    },
    {
     "name": "stderr",
     "output_type": "stream",
     "text": [
      "Epoch 3 Training: 100%|██████████| 80/80 [00:31<00:00,  2.58it/s]\n"
     ]
    },
    {
     "name": "stdout",
     "output_type": "stream",
     "text": [
      "Epoch [3/4], Train Loss: 0.0106, Acc: 0.9984, Time: 31.06s\n",
      "Epoch [3/4], Val   Loss: 0.0711, Acc: 0.9828, Time: 2.39s\n"
     ]
    },
    {
     "name": "stderr",
     "output_type": "stream",
     "text": [
      "Epoch 4 Training: 100%|██████████| 80/80 [00:30<00:00,  2.58it/s]\n"
     ]
    },
    {
     "name": "stdout",
     "output_type": "stream",
     "text": [
      "Epoch [4/4], Train Loss: 0.0069, Acc: 0.9992, Time: 31.00s\n",
      "Epoch [4/4], Val   Loss: 0.0912, Acc: 0.9828, Time: 2.39s\n",
      "\n",
      "✅ Total training + validation time: 135.78 seconds\n",
      "\n"
     ]
    },
    {
     "name": "stderr",
     "output_type": "stream",
     "text": [
      "Some weights of BertForSequenceClassification were not initialized from the model checkpoint at indobenchmark/indobert-base-p1 and are newly initialized: ['classifier.bias', 'classifier.weight']\n",
      "You should probably TRAIN this model on a down-stream task to be able to use it for predictions and inference.\n",
      "Evaluating Text Model: 100%|██████████| 22/22 [00:02<00:00,  8.38it/s]\n"
     ]
    },
    {
     "name": "stdout",
     "output_type": "stream",
     "text": [
      "🧪 Test time: 2.64 seconds\n",
      "\n",
      "----- Results for Experiment 12: bs32_lr5e-05_ep4 -----\n",
      "Best epoch: 2 with validation loss: 0.0560\n",
      "Test Metrics:\n",
      "  Accuracy: 0.9729\n",
      "  Precision: 0.9911\n",
      "  Recall: 0.9543\n",
      "  F1 Score: 0.9723\n",
      "\n",
      "\n",
      "===== RUNNING EXPERIMENT 13/18 =====\n",
      "Batch Size: 32, Learning Rate: 3e-05, Epochs: 2\n",
      "\n",
      "===== STARTING EXPERIMENT: bs32_lr3e-05_ep2 =====\n",
      "\n"
     ]
    },
    {
     "name": "stderr",
     "output_type": "stream",
     "text": [
      "Some weights of BertForSequenceClassification were not initialized from the model checkpoint at indobenchmark/indobert-base-p1 and are newly initialized: ['classifier.bias', 'classifier.weight']\n",
      "You should probably TRAIN this model on a down-stream task to be able to use it for predictions and inference.\n",
      "Epoch 1 Training: 100%|██████████| 80/80 [00:31<00:00,  2.58it/s]\n"
     ]
    },
    {
     "name": "stdout",
     "output_type": "stream",
     "text": [
      "Epoch [1/2], Train Loss: 0.0986, Acc: 0.9596, Time: 31.07s\n",
      "Epoch [1/2], Val   Loss: 0.0474, Acc: 0.9890, Time: 2.38s\n",
      "New best model saved at epoch 1 with val loss: 0.0474\n"
     ]
    },
    {
     "name": "stderr",
     "output_type": "stream",
     "text": [
      "Epoch 2 Training: 100%|██████████| 80/80 [00:31<00:00,  2.58it/s]\n"
     ]
    },
    {
     "name": "stdout",
     "output_type": "stream",
     "text": [
      "Epoch [2/2], Train Loss: 0.0135, Acc: 0.9973, Time: 31.03s\n",
      "Epoch [2/2], Val   Loss: 0.0478, Acc: 0.9859, Time: 2.39s\n",
      "\n",
      "✅ Total training + validation time: 67.61 seconds\n",
      "\n"
     ]
    },
    {
     "name": "stderr",
     "output_type": "stream",
     "text": [
      "Some weights of BertForSequenceClassification were not initialized from the model checkpoint at indobenchmark/indobert-base-p1 and are newly initialized: ['classifier.bias', 'classifier.weight']\n",
      "You should probably TRAIN this model on a down-stream task to be able to use it for predictions and inference.\n",
      "Evaluating Text Model: 100%|██████████| 22/22 [00:02<00:00,  8.41it/s]\n"
     ]
    },
    {
     "name": "stdout",
     "output_type": "stream",
     "text": [
      "🧪 Test time: 2.63 seconds\n",
      "\n",
      "----- Results for Experiment 13: bs32_lr3e-05_ep2 -----\n",
      "Best epoch: 1 with validation loss: 0.0474\n",
      "Test Metrics:\n",
      "  Accuracy: 0.9771\n",
      "  Precision: 0.9665\n",
      "  Recall: 0.9886\n",
      "  F1 Score: 0.9774\n",
      "\n",
      "\n",
      "===== RUNNING EXPERIMENT 14/18 =====\n",
      "Batch Size: 32, Learning Rate: 3e-05, Epochs: 3\n",
      "\n",
      "===== STARTING EXPERIMENT: bs32_lr3e-05_ep3 =====\n",
      "\n"
     ]
    },
    {
     "name": "stderr",
     "output_type": "stream",
     "text": [
      "Some weights of BertForSequenceClassification were not initialized from the model checkpoint at indobenchmark/indobert-base-p1 and are newly initialized: ['classifier.bias', 'classifier.weight']\n",
      "You should probably TRAIN this model on a down-stream task to be able to use it for predictions and inference.\n",
      "Epoch 1 Training: 100%|██████████| 80/80 [00:31<00:00,  2.58it/s]\n"
     ]
    },
    {
     "name": "stdout",
     "output_type": "stream",
     "text": [
      "Epoch [1/3], Train Loss: 0.1060, Acc: 0.9573, Time: 31.05s\n",
      "Epoch [1/3], Val   Loss: 0.0541, Acc: 0.9859, Time: 2.38s\n",
      "New best model saved at epoch 1 with val loss: 0.0541\n"
     ]
    },
    {
     "name": "stderr",
     "output_type": "stream",
     "text": [
      "Epoch 2 Training: 100%|██████████| 80/80 [00:30<00:00,  2.58it/s]\n"
     ]
    },
    {
     "name": "stdout",
     "output_type": "stream",
     "text": [
      "Epoch [2/3], Train Loss: 0.0240, Acc: 0.9929, Time: 31.00s\n",
      "Epoch [2/3], Val   Loss: 0.0489, Acc: 0.9890, Time: 2.38s\n",
      "New best model saved at epoch 2 with val loss: 0.0489\n"
     ]
    },
    {
     "name": "stderr",
     "output_type": "stream",
     "text": [
      "Epoch 3 Training: 100%|██████████| 80/80 [00:31<00:00,  2.58it/s]\n"
     ]
    },
    {
     "name": "stdout",
     "output_type": "stream",
     "text": [
      "Epoch [3/3], Train Loss: 0.0060, Acc: 0.9988, Time: 31.06s\n",
      "Epoch [3/3], Val   Loss: 0.0680, Acc: 0.9828, Time: 2.37s\n",
      "\n",
      "✅ Total training + validation time: 102.31 seconds\n",
      "\n"
     ]
    },
    {
     "name": "stderr",
     "output_type": "stream",
     "text": [
      "Some weights of BertForSequenceClassification were not initialized from the model checkpoint at indobenchmark/indobert-base-p1 and are newly initialized: ['classifier.bias', 'classifier.weight']\n",
      "You should probably TRAIN this model on a down-stream task to be able to use it for predictions and inference.\n",
      "Evaluating Text Model: 100%|██████████| 22/22 [00:02<00:00,  8.45it/s]\n"
     ]
    },
    {
     "name": "stdout",
     "output_type": "stream",
     "text": [
      "🧪 Test time: 2.61 seconds\n",
      "\n",
      "----- Results for Experiment 14: bs32_lr3e-05_ep3 -----\n",
      "Best epoch: 2 with validation loss: 0.0489\n",
      "Test Metrics:\n",
      "  Accuracy: 0.9857\n",
      "  Precision: 0.9885\n",
      "  Recall: 0.9829\n",
      "  F1 Score: 0.9857\n",
      "\n",
      "\n",
      "===== RUNNING EXPERIMENT 15/18 =====\n",
      "Batch Size: 32, Learning Rate: 3e-05, Epochs: 4\n",
      "\n",
      "===== STARTING EXPERIMENT: bs32_lr3e-05_ep4 =====\n",
      "\n"
     ]
    },
    {
     "name": "stderr",
     "output_type": "stream",
     "text": [
      "Some weights of BertForSequenceClassification were not initialized from the model checkpoint at indobenchmark/indobert-base-p1 and are newly initialized: ['classifier.bias', 'classifier.weight']\n",
      "You should probably TRAIN this model on a down-stream task to be able to use it for predictions and inference.\n",
      "Epoch 1 Training: 100%|██████████| 80/80 [00:31<00:00,  2.58it/s]\n"
     ]
    },
    {
     "name": "stdout",
     "output_type": "stream",
     "text": [
      "Epoch [1/4], Train Loss: 0.1086, Acc: 0.9600, Time: 31.06s\n",
      "Epoch [1/4], Val   Loss: 0.0353, Acc: 0.9922, Time: 2.38s\n",
      "New best model saved at epoch 1 with val loss: 0.0353\n"
     ]
    },
    {
     "name": "stderr",
     "output_type": "stream",
     "text": [
      "Epoch 2 Training: 100%|██████████| 80/80 [00:30<00:00,  2.58it/s]\n"
     ]
    },
    {
     "name": "stdout",
     "output_type": "stream",
     "text": [
      "Epoch [2/4], Train Loss: 0.0327, Acc: 0.9910, Time: 31.00s\n",
      "Epoch [2/4], Val   Loss: 0.0395, Acc: 0.9890, Time: 2.39s\n"
     ]
    },
    {
     "name": "stderr",
     "output_type": "stream",
     "text": [
      "Epoch 3 Training: 100%|██████████| 80/80 [00:31<00:00,  2.58it/s]\n"
     ]
    },
    {
     "name": "stdout",
     "output_type": "stream",
     "text": [
      "Epoch [3/4], Train Loss: 0.0107, Acc: 0.9980, Time: 31.03s\n",
      "Epoch [3/4], Val   Loss: 0.0366, Acc: 0.9922, Time: 2.40s\n"
     ]
    },
    {
     "name": "stderr",
     "output_type": "stream",
     "text": [
      "Epoch 4 Training: 100%|██████████| 80/80 [00:31<00:00,  2.58it/s]\n"
     ]
    },
    {
     "name": "stdout",
     "output_type": "stream",
     "text": [
      "Epoch [4/4], Train Loss: 0.0039, Acc: 0.9996, Time: 31.03s\n",
      "Epoch [4/4], Val   Loss: 0.0499, Acc: 0.9890, Time: 2.38s\n",
      "\n",
      "✅ Total training + validation time: 134.42 seconds\n",
      "\n"
     ]
    },
    {
     "name": "stderr",
     "output_type": "stream",
     "text": [
      "Some weights of BertForSequenceClassification were not initialized from the model checkpoint at indobenchmark/indobert-base-p1 and are newly initialized: ['classifier.bias', 'classifier.weight']\n",
      "You should probably TRAIN this model on a down-stream task to be able to use it for predictions and inference.\n",
      "Evaluating Text Model: 100%|██████████| 22/22 [00:02<00:00,  8.40it/s]\n"
     ]
    },
    {
     "name": "stdout",
     "output_type": "stream",
     "text": [
      "🧪 Test time: 2.63 seconds\n",
      "\n",
      "----- Results for Experiment 15: bs32_lr3e-05_ep4 -----\n",
      "Best epoch: 1 with validation loss: 0.0353\n",
      "Test Metrics:\n",
      "  Accuracy: 0.9843\n",
      "  Precision: 0.9942\n",
      "  Recall: 0.9743\n",
      "  F1 Score: 0.9841\n",
      "\n",
      "\n",
      "===== RUNNING EXPERIMENT 16/18 =====\n",
      "Batch Size: 32, Learning Rate: 2e-05, Epochs: 2\n",
      "\n",
      "===== STARTING EXPERIMENT: bs32_lr2e-05_ep2 =====\n",
      "\n"
     ]
    },
    {
     "name": "stderr",
     "output_type": "stream",
     "text": [
      "Some weights of BertForSequenceClassification were not initialized from the model checkpoint at indobenchmark/indobert-base-p1 and are newly initialized: ['classifier.bias', 'classifier.weight']\n",
      "You should probably TRAIN this model on a down-stream task to be able to use it for predictions and inference.\n",
      "Epoch 1 Training: 100%|██████████| 80/80 [00:31<00:00,  2.57it/s]\n"
     ]
    },
    {
     "name": "stdout",
     "output_type": "stream",
     "text": [
      "Epoch [1/2], Train Loss: 0.1437, Acc: 0.9408, Time: 31.07s\n",
      "Epoch [1/2], Val   Loss: 0.0700, Acc: 0.9734, Time: 2.38s\n",
      "New best model saved at epoch 1 with val loss: 0.0700\n"
     ]
    },
    {
     "name": "stderr",
     "output_type": "stream",
     "text": [
      "Epoch 2 Training: 100%|██████████| 80/80 [00:31<00:00,  2.57it/s]\n"
     ]
    },
    {
     "name": "stdout",
     "output_type": "stream",
     "text": [
      "Epoch [2/2], Train Loss: 0.0243, Acc: 0.9929, Time: 31.15s\n",
      "Epoch [2/2], Val   Loss: 0.0407, Acc: 0.9890, Time: 2.38s\n",
      "New best model saved at epoch 2 with val loss: 0.0407\n",
      "\n",
      "✅ Total training + validation time: 69.08 seconds\n",
      "\n"
     ]
    },
    {
     "name": "stderr",
     "output_type": "stream",
     "text": [
      "Some weights of BertForSequenceClassification were not initialized from the model checkpoint at indobenchmark/indobert-base-p1 and are newly initialized: ['classifier.bias', 'classifier.weight']\n",
      "You should probably TRAIN this model on a down-stream task to be able to use it for predictions and inference.\n",
      "Evaluating Text Model: 100%|██████████| 22/22 [00:02<00:00,  8.33it/s]\n"
     ]
    },
    {
     "name": "stdout",
     "output_type": "stream",
     "text": [
      "🧪 Test time: 2.65 seconds\n",
      "\n",
      "----- Results for Experiment 16: bs32_lr2e-05_ep2 -----\n",
      "Best epoch: 2 with validation loss: 0.0407\n",
      "Test Metrics:\n",
      "  Accuracy: 0.9843\n",
      "  Precision: 0.9885\n",
      "  Recall: 0.9800\n",
      "  F1 Score: 0.9842\n",
      "\n",
      "\n",
      "===== RUNNING EXPERIMENT 17/18 =====\n",
      "Batch Size: 32, Learning Rate: 2e-05, Epochs: 3\n",
      "\n",
      "===== STARTING EXPERIMENT: bs32_lr2e-05_ep3 =====\n",
      "\n"
     ]
    },
    {
     "name": "stderr",
     "output_type": "stream",
     "text": [
      "Some weights of BertForSequenceClassification were not initialized from the model checkpoint at indobenchmark/indobert-base-p1 and are newly initialized: ['classifier.bias', 'classifier.weight']\n",
      "You should probably TRAIN this model on a down-stream task to be able to use it for predictions and inference.\n",
      "Epoch 1 Training: 100%|██████████| 80/80 [00:31<00:00,  2.57it/s]\n"
     ]
    },
    {
     "name": "stdout",
     "output_type": "stream",
     "text": [
      "Epoch [1/3], Train Loss: 0.1060, Acc: 0.9643, Time: 31.08s\n",
      "Epoch [1/3], Val   Loss: 0.0500, Acc: 0.9875, Time: 2.38s\n",
      "New best model saved at epoch 1 with val loss: 0.0500\n"
     ]
    },
    {
     "name": "stderr",
     "output_type": "stream",
     "text": [
      "Epoch 2 Training: 100%|██████████| 80/80 [00:31<00:00,  2.57it/s]\n"
     ]
    },
    {
     "name": "stdout",
     "output_type": "stream",
     "text": [
      "Epoch [2/3], Train Loss: 0.0283, Acc: 0.9910, Time: 31.14s\n",
      "Epoch [2/3], Val   Loss: 0.0369, Acc: 0.9922, Time: 2.41s\n",
      "New best model saved at epoch 2 with val loss: 0.0369\n"
     ]
    },
    {
     "name": "stderr",
     "output_type": "stream",
     "text": [
      "Epoch 3 Training: 100%|██████████| 80/80 [00:31<00:00,  2.58it/s]\n"
     ]
    },
    {
     "name": "stdout",
     "output_type": "stream",
     "text": [
      "Epoch [3/3], Train Loss: 0.0140, Acc: 0.9957, Time: 31.06s\n",
      "Epoch [3/3], Val   Loss: 0.0448, Acc: 0.9906, Time: 2.38s\n",
      "\n",
      "✅ Total training + validation time: 102.51 seconds\n",
      "\n"
     ]
    },
    {
     "name": "stderr",
     "output_type": "stream",
     "text": [
      "Some weights of BertForSequenceClassification were not initialized from the model checkpoint at indobenchmark/indobert-base-p1 and are newly initialized: ['classifier.bias', 'classifier.weight']\n",
      "You should probably TRAIN this model on a down-stream task to be able to use it for predictions and inference.\n",
      "Evaluating Text Model: 100%|██████████| 22/22 [00:02<00:00,  8.38it/s]\n"
     ]
    },
    {
     "name": "stdout",
     "output_type": "stream",
     "text": [
      "🧪 Test time: 2.64 seconds\n",
      "\n",
      "----- Results for Experiment 17: bs32_lr2e-05_ep3 -----\n",
      "Best epoch: 2 with validation loss: 0.0369\n",
      "Test Metrics:\n",
      "  Accuracy: 0.9814\n",
      "  Precision: 0.9884\n",
      "  Recall: 0.9743\n",
      "  F1 Score: 0.9813\n",
      "\n",
      "\n",
      "===== RUNNING EXPERIMENT 18/18 =====\n",
      "Batch Size: 32, Learning Rate: 2e-05, Epochs: 4\n",
      "\n",
      "===== STARTING EXPERIMENT: bs32_lr2e-05_ep4 =====\n",
      "\n"
     ]
    },
    {
     "name": "stderr",
     "output_type": "stream",
     "text": [
      "Some weights of BertForSequenceClassification were not initialized from the model checkpoint at indobenchmark/indobert-base-p1 and are newly initialized: ['classifier.bias', 'classifier.weight']\n",
      "You should probably TRAIN this model on a down-stream task to be able to use it for predictions and inference.\n",
      "Epoch 1 Training: 100%|██████████| 80/80 [00:31<00:00,  2.57it/s]\n"
     ]
    },
    {
     "name": "stdout",
     "output_type": "stream",
     "text": [
      "Epoch [1/4], Train Loss: 0.1134, Acc: 0.9612, Time: 31.12s\n",
      "Epoch [1/4], Val   Loss: 0.0402, Acc: 0.9875, Time: 2.38s\n",
      "New best model saved at epoch 1 with val loss: 0.0402\n"
     ]
    },
    {
     "name": "stderr",
     "output_type": "stream",
     "text": [
      "Epoch 2 Training: 100%|██████████| 80/80 [00:31<00:00,  2.58it/s]\n"
     ]
    },
    {
     "name": "stdout",
     "output_type": "stream",
     "text": [
      "Epoch [2/4], Train Loss: 0.0208, Acc: 0.9949, Time: 31.05s\n",
      "Epoch [2/4], Val   Loss: 0.0473, Acc: 0.9890, Time: 2.39s\n"
     ]
    },
    {
     "name": "stderr",
     "output_type": "stream",
     "text": [
      "Epoch 3 Training: 100%|██████████| 80/80 [00:31<00:00,  2.58it/s]\n"
     ]
    },
    {
     "name": "stdout",
     "output_type": "stream",
     "text": [
      "Epoch [3/4], Train Loss: 0.0175, Acc: 0.9957, Time: 31.06s\n",
      "Epoch [3/4], Val   Loss: 0.0702, Acc: 0.9796, Time: 2.38s\n"
     ]
    },
    {
     "name": "stderr",
     "output_type": "stream",
     "text": [
      "Epoch 4 Training: 100%|██████████| 80/80 [00:31<00:00,  2.58it/s]\n"
     ]
    },
    {
     "name": "stdout",
     "output_type": "stream",
     "text": [
      "Epoch [4/4], Train Loss: 0.0116, Acc: 0.9976, Time: 31.03s\n",
      "Epoch [4/4], Val   Loss: 0.0418, Acc: 0.9890, Time: 2.39s\n",
      "\n",
      "✅ Total training + validation time: 134.53 seconds\n",
      "\n"
     ]
    },
    {
     "name": "stderr",
     "output_type": "stream",
     "text": [
      "Some weights of BertForSequenceClassification were not initialized from the model checkpoint at indobenchmark/indobert-base-p1 and are newly initialized: ['classifier.bias', 'classifier.weight']\n",
      "You should probably TRAIN this model on a down-stream task to be able to use it for predictions and inference.\n",
      "Evaluating Text Model: 100%|██████████| 22/22 [00:02<00:00,  8.33it/s]"
     ]
    },
    {
     "name": "stdout",
     "output_type": "stream",
     "text": [
      "🧪 Test time: 2.65 seconds\n",
      "\n",
      "----- Results for Experiment 18: bs32_lr2e-05_ep4 -----\n",
      "Best epoch: 1 with validation loss: 0.0402\n",
      "Test Metrics:\n",
      "  Accuracy: 0.9857\n",
      "  Precision: 0.9913\n",
      "  Recall: 0.9800\n",
      "  F1 Score: 0.9856\n"
     ]
    },
    {
     "name": "stderr",
     "output_type": "stream",
     "text": [
      "\n"
     ]
    }
   ],
   "source": [
    "# Run all experiments and collect results\n",
    "results = []\n",
    "for i, exp in enumerate(experiments):\n",
    "    print(f\"\\n\\n===== RUNNING EXPERIMENT {i+1}/{len(experiments)} =====\")\n",
    "    print(f\"Batch Size: {exp['batch_size']}, Learning Rate: {exp['learning_rate']}, Epochs: {exp['num_epochs']}\")\n",
    "    \n",
    "    experiment_result = run_experiment(\n",
    "        batch_size=exp['batch_size'],\n",
    "        learning_rate=exp['learning_rate'],\n",
    "        num_epochs=exp['num_epochs'],\n",
    "        device=device\n",
    "    )\n",
    "    \n",
    "    results.append(experiment_result)\n",
    "    \n",
    "    # Print current experiment metrics\n",
    "    print(f\"\\n----- Results for Experiment {i+1}: {experiment_result['experiment_name']} -----\")\n",
    "    print(f\"Best epoch: {experiment_result['best_epoch']} with validation loss: {experiment_result['best_val_loss']:.4f}\")\n",
    "    print(\"Test Metrics:\")\n",
    "    for metric_name, value in experiment_result['metrics'].items():\n",
    "        print(f\"  {metric_name}: {value:.4f}\")"
   ]
  },
  {
   "cell_type": "code",
   "execution_count": 23,
   "id": "28b2bf64",
   "metadata": {
    "execution": {
     "iopub.execute_input": "2025-08-03T06:27:57.512341Z",
     "iopub.status.busy": "2025-08-03T06:27:57.511392Z",
     "iopub.status.idle": "2025-08-03T06:27:57.538007Z",
     "shell.execute_reply": "2025-08-03T06:27:57.537495Z"
    },
    "papermill": {
     "duration": 0.390642,
     "end_time": "2025-08-03T06:27:57.539152",
     "exception": false,
     "start_time": "2025-08-03T06:27:57.148510",
     "status": "completed"
    },
    "tags": []
   },
   "outputs": [],
   "source": [
    "# Create a DataFrame for easier analysis\n",
    "results_df = pd.DataFrame([\n",
    "    {\n",
    "        'Experiment': r['experiment_name'],\n",
    "        'Batch Size': int(r['experiment_name'].split('_')[0][2:]),\n",
    "        'Learning Rate': float(r['experiment_name'].split('_')[1][2:]),\n",
    "        'Epochs': int(r['experiment_name'].split('_')[2][2:]),\n",
    "        'Best Epoch': r['best_epoch'],\n",
    "        'Best Val Loss': r['best_val_loss'],\n",
    "        'Accuracy': r['metrics']['Accuracy'],\n",
    "        'Precision': r['metrics']['Precision'],\n",
    "        'Recall': r['metrics']['Recall'],\n",
    "        'F1 Score': r['metrics']['F1 Score'],\n",
    "        'Model Path': r['model_path']\n",
    "    }\n",
    "    for r in results\n",
    "])"
   ]
  },
  {
   "cell_type": "code",
   "execution_count": 24,
   "id": "a837ff19",
   "metadata": {
    "execution": {
     "iopub.execute_input": "2025-08-03T06:27:58.145311Z",
     "iopub.status.busy": "2025-08-03T06:27:58.145040Z",
     "iopub.status.idle": "2025-08-03T06:27:58.156586Z",
     "shell.execute_reply": "2025-08-03T06:27:58.155882Z"
    },
    "papermill": {
     "duration": 0.313255,
     "end_time": "2025-08-03T06:27:58.157735",
     "exception": false,
     "start_time": "2025-08-03T06:27:57.844480",
     "status": "completed"
    },
    "tags": []
   },
   "outputs": [
    {
     "name": "stdout",
     "output_type": "stream",
     "text": [
      "\n",
      "Results saved to text_model_experiments_results_20250803_062758.csv\n"
     ]
    }
   ],
   "source": [
    "from datetime import datetime\n",
    "# Save results to CSV\n",
    "timestamp = datetime.now().strftime(\"%Y%m%d_%H%M%S\")\n",
    "results_csv_path = f'text_model_experiments_results_{timestamp}.csv'\n",
    "results_df.to_csv(results_csv_path, index=False)\n",
    "print(f\"\\nResults saved to {results_csv_path}\")"
   ]
  },
  {
   "cell_type": "code",
   "execution_count": 25,
   "id": "137921c1",
   "metadata": {
    "execution": {
     "iopub.execute_input": "2025-08-03T06:27:58.818502Z",
     "iopub.status.busy": "2025-08-03T06:27:58.817794Z",
     "iopub.status.idle": "2025-08-03T06:27:58.829035Z",
     "shell.execute_reply": "2025-08-03T06:27:58.828292Z"
    },
    "papermill": {
     "duration": 0.36948,
     "end_time": "2025-08-03T06:27:58.830085",
     "exception": false,
     "start_time": "2025-08-03T06:27:58.460605",
     "status": "completed"
    },
    "tags": []
   },
   "outputs": [
    {
     "name": "stdout",
     "output_type": "stream",
     "text": [
      "\n",
      "===== EXPERIMENT RESULTS SUMMARY (Sorted by F1 Score) =====\n",
      "          Experiment  Accuracy  Precision    Recall  F1 Score\n",
      "0   bs16_lr5e-05_ep2  0.964286   0.938005  0.994286  0.965326\n",
      "1   bs16_lr5e-05_ep3  0.984286   0.994169  0.974286  0.984127\n",
      "2   bs16_lr5e-05_ep4  0.981429   0.982808  0.980000  0.981402\n",
      "3   bs16_lr3e-05_ep2  0.984286   0.980170  0.988571  0.984353\n",
      "4   bs16_lr3e-05_ep3  0.984286   0.980170  0.988571  0.984353\n",
      "5   bs16_lr3e-05_ep4  0.985714   0.991329  0.980000  0.985632\n",
      "6   bs16_lr2e-05_ep2  0.977143   0.982659  0.971429  0.977011\n",
      "7   bs16_lr2e-05_ep3  0.985714   0.991329  0.980000  0.985632\n",
      "8   bs16_lr2e-05_ep4  0.980000   0.977273  0.982857  0.980057\n",
      "9   bs32_lr5e-05_ep2  0.982857   0.985632  0.980000  0.982808\n",
      "10  bs32_lr5e-05_ep3  0.985714   0.991329  0.980000  0.985632\n",
      "11  bs32_lr5e-05_ep4  0.972857   0.991098  0.954286  0.972344\n",
      "12  bs32_lr3e-05_ep2  0.977143   0.966480  0.988571  0.977401\n",
      "13  bs32_lr3e-05_ep3  0.985714   0.988506  0.982857  0.985673\n",
      "14  bs32_lr3e-05_ep4  0.984286   0.994169  0.974286  0.984127\n",
      "15  bs32_lr2e-05_ep2  0.984286   0.988473  0.980000  0.984218\n",
      "16  bs32_lr2e-05_ep3  0.981429   0.988406  0.974286  0.981295\n",
      "17  bs32_lr2e-05_ep4  0.985714   0.991329  0.980000  0.985632\n"
     ]
    }
   ],
   "source": [
    "# Print summary of all experiment results sorted by F1 Score\n",
    "print(\"\\n===== EXPERIMENT RESULTS SUMMARY (Sorted by F1 Score) =====\")\n",
    "sorted_results = results_df.sort_values('F1 Score', ascending=False)\n",
    "print(results_df[['Experiment', 'Accuracy', 'Precision', 'Recall','F1 Score']])"
   ]
  },
  {
   "cell_type": "code",
   "execution_count": 26,
   "id": "23142ab9",
   "metadata": {
    "execution": {
     "iopub.execute_input": "2025-08-03T06:27:59.446701Z",
     "iopub.status.busy": "2025-08-03T06:27:59.446429Z",
     "iopub.status.idle": "2025-08-03T06:27:59.452074Z",
     "shell.execute_reply": "2025-08-03T06:27:59.451443Z"
    },
    "papermill": {
     "duration": 0.311455,
     "end_time": "2025-08-03T06:27:59.453125",
     "exception": false,
     "start_time": "2025-08-03T06:27:59.141670",
     "status": "completed"
    },
    "tags": []
   },
   "outputs": [
    {
     "name": "stdout",
     "output_type": "stream",
     "text": [
      "\n",
      "===== BEST MODEL =====\n",
      "Configuration: bs32_lr3e-05_ep3\n",
      "Batch Size: 32\n",
      "Learning Rate: 3e-05\n",
      "Total Epochs: 3\n",
      "Best Epoch: 2\n",
      "F1 Score: 0.9857\n",
      "Accuracy: 0.9857\n",
      "Precision: 0.9885\n",
      "Recall: 0.9829\n",
      "Model Path: best_text_model_bs32_lr3e-05_ep3_state_dict.pt\n"
     ]
    }
   ],
   "source": [
    "# Find the best model based on F1 score\n",
    "best_exp = sorted_results.iloc[0]\n",
    "print(\"\\n===== BEST MODEL =====\")\n",
    "print(f\"Configuration: {best_exp['Experiment']}\")\n",
    "print(f\"Batch Size: {best_exp['Batch Size']}\")\n",
    "print(f\"Learning Rate: {best_exp['Learning Rate']}\")\n",
    "print(f\"Total Epochs: {best_exp['Epochs']}\")\n",
    "print(f\"Best Epoch: {best_exp['Best Epoch']}\")\n",
    "print(f\"F1 Score: {best_exp['F1 Score']:.4f}\")\n",
    "print(f\"Accuracy: {best_exp['Accuracy']:.4f}\")\n",
    "print(f\"Precision: {best_exp['Precision']:.4f}\")\n",
    "print(f\"Recall: {best_exp['Recall']:.4f}\")\n",
    "print(f\"Model Path: {best_exp['Model Path']}\")"
   ]
  },
  {
   "cell_type": "markdown",
   "id": "1815990a",
   "metadata": {
    "papermill": {
     "duration": 0.363449,
     "end_time": "2025-08-03T06:28:00.145373",
     "exception": false,
     "start_time": "2025-08-03T06:27:59.781924",
     "status": "completed"
    },
    "tags": []
   },
   "source": [
    "# -----------------"
   ]
  }
 ],
 "metadata": {
  "kaggle": {
   "accelerator": "gpu",
   "dataSources": [
    {
     "sourceId": 247475219,
     "sourceType": "kernelVersion"
    }
   ],
   "dockerImageVersionId": 31041,
   "isGpuEnabled": true,
   "isInternetEnabled": true,
   "language": "python",
   "sourceType": "notebook"
  },
  "kernelspec": {
   "display_name": "Python 3",
   "language": "python",
   "name": "python3"
  },
  "language_info": {
   "codemirror_mode": {
    "name": "ipython",
    "version": 3
   },
   "file_extension": ".py",
   "mimetype": "text/x-python",
   "name": "python",
   "nbconvert_exporter": "python",
   "pygments_lexer": "ipython3",
   "version": "3.11.11"
  },
  "papermill": {
   "default_parameters": {},
   "duration": 2020.397789,
   "end_time": "2025-08-03T06:28:04.254582",
   "environment_variables": {},
   "exception": null,
   "input_path": "__notebook__.ipynb",
   "output_path": "__notebook__.ipynb",
   "parameters": {},
   "start_time": "2025-08-03T05:54:23.856793",
   "version": "2.6.0"
  },
  "widgets": {
   "application/vnd.jupyter.widget-state+json": {
    "state": {
     "01d39ae9c7fb4b7881775169c7bd30c7": {
      "model_module": "@jupyter-widgets/controls",
      "model_module_version": "2.0.0",
      "model_name": "FloatProgressModel",
      "state": {
       "_dom_classes": [],
       "_model_module": "@jupyter-widgets/controls",
       "_model_module_version": "2.0.0",
       "_model_name": "FloatProgressModel",
       "_view_count": null,
       "_view_module": "@jupyter-widgets/controls",
       "_view_module_version": "2.0.0",
       "_view_name": "ProgressView",
       "bar_style": "success",
       "description": "",
       "description_allow_html": false,
       "layout": "IPY_MODEL_b8d3379ae82c4a5b95ec7b64e8af9d22",
       "max": 497787752.0,
       "min": 0.0,
       "orientation": "horizontal",
       "style": "IPY_MODEL_df18a974533f45cba58edf44e2434de5",
       "tabbable": null,
       "tooltip": null,
       "value": 497787752.0
      }
     },
     "0298922afb9b4aa29f8d68c0bf2b4290": {
      "model_module": "@jupyter-widgets/controls",
      "model_module_version": "2.0.0",
      "model_name": "HBoxModel",
      "state": {
       "_dom_classes": [],
       "_model_module": "@jupyter-widgets/controls",
       "_model_module_version": "2.0.0",
       "_model_name": "HBoxModel",
       "_view_count": null,
       "_view_module": "@jupyter-widgets/controls",
       "_view_module_version": "2.0.0",
       "_view_name": "HBoxView",
       "box_style": "",
       "children": [
        "IPY_MODEL_7953c1022511435cad9d4d220316a1fc",
        "IPY_MODEL_24dd63d67c5b4412a1518fb2e78c197d",
        "IPY_MODEL_88638edd1a51418aa7fd88acd5eefc2b"
       ],
       "layout": "IPY_MODEL_83997d5ed35046da9e0362e4c68131d0",
       "tabbable": null,
       "tooltip": null
      }
     },
     "03d9aaa56c6c48aa8a10d141f2f36e2a": {
      "model_module": "@jupyter-widgets/base",
      "model_module_version": "2.0.0",
      "model_name": "LayoutModel",
      "state": {
       "_model_module": "@jupyter-widgets/base",
       "_model_module_version": "2.0.0",
       "_model_name": "LayoutModel",
       "_view_count": null,
       "_view_module": "@jupyter-widgets/base",
       "_view_module_version": "2.0.0",
       "_view_name": "LayoutView",
       "align_content": null,
       "align_items": null,
       "align_self": null,
       "border_bottom": null,
       "border_left": null,
       "border_right": null,
       "border_top": null,
       "bottom": null,
       "display": null,
       "flex": null,
       "flex_flow": null,
       "grid_area": null,
       "grid_auto_columns": null,
       "grid_auto_flow": null,
       "grid_auto_rows": null,
       "grid_column": null,
       "grid_gap": null,
       "grid_row": null,
       "grid_template_areas": null,
       "grid_template_columns": null,
       "grid_template_rows": null,
       "height": null,
       "justify_content": null,
       "justify_items": null,
       "left": null,
       "margin": null,
       "max_height": null,
       "max_width": null,
       "min_height": null,
       "min_width": null,
       "object_fit": null,
       "object_position": null,
       "order": null,
       "overflow": null,
       "padding": null,
       "right": null,
       "top": null,
       "visibility": null,
       "width": null
      }
     },
     "0bfeca98344a42798bcd1c8e86c52e6d": {
      "model_module": "@jupyter-widgets/controls",
      "model_module_version": "2.0.0",
      "model_name": "HTMLStyleModel",
      "state": {
       "_model_module": "@jupyter-widgets/controls",
       "_model_module_version": "2.0.0",
       "_model_name": "HTMLStyleModel",
       "_view_count": null,
       "_view_module": "@jupyter-widgets/base",
       "_view_module_version": "2.0.0",
       "_view_name": "StyleView",
       "background": null,
       "description_width": "",
       "font_size": null,
       "text_color": null
      }
     },
     "0cdc3bfe27184239a6659a23d2e6c964": {
      "model_module": "@jupyter-widgets/controls",
      "model_module_version": "2.0.0",
      "model_name": "HTMLModel",
      "state": {
       "_dom_classes": [],
       "_model_module": "@jupyter-widgets/controls",
       "_model_module_version": "2.0.0",
       "_model_name": "HTMLModel",
       "_view_count": null,
       "_view_module": "@jupyter-widgets/controls",
       "_view_module_version": "2.0.0",
       "_view_name": "HTMLView",
       "description": "",
       "description_allow_html": false,
       "layout": "IPY_MODEL_362f4ef8b379441d9cc323a35f0603ae",
       "placeholder": "​",
       "style": "IPY_MODEL_6da0190ed5cf4ab6900973fa18b0b590",
       "tabbable": null,
       "tooltip": null,
       "value": "model.safetensors: 100%"
      }
     },
     "0f20053129484d5c8503e02337ed551e": {
      "model_module": "@jupyter-widgets/controls",
      "model_module_version": "2.0.0",
      "model_name": "HBoxModel",
      "state": {
       "_dom_classes": [],
       "_model_module": "@jupyter-widgets/controls",
       "_model_module_version": "2.0.0",
       "_model_name": "HBoxModel",
       "_view_count": null,
       "_view_module": "@jupyter-widgets/controls",
       "_view_module_version": "2.0.0",
       "_view_name": "HBoxView",
       "box_style": "",
       "children": [
        "IPY_MODEL_d9b947ad71804d999539e08e350f5781",
        "IPY_MODEL_64d8587aa164427d98549c4f237ae0a0",
        "IPY_MODEL_4dc2e7da335249048b189728362f6014"
       ],
       "layout": "IPY_MODEL_d15d645ca7354d6185e3457e0b175eec",
       "tabbable": null,
       "tooltip": null
      }
     },
     "1698e1f4aeb1481e92ceb9d011027c7b": {
      "model_module": "@jupyter-widgets/base",
      "model_module_version": "2.0.0",
      "model_name": "LayoutModel",
      "state": {
       "_model_module": "@jupyter-widgets/base",
       "_model_module_version": "2.0.0",
       "_model_name": "LayoutModel",
       "_view_count": null,
       "_view_module": "@jupyter-widgets/base",
       "_view_module_version": "2.0.0",
       "_view_name": "LayoutView",
       "align_content": null,
       "align_items": null,
       "align_self": null,
       "border_bottom": null,
       "border_left": null,
       "border_right": null,
       "border_top": null,
       "bottom": null,
       "display": null,
       "flex": null,
       "flex_flow": null,
       "grid_area": null,
       "grid_auto_columns": null,
       "grid_auto_flow": null,
       "grid_auto_rows": null,
       "grid_column": null,
       "grid_gap": null,
       "grid_row": null,
       "grid_template_areas": null,
       "grid_template_columns": null,
       "grid_template_rows": null,
       "height": null,
       "justify_content": null,
       "justify_items": null,
       "left": null,
       "margin": null,
       "max_height": null,
       "max_width": null,
       "min_height": null,
       "min_width": null,
       "object_fit": null,
       "object_position": null,
       "order": null,
       "overflow": null,
       "padding": null,
       "right": null,
       "top": null,
       "visibility": null,
       "width": null
      }
     },
     "1dcfd70cc31d411f9be4a8cb7f7650e9": {
      "model_module": "@jupyter-widgets/controls",
      "model_module_version": "2.0.0",
      "model_name": "HBoxModel",
      "state": {
       "_dom_classes": [],
       "_model_module": "@jupyter-widgets/controls",
       "_model_module_version": "2.0.0",
       "_model_name": "HBoxModel",
       "_view_count": null,
       "_view_module": "@jupyter-widgets/controls",
       "_view_module_version": "2.0.0",
       "_view_name": "HBoxView",
       "box_style": "",
       "children": [
        "IPY_MODEL_0cdc3bfe27184239a6659a23d2e6c964",
        "IPY_MODEL_01d39ae9c7fb4b7881775169c7bd30c7",
        "IPY_MODEL_46f0b9f3cb3249ffb48c334bfe3de8c1"
       ],
       "layout": "IPY_MODEL_571571d8e34240b1adf4f9903902553c",
       "tabbable": null,
       "tooltip": null
      }
     },
     "2211d0fa6ea346968c4a2d8350c339e5": {
      "model_module": "@jupyter-widgets/controls",
      "model_module_version": "2.0.0",
      "model_name": "HBoxModel",
      "state": {
       "_dom_classes": [],
       "_model_module": "@jupyter-widgets/controls",
       "_model_module_version": "2.0.0",
       "_model_name": "HBoxModel",
       "_view_count": null,
       "_view_module": "@jupyter-widgets/controls",
       "_view_module_version": "2.0.0",
       "_view_name": "HBoxView",
       "box_style": "",
       "children": [
        "IPY_MODEL_f3af76f9efe6455c83795e684962f8df",
        "IPY_MODEL_70f7217293404695b03a8054f96b32c0",
        "IPY_MODEL_f96f66117fee4d3dad609fb3cc69e864"
       ],
       "layout": "IPY_MODEL_f4fb2d456c5a46258e77e56311432958",
       "tabbable": null,
       "tooltip": null
      }
     },
     "24cd113d985d4442a95bafd93ba9208c": {
      "model_module": "@jupyter-widgets/controls",
      "model_module_version": "2.0.0",
      "model_name": "HTMLStyleModel",
      "state": {
       "_model_module": "@jupyter-widgets/controls",
       "_model_module_version": "2.0.0",
       "_model_name": "HTMLStyleModel",
       "_view_count": null,
       "_view_module": "@jupyter-widgets/base",
       "_view_module_version": "2.0.0",
       "_view_name": "StyleView",
       "background": null,
       "description_width": "",
       "font_size": null,
       "text_color": null
      }
     },
     "24dd63d67c5b4412a1518fb2e78c197d": {
      "model_module": "@jupyter-widgets/controls",
      "model_module_version": "2.0.0",
      "model_name": "FloatProgressModel",
      "state": {
       "_dom_classes": [],
       "_model_module": "@jupyter-widgets/controls",
       "_model_module_version": "2.0.0",
       "_model_name": "FloatProgressModel",
       "_view_count": null,
       "_view_module": "@jupyter-widgets/controls",
       "_view_module_version": "2.0.0",
       "_view_name": "ProgressView",
       "bar_style": "success",
       "description": "",
       "description_allow_html": false,
       "layout": "IPY_MODEL_a7b726568a3e4ca88d858794d9a8c57f",
       "max": 1.0,
       "min": 0.0,
       "orientation": "horizontal",
       "style": "IPY_MODEL_297820b83e804d6ebaa414bacd37eb65",
       "tabbable": null,
       "tooltip": null,
       "value": 1.0
      }
     },
     "297820b83e804d6ebaa414bacd37eb65": {
      "model_module": "@jupyter-widgets/controls",
      "model_module_version": "2.0.0",
      "model_name": "ProgressStyleModel",
      "state": {
       "_model_module": "@jupyter-widgets/controls",
       "_model_module_version": "2.0.0",
       "_model_name": "ProgressStyleModel",
       "_view_count": null,
       "_view_module": "@jupyter-widgets/base",
       "_view_module_version": "2.0.0",
       "_view_name": "StyleView",
       "bar_color": null,
       "description_width": ""
      }
     },
     "2c1d2aaabc8f485fba5c8bd0961547d4": {
      "model_module": "@jupyter-widgets/base",
      "model_module_version": "2.0.0",
      "model_name": "LayoutModel",
      "state": {
       "_model_module": "@jupyter-widgets/base",
       "_model_module_version": "2.0.0",
       "_model_name": "LayoutModel",
       "_view_count": null,
       "_view_module": "@jupyter-widgets/base",
       "_view_module_version": "2.0.0",
       "_view_name": "LayoutView",
       "align_content": null,
       "align_items": null,
       "align_self": null,
       "border_bottom": null,
       "border_left": null,
       "border_right": null,
       "border_top": null,
       "bottom": null,
       "display": null,
       "flex": null,
       "flex_flow": null,
       "grid_area": null,
       "grid_auto_columns": null,
       "grid_auto_flow": null,
       "grid_auto_rows": null,
       "grid_column": null,
       "grid_gap": null,
       "grid_row": null,
       "grid_template_areas": null,
       "grid_template_columns": null,
       "grid_template_rows": null,
       "height": null,
       "justify_content": null,
       "justify_items": null,
       "left": null,
       "margin": null,
       "max_height": null,
       "max_width": null,
       "min_height": null,
       "min_width": null,
       "object_fit": null,
       "object_position": null,
       "order": null,
       "overflow": null,
       "padding": null,
       "right": null,
       "top": null,
       "visibility": null,
       "width": null
      }
     },
     "3456fc51961c414faa5445420e8a386a": {
      "model_module": "@jupyter-widgets/base",
      "model_module_version": "2.0.0",
      "model_name": "LayoutModel",
      "state": {
       "_model_module": "@jupyter-widgets/base",
       "_model_module_version": "2.0.0",
       "_model_name": "LayoutModel",
       "_view_count": null,
       "_view_module": "@jupyter-widgets/base",
       "_view_module_version": "2.0.0",
       "_view_name": "LayoutView",
       "align_content": null,
       "align_items": null,
       "align_self": null,
       "border_bottom": null,
       "border_left": null,
       "border_right": null,
       "border_top": null,
       "bottom": null,
       "display": null,
       "flex": null,
       "flex_flow": null,
       "grid_area": null,
       "grid_auto_columns": null,
       "grid_auto_flow": null,
       "grid_auto_rows": null,
       "grid_column": null,
       "grid_gap": null,
       "grid_row": null,
       "grid_template_areas": null,
       "grid_template_columns": null,
       "grid_template_rows": null,
       "height": null,
       "justify_content": null,
       "justify_items": null,
       "left": null,
       "margin": null,
       "max_height": null,
       "max_width": null,
       "min_height": null,
       "min_width": null,
       "object_fit": null,
       "object_position": null,
       "order": null,
       "overflow": null,
       "padding": null,
       "right": null,
       "top": null,
       "visibility": null,
       "width": null
      }
     },
     "362f4ef8b379441d9cc323a35f0603ae": {
      "model_module": "@jupyter-widgets/base",
      "model_module_version": "2.0.0",
      "model_name": "LayoutModel",
      "state": {
       "_model_module": "@jupyter-widgets/base",
       "_model_module_version": "2.0.0",
       "_model_name": "LayoutModel",
       "_view_count": null,
       "_view_module": "@jupyter-widgets/base",
       "_view_module_version": "2.0.0",
       "_view_name": "LayoutView",
       "align_content": null,
       "align_items": null,
       "align_self": null,
       "border_bottom": null,
       "border_left": null,
       "border_right": null,
       "border_top": null,
       "bottom": null,
       "display": null,
       "flex": null,
       "flex_flow": null,
       "grid_area": null,
       "grid_auto_columns": null,
       "grid_auto_flow": null,
       "grid_auto_rows": null,
       "grid_column": null,
       "grid_gap": null,
       "grid_row": null,
       "grid_template_areas": null,
       "grid_template_columns": null,
       "grid_template_rows": null,
       "height": null,
       "justify_content": null,
       "justify_items": null,
       "left": null,
       "margin": null,
       "max_height": null,
       "max_width": null,
       "min_height": null,
       "min_width": null,
       "object_fit": null,
       "object_position": null,
       "order": null,
       "overflow": null,
       "padding": null,
       "right": null,
       "top": null,
       "visibility": null,
       "width": null
      }
     },
     "384e6de9bedf4e7da4d893a5945d4824": {
      "model_module": "@jupyter-widgets/controls",
      "model_module_version": "2.0.0",
      "model_name": "HTMLStyleModel",
      "state": {
       "_model_module": "@jupyter-widgets/controls",
       "_model_module_version": "2.0.0",
       "_model_name": "HTMLStyleModel",
       "_view_count": null,
       "_view_module": "@jupyter-widgets/base",
       "_view_module_version": "2.0.0",
       "_view_name": "StyleView",
       "background": null,
       "description_width": "",
       "font_size": null,
       "text_color": null
      }
     },
     "46f0b9f3cb3249ffb48c334bfe3de8c1": {
      "model_module": "@jupyter-widgets/controls",
      "model_module_version": "2.0.0",
      "model_name": "HTMLModel",
      "state": {
       "_dom_classes": [],
       "_model_module": "@jupyter-widgets/controls",
       "_model_module_version": "2.0.0",
       "_model_name": "HTMLModel",
       "_view_count": null,
       "_view_module": "@jupyter-widgets/controls",
       "_view_module_version": "2.0.0",
       "_view_name": "HTMLView",
       "description": "",
       "description_allow_html": false,
       "layout": "IPY_MODEL_77dc1b06680d4fd09d9d2eee6603f337",
       "placeholder": "​",
       "style": "IPY_MODEL_d6d463bc14724706980122d8ee3a20f3",
       "tabbable": null,
       "tooltip": null,
       "value": " 498M/498M [00:01&lt;00:00, 304MB/s]"
      }
     },
     "4dc2e7da335249048b189728362f6014": {
      "model_module": "@jupyter-widgets/controls",
      "model_module_version": "2.0.0",
      "model_name": "HTMLModel",
      "state": {
       "_dom_classes": [],
       "_model_module": "@jupyter-widgets/controls",
       "_model_module_version": "2.0.0",
       "_model_name": "HTMLModel",
       "_view_count": null,
       "_view_module": "@jupyter-widgets/controls",
       "_view_module_version": "2.0.0",
       "_view_name": "HTMLView",
       "description": "",
       "description_allow_html": false,
       "layout": "IPY_MODEL_8301d1ba91aa418faca320a8c890e5f7",
       "placeholder": "​",
       "style": "IPY_MODEL_d21c88be0faf44fa90f0143ae43dee09",
       "tabbable": null,
       "tooltip": null,
       "value": " 498M/498M [00:01&lt;00:00, 319MB/s]"
      }
     },
     "4e3bdf0ca11f4747b4d3c5b0b6cfac56": {
      "model_module": "@jupyter-widgets/base",
      "model_module_version": "2.0.0",
      "model_name": "LayoutModel",
      "state": {
       "_model_module": "@jupyter-widgets/base",
       "_model_module_version": "2.0.0",
       "_model_name": "LayoutModel",
       "_view_count": null,
       "_view_module": "@jupyter-widgets/base",
       "_view_module_version": "2.0.0",
       "_view_name": "LayoutView",
       "align_content": null,
       "align_items": null,
       "align_self": null,
       "border_bottom": null,
       "border_left": null,
       "border_right": null,
       "border_top": null,
       "bottom": null,
       "display": null,
       "flex": null,
       "flex_flow": null,
       "grid_area": null,
       "grid_auto_columns": null,
       "grid_auto_flow": null,
       "grid_auto_rows": null,
       "grid_column": null,
       "grid_gap": null,
       "grid_row": null,
       "grid_template_areas": null,
       "grid_template_columns": null,
       "grid_template_rows": null,
       "height": null,
       "justify_content": null,
       "justify_items": null,
       "left": null,
       "margin": null,
       "max_height": null,
       "max_width": null,
       "min_height": null,
       "min_width": null,
       "object_fit": null,
       "object_position": null,
       "order": null,
       "overflow": null,
       "padding": null,
       "right": null,
       "top": null,
       "visibility": null,
       "width": null
      }
     },
     "4f0820a57c6b4076970767c7bfc07898": {
      "model_module": "@jupyter-widgets/base",
      "model_module_version": "2.0.0",
      "model_name": "LayoutModel",
      "state": {
       "_model_module": "@jupyter-widgets/base",
       "_model_module_version": "2.0.0",
       "_model_name": "LayoutModel",
       "_view_count": null,
       "_view_module": "@jupyter-widgets/base",
       "_view_module_version": "2.0.0",
       "_view_name": "LayoutView",
       "align_content": null,
       "align_items": null,
       "align_self": null,
       "border_bottom": null,
       "border_left": null,
       "border_right": null,
       "border_top": null,
       "bottom": null,
       "display": null,
       "flex": null,
       "flex_flow": null,
       "grid_area": null,
       "grid_auto_columns": null,
       "grid_auto_flow": null,
       "grid_auto_rows": null,
       "grid_column": null,
       "grid_gap": null,
       "grid_row": null,
       "grid_template_areas": null,
       "grid_template_columns": null,
       "grid_template_rows": null,
       "height": null,
       "justify_content": null,
       "justify_items": null,
       "left": null,
       "margin": null,
       "max_height": null,
       "max_width": null,
       "min_height": null,
       "min_width": null,
       "object_fit": null,
       "object_position": null,
       "order": null,
       "overflow": null,
       "padding": null,
       "right": null,
       "top": null,
       "visibility": null,
       "width": "20px"
      }
     },
     "571571d8e34240b1adf4f9903902553c": {
      "model_module": "@jupyter-widgets/base",
      "model_module_version": "2.0.0",
      "model_name": "LayoutModel",
      "state": {
       "_model_module": "@jupyter-widgets/base",
       "_model_module_version": "2.0.0",
       "_model_name": "LayoutModel",
       "_view_count": null,
       "_view_module": "@jupyter-widgets/base",
       "_view_module_version": "2.0.0",
       "_view_name": "LayoutView",
       "align_content": null,
       "align_items": null,
       "align_self": null,
       "border_bottom": null,
       "border_left": null,
       "border_right": null,
       "border_top": null,
       "bottom": null,
       "display": null,
       "flex": null,
       "flex_flow": null,
       "grid_area": null,
       "grid_auto_columns": null,
       "grid_auto_flow": null,
       "grid_auto_rows": null,
       "grid_column": null,
       "grid_gap": null,
       "grid_row": null,
       "grid_template_areas": null,
       "grid_template_columns": null,
       "grid_template_rows": null,
       "height": null,
       "justify_content": null,
       "justify_items": null,
       "left": null,
       "margin": null,
       "max_height": null,
       "max_width": null,
       "min_height": null,
       "min_width": null,
       "object_fit": null,
       "object_position": null,
       "order": null,
       "overflow": null,
       "padding": null,
       "right": null,
       "top": null,
       "visibility": null,
       "width": null
      }
     },
     "5941693fbd5a40a587ed5215bbb18e16": {
      "model_module": "@jupyter-widgets/controls",
      "model_module_version": "2.0.0",
      "model_name": "HBoxModel",
      "state": {
       "_dom_classes": [],
       "_model_module": "@jupyter-widgets/controls",
       "_model_module_version": "2.0.0",
       "_model_name": "HBoxModel",
       "_view_count": null,
       "_view_module": "@jupyter-widgets/controls",
       "_view_module_version": "2.0.0",
       "_view_name": "HBoxView",
       "box_style": "",
       "children": [
        "IPY_MODEL_d916ed472b094999a2767da828ed56e7",
        "IPY_MODEL_6424bf4a344d49428d8141dfe96dd9c2",
        "IPY_MODEL_a7d8acd79f0748d0b69ea916a7e9c93b"
       ],
       "layout": "IPY_MODEL_03d9aaa56c6c48aa8a10d141f2f36e2a",
       "tabbable": null,
       "tooltip": null
      }
     },
     "5cf7f7dd83c4461e8b17bba7beac7ad0": {
      "model_module": "@jupyter-widgets/base",
      "model_module_version": "2.0.0",
      "model_name": "LayoutModel",
      "state": {
       "_model_module": "@jupyter-widgets/base",
       "_model_module_version": "2.0.0",
       "_model_name": "LayoutModel",
       "_view_count": null,
       "_view_module": "@jupyter-widgets/base",
       "_view_module_version": "2.0.0",
       "_view_name": "LayoutView",
       "align_content": null,
       "align_items": null,
       "align_self": null,
       "border_bottom": null,
       "border_left": null,
       "border_right": null,
       "border_top": null,
       "bottom": null,
       "display": null,
       "flex": null,
       "flex_flow": null,
       "grid_area": null,
       "grid_auto_columns": null,
       "grid_auto_flow": null,
       "grid_auto_rows": null,
       "grid_column": null,
       "grid_gap": null,
       "grid_row": null,
       "grid_template_areas": null,
       "grid_template_columns": null,
       "grid_template_rows": null,
       "height": null,
       "justify_content": null,
       "justify_items": null,
       "left": null,
       "margin": null,
       "max_height": null,
       "max_width": null,
       "min_height": null,
       "min_width": null,
       "object_fit": null,
       "object_position": null,
       "order": null,
       "overflow": null,
       "padding": null,
       "right": null,
       "top": null,
       "visibility": null,
       "width": null
      }
     },
     "618c67e3c7584165af1062d3bfe8521d": {
      "model_module": "@jupyter-widgets/base",
      "model_module_version": "2.0.0",
      "model_name": "LayoutModel",
      "state": {
       "_model_module": "@jupyter-widgets/base",
       "_model_module_version": "2.0.0",
       "_model_name": "LayoutModel",
       "_view_count": null,
       "_view_module": "@jupyter-widgets/base",
       "_view_module_version": "2.0.0",
       "_view_name": "LayoutView",
       "align_content": null,
       "align_items": null,
       "align_self": null,
       "border_bottom": null,
       "border_left": null,
       "border_right": null,
       "border_top": null,
       "bottom": null,
       "display": null,
       "flex": null,
       "flex_flow": null,
       "grid_area": null,
       "grid_auto_columns": null,
       "grid_auto_flow": null,
       "grid_auto_rows": null,
       "grid_column": null,
       "grid_gap": null,
       "grid_row": null,
       "grid_template_areas": null,
       "grid_template_columns": null,
       "grid_template_rows": null,
       "height": null,
       "justify_content": null,
       "justify_items": null,
       "left": null,
       "margin": null,
       "max_height": null,
       "max_width": null,
       "min_height": null,
       "min_width": null,
       "object_fit": null,
       "object_position": null,
       "order": null,
       "overflow": null,
       "padding": null,
       "right": null,
       "top": null,
       "visibility": null,
       "width": null
      }
     },
     "6424bf4a344d49428d8141dfe96dd9c2": {
      "model_module": "@jupyter-widgets/controls",
      "model_module_version": "2.0.0",
      "model_name": "FloatProgressModel",
      "state": {
       "_dom_classes": [],
       "_model_module": "@jupyter-widgets/controls",
       "_model_module_version": "2.0.0",
       "_model_name": "FloatProgressModel",
       "_view_count": null,
       "_view_module": "@jupyter-widgets/controls",
       "_view_module_version": "2.0.0",
       "_view_name": "ProgressView",
       "bar_style": "success",
       "description": "",
       "description_allow_html": false,
       "layout": "IPY_MODEL_1698e1f4aeb1481e92ceb9d011027c7b",
       "max": 2.0,
       "min": 0.0,
       "orientation": "horizontal",
       "style": "IPY_MODEL_6b1da743807f4a6cb794c8dde568d461",
       "tabbable": null,
       "tooltip": null,
       "value": 2.0
      }
     },
     "64d8587aa164427d98549c4f237ae0a0": {
      "model_module": "@jupyter-widgets/controls",
      "model_module_version": "2.0.0",
      "model_name": "FloatProgressModel",
      "state": {
       "_dom_classes": [],
       "_model_module": "@jupyter-widgets/controls",
       "_model_module_version": "2.0.0",
       "_model_name": "FloatProgressModel",
       "_view_count": null,
       "_view_module": "@jupyter-widgets/controls",
       "_view_module_version": "2.0.0",
       "_view_name": "ProgressView",
       "bar_style": "success",
       "description": "",
       "description_allow_html": false,
       "layout": "IPY_MODEL_4e3bdf0ca11f4747b4d3c5b0b6cfac56",
       "max": 497810400.0,
       "min": 0.0,
       "orientation": "horizontal",
       "style": "IPY_MODEL_d55e70fae9894b068b56079258b7b247",
       "tabbable": null,
       "tooltip": null,
       "value": 497810400.0
      }
     },
     "66c8955b7d824c11b266e1058dcc5bf9": {
      "model_module": "@jupyter-widgets/controls",
      "model_module_version": "2.0.0",
      "model_name": "HTMLStyleModel",
      "state": {
       "_model_module": "@jupyter-widgets/controls",
       "_model_module_version": "2.0.0",
       "_model_name": "HTMLStyleModel",
       "_view_count": null,
       "_view_module": "@jupyter-widgets/base",
       "_view_module_version": "2.0.0",
       "_view_name": "StyleView",
       "background": null,
       "description_width": "",
       "font_size": null,
       "text_color": null
      }
     },
     "6b1da743807f4a6cb794c8dde568d461": {
      "model_module": "@jupyter-widgets/controls",
      "model_module_version": "2.0.0",
      "model_name": "ProgressStyleModel",
      "state": {
       "_model_module": "@jupyter-widgets/controls",
       "_model_module_version": "2.0.0",
       "_model_name": "ProgressStyleModel",
       "_view_count": null,
       "_view_module": "@jupyter-widgets/base",
       "_view_module_version": "2.0.0",
       "_view_name": "StyleView",
       "bar_color": null,
       "description_width": ""
      }
     },
     "6da0190ed5cf4ab6900973fa18b0b590": {
      "model_module": "@jupyter-widgets/controls",
      "model_module_version": "2.0.0",
      "model_name": "HTMLStyleModel",
      "state": {
       "_model_module": "@jupyter-widgets/controls",
       "_model_module_version": "2.0.0",
       "_model_name": "HTMLStyleModel",
       "_view_count": null,
       "_view_module": "@jupyter-widgets/base",
       "_view_module_version": "2.0.0",
       "_view_name": "StyleView",
       "background": null,
       "description_width": "",
       "font_size": null,
       "text_color": null
      }
     },
     "6e5ec719ea6240e0a5703d6e6ef1fa3c": {
      "model_module": "@jupyter-widgets/base",
      "model_module_version": "2.0.0",
      "model_name": "LayoutModel",
      "state": {
       "_model_module": "@jupyter-widgets/base",
       "_model_module_version": "2.0.0",
       "_model_name": "LayoutModel",
       "_view_count": null,
       "_view_module": "@jupyter-widgets/base",
       "_view_module_version": "2.0.0",
       "_view_name": "LayoutView",
       "align_content": null,
       "align_items": null,
       "align_self": null,
       "border_bottom": null,
       "border_left": null,
       "border_right": null,
       "border_top": null,
       "bottom": null,
       "display": null,
       "flex": null,
       "flex_flow": null,
       "grid_area": null,
       "grid_auto_columns": null,
       "grid_auto_flow": null,
       "grid_auto_rows": null,
       "grid_column": null,
       "grid_gap": null,
       "grid_row": null,
       "grid_template_areas": null,
       "grid_template_columns": null,
       "grid_template_rows": null,
       "height": null,
       "justify_content": null,
       "justify_items": null,
       "left": null,
       "margin": null,
       "max_height": null,
       "max_width": null,
       "min_height": null,
       "min_width": null,
       "object_fit": null,
       "object_position": null,
       "order": null,
       "overflow": null,
       "padding": null,
       "right": null,
       "top": null,
       "visibility": null,
       "width": null
      }
     },
     "70f7217293404695b03a8054f96b32c0": {
      "model_module": "@jupyter-widgets/controls",
      "model_module_version": "2.0.0",
      "model_name": "FloatProgressModel",
      "state": {
       "_dom_classes": [],
       "_model_module": "@jupyter-widgets/controls",
       "_model_module_version": "2.0.0",
       "_model_name": "FloatProgressModel",
       "_view_count": null,
       "_view_module": "@jupyter-widgets/controls",
       "_view_module_version": "2.0.0",
       "_view_name": "ProgressView",
       "bar_style": "success",
       "description": "",
       "description_allow_html": false,
       "layout": "IPY_MODEL_5cf7f7dd83c4461e8b17bba7beac7ad0",
       "max": 112.0,
       "min": 0.0,
       "orientation": "horizontal",
       "style": "IPY_MODEL_f154b04597e94c468f26c7b6ed39999d",
       "tabbable": null,
       "tooltip": null,
       "value": 112.0
      }
     },
     "7140b2c431354cb6b4560eb957458867": {
      "model_module": "@jupyter-widgets/controls",
      "model_module_version": "2.0.0",
      "model_name": "HTMLStyleModel",
      "state": {
       "_model_module": "@jupyter-widgets/controls",
       "_model_module_version": "2.0.0",
       "_model_name": "HTMLStyleModel",
       "_view_count": null,
       "_view_module": "@jupyter-widgets/base",
       "_view_module_version": "2.0.0",
       "_view_name": "StyleView",
       "background": null,
       "description_width": "",
       "font_size": null,
       "text_color": null
      }
     },
     "77dc1b06680d4fd09d9d2eee6603f337": {
      "model_module": "@jupyter-widgets/base",
      "model_module_version": "2.0.0",
      "model_name": "LayoutModel",
      "state": {
       "_model_module": "@jupyter-widgets/base",
       "_model_module_version": "2.0.0",
       "_model_name": "LayoutModel",
       "_view_count": null,
       "_view_module": "@jupyter-widgets/base",
       "_view_module_version": "2.0.0",
       "_view_name": "LayoutView",
       "align_content": null,
       "align_items": null,
       "align_self": null,
       "border_bottom": null,
       "border_left": null,
       "border_right": null,
       "border_top": null,
       "bottom": null,
       "display": null,
       "flex": null,
       "flex_flow": null,
       "grid_area": null,
       "grid_auto_columns": null,
       "grid_auto_flow": null,
       "grid_auto_rows": null,
       "grid_column": null,
       "grid_gap": null,
       "grid_row": null,
       "grid_template_areas": null,
       "grid_template_columns": null,
       "grid_template_rows": null,
       "height": null,
       "justify_content": null,
       "justify_items": null,
       "left": null,
       "margin": null,
       "max_height": null,
       "max_width": null,
       "min_height": null,
       "min_width": null,
       "object_fit": null,
       "object_position": null,
       "order": null,
       "overflow": null,
       "padding": null,
       "right": null,
       "top": null,
       "visibility": null,
       "width": null
      }
     },
     "7953c1022511435cad9d4d220316a1fc": {
      "model_module": "@jupyter-widgets/controls",
      "model_module_version": "2.0.0",
      "model_name": "HTMLModel",
      "state": {
       "_dom_classes": [],
       "_model_module": "@jupyter-widgets/controls",
       "_model_module_version": "2.0.0",
       "_model_name": "HTMLModel",
       "_view_count": null,
       "_view_module": "@jupyter-widgets/controls",
       "_view_module_version": "2.0.0",
       "_view_name": "HTMLView",
       "description": "",
       "description_allow_html": false,
       "layout": "IPY_MODEL_6e5ec719ea6240e0a5703d6e6ef1fa3c",
       "placeholder": "​",
       "style": "IPY_MODEL_24cd113d985d4442a95bafd93ba9208c",
       "tabbable": null,
       "tooltip": null,
       "value": "vocab.txt: "
      }
     },
     "7c754d80480d449cb0649ec2287248df": {
      "model_module": "@jupyter-widgets/controls",
      "model_module_version": "2.0.0",
      "model_name": "HTMLModel",
      "state": {
       "_dom_classes": [],
       "_model_module": "@jupyter-widgets/controls",
       "_model_module_version": "2.0.0",
       "_model_name": "HTMLModel",
       "_view_count": null,
       "_view_module": "@jupyter-widgets/controls",
       "_view_module_version": "2.0.0",
       "_view_name": "HTMLView",
       "description": "",
       "description_allow_html": false,
       "layout": "IPY_MODEL_a53f287cc8e3409fa5d4140b7977b588",
       "placeholder": "​",
       "style": "IPY_MODEL_7140b2c431354cb6b4560eb957458867",
       "tabbable": null,
       "tooltip": null,
       "value": "config.json: "
      }
     },
     "7f5418a73eaa4e7986b77e7b941e7f8b": {
      "model_module": "@jupyter-widgets/controls",
      "model_module_version": "2.0.0",
      "model_name": "HTMLStyleModel",
      "state": {
       "_model_module": "@jupyter-widgets/controls",
       "_model_module_version": "2.0.0",
       "_model_name": "HTMLStyleModel",
       "_view_count": null,
       "_view_module": "@jupyter-widgets/base",
       "_view_module_version": "2.0.0",
       "_view_name": "StyleView",
       "background": null,
       "description_width": "",
       "font_size": null,
       "text_color": null
      }
     },
     "8301d1ba91aa418faca320a8c890e5f7": {
      "model_module": "@jupyter-widgets/base",
      "model_module_version": "2.0.0",
      "model_name": "LayoutModel",
      "state": {
       "_model_module": "@jupyter-widgets/base",
       "_model_module_version": "2.0.0",
       "_model_name": "LayoutModel",
       "_view_count": null,
       "_view_module": "@jupyter-widgets/base",
       "_view_module_version": "2.0.0",
       "_view_name": "LayoutView",
       "align_content": null,
       "align_items": null,
       "align_self": null,
       "border_bottom": null,
       "border_left": null,
       "border_right": null,
       "border_top": null,
       "bottom": null,
       "display": null,
       "flex": null,
       "flex_flow": null,
       "grid_area": null,
       "grid_auto_columns": null,
       "grid_auto_flow": null,
       "grid_auto_rows": null,
       "grid_column": null,
       "grid_gap": null,
       "grid_row": null,
       "grid_template_areas": null,
       "grid_template_columns": null,
       "grid_template_rows": null,
       "height": null,
       "justify_content": null,
       "justify_items": null,
       "left": null,
       "margin": null,
       "max_height": null,
       "max_width": null,
       "min_height": null,
       "min_width": null,
       "object_fit": null,
       "object_position": null,
       "order": null,
       "overflow": null,
       "padding": null,
       "right": null,
       "top": null,
       "visibility": null,
       "width": null
      }
     },
     "83997d5ed35046da9e0362e4c68131d0": {
      "model_module": "@jupyter-widgets/base",
      "model_module_version": "2.0.0",
      "model_name": "LayoutModel",
      "state": {
       "_model_module": "@jupyter-widgets/base",
       "_model_module_version": "2.0.0",
       "_model_name": "LayoutModel",
       "_view_count": null,
       "_view_module": "@jupyter-widgets/base",
       "_view_module_version": "2.0.0",
       "_view_name": "LayoutView",
       "align_content": null,
       "align_items": null,
       "align_self": null,
       "border_bottom": null,
       "border_left": null,
       "border_right": null,
       "border_top": null,
       "bottom": null,
       "display": null,
       "flex": null,
       "flex_flow": null,
       "grid_area": null,
       "grid_auto_columns": null,
       "grid_auto_flow": null,
       "grid_auto_rows": null,
       "grid_column": null,
       "grid_gap": null,
       "grid_row": null,
       "grid_template_areas": null,
       "grid_template_columns": null,
       "grid_template_rows": null,
       "height": null,
       "justify_content": null,
       "justify_items": null,
       "left": null,
       "margin": null,
       "max_height": null,
       "max_width": null,
       "min_height": null,
       "min_width": null,
       "object_fit": null,
       "object_position": null,
       "order": null,
       "overflow": null,
       "padding": null,
       "right": null,
       "top": null,
       "visibility": null,
       "width": null
      }
     },
     "88638edd1a51418aa7fd88acd5eefc2b": {
      "model_module": "@jupyter-widgets/controls",
      "model_module_version": "2.0.0",
      "model_name": "HTMLModel",
      "state": {
       "_dom_classes": [],
       "_model_module": "@jupyter-widgets/controls",
       "_model_module_version": "2.0.0",
       "_model_name": "HTMLModel",
       "_view_count": null,
       "_view_module": "@jupyter-widgets/controls",
       "_view_module_version": "2.0.0",
       "_view_name": "HTMLView",
       "description": "",
       "description_allow_html": false,
       "layout": "IPY_MODEL_2c1d2aaabc8f485fba5c8bd0961547d4",
       "placeholder": "​",
       "style": "IPY_MODEL_fcdc561631324f128cfb38eb173a267d",
       "tabbable": null,
       "tooltip": null,
       "value": " 229k/? [00:00&lt;00:00, 11.0MB/s]"
      }
     },
     "902aba4a9d0f42d285555ab6aea90a49": {
      "model_module": "@jupyter-widgets/controls",
      "model_module_version": "2.0.0",
      "model_name": "HTMLStyleModel",
      "state": {
       "_model_module": "@jupyter-widgets/controls",
       "_model_module_version": "2.0.0",
       "_model_name": "HTMLStyleModel",
       "_view_count": null,
       "_view_module": "@jupyter-widgets/base",
       "_view_module_version": "2.0.0",
       "_view_name": "StyleView",
       "background": null,
       "description_width": "",
       "font_size": null,
       "text_color": null
      }
     },
     "a53f287cc8e3409fa5d4140b7977b588": {
      "model_module": "@jupyter-widgets/base",
      "model_module_version": "2.0.0",
      "model_name": "LayoutModel",
      "state": {
       "_model_module": "@jupyter-widgets/base",
       "_model_module_version": "2.0.0",
       "_model_name": "LayoutModel",
       "_view_count": null,
       "_view_module": "@jupyter-widgets/base",
       "_view_module_version": "2.0.0",
       "_view_name": "LayoutView",
       "align_content": null,
       "align_items": null,
       "align_self": null,
       "border_bottom": null,
       "border_left": null,
       "border_right": null,
       "border_top": null,
       "bottom": null,
       "display": null,
       "flex": null,
       "flex_flow": null,
       "grid_area": null,
       "grid_auto_columns": null,
       "grid_auto_flow": null,
       "grid_auto_rows": null,
       "grid_column": null,
       "grid_gap": null,
       "grid_row": null,
       "grid_template_areas": null,
       "grid_template_columns": null,
       "grid_template_rows": null,
       "height": null,
       "justify_content": null,
       "justify_items": null,
       "left": null,
       "margin": null,
       "max_height": null,
       "max_width": null,
       "min_height": null,
       "min_width": null,
       "object_fit": null,
       "object_position": null,
       "order": null,
       "overflow": null,
       "padding": null,
       "right": null,
       "top": null,
       "visibility": null,
       "width": null
      }
     },
     "a7b726568a3e4ca88d858794d9a8c57f": {
      "model_module": "@jupyter-widgets/base",
      "model_module_version": "2.0.0",
      "model_name": "LayoutModel",
      "state": {
       "_model_module": "@jupyter-widgets/base",
       "_model_module_version": "2.0.0",
       "_model_name": "LayoutModel",
       "_view_count": null,
       "_view_module": "@jupyter-widgets/base",
       "_view_module_version": "2.0.0",
       "_view_name": "LayoutView",
       "align_content": null,
       "align_items": null,
       "align_self": null,
       "border_bottom": null,
       "border_left": null,
       "border_right": null,
       "border_top": null,
       "bottom": null,
       "display": null,
       "flex": null,
       "flex_flow": null,
       "grid_area": null,
       "grid_auto_columns": null,
       "grid_auto_flow": null,
       "grid_auto_rows": null,
       "grid_column": null,
       "grid_gap": null,
       "grid_row": null,
       "grid_template_areas": null,
       "grid_template_columns": null,
       "grid_template_rows": null,
       "height": null,
       "justify_content": null,
       "justify_items": null,
       "left": null,
       "margin": null,
       "max_height": null,
       "max_width": null,
       "min_height": null,
       "min_width": null,
       "object_fit": null,
       "object_position": null,
       "order": null,
       "overflow": null,
       "padding": null,
       "right": null,
       "top": null,
       "visibility": null,
       "width": "20px"
      }
     },
     "a7d8acd79f0748d0b69ea916a7e9c93b": {
      "model_module": "@jupyter-widgets/controls",
      "model_module_version": "2.0.0",
      "model_name": "HTMLModel",
      "state": {
       "_dom_classes": [],
       "_model_module": "@jupyter-widgets/controls",
       "_model_module_version": "2.0.0",
       "_model_name": "HTMLModel",
       "_view_count": null,
       "_view_module": "@jupyter-widgets/controls",
       "_view_module_version": "2.0.0",
       "_view_name": "HTMLView",
       "description": "",
       "description_allow_html": false,
       "layout": "IPY_MODEL_ba1236cdefe44ffe95c2a45f93cc06fb",
       "placeholder": "​",
       "style": "IPY_MODEL_d8c77446422e44f8973e0d8c14c97d08",
       "tabbable": null,
       "tooltip": null,
       "value": " 2.00/2.00 [00:00&lt;00:00, 242B/s]"
      }
     },
     "acd0aa144a884b7cb11ad8f4a5c60a4c": {
      "model_module": "@jupyter-widgets/base",
      "model_module_version": "2.0.0",
      "model_name": "LayoutModel",
      "state": {
       "_model_module": "@jupyter-widgets/base",
       "_model_module_version": "2.0.0",
       "_model_name": "LayoutModel",
       "_view_count": null,
       "_view_module": "@jupyter-widgets/base",
       "_view_module_version": "2.0.0",
       "_view_name": "LayoutView",
       "align_content": null,
       "align_items": null,
       "align_self": null,
       "border_bottom": null,
       "border_left": null,
       "border_right": null,
       "border_top": null,
       "bottom": null,
       "display": null,
       "flex": null,
       "flex_flow": null,
       "grid_area": null,
       "grid_auto_columns": null,
       "grid_auto_flow": null,
       "grid_auto_rows": null,
       "grid_column": null,
       "grid_gap": null,
       "grid_row": null,
       "grid_template_areas": null,
       "grid_template_columns": null,
       "grid_template_rows": null,
       "height": null,
       "justify_content": null,
       "justify_items": null,
       "left": null,
       "margin": null,
       "max_height": null,
       "max_width": null,
       "min_height": null,
       "min_width": null,
       "object_fit": null,
       "object_position": null,
       "order": null,
       "overflow": null,
       "padding": null,
       "right": null,
       "top": null,
       "visibility": null,
       "width": null
      }
     },
     "b51baea45cc84232b2739dc1bdef286e": {
      "model_module": "@jupyter-widgets/controls",
      "model_module_version": "2.0.0",
      "model_name": "HBoxModel",
      "state": {
       "_dom_classes": [],
       "_model_module": "@jupyter-widgets/controls",
       "_model_module_version": "2.0.0",
       "_model_name": "HBoxModel",
       "_view_count": null,
       "_view_module": "@jupyter-widgets/controls",
       "_view_module_version": "2.0.0",
       "_view_name": "HBoxView",
       "box_style": "",
       "children": [
        "IPY_MODEL_7c754d80480d449cb0649ec2287248df",
        "IPY_MODEL_bf65755b309643539dea2a8ad7730dc3",
        "IPY_MODEL_c5136730f5604f07b9cc9a57761f110a"
       ],
       "layout": "IPY_MODEL_d38afd8a2ea3463eae48e67404792e63",
       "tabbable": null,
       "tooltip": null
      }
     },
     "b8d3379ae82c4a5b95ec7b64e8af9d22": {
      "model_module": "@jupyter-widgets/base",
      "model_module_version": "2.0.0",
      "model_name": "LayoutModel",
      "state": {
       "_model_module": "@jupyter-widgets/base",
       "_model_module_version": "2.0.0",
       "_model_name": "LayoutModel",
       "_view_count": null,
       "_view_module": "@jupyter-widgets/base",
       "_view_module_version": "2.0.0",
       "_view_name": "LayoutView",
       "align_content": null,
       "align_items": null,
       "align_self": null,
       "border_bottom": null,
       "border_left": null,
       "border_right": null,
       "border_top": null,
       "bottom": null,
       "display": null,
       "flex": null,
       "flex_flow": null,
       "grid_area": null,
       "grid_auto_columns": null,
       "grid_auto_flow": null,
       "grid_auto_rows": null,
       "grid_column": null,
       "grid_gap": null,
       "grid_row": null,
       "grid_template_areas": null,
       "grid_template_columns": null,
       "grid_template_rows": null,
       "height": null,
       "justify_content": null,
       "justify_items": null,
       "left": null,
       "margin": null,
       "max_height": null,
       "max_width": null,
       "min_height": null,
       "min_width": null,
       "object_fit": null,
       "object_position": null,
       "order": null,
       "overflow": null,
       "padding": null,
       "right": null,
       "top": null,
       "visibility": null,
       "width": null
      }
     },
     "ba1236cdefe44ffe95c2a45f93cc06fb": {
      "model_module": "@jupyter-widgets/base",
      "model_module_version": "2.0.0",
      "model_name": "LayoutModel",
      "state": {
       "_model_module": "@jupyter-widgets/base",
       "_model_module_version": "2.0.0",
       "_model_name": "LayoutModel",
       "_view_count": null,
       "_view_module": "@jupyter-widgets/base",
       "_view_module_version": "2.0.0",
       "_view_name": "LayoutView",
       "align_content": null,
       "align_items": null,
       "align_self": null,
       "border_bottom": null,
       "border_left": null,
       "border_right": null,
       "border_top": null,
       "bottom": null,
       "display": null,
       "flex": null,
       "flex_flow": null,
       "grid_area": null,
       "grid_auto_columns": null,
       "grid_auto_flow": null,
       "grid_auto_rows": null,
       "grid_column": null,
       "grid_gap": null,
       "grid_row": null,
       "grid_template_areas": null,
       "grid_template_columns": null,
       "grid_template_rows": null,
       "height": null,
       "justify_content": null,
       "justify_items": null,
       "left": null,
       "margin": null,
       "max_height": null,
       "max_width": null,
       "min_height": null,
       "min_width": null,
       "object_fit": null,
       "object_position": null,
       "order": null,
       "overflow": null,
       "padding": null,
       "right": null,
       "top": null,
       "visibility": null,
       "width": null
      }
     },
     "be7a661fc7e6462ba70d75c957cfc2f4": {
      "model_module": "@jupyter-widgets/base",
      "model_module_version": "2.0.0",
      "model_name": "LayoutModel",
      "state": {
       "_model_module": "@jupyter-widgets/base",
       "_model_module_version": "2.0.0",
       "_model_name": "LayoutModel",
       "_view_count": null,
       "_view_module": "@jupyter-widgets/base",
       "_view_module_version": "2.0.0",
       "_view_name": "LayoutView",
       "align_content": null,
       "align_items": null,
       "align_self": null,
       "border_bottom": null,
       "border_left": null,
       "border_right": null,
       "border_top": null,
       "bottom": null,
       "display": null,
       "flex": null,
       "flex_flow": null,
       "grid_area": null,
       "grid_auto_columns": null,
       "grid_auto_flow": null,
       "grid_auto_rows": null,
       "grid_column": null,
       "grid_gap": null,
       "grid_row": null,
       "grid_template_areas": null,
       "grid_template_columns": null,
       "grid_template_rows": null,
       "height": null,
       "justify_content": null,
       "justify_items": null,
       "left": null,
       "margin": null,
       "max_height": null,
       "max_width": null,
       "min_height": null,
       "min_width": null,
       "object_fit": null,
       "object_position": null,
       "order": null,
       "overflow": null,
       "padding": null,
       "right": null,
       "top": null,
       "visibility": null,
       "width": null
      }
     },
     "bf65755b309643539dea2a8ad7730dc3": {
      "model_module": "@jupyter-widgets/controls",
      "model_module_version": "2.0.0",
      "model_name": "FloatProgressModel",
      "state": {
       "_dom_classes": [],
       "_model_module": "@jupyter-widgets/controls",
       "_model_module_version": "2.0.0",
       "_model_name": "FloatProgressModel",
       "_view_count": null,
       "_view_module": "@jupyter-widgets/controls",
       "_view_module_version": "2.0.0",
       "_view_name": "ProgressView",
       "bar_style": "success",
       "description": "",
       "description_allow_html": false,
       "layout": "IPY_MODEL_4f0820a57c6b4076970767c7bfc07898",
       "max": 1.0,
       "min": 0.0,
       "orientation": "horizontal",
       "style": "IPY_MODEL_ecff7684051b4838ab6cc3b95833d55f",
       "tabbable": null,
       "tooltip": null,
       "value": 1.0
      }
     },
     "c5136730f5604f07b9cc9a57761f110a": {
      "model_module": "@jupyter-widgets/controls",
      "model_module_version": "2.0.0",
      "model_name": "HTMLModel",
      "state": {
       "_dom_classes": [],
       "_model_module": "@jupyter-widgets/controls",
       "_model_module_version": "2.0.0",
       "_model_name": "HTMLModel",
       "_view_count": null,
       "_view_module": "@jupyter-widgets/controls",
       "_view_module_version": "2.0.0",
       "_view_name": "HTMLView",
       "description": "",
       "description_allow_html": false,
       "layout": "IPY_MODEL_3456fc51961c414faa5445420e8a386a",
       "placeholder": "​",
       "style": "IPY_MODEL_66c8955b7d824c11b266e1058dcc5bf9",
       "tabbable": null,
       "tooltip": null,
       "value": " 1.53k/? [00:00&lt;00:00, 159kB/s]"
      }
     },
     "d15d645ca7354d6185e3457e0b175eec": {
      "model_module": "@jupyter-widgets/base",
      "model_module_version": "2.0.0",
      "model_name": "LayoutModel",
      "state": {
       "_model_module": "@jupyter-widgets/base",
       "_model_module_version": "2.0.0",
       "_model_name": "LayoutModel",
       "_view_count": null,
       "_view_module": "@jupyter-widgets/base",
       "_view_module_version": "2.0.0",
       "_view_name": "LayoutView",
       "align_content": null,
       "align_items": null,
       "align_self": null,
       "border_bottom": null,
       "border_left": null,
       "border_right": null,
       "border_top": null,
       "bottom": null,
       "display": null,
       "flex": null,
       "flex_flow": null,
       "grid_area": null,
       "grid_auto_columns": null,
       "grid_auto_flow": null,
       "grid_auto_rows": null,
       "grid_column": null,
       "grid_gap": null,
       "grid_row": null,
       "grid_template_areas": null,
       "grid_template_columns": null,
       "grid_template_rows": null,
       "height": null,
       "justify_content": null,
       "justify_items": null,
       "left": null,
       "margin": null,
       "max_height": null,
       "max_width": null,
       "min_height": null,
       "min_width": null,
       "object_fit": null,
       "object_position": null,
       "order": null,
       "overflow": null,
       "padding": null,
       "right": null,
       "top": null,
       "visibility": null,
       "width": null
      }
     },
     "d21c88be0faf44fa90f0143ae43dee09": {
      "model_module": "@jupyter-widgets/controls",
      "model_module_version": "2.0.0",
      "model_name": "HTMLStyleModel",
      "state": {
       "_model_module": "@jupyter-widgets/controls",
       "_model_module_version": "2.0.0",
       "_model_name": "HTMLStyleModel",
       "_view_count": null,
       "_view_module": "@jupyter-widgets/base",
       "_view_module_version": "2.0.0",
       "_view_name": "StyleView",
       "background": null,
       "description_width": "",
       "font_size": null,
       "text_color": null
      }
     },
     "d38afd8a2ea3463eae48e67404792e63": {
      "model_module": "@jupyter-widgets/base",
      "model_module_version": "2.0.0",
      "model_name": "LayoutModel",
      "state": {
       "_model_module": "@jupyter-widgets/base",
       "_model_module_version": "2.0.0",
       "_model_name": "LayoutModel",
       "_view_count": null,
       "_view_module": "@jupyter-widgets/base",
       "_view_module_version": "2.0.0",
       "_view_name": "LayoutView",
       "align_content": null,
       "align_items": null,
       "align_self": null,
       "border_bottom": null,
       "border_left": null,
       "border_right": null,
       "border_top": null,
       "bottom": null,
       "display": null,
       "flex": null,
       "flex_flow": null,
       "grid_area": null,
       "grid_auto_columns": null,
       "grid_auto_flow": null,
       "grid_auto_rows": null,
       "grid_column": null,
       "grid_gap": null,
       "grid_row": null,
       "grid_template_areas": null,
       "grid_template_columns": null,
       "grid_template_rows": null,
       "height": null,
       "justify_content": null,
       "justify_items": null,
       "left": null,
       "margin": null,
       "max_height": null,
       "max_width": null,
       "min_height": null,
       "min_width": null,
       "object_fit": null,
       "object_position": null,
       "order": null,
       "overflow": null,
       "padding": null,
       "right": null,
       "top": null,
       "visibility": null,
       "width": null
      }
     },
     "d55e70fae9894b068b56079258b7b247": {
      "model_module": "@jupyter-widgets/controls",
      "model_module_version": "2.0.0",
      "model_name": "ProgressStyleModel",
      "state": {
       "_model_module": "@jupyter-widgets/controls",
       "_model_module_version": "2.0.0",
       "_model_name": "ProgressStyleModel",
       "_view_count": null,
       "_view_module": "@jupyter-widgets/base",
       "_view_module_version": "2.0.0",
       "_view_name": "StyleView",
       "bar_color": null,
       "description_width": ""
      }
     },
     "d6d463bc14724706980122d8ee3a20f3": {
      "model_module": "@jupyter-widgets/controls",
      "model_module_version": "2.0.0",
      "model_name": "HTMLStyleModel",
      "state": {
       "_model_module": "@jupyter-widgets/controls",
       "_model_module_version": "2.0.0",
       "_model_name": "HTMLStyleModel",
       "_view_count": null,
       "_view_module": "@jupyter-widgets/base",
       "_view_module_version": "2.0.0",
       "_view_name": "StyleView",
       "background": null,
       "description_width": "",
       "font_size": null,
       "text_color": null
      }
     },
     "d8c77446422e44f8973e0d8c14c97d08": {
      "model_module": "@jupyter-widgets/controls",
      "model_module_version": "2.0.0",
      "model_name": "HTMLStyleModel",
      "state": {
       "_model_module": "@jupyter-widgets/controls",
       "_model_module_version": "2.0.0",
       "_model_name": "HTMLStyleModel",
       "_view_count": null,
       "_view_module": "@jupyter-widgets/base",
       "_view_module_version": "2.0.0",
       "_view_name": "StyleView",
       "background": null,
       "description_width": "",
       "font_size": null,
       "text_color": null
      }
     },
     "d916ed472b094999a2767da828ed56e7": {
      "model_module": "@jupyter-widgets/controls",
      "model_module_version": "2.0.0",
      "model_name": "HTMLModel",
      "state": {
       "_dom_classes": [],
       "_model_module": "@jupyter-widgets/controls",
       "_model_module_version": "2.0.0",
       "_model_name": "HTMLModel",
       "_view_count": null,
       "_view_module": "@jupyter-widgets/controls",
       "_view_module_version": "2.0.0",
       "_view_name": "HTMLView",
       "description": "",
       "description_allow_html": false,
       "layout": "IPY_MODEL_be7a661fc7e6462ba70d75c957cfc2f4",
       "placeholder": "​",
       "style": "IPY_MODEL_0bfeca98344a42798bcd1c8e86c52e6d",
       "tabbable": null,
       "tooltip": null,
       "value": "tokenizer_config.json: 100%"
      }
     },
     "d9b947ad71804d999539e08e350f5781": {
      "model_module": "@jupyter-widgets/controls",
      "model_module_version": "2.0.0",
      "model_name": "HTMLModel",
      "state": {
       "_dom_classes": [],
       "_model_module": "@jupyter-widgets/controls",
       "_model_module_version": "2.0.0",
       "_model_name": "HTMLModel",
       "_view_count": null,
       "_view_module": "@jupyter-widgets/controls",
       "_view_module_version": "2.0.0",
       "_view_name": "HTMLView",
       "description": "",
       "description_allow_html": false,
       "layout": "IPY_MODEL_acd0aa144a884b7cb11ad8f4a5c60a4c",
       "placeholder": "​",
       "style": "IPY_MODEL_7f5418a73eaa4e7986b77e7b941e7f8b",
       "tabbable": null,
       "tooltip": null,
       "value": "pytorch_model.bin: 100%"
      }
     },
     "dec9ccd21bbb4742b3c8fafd5c5666b9": {
      "model_module": "@jupyter-widgets/base",
      "model_module_version": "2.0.0",
      "model_name": "LayoutModel",
      "state": {
       "_model_module": "@jupyter-widgets/base",
       "_model_module_version": "2.0.0",
       "_model_name": "LayoutModel",
       "_view_count": null,
       "_view_module": "@jupyter-widgets/base",
       "_view_module_version": "2.0.0",
       "_view_name": "LayoutView",
       "align_content": null,
       "align_items": null,
       "align_self": null,
       "border_bottom": null,
       "border_left": null,
       "border_right": null,
       "border_top": null,
       "bottom": null,
       "display": null,
       "flex": null,
       "flex_flow": null,
       "grid_area": null,
       "grid_auto_columns": null,
       "grid_auto_flow": null,
       "grid_auto_rows": null,
       "grid_column": null,
       "grid_gap": null,
       "grid_row": null,
       "grid_template_areas": null,
       "grid_template_columns": null,
       "grid_template_rows": null,
       "height": null,
       "justify_content": null,
       "justify_items": null,
       "left": null,
       "margin": null,
       "max_height": null,
       "max_width": null,
       "min_height": null,
       "min_width": null,
       "object_fit": null,
       "object_position": null,
       "order": null,
       "overflow": null,
       "padding": null,
       "right": null,
       "top": null,
       "visibility": null,
       "width": null
      }
     },
     "df18a974533f45cba58edf44e2434de5": {
      "model_module": "@jupyter-widgets/controls",
      "model_module_version": "2.0.0",
      "model_name": "ProgressStyleModel",
      "state": {
       "_model_module": "@jupyter-widgets/controls",
       "_model_module_version": "2.0.0",
       "_model_name": "ProgressStyleModel",
       "_view_count": null,
       "_view_module": "@jupyter-widgets/base",
       "_view_module_version": "2.0.0",
       "_view_name": "StyleView",
       "bar_color": null,
       "description_width": ""
      }
     },
     "ecff7684051b4838ab6cc3b95833d55f": {
      "model_module": "@jupyter-widgets/controls",
      "model_module_version": "2.0.0",
      "model_name": "ProgressStyleModel",
      "state": {
       "_model_module": "@jupyter-widgets/controls",
       "_model_module_version": "2.0.0",
       "_model_name": "ProgressStyleModel",
       "_view_count": null,
       "_view_module": "@jupyter-widgets/base",
       "_view_module_version": "2.0.0",
       "_view_name": "StyleView",
       "bar_color": null,
       "description_width": ""
      }
     },
     "f154b04597e94c468f26c7b6ed39999d": {
      "model_module": "@jupyter-widgets/controls",
      "model_module_version": "2.0.0",
      "model_name": "ProgressStyleModel",
      "state": {
       "_model_module": "@jupyter-widgets/controls",
       "_model_module_version": "2.0.0",
       "_model_name": "ProgressStyleModel",
       "_view_count": null,
       "_view_module": "@jupyter-widgets/base",
       "_view_module_version": "2.0.0",
       "_view_name": "StyleView",
       "bar_color": null,
       "description_width": ""
      }
     },
     "f3af76f9efe6455c83795e684962f8df": {
      "model_module": "@jupyter-widgets/controls",
      "model_module_version": "2.0.0",
      "model_name": "HTMLModel",
      "state": {
       "_dom_classes": [],
       "_model_module": "@jupyter-widgets/controls",
       "_model_module_version": "2.0.0",
       "_model_name": "HTMLModel",
       "_view_count": null,
       "_view_module": "@jupyter-widgets/controls",
       "_view_module_version": "2.0.0",
       "_view_name": "HTMLView",
       "description": "",
       "description_allow_html": false,
       "layout": "IPY_MODEL_618c67e3c7584165af1062d3bfe8521d",
       "placeholder": "​",
       "style": "IPY_MODEL_384e6de9bedf4e7da4d893a5945d4824",
       "tabbable": null,
       "tooltip": null,
       "value": "special_tokens_map.json: 100%"
      }
     },
     "f4fb2d456c5a46258e77e56311432958": {
      "model_module": "@jupyter-widgets/base",
      "model_module_version": "2.0.0",
      "model_name": "LayoutModel",
      "state": {
       "_model_module": "@jupyter-widgets/base",
       "_model_module_version": "2.0.0",
       "_model_name": "LayoutModel",
       "_view_count": null,
       "_view_module": "@jupyter-widgets/base",
       "_view_module_version": "2.0.0",
       "_view_name": "LayoutView",
       "align_content": null,
       "align_items": null,
       "align_self": null,
       "border_bottom": null,
       "border_left": null,
       "border_right": null,
       "border_top": null,
       "bottom": null,
       "display": null,
       "flex": null,
       "flex_flow": null,
       "grid_area": null,
       "grid_auto_columns": null,
       "grid_auto_flow": null,
       "grid_auto_rows": null,
       "grid_column": null,
       "grid_gap": null,
       "grid_row": null,
       "grid_template_areas": null,
       "grid_template_columns": null,
       "grid_template_rows": null,
       "height": null,
       "justify_content": null,
       "justify_items": null,
       "left": null,
       "margin": null,
       "max_height": null,
       "max_width": null,
       "min_height": null,
       "min_width": null,
       "object_fit": null,
       "object_position": null,
       "order": null,
       "overflow": null,
       "padding": null,
       "right": null,
       "top": null,
       "visibility": null,
       "width": null
      }
     },
     "f96f66117fee4d3dad609fb3cc69e864": {
      "model_module": "@jupyter-widgets/controls",
      "model_module_version": "2.0.0",
      "model_name": "HTMLModel",
      "state": {
       "_dom_classes": [],
       "_model_module": "@jupyter-widgets/controls",
       "_model_module_version": "2.0.0",
       "_model_name": "HTMLModel",
       "_view_count": null,
       "_view_module": "@jupyter-widgets/controls",
       "_view_module_version": "2.0.0",
       "_view_name": "HTMLView",
       "description": "",
       "description_allow_html": false,
       "layout": "IPY_MODEL_dec9ccd21bbb4742b3c8fafd5c5666b9",
       "placeholder": "​",
       "style": "IPY_MODEL_902aba4a9d0f42d285555ab6aea90a49",
       "tabbable": null,
       "tooltip": null,
       "value": " 112/112 [00:00&lt;00:00, 13.0kB/s]"
      }
     },
     "fcdc561631324f128cfb38eb173a267d": {
      "model_module": "@jupyter-widgets/controls",
      "model_module_version": "2.0.0",
      "model_name": "HTMLStyleModel",
      "state": {
       "_model_module": "@jupyter-widgets/controls",
       "_model_module_version": "2.0.0",
       "_model_name": "HTMLStyleModel",
       "_view_count": null,
       "_view_module": "@jupyter-widgets/base",
       "_view_module_version": "2.0.0",
       "_view_name": "StyleView",
       "background": null,
       "description_width": "",
       "font_size": null,
       "text_color": null
      }
     }
    },
    "version_major": 2,
    "version_minor": 0
   }
  }
 },
 "nbformat": 4,
 "nbformat_minor": 5
}
